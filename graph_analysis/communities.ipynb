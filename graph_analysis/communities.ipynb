{
 "cells": [
  {
   "cell_type": "code",
   "execution_count": 1,
   "metadata": {},
   "outputs": [],
   "source": [
    "import networkx as nx\n",
    "import pickle\n",
    "from tqdm import tqdm\n",
    "import matplotlib.pyplot as plt\n",
    "import community as community_louvain\n",
    "import networkx as nx\n",
    "from networkx.algorithms import bipartite\n",
    "import matplotlib.pyplot as plt\n",
    "import matplotlib.patches as mpatches\n"
   ]
  },
  {
   "cell_type": "code",
   "execution_count": 2,
   "metadata": {},
   "outputs": [
    {
     "data": {
      "text/plain": [
       "['__author__',\n",
       " '__builtins__',\n",
       " '__cached__',\n",
       " '__doc__',\n",
       " '__file__',\n",
       " '__loader__',\n",
       " '__name__',\n",
       " '__package__',\n",
       " '__path__',\n",
       " '__spec__',\n",
       " '__version__',\n",
       " 'best_partition',\n",
       " 'community_louvain',\n",
       " 'community_status',\n",
       " 'generate_dendrogram',\n",
       " 'induced_graph',\n",
       " 'load_binary',\n",
       " 'modularity',\n",
       " 'partition_at_level']"
      ]
     },
     "execution_count": 2,
     "metadata": {},
     "output_type": "execute_result"
    }
   ],
   "source": [
    "dir(community_louvain)"
   ]
  },
  {
   "cell_type": "code",
   "execution_count": 3,
   "metadata": {},
   "outputs": [],
   "source": [
    "with open('Project_Graph_v2.pkl', 'rb') as f:\n",
    "    G = pickle.load(f)"
   ]
  },
  {
   "cell_type": "code",
   "execution_count": 4,
   "metadata": {},
   "outputs": [],
   "source": [
    "\n",
    "# Assuming G_connected is defined and is a bipartite graph\n",
    "U, V = bipartite.sets(G)\n",
    "U_projected = bipartite.projected_graph(G, U)\n",
    "V_projected = bipartite.projected_graph(G, V)\n",
    "\n",
    "\n",
    "user_graph = U_projected\n",
    "post_graph = V_projected\n",
    "\n",
    "\n",
    "\n"
   ]
  },
  {
   "cell_type": "code",
   "execution_count": null,
   "metadata": {},
   "outputs": [],
   "source": [
    "# Calculate degrees for U_projected and V_projected\n",
    "U_degrees = [U_projected.degree(n) for n in U_projected]\n",
    "V_degrees = [V_projected.degree(n) for n in V_projected]\n",
    "# Scale factor for node sizes\n",
    "scale_factor = 0.5\n",
    "\n",
    "# Drawing U_projected\n",
    "plt.figure()\n",
    "plt.title(\"Projection (User Interactions)\")\n",
    "nx.draw(U_projected, \n",
    "        node_color='green', \n",
    "        node_size=[d * scale_factor for d in U_degrees], \n",
    "        with_labels=False)\n",
    "\n",
    "# Create a legend for U_projected\n",
    "green_patch = mpatches.Patch(color='green', label='User Interactions')\n",
    "plt.legend(handles=[green_patch])\n",
    "\n",
    "# Drawing V_projected\n",
    "plt.figure()\n",
    "plt.title(\"Projection (Post Interactions)\")\n",
    "nx.draw(V_projected, \n",
    "        node_color='red', \n",
    "        node_size=[d * scale_factor for d in V_degrees], \n",
    "        with_labels=False)\n",
    "\n",
    "# Create a legend for V_projected\n",
    "red_patch = mpatches.Patch(color='red', label='Post Interactions')\n",
    "plt.legend(handles=[red_patch])\n",
    "\n",
    "plt.show()\n"
   ]
  },
  {
   "cell_type": "code",
   "execution_count": 5,
   "metadata": {},
   "outputs": [],
   "source": []
  },
  {
   "cell_type": "code",
   "execution_count": 6,
   "metadata": {},
   "outputs": [],
   "source": [
    "best_user_partiton = community_louvain.best_partition(user_graph)"
   ]
  },
  {
   "cell_type": "code",
   "execution_count": 7,
   "metadata": {},
   "outputs": [
    {
     "data": {
      "text/plain": [
       "0.3958065376995149"
      ]
     },
     "execution_count": 7,
     "metadata": {},
     "output_type": "execute_result"
    }
   ],
   "source": [
    "community_louvain.modularity(best_partiton,user_graph)"
   ]
  },
  {
   "cell_type": "code",
   "execution_count": 8,
   "metadata": {},
   "outputs": [
    {
     "data": {
      "text/plain": [
       "0.24623198831965118"
      ]
     },
     "execution_count": 8,
     "metadata": {},
     "output_type": "execute_result"
    }
   ],
   "source": [
    "best_post_partiton = community_louvain.best_partition(post_graph)\n",
    "community_louvain.modularity(best_post_partiton,post_graph)"
   ]
  },
  {
   "cell_type": "code",
   "execution_count": 13,
   "metadata": {},
   "outputs": [
    {
     "data": {
      "text/plain": [
       "{'bipartite': 1,\n",
       " 'title': 'Huskøb og realkredit...',\n",
       " 'text': 'Udkantsdanmark sniger sig åbenbart ind på de større byer nu: finans.tv2.dk/nyheder/article.php/ id-74005256:63%C3%A5rig-fanget-i- sit-eget-hus-realkreditten- n%C3%A6gter-l%C3%A5n.html Efterhånden bliver det jo komplet umuligt at købe (og dermed sælge...) huse i DK - for hvis beliggenhed i nærheden af motorvej, højspænding, den yderste kant er nok til at få nej - hvad ender det så med? At de kan afvise hvis man har briller, eller at huset er gult??? Nogen der har forslag til hvordan man råber Realkreditinstitutterne op og får dem forklaret (så de kan forstå det) at de er på vej ud af et TOTALT sidespor? Jeg står heldigvis ikke og skal sælge eller købe - men overvejer det for at komme tættere på jobbet, og jeg kan da se, at jeg risikere gevaldige udfordringer da jeg faktisk gerne vil bo udenfor lands lov og ret - men dog tæt på motorvej... Nogle HN´ere der er røget i problemer? Trine (Faxa) Jeg ved ikke, om det er vejen frem, men måske der skulle lovgives på området, omkring hvornår de må sige nej til at låne ud. På mig virker det som om, at rådgiverne fra realkreditforeningerne og bankerne har alt for travlt med at vurdere, om det var et sted, de selv har lyst til at bo og hvis det ikke lige er det, så giver de afslag på lån. I min optik må det vel være helt op til køber, om de har lyst til at bo klods op ad motorvejen, ude på Lars tyndskids mark eller i udkantsDanmark, så længe økonomien er i orden. Altså jeg er jo ingen ekspert, men nedenstående er hul i hovedet, hvis man spørger mig: Min mors veninde købte engang et hus i Ry, men er siden flyttet til Thisted(15 år siden), fordi hun fik et fast rigtig godt betalt job(som hun har endnu). Da hun flyttede til Thisted, gik det hele lidt stærkt og hun havde ikke overskud til at sætte huset i Ry til salg. Derfor lejede hun det ud til et ægtepar(for 15 år siden), der stadig elsker at bo der og som ikke har planer om at skulle derfra, før de skal på plejehjem. Hun har fastlagt et pænt beløb i sit budget til vedligehold og renovering af huset i Ry og dem der kender til området vil vide, at huse i Ry der bliver vedligeholdt, ikke mister værdi eller er svære at sælge og heller ikke har gjort/været det synderligt under finanskrisen. Min mors veninde har flere heste, som hun betaler for at have opstaldet ude. Hun finder så et total renoveret nedlagt landbrug med masser jord lige udenfor Thisted til den sølle sum af 360.000kr. Hun mangler til udbetalingen, men kan ellers med den pris have afbetalt huset incl. lånet til udbetalingen i løbet af 4 år! Hun vil spare mange penge både på sin egen husleje men også på opstaldning, da hun kan få hestene hjem, men alligevel siger kreditforeningen nej, fordi det går virkelig ikke, at hun har 2 huse, for hun er jo single Nåe ja og så er der også liiige det der med, at huset jo ligger i Thisted og så er det måske ikke så nemt at sælge igen, hvis hun ikke vil bo der mere. Hun har ingen planer om at flytte fra Thisted. Så hun bor stadig til leje med en højere husleje, end hun ville have haft i huset. Hendes heste er stadig opstaldet ude til det dobbelte af, hvad hun kunne have dem for derhjemme. Hendes økonomi er stadig fin, selv med højere lejehusleje og heste opstaldet ude, ergo ville den have været endnu bedre i huset, der var billigere i månedlige afdrag og hesteopstaldning. Så det er mig en gåde, at realkreditforeningen og banken siger nej. Forklar gerne, hvis nogen kan Karina, der er flere ting i dit indlæg der springer mig i øjnene... måske der skulle lovgives på området, omkring hvornår de må sige nej til at låne ud - man skal da absolut ikke lovgive om hvordan private virksomheder driver forretning! en bank er en forretning som skal køre rundt, nogle taler som om det er en offentlig institution der skal servicere borgerne... realkreditforeningerne og bankerne har alt for travlt med at vurdere, om det var et sted, de selv har lyst til at bo og hvis det ikke lige er det, så giver de afslag på lån. I min optik må det vel være helt op til køber, om de har lyst til at bo klods op ad motorvejen, ude på Lars tyndskids mark eller i udkantsDanmark, så længe økonomien er i orden. - selvfølgelig handler det ikke om hvorvidt de selv vil bo der. Det ville da være yderst uprofessionelt. Det skyldes da at de ved, at en ejendom klods op af en motorvej er sværere at sælge igen? kan godt være du ikke har noget imod det, men faktum er at det indskrænker fremtidige købere betydeligt. Hun finder så et total renoveret nedlagt landbrug med masser jord lige udenfor Thisted til den sølle sum af 360.000kr. Hun mangler til udbetalingen - for det første kan et hus jo godt være for billigt - hvad er mon grunden til det koster så lidt...? for det andet, er det altid et mega dårligt tegn ikke engang at have sparet op til udbetalingen - især en så lille udbetaling! huset jo ligger i Thisted og så er det måske ikke så nemt at sælge igen, hvis hun ikke vil bo der mere. Hun har ingen planer om at flytte fra Thisted. - banker er da nødt til at skele til hvordan markedet er det pågældende sted - det er dem der hænger på huset, hvis ejeren ikke kan betale. For det andet ved vi jo alle at ens liv kan ændre sig, så det der med man ikke har planer om at flytte kan ikke bruges til så meget. at man i \"udkants danmark\" kan risikere slet ikke at få nogen \"egen læge\", idet dem der går på pension ikke kan få afløsere. vi er lige flyttet til vandkantsdanmark , hvis man spørg banker mm vi købte nemlig en mindre ejendom på langeland. super billigt - 495000, og huset er i fin stand, med nye vinduer nyere køkken og bad. der skal ikke laves noget men vi har måtte købe via private pantebreve, for ellers kunne det ikke lade sig gøre nu forsøger vi så at få en budget konto, og igen bor vi så et forkert sted. For der sker jo ikke noget på langeland jo der gør. bare i de 4 mdr vi har boet her, er der flere huse som er solgt. der er en pæn lav arbejdsløshed når man tænker på hvor man bor. her sker hele tiden noget.lige nu er vi ved at få lavet vejnettet på langeland. må nok sige at der er nogen som burde komme udenfor københavn. Bare en gang imellem og ser hvad der endelig sker rundt om i danmark. Hvordan man kan brokke sig over at nogen ikke vil låne penge ud er mig en gåde? Som der skrives er det private virksomheder og ikke en offentlig institution, der står for udlån. Hvis nogen ikke har bemærket det, så har vi lige haft finanskrise, hvor bla mange banker og realkreditter (I know, ikke et rigtigt ord, men kortere end det rigtige navn) nu har en særdeles dårlig økonomi, fordi folk ikke kunne betale deres huslejer, og mange huse røg på tvang. Banker krakkede og efterlod kaos efter sig, både for ansatte og kunder. Så selvom kravene synes store, så har det bare efterhånden været bevist, at der har været købt og solgt for dyrt i Dk længe og nok også at der har været lånt ud til mange der ikke kunne klare det alligevel. Så kan man ikke låne må man jo enten begynde at spare op, evt flytte til billigere lejlighed i nogle år og så spare op, eller på anden måde forbedre sin situation, det kan da aldrig være en pligt for realkreditterne eller bankerne at tage risikoen. I øvrigt glemmer mange at huslejen i eget hus jo ikke kun er betaling af lån, der er mange mange mange udgifter ekstra pr mdr. Det er altså nemt at se hos mæglere hvor meget gang i salget der er i et område, og jo det er sværere at sælge på landet og endnu sværere op ad motoveje, så helt urimeligt er det ikke at tage hensyn til om de kan sælge igen uden stort tab, hvis ejeren pludselig ikke kan betale deres husleje, kommer ud for en ulykke eller andet. Alt skal tages i betragtning. I øvrigt er det alle \"os\" andre kunder, der betaler for de her fejltagelser, og det er faktisk ikke fair. At det er synd man ikke bare kan låne, ja det er det, vores lejehus koster os omkring 10.000 pr måned (+forbrug som er højt, da det er et gl. Hus) og vi ville, her hvor vi bor, kunne nøjes med en lidt mindre hvis vi købte, men jeg er selvstændig og har prioriteret at købe et nyt firma, så selvom der er \"rigeligt\" med penge, så ser det ikke sådan ud på papiret, så vi skal \"bevise\" noget først, hvilket i mine øjne er helt helt fair. Hvis vi virkelig ville, kunne vi flytte til mindre lejlighed og spare 5-8 tusind op pr måned (hvis vi strammede ballerne) og så ville vi på 5 år jo pludselig kunne gå i banken med 300.000 - 480.000 kr til en udbetaling, det ville nok vende bøtten lidt. Det har vi bare ikke lysten til, da vi prioriterer anderledes Karen: Hvis nogen ikke har bemærket det, så har vi lige haft finanskrise, hvor bla mange banker og realkreditter (I know, ikke et rigtigt ord, men kortere end det rigtige navn) nu har en særdeles dårlig økonomi, fordi folk ikke kunne betale deres huslejer, og mange huse røg på tvang. Banker krakkede og efterlod kaos efter sig, både for ansatte og kunder. Så selvom kravene synes store, så har det bare efterhånden været bevist, at der har været købt og solgt for dyrt i Dk længe og nok også at der har været lånt ud til mange der ikke kunne klare det alligevel. Hvem var det, der lånte folk penge, som de umuligt kunne betale tilbage? Det var bankerne og realkreditterne. Så må de sgu også tage ansvar og hjælpe DK tilbage på fode og det gør man ikke, ved at smække pengekassen i. Det skaber ikke mobilitet på arbejdsmarkedet og det tvinger nærmest firmaer til at placere sig i Kbh eller Århus, for det er der arbejdskraften er tvunget til at bosætte sig, for at kunne have et job = ond cirkel, hvis man altså gerne vil bevare HELE DK og ikke kun KBH og Århus. Tilbage i 2004-2007 blev jeg tilbudt at låne 50-100.000 HVER gang jeg var i kontakt med min bank. Det, selvom jeg ikke ringede angående at låne penge. De kunne slet ikke forstå, hvorfor jeg sagde nej tak pga, at jeg ikke lige stod og manglede 50-100.000, for vi kunne vel altid tage på en dejlig luksusferie eller købe nye møbler Vi var ansvarlige dengang og sagde nej tak hver gang og selvfølgelig er det folk selv, der har sagt ja tak og det har man selv et ansvar overfor. Men når der sidder en bankrådgiver, som nok burde vide en hel del mere om økonomi end gennemsnitsdanskeren, og påstår at man sagtens har råd til ditten og datten og kæmpe lån til ferier, dyre huse og den slags, så kan jeg altså godt sætte mig ind i, at man bliver fristet. Og når fagfolkene ligefrem opfordrer til at låne, for det går jo så godt så godt i DK, så tror man jo på dem, hvis man ikke selv er det store økonomiske geni. - selvfølgelig handler det ikke om hvorvidt de selv vil bo der. Det ville da være yderst uprofessionelt. Det skyldes da at de ved, at en ejendom klods op af en motorvej er sværere at sælge igen? kan godt være du ikke har noget imod det, men faktum er at det indskrænker fremtidige købere betydeligt. Sjovt, at de står med en(eller flere, som det er tilfældet i artiklen fra trådstarter) køber, der gerne vil bo op ad motorvejen og så tror de ikke, at der findes folk, der gerne vil købe den slags ejendom Jeg er måske mere \"rød\" end gennemsnittet, men jo jeg mener faktisk, at man burde sætte krav til private virksomheder om en hvis form for samfundssamvittighed. Skal vi have det her land i gang igen, så skal vi, efter min mening, sætte krav til virksomheder om at ansætte en hvis % langtidsledige, så de stakkels mennesker der er ofre for bankernes fest i 00´erne, kan få en reel mulighed for at komme tilbage på arbejdsmarkedet. I øjeblikket flytter vi bare rundt på folk, der allerede er i arbejde, for virksomhederne vil kun have dig, hvis du er i arbejde i forvejen og det er ligemeget, at du har arbejdet i 10-15-20 år inden finanskrisen, nu kan du sikkert ikke finde ud af noget som helst! Og jeg synes det er direkte naivt at tro, at man kan spare sig helt til døde ud af denne krise(det gælder også vores regering). Hvis vi skal have købekraften tilbage hos folk, så der kan skabes vækst, så skal bankerne altså i gang med at låne penge ud. Specielt når man tænker på hvor mange af skatteborgernes penge, de har fået i form af hjælpepakker og garantifonde og hvad ved jeg, lige netop for at de skulle kunne blive ved med at holde deres forretning i gang - hvis jeg ikke tager helt fejl, så går deres forretning i bund og grund altså ud på at låne penge ud og indkassere indtjening i form af renter. Så kom dog i gang! Så fordi bankerne lånte hovedløst til højre og venstre inden krisen, vil du have de skal gøre det igen? Det giver da ikke meget mening. Hvis der står en køber, ja, så er der selvfølgelig købere til huset (der er dog også masser af eksempler på INGEN interesserede i disse huse...). Men faktum er bare, at der er langt færre af dem (som jeg også skrev i mit første indlæg - det indskrænker feltet). Hvis du i fuldt alvor mener at staten skal gå ind og styre private virksomheder, så vil du se konkurser på stribe. Hvis banker skal tvinges til at tage den risiko det er, at låne til en bolig de 1) har meget svært ved at sælge igen, hvis det bliver nødvendigt og 2) til en person, som ikke engang har kunnet formå at spare 18.000 op, så ville jeg da som bank smække nogle fede gebyrer på. For det er altså en stor risiko at tage, modsat at låne til et par som har vist at de har kunnet spare op, og desuden køber et hus, som banken har tillid til kan sælges igen. Jeg er sådan set med på hvor surt det må være, at være interesseret køber og få et nej - på trods af god økonomi (at man får nej pga ingen udbetaling, er ris til egen bagdel). Men så må man jo spare mere op, benytte sig af private pantebreve eller hvad ved jeg. Det er stadig en privat virksomhed som vurderer risikoen ved at låne ud til dig. Nej, bankerne er ikke forpligtiget til at låne penge ud til nogle som helt. Men hvor mange danskere kan lige hive 2-3 millioner op af lommen og betale kontant? Og ja, selvfølgelig kan man spare op til udbetalingen, men nogle gange har man bare ikke nået det når drømmehuset står der. Jeg købte selv hus med min ekskæreste, selvfølgelig lige da huspriserne toppede. Vi købte hus i Vordingborg området. Vi går efter nogle år fra hinanden. Huset står til salg i næsten to år før det bliver solgt. Ergo, så var prisen for høj. Det stod til 990.000,- (vi gav 1,7 mio). Vi endte med at sælge for 425.000,- fordi det eneste par der var interessede ikke måtte låne mere. Til trods for de havde udbetalingen klar. DE VAR TO MENNESKER MED TO INDTÆGTER!!!!! Grundlaget var at det lå i udkantsdanmark i en lille by. Ja, det er rigtigt, men der var 7 km. til Vordingborg. Der er indkøbsmuligheder og børnepasningstilbud, så byen er jo ikke ved at forsvinde. Jeg er sikker på banken har skudt sig selv i foden der, for de skulle pludselig ind og dække et tab på over en million. Og det er netop der problemet opstår! Ja, det er sværere at få solgt husene langt væk fra storbyerne, men der findes altså stadig folk som vil bo langt ude. Og hvis det ikke var for dem, ville f.eks. Lolland vel snart være øde. Kredit går jo faktisk inddirekte ind og bestemmer hvor folk skal bosættes. Og kommer vi ikke ud af det igen, kommer det virkelig til at se sort ud for Danmark om nogle år Det er på ingen måde en pligt at låne penge ud, men bankerne har været med til at låne alt for mange penge ud, så må de også være villige til at hjælpe med at komme på fode igen! Jeg kan stadig ikke forstå at fordi de tidligere har lånt for mange penge ud, skal de gøre det igen. Derudover, er det jo ikke en menneskeret at købe en bolig? de bestemmer da ikke hvor folk skal bosætte sig - det står en frit for at bo til leje. Og mange af de steder vi taler om, er det sjældent boliger til 2-3 mil der er tale om - eksemplet Karina gav var 360.000 Men hjælper staten ikke bankerne ved de har lavet bankpakker??? Op til flere gange endda.... Anne: Hvor skriver jeg, at de skal låne hovedløst ud igen? Jeg skriver, at det for mig virker hovedløst, at de nægter at låne penge ud til folk med en god solid økonomi og det er der altså masser af eksempler på nu til dags(ikke kun min mors veninde). Oftest er argumentet mod at låne penge ud jo ikke noget med folks økonomi, men lige netop at man er single, at huset ligger u-attraktivt(for hvem?) eller at man får 40 km til arbejde istedet for 10km. Alt det her er altså noget, der må være op til folk selv at bestemme, om de vil leve med. Hvis argumentet reelt var: \"Det har I simpelt hen ikke råd til\", så kunne jeg bedre forstå. Vi er ikke enige om, om man kan tillade sig at regulere private virksomheder(hvilket vi nu gør på mange områder i forvejen) og det er også i orden. Men jo, jeg mener stadig, at det kan man sagtens tillade sig, specielt når de gerne vil have skatteborgernes penge i form af hjælpepakker, så kan man i min optik godt tillade sig, at stille nogle modkrav for denne hjælp. Og huset i Thisted var billigt fordi... ja det ligger i Thisted Jeg synes ikke det er udtryk for en sund økonomi, at man ikke har formået at spare 18.000 op. Men du forholder dig jo ikke til, at der er langt færre interesserde købere i sådan et hus (ellers kostede det jo ikke så lidt). Og det er da relevant - og det er også relevant om man er single eller et par, og om det hele altså hviler på én indtægt eller to. Hvis man lige ridser det hele lidt kort op. Der er masser af folk der gerne vil købe på landet, men ikke får lov. Der er undskyldninger om kvm udbygninger, billigenhed osv. spørger de samme mennesker på en bolig til det dobbelte eller mere i kbh, så er det de fleste der får lov. Så bankerne og realkreditterne gemmer sig meget bag, om en bolig kan sælges igen og påstår dermed, at der mangler købere på landet. Det billede der tegner sig, viser jo at der er købere til landet, de bliver bare afvist af bank og realkredit. Derved er det banker og realkreditter der selv er med til at skabe en \"køber mangel\" på landet. Ser vi lidt på bankernes interesser, så har de lånt mange penge ud til div bygge projekter osv. Disse projekter ligger jo ikke ligefrem på landet.......De ligger i de store byer. Jo større købelyst og prisniveau der skabes i disse byer, jo flere og hurtigere penge får bankerne ud af \"deres\" projekter. Altså har bankerne også en egen interesse i at presse interessen og prisen for boligerne op inde i byen. Denne praksis er ikke lovlig, men ingen tør gøre noget ved det. Jamen hvem siger, at hun ikke kunne formå at spare pengene op til udbetalingen? Hun gik ikke decideret og ledte efter ny bolig, men faldt over dette hus ved et tilfælde, derfor havde hun ikke sparet sammen til udbetalingen. Jeg har heller ikke millioner stående på en konto, men derfor vil jeg nu altså betegne min økonomi som sund alligevel. Jeg kan betale mine regninger - også de uforudsete dyrlægeregninger og vi lever fint. Der var et par, der også var interesserede i huset og derfor kunne hun ikke vente, til hun havde sparet pengene op. Som par har man ofte brug for mere plads, man har måske 2 biler og man er 2 der skal brødfødes. At man som single ikke kan låne penge til et hus, fordi det hele falder tilbage på én indtægt - jojo, men som single har man måske ikke brug for så meget plads, så det hus man evt køber er billigere. Man kan nøjes med én bil og man er også kun 1 der skal spise. En single kan vel godt have en bedre økonomi end et par? Thisted er stadig en by med aktivitet og dem der arbejder der, skal vel også have noget at bo i. Derfor vil der jo være en efterspørgsel på huse i og omkring Thisted og derfor er det da total latterligt at banken/realkreditforeningen bruger beliggenhed som undskyldning. Jeg kunne muligvis forstå det, hvis man ville købe hus på en af de meget små øer som f.eks Drejø eller Orø. I øvrigt enig med Perlen Jeg tror ikke på, at der er så mange færre købere til huse på landet eller op ad motorvejen, så længe prisen hænger sammen med beliggenheden. Dem der køber disse huse, har måske ikke millioner på bankkontoen, men de skal altså også have et sted at bo. Måske er deres økonomi sundere i eget hus på Lolland end i en mega dyr lejebolig i KBH desværre har det ikke nogen betydning om man faktisk har til udbetalingen eller ej tro mig vi havde udbetalingen, men fik nej flere gange, inden vi fik fat i et privat firma Banker og kreditforninger vil bare kun låne penge til folk som ønsker at købe et hus eller lejlighed INDENFOR bygræsen. vi kiggede på et med 100 meter til bygræsen, men nej det lå på landet så her kunne man ikke låne pengene til så skal man købe sin drømmebolig på landet, så skal man vide hvor man kan låne - og så skal man så have udbetalingen som så oftes er på 10% fremfor normalt de 5% Jeg tænker man skal have en rigtig god økonomi ved at bosætte sig i et landområde, udkants Danmark etc. Er det en mindre landejendom eller lignende er der vel ofte mere vedligehold end ved et byhus. Man er mere afhængig af at skulle have råd til en bil til transport end man er i byen med offentligtransport. Ved fyring kan det måske være sværere at få job, hvis man bor hvor der er færre arbejdspladser. Generelt har man måske også en højere transportudgift i budgettet end i byen.',\n",
       " 'timestamp': datetime.datetime(2014, 11, 21, 12, 53),\n",
       " 'tag': 'HEST'}"
      ]
     },
     "execution_count": 13,
     "metadata": {},
     "output_type": "execute_result"
    }
   ],
   "source": [
    "post_graph.nodes[list(post_graph.nodes)[0]]"
   ]
  },
  {
   "cell_type": "code",
   "execution_count": 19,
   "metadata": {},
   "outputs": [
    {
     "name": "stdout",
     "output_type": "stream",
     "text": [
      "Modularity of the partition based on attribute:  0.007689386549852143\n"
     ]
    }
   ],
   "source": [
    "attribute = 'tag'  # replace with your attribute name\n",
    "\n",
    "# Create a partition based on the node attribute\n",
    "partition = {node: data[attribute] for node, data in post_graph.nodes(data=True)}\n",
    "\n",
    "# Calculate the modularity\n",
    "modularity = community_louvain.modularity(partition, post_graph)\n",
    "print(\"Modularity of the partition based on attribute: \", modularity)"
   ]
  }
 ],
 "metadata": {
  "kernelspec": {
   "display_name": "py3.10_Venv",
   "language": "python",
   "name": "python3"
  },
  "language_info": {
   "codemirror_mode": {
    "name": "ipython",
    "version": 3
   },
   "file_extension": ".py",
   "mimetype": "text/x-python",
   "name": "python",
   "nbconvert_exporter": "python",
   "pygments_lexer": "ipython3",
   "version": "3.11.5"
  }
 },
 "nbformat": 4,
 "nbformat_minor": 2
}
