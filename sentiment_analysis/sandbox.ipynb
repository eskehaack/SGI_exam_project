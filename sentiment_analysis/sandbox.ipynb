{
 "cells": [
  {
   "cell_type": "code",
   "execution_count": 17,
   "metadata": {},
   "outputs": [],
   "source": [
    "import pandas as pd\n",
    "import numpy as np\n",
    "import nltk\n",
    "from nltk.stem import WordNetLemmatizer\n",
    "lemmatizer = WordNetLemmatizer()"
   ]
  },
  {
   "cell_type": "code",
   "execution_count": 25,
   "metadata": {},
   "outputs": [],
   "source": [
    "sent_df = pd.read_csv(\"2_headword_headword_polarity.csv\", header=None)[[0, 4]]\n",
    "sentiment_dict = {row[0]: row[4] for _, row in sent_df.iterrows()}\n",
    "\n",
    "def get_tfs(text):\n",
    "    return dict(nltk.probability.FreqDist(([lemmatizer.lemmatize(w) for word in text if (w:=word.lower()).isalpha()])))\n",
    "\n",
    "def get_sents(text):\n",
    "    tf = get_tfs(nltk.word_tokenize(text))\n",
    "    return (\n",
    "        np.sum([sentiment_dict[word] * tf[word] for word in tf.keys() if word in list(sentiment_dict.keys())]) / \n",
    "        np.sum([tf[word] for word in tf.keys() if word in list(sentiment_dict.keys())]) \n",
    "    )"
   ]
  },
  {
   "cell_type": "code",
   "execution_count": 28,
   "metadata": {},
   "outputs": [
    {
     "data": {
      "text/plain": [
       "0.3333333333333333"
      ]
     },
     "execution_count": 28,
     "metadata": {},
     "output_type": "execute_result"
    }
   ],
   "source": [
    "text = \"\"\"\n",
    "Hvilke hestesteder har du været \"tilknyttet\" , og ca hvornår\n",
    "\n",
    "Her er en liste for mig\n",
    "\n",
    "Lejre Rideklub ( ca 1985 - 1990)\n",
    "Solrød Ridelub ( 1990 -1991 ) - red på en hest der stod opstaldet på den anden side af vejen\n",
    "Følfods rideklub ( 1991 -1995 )\n",
    "Gammeltoft rideklub ( 6 måneder sommer 1995)\n",
    "Adamslyst ridecenter ( 1996 - 1997)\n",
    "Baunehøj ridecenter ( red der ca 2 år hver anden uge i forbindelse med jeg gik På herlufsholm)\n",
    "Vallensbæk ridecenter ( 2002-2004)\n",
    "Dragør store magleby rideklub ( 2006 )\n",
    "\n",
    "PT\n",
    "Petersborg ( Høsterkøb) - Søster står der\n",
    "Og hjemme hos mig selv J\n",
    "\n",
    "Og så selvfølgelig Enghøjs ponyclub, hvor jeg er kommet siden 1985 og stadig kommer\n",
    "\n",
    "Jeg har godt nok holdt til Mange steder inden for de sidste 22 år J\n",
    "Man kan godt \"læse\" at jeg indtil nu udelukkende har været ½ parts rytter J\n",
    "\n",
    "Hvor har i holdt til??\n",
    "\"\"\"\n",
    "get_sents(text)"
   ]
  }
 ],
 "metadata": {
  "kernelspec": {
   "display_name": "Python 3",
   "language": "python",
   "name": "python3"
  },
  "language_info": {
   "codemirror_mode": {
    "name": "ipython",
    "version": 3
   },
   "file_extension": ".py",
   "mimetype": "text/x-python",
   "name": "python",
   "nbconvert_exporter": "python",
   "pygments_lexer": "ipython3",
   "version": "3.11.5"
  }
 },
 "nbformat": 4,
 "nbformat_minor": 2
}
