{
 "cells": [
  {
   "cell_type": "code",
   "execution_count": 8,
   "metadata": {},
   "outputs": [],
   "source": [
    "from tqdm import tqdm\n",
    "import requests\n",
    "from bs4 import BeautifulSoup\n",
    "import matplotlib.pyplot as plt\n",
    "# import networkx as nx\n",
    "import plotly.graph_objs as go\n",
    "from plotly.subplots import make_subplots\n",
    "import numpy as np\n",
    "import plotly.express as px\n",
    "from textwrap import wrap\n",
    "import networkx as nx\n"
   ]
  },
  {
   "cell_type": "code",
   "execution_count": 9,
   "metadata": {},
   "outputs": [],
   "source": [
    "# url = \"https://www.heste-nettet.dk/forum/1/1316128/1316128/\"\n",
    "headers = {\"User-Agent\": \"Mozilla/5.0 (X11; Linux x86_64) AppleWebKit/537.36 (KHTML, like Gecko) Chrome/88.0.4324.96 Safari/537.36\"} \n",
    "\n",
    "def get_html_content(url):\n",
    "    # Check if the request was successful\n",
    "    response = requests.get(url,headers=headers)\n",
    "    if response.status_code == 200:\n",
    "        # Parse the HTML content of the page with BeautifulSoup\n",
    "        soup = BeautifulSoup(response.text, 'html.parser')\n",
    "        return soup\n",
    "    elif response.status_code == 404 or response.status_code == 403:\n",
    "        print(f\"Response code: {response.status_code} for {url}\")\n",
    "    else:\n",
    "        return None\n"
   ]
  },
  {
   "cell_type": "code",
   "execution_count": 10,
   "metadata": {},
   "outputs": [],
   "source": [
    "\n",
    "def author_text_scrape(soup):\n",
    "    author_list = []\n",
    "    text_list = []\n",
    "    # Find all the <td> elements with class \"light\" and itemprop=\"text\"\n",
    "    td_elements = soup.find_all('td', bgcolor='#787878', valign='top')\n",
    "\n",
    "    # Iterate through the <td> elements\n",
    "    for td in td_elements:\n",
    "        # Extract the author's href number\n",
    "        author_a = td.find('a', itemprop='url')\n",
    "        if author_a:\n",
    "            author_href = author_a['href']\n",
    "            author_text = author_a.text\n",
    "            \n",
    "        else:\n",
    "            author_href = None\n",
    "            author_text = td.find('span', itemprop='name').text\n",
    "        # print(author_text)\n",
    "        # Find the first <div> with class \"rsPost\" within the current <td>\n",
    "        rs_post = td.find('div', class_='rsPost')\n",
    "        \n",
    "        if rs_post:\n",
    "            # Extract Danish text within <span> tags\n",
    "            danish_text = [span.text for span in rs_post.find_all('p')]\n",
    "            \n",
    "            # Combine the text into a single string\n",
    "            danish_text = \"\\n\".join(danish_text)\n",
    "                \n",
    "            # if len(danish_text)>1 and author_text:\n",
    "                # author_list.append(author_href.split('/')[-2])\n",
    "            author_list.append(author_text)\n",
    "            text_list.append(danish_text)\n",
    "        # if author_text == \"Doctor Who\" and len(author_list)<2:\n",
    "        #     print(rs_post)\n",
    "\n",
    "    return author_list, text_list\n"
   ]
  },
  {
   "cell_type": "code",
   "execution_count": 11,
   "metadata": {},
   "outputs": [],
   "source": [
    "soup = get_html_content(\"https://www.heste-nettet.dk/forum/1/\")\n",
    "links = soup.find_all(\"a\",href=True)\n",
    "href_list = []\n",
    "# Filter and print the links\n",
    "for link in links:\n",
    "    href = link['href']\n",
    "    if \"/forum/1/\" in href and len(href.split(\"/\"))==6:\n",
    "        href_list.append(href)"
   ]
  },
  {
   "cell_type": "code",
   "execution_count": 12,
   "metadata": {},
   "outputs": [
    {
     "name": "stderr",
     "output_type": "stream",
     "text": [
      "100%|██████████| 70/70 [00:21<00:00,  3.30it/s]\n"
     ]
    }
   ],
   "source": [
    "authors_data = []\n",
    "texts_data = []\n",
    "used_href_list = []\n",
    "for href in tqdm(href_list):\n",
    "    url = f\"https://www.heste-nettet.dk{href}\"\n",
    "    if (soup:=get_html_content(url)):\n",
    "        author_list, text_list = author_text_scrape(soup)\n",
    "        if len(author_list)>0 and len(text_list)>0:\n",
    "            authors_data.append(author_list)\n",
    "            texts_data.append(text_list)\n",
    "            used_href_list.append(href)"
   ]
  },
  {
   "cell_type": "code",
   "execution_count": 13,
   "metadata": {},
   "outputs": [
    {
     "data": {
      "text/plain": [
       "[['Nathalie O'],\n",
       " ['Kia B'],\n",
       " ['Isa V', 'Michael H (6)', 'Webarmen1', 'Webarmen1'],\n",
       " ['Camilla80',\n",
       "  'Jeanette O',\n",
       "  'Maja J',\n",
       "  'Kariiinaen',\n",
       "  'Metteweirsoe',\n",
       "  'anima',\n",
       "  'Team Pip (Helena)',\n",
       "  'ridesteder',\n",
       "  'Her...',\n",
       "  'vibha',\n",
       "  '£isbeth (Baloo)',\n",
       "  'Ride steder',\n",
       "  'Berit & Lukas',\n",
       "  'Annecathrine',\n",
       "  'Jeg har redet',\n",
       "  'TheaDV',\n",
       "  'Camilla80',\n",
       "  'MetteLodberg',\n",
       "  'Camilla80',\n",
       "  'Camilla80',\n",
       "  'kopsa',\n",
       "  'De fleste...',\n",
       "  'Sasser',\n",
       "  'Vejle..',\n",
       "  'Marianne Beck',\n",
       "  'Jeg ved da',\n",
       "  'mmmhhh',\n",
       "  'Gitte Olsen',\n",
       "  'KitSchouby',\n",
       "  'Skingur',\n",
       "  'westlife',\n",
       "  'Hvor har jeg redet?',\n",
       "  'Skingur',\n",
       "  'Blomst og trolle<3',\n",
       "  'Robsen',\n",
       "  'Pia H.',\n",
       "  'Alice Nielsen',\n",
       "  'Line & Tatoo',\n",
       "  'Pernilleblom',\n",
       "  'Krohne',\n",
       "  'Rideskoler',\n",
       "  'LineG',\n",
       "  'Winnie J',\n",
       "  'Patricia',\n",
       "  'Linnea (Jay-Jay og Figo)',\n",
       "  'Linse *Dejó*',\n",
       "  'Rideklubber',\n",
       "  'Årstal??',\n",
       "  'jepsem (marianne)',\n",
       "  'Spirrevippen ♥Bianca♥',\n",
       "  'hmm...',\n",
       "  'boombastic ♥helena♥',\n",
       "  'DortheL',\n",
       "  'istebjerg',\n",
       "  'lisbethdue',\n",
       "  'silas',\n",
       "  'Håhåhåh',\n",
       "  'ddd',\n",
       "  'dressurtante',\n",
       "  'sarah-ann',\n",
       "  'Pauline ♥Cæsar♥',\n",
       "  'MiniBaah',\n",
       "  'suprise (Karina Serup Jensen)',\n",
       "  'Michelle Molin',\n",
       "  'juva ♥juva♥',\n",
       "  'juva ♥juva♥',\n",
       "  'Katrine elsker ♥Nicklas-Walle&#',\n",
       "  'Columbus',\n",
       "  'jeg har',\n",
       "  'Beagle',\n",
       "  'Søger!',\n",
       "  'stella 2',\n",
       "  '2 steder',\n",
       "  'Lizza',\n",
       "  'Lennert',\n",
       "  'Lamos ♥lobri♥',\n",
       "  'www kaabers dk',\n",
       "  'Skovbakkens ♥Avalon♥',\n",
       "  'Smukkemigigen'],\n",
       " ['Guest', 'Sif'],\n",
       " ['ChatGPT blev trænet af danske hestetøser',\n",
       "  'Leon Derczynski',\n",
       "  'Doctor Who',\n",
       "  'HundeGitteMor',\n",
       "  'Henrik (HN)',\n",
       "  'Tine A (3)'],\n",
       " ['Kristensen', 'Sif', 'sundancer', 'Tine A (3)'],\n",
       " ['Caro (Connery)', 'Tine A (3)', 'Tine A (3)'],\n",
       " ['Lars S (5)', 'Dorte Hansen'],\n",
       " ['Winnie *Bøge*',\n",
       "  'tije *Fylkir*',\n",
       "  'Bissen (tidl Duke)',\n",
       "  'GoldFish',\n",
       "  'LP-mor (Sanne)',\n",
       "  'SigneKryger',\n",
       "  'CecilieP',\n",
       "  'LP-mor (Sanne)',\n",
       "  'Sine (Aslan)',\n",
       "  'Lene *Loppe*',\n",
       "  'Canis Lupus ♥No Joke♥',\n",
       "  'Lenuccia',\n",
       "  'Lenuccia',\n",
       "  'Sine (Aslan)',\n",
       "  'Margueritten',\n",
       "  'Kirstine 1990',\n",
       "  'JP The Farrier',\n",
       "  'Sif'],\n",
       " ['Kirstine 1990', 'Ibh', 'Charlotte (Stutteri Lund)'],\n",
       " ['Katrine N (6)'],\n",
       " ['Helle Jesbjerg',\n",
       "  'fireblade',\n",
       "  'Doctor Who',\n",
       "  'Ibh',\n",
       "  'fireblade',\n",
       "  'Charlotte (Stutteri Lund)',\n",
       "  'Sif',\n",
       "  'Helle Jesbjerg',\n",
       "  'fireblade',\n",
       "  'Ibh'],\n",
       " ['HelleA', 'Doctor Who', 'Jan Petersen'],\n",
       " ['Jens B', 'Doctor Who', 'Jens B'],\n",
       " ['Asta 2', 'Doctor Who'],\n",
       " ['Shagya', 'Doctor Who', 'Sif'],\n",
       " ['DitteH',\n",
       "  'suldudu ♣annette♣',\n",
       "  'Doctor Who',\n",
       "  'DitteH',\n",
       "  'Charlotte (Stutteri Lund)',\n",
       "  'DitteH',\n",
       "  'Charlotte (Stutteri Lund)',\n",
       "  'DitteH',\n",
       "  'Doctor Who',\n",
       "  'Charlotte (Stutteri Lund)',\n",
       "  'DitteH',\n",
       "  'DitteH',\n",
       "  'Charlotte (Stutteri Lund)'],\n",
       " ['Rie W', 'Sif'],\n",
       " ['DitteH', 'Doctor Who'],\n",
       " ['Asp6700', 'Tine A (3)', 'Doctor Who', 'Christoffer K (2)'],\n",
       " ['DankyWank', 'Casper L', 'gamergirl'],\n",
       " ['Jensteuchler'],\n",
       " ['Doctor Who',\n",
       "  'Sif',\n",
       "  'Tina *Turpin*',\n",
       "  'Charlotte (Stutteri Lund)',\n",
       "  'Doctor Who',\n",
       "  'Doctor Who',\n",
       "  'Stine B (11)',\n",
       "  'Ibh'],\n",
       " ['sprit', 'Charlotte (Stutteri Lund)', 'sprit'],\n",
       " ['Aunsoegaard'],\n",
       " ['Hippocampus',\n",
       "  'Doctor Who',\n",
       "  'Hippocampus',\n",
       "  'Charlotte (Stutteri Lund)',\n",
       "  'Bella Donna',\n",
       "  'Jan Petersen',\n",
       "  'lefab98 (Lene Farving)',\n",
       "  'Charlotte (Stutteri Lund)',\n",
       "  'DitteH'],\n",
       " ['Thomas L (7)', 'Doctor Who', 'Jan Petersen'],\n",
       " ['Undgå skader med allround-fitness', 'Kirstine 1990'],\n",
       " ['Nordvig (Lusitano)',\n",
       "  'hesteprut',\n",
       "  'Nordvig (Lusitano)',\n",
       "  'hesteprut',\n",
       "  'Fængselsbetjent',\n",
       "  'Stengården',\n",
       "  'Lykkefod'],\n",
       " ['Dennis J',\n",
       "  'Doctor Who',\n",
       "  'Sif',\n",
       "  'Jac (2)',\n",
       "  'Bella Donna',\n",
       "  'Nfregerslev',\n",
       "  'Louis S'],\n",
       " ['Camilla S 2'],\n",
       " ['Michelle (pepita)',\n",
       "  'Charlotte (Stutteri Lund)',\n",
       "  'Doctor Who',\n",
       "  'Sif',\n",
       "  'DitteH'],\n",
       " ['Kirstine T', 'Doctor Who'],\n",
       " ['Megan Maria', 'Doctor Who', 'Sif', 'Xandi C', 'Chriller »Muffi«'],\n",
       " ['Mustang (Mustang)'],\n",
       " ['Nicoline O (2)', 'Doctor Who'],\n",
       " ['Doctor Who', 'Doctor Who', 'Ibh', 'Doctor Who', 'Ibh', 'Dorte Hansen'],\n",
       " ['Stig A', 'Doctor Who', 'Sif', 'Trine 9', 'DankyWank', 'Ibh'],\n",
       " ['Billedbog', 'Chriller »Muffi«', 'Johnny D'],\n",
       " ['Kasper L', 'Johnny D'],\n",
       " ['Aglaia'],\n",
       " ['sakra',\n",
       "  'Danmakine »Basse«',\n",
       "  'Mette D ♥Annabel og Gabby♥',\n",
       "  'Mette (Fjolle)',\n",
       "  'Lorina',\n",
       "  'nordbakker',\n",
       "  'nedsættende',\n",
       "  'Charlotte ♣Stutteri Lund♣',\n",
       "  'Mrsheaven',\n",
       "  'Jeanette O',\n",
       "  'Kom til',\n",
       "  'Keppie',\n",
       "  'Sif',\n",
       "  'Vestlands-',\n",
       "  '123456',\n",
       "  'Opprinnelig',\n",
       "  'Charlotte ♣Stutteri Lund♣',\n",
       "  'sakra',\n",
       "  'arose',\n",
       "  'Stephanie-8b',\n",
       "  'StaldES',\n",
       "  'Stephanie-8b',\n",
       "  'StaldES',\n",
       "  'Stephanie-8b',\n",
       "  'Gurli',\n",
       "  'Line Weber',\n",
       "  'Andreas N',\n",
       "  'Sif',\n",
       "  'sprit'],\n",
       " ['Omar R', 'Doctor Who', 'Omar R'],\n",
       " ['DitteH', 'mylady', 'DitteH', 'DitteH', 'Webshop', 'DitteH'],\n",
       " ['Juli222n', 'Ibh'],\n",
       " ['Lilje W', 'Sif', 'Lilje W'],\n",
       " ['RC 1', 'magnus ♥magnus♥', 'Brando'],\n",
       " ['Sådan indretter du et godt hjemmekontor', 'Linnea N'],\n",
       " ['kogde',\n",
       "  'jannej',\n",
       "  'maria3',\n",
       "  'Sylvester ♥Bigumsgårds Dinab',\n",
       "  'Kongehøj',\n",
       "  'Lene *Loppe*',\n",
       "  'freya 1',\n",
       "  'Lenuccia',\n",
       "  'Danmakine »Basse«',\n",
       "  'PrettyFancy',\n",
       "  'HundeGitteMor',\n",
       "  'dusty',\n",
       "  'kogde',\n",
       "  'Trine7 *Trine*',\n",
       "  'Ronni A',\n",
       "  'Ibh',\n",
       "  'Kristian (4)',\n",
       "  'Daisy G',\n",
       "  'Daisy G',\n",
       "  'Chriller »Muffi«',\n",
       "  'magnus ♥magnus♥'],\n",
       " ['Sanne A',\n",
       "  'Doctor Who',\n",
       "  'Dorte Hansen',\n",
       "  'Sanne A',\n",
       "  'SeniorHeavy',\n",
       "  'magnus ♥magnus♥'],\n",
       " ['Doctor Who',\n",
       "  'Sif',\n",
       "  'Doctor Who',\n",
       "  'suldudu ♣annette♣',\n",
       "  'Doctor Who',\n",
       "  'Sif',\n",
       "  'Doctor Who',\n",
       "  'Doctor Who',\n",
       "  'Sif',\n",
       "  'Doctor Who',\n",
       "  'magnus ♥magnus♥',\n",
       "  'Doctor Who',\n",
       "  'magnus ♥magnus♥',\n",
       "  'Doctor Who',\n",
       "  'Doctor Who',\n",
       "  'Ibh',\n",
       "  'Doctor Who',\n",
       "  'Charlotte (Stutteri Lund)',\n",
       "  'suldudu ♣annette♣',\n",
       "  'Doctor Who',\n",
       "  'suldudu ♣annette♣',\n",
       "  'Charlotte (Stutteri Lund)',\n",
       "  'Doctor Who',\n",
       "  'Dorte Hansen'],\n",
       " ['Stine ♥Elena♥', 'Doctor Who', 'HundeGitteMor'],\n",
       " ['Ida J (7)', 'Doctor Who', 'Ida J (7)', 'Dorte Hansen'],\n",
       " ['Photoshop ?',\n",
       "  'Jan Petersen',\n",
       "  'pony-mor',\n",
       "  'Photoshop',\n",
       "  'holder mig også',\n",
       "  'Qian H',\n",
       "  'Ibh',\n",
       "  'Thomas H (2)'],\n",
       " ['Laura B (13)',\n",
       "  'Doctor Who',\n",
       "  'Sif',\n",
       "  'Doctor Who',\n",
       "  'Sif',\n",
       "  'Doctor Who',\n",
       "  'suldudu ♣annette♣',\n",
       "  'DitteH',\n",
       "  'suldudu ♣annette♣',\n",
       "  'DitteH',\n",
       "  'Sif'],\n",
       " ['Michael B 1', 'Doctor Who'],\n",
       " ['Else S', 'Doctor Who'],\n",
       " ['Mette (Fjolle)',\n",
       "  'Doctor Who',\n",
       "  'Tina *Turpin*',\n",
       "  'Sif',\n",
       "  'Charlotte (Stutteri Lund)',\n",
       "  'DitteH',\n",
       "  'Hectoria',\n",
       "  'Doctor Who',\n",
       "  'Annette S',\n",
       "  'Sif',\n",
       "  'Dorte Hansen',\n",
       "  'magnus ♥magnus♥',\n",
       "  'Julie (15)',\n",
       "  'oxalia',\n",
       "  'Lenuccia',\n",
       "  'Chriller »Muffi«',\n",
       "  'Jan Petersen',\n",
       "  'Claus Poulsen',\n",
       "  'Bella Donna'],\n",
       " ['Rie W', 'Doctor Who', 'Sif'],\n",
       " ['Kira Marie G'],\n",
       " ['Iwanna humbalot', 'Doctor Who'],\n",
       " ['Rie W'],\n",
       " ['Aw5',\n",
       "  'Ibh',\n",
       "  'magnus ♥magnus♥',\n",
       "  'Aw5',\n",
       "  'Doctor Who',\n",
       "  'Cupra diamond owner',\n",
       "  'Kristian (4)'],\n",
       " ['Kristian (4)'],\n",
       " ['Kirsten H (5)', 'Ibh', 'Sif', 'magnus ♥magnus♥', 'Sif', 'magnus ♥magnus♥'],\n",
       " ['Alb Pp', 'Sif', 'magnus ♥magnus♥', 'Claus Poulsen'],\n",
       " ['Tine A (3)', 'Doctor Who', 'Tine A (3)', 'Charlotte (Stutteri Lund)'],\n",
       " ['Anette B (3)', 'Sif', 'Dorte Hansen', 'Doctor Who'],\n",
       " ['Rikkekronborg98', 'Sif']]"
      ]
     },
     "execution_count": 13,
     "metadata": {},
     "output_type": "execute_result"
    }
   ],
   "source": [
    "authors_data"
   ]
  },
  {
   "cell_type": "code",
   "execution_count": 14,
   "metadata": {},
   "outputs": [],
   "source": [
    "# Initialize a directed graph (DiGraph)\n",
    "G = nx.DiGraph()\n",
    "\n",
    "# Initialize a dictionary to store text lengths for each author\n",
    "author_text_lengths = {}\n",
    "\n",
    "# Keep track of added nodes\n",
    "added_nodes = set()\n",
    "\n",
    "# Process each webpage\n",
    "for idx, (authors, text_sections) in enumerate(zip(authors_data, texts_data)):\n",
    "    # The first author in the inner list is the OP author\n",
    "    try:\n",
    "        op_author = authors[0]\n",
    "    except:\n",
    "        print(idx, authors, text_sections)\n",
    "        break\n",
    "    \n",
    "    # Add nodes for all authors, including the OP, and initialize the \"OP_author\" attribute to 0\n",
    "    for author in authors:\n",
    "        if author not in added_nodes:\n",
    "            G.add_node(author, OP_author=0, reads=0,comments = 0)\n",
    "            added_nodes.add(author)\n",
    "\n",
    "    # Update the \"OP_author\" attribute for the OP author\n",
    "    G.nodes[op_author][\"OP_author\"] += 1\n",
    "    G.nodes[op_author][\"reads\"] += len(authors)-1\n",
    "\n",
    "    # Connect the OP author to all other authors with weighted edges\n",
    "    for author in authors[1:]:\n",
    "        if G.has_edge(author, op_author):\n",
    "            G[author][op_author][\"weight\"] += 1  # Increment the edge weight\n",
    "        else:\n",
    "            G.add_edge(author, op_author, weight=1)  # Initialize edge weight to 1\n",
    "        \n",
    "        G.nodes[author][\"comments\"] += 1\n",
    "\n",
    "    # Calculate text lengths and store in the author_text_lengths dictionary\n",
    "    for author, text_section in zip(authors, text_sections):\n",
    "        text_length = len(text_section)\n",
    "        author_text_lengths[author] = text_length\n"
   ]
  },
  {
   "cell_type": "code",
   "execution_count": 15,
   "metadata": {},
   "outputs": [
    {
     "data": {
      "text/plain": [
       "[['Nathalie O'],\n",
       " ['Kia B'],\n",
       " ['Isa V', 'Michael H (6)', 'Webarmen1', 'Webarmen1'],\n",
       " ['Camilla80',\n",
       "  'Jeanette O',\n",
       "  'Maja J',\n",
       "  'Kariiinaen',\n",
       "  'Metteweirsoe',\n",
       "  'anima',\n",
       "  'Team Pip (Helena)',\n",
       "  'ridesteder',\n",
       "  'Her...',\n",
       "  'vibha',\n",
       "  '£isbeth (Baloo)',\n",
       "  'Ride steder',\n",
       "  'Berit & Lukas',\n",
       "  'Annecathrine',\n",
       "  'Jeg har redet',\n",
       "  'TheaDV',\n",
       "  'Camilla80',\n",
       "  'MetteLodberg',\n",
       "  'Camilla80',\n",
       "  'Camilla80',\n",
       "  'kopsa',\n",
       "  'De fleste...',\n",
       "  'Sasser',\n",
       "  'Vejle..',\n",
       "  'Marianne Beck',\n",
       "  'Jeg ved da',\n",
       "  'mmmhhh',\n",
       "  'Gitte Olsen',\n",
       "  'KitSchouby',\n",
       "  'Skingur',\n",
       "  'westlife',\n",
       "  'Hvor har jeg redet?',\n",
       "  'Skingur',\n",
       "  'Blomst og trolle<3',\n",
       "  'Robsen',\n",
       "  'Pia H.',\n",
       "  'Alice Nielsen',\n",
       "  'Line & Tatoo',\n",
       "  'Pernilleblom',\n",
       "  'Krohne',\n",
       "  'Rideskoler',\n",
       "  'LineG',\n",
       "  'Winnie J',\n",
       "  'Patricia',\n",
       "  'Linnea (Jay-Jay og Figo)',\n",
       "  'Linse *Dejó*',\n",
       "  'Rideklubber',\n",
       "  'Årstal??',\n",
       "  'jepsem (marianne)',\n",
       "  'Spirrevippen ♥Bianca♥',\n",
       "  'hmm...',\n",
       "  'boombastic ♥helena♥',\n",
       "  'DortheL',\n",
       "  'istebjerg',\n",
       "  'lisbethdue',\n",
       "  'silas',\n",
       "  'Håhåhåh',\n",
       "  'ddd',\n",
       "  'dressurtante',\n",
       "  'sarah-ann',\n",
       "  'Pauline ♥Cæsar♥',\n",
       "  'MiniBaah',\n",
       "  'suprise (Karina Serup Jensen)',\n",
       "  'Michelle Molin',\n",
       "  'juva ♥juva♥',\n",
       "  'juva ♥juva♥',\n",
       "  'Katrine elsker ♥Nicklas-Walle&#',\n",
       "  'Columbus',\n",
       "  'jeg har',\n",
       "  'Beagle',\n",
       "  'Søger!',\n",
       "  'stella 2',\n",
       "  '2 steder',\n",
       "  'Lizza',\n",
       "  'Lennert',\n",
       "  'Lamos ♥lobri♥',\n",
       "  'www kaabers dk',\n",
       "  'Skovbakkens ♥Avalon♥',\n",
       "  'Smukkemigigen'],\n",
       " ['Guest', 'Sif'],\n",
       " ['ChatGPT blev trænet af danske hestetøser',\n",
       "  'Leon Derczynski',\n",
       "  'Doctor Who',\n",
       "  'HundeGitteMor',\n",
       "  'Henrik (HN)',\n",
       "  'Tine A (3)'],\n",
       " ['Kristensen', 'Sif', 'sundancer', 'Tine A (3)'],\n",
       " ['Caro (Connery)', 'Tine A (3)', 'Tine A (3)'],\n",
       " ['Lars S (5)', 'Dorte Hansen'],\n",
       " ['Winnie *Bøge*',\n",
       "  'tije *Fylkir*',\n",
       "  'Bissen (tidl Duke)',\n",
       "  'GoldFish',\n",
       "  'LP-mor (Sanne)',\n",
       "  'SigneKryger',\n",
       "  'CecilieP',\n",
       "  'LP-mor (Sanne)',\n",
       "  'Sine (Aslan)',\n",
       "  'Lene *Loppe*',\n",
       "  'Canis Lupus ♥No Joke♥',\n",
       "  'Lenuccia',\n",
       "  'Lenuccia',\n",
       "  'Sine (Aslan)',\n",
       "  'Margueritten',\n",
       "  'Kirstine 1990',\n",
       "  'JP The Farrier',\n",
       "  'Sif'],\n",
       " ['Kirstine 1990', 'Ibh', 'Charlotte (Stutteri Lund)'],\n",
       " ['Katrine N (6)'],\n",
       " ['Helle Jesbjerg',\n",
       "  'fireblade',\n",
       "  'Doctor Who',\n",
       "  'Ibh',\n",
       "  'fireblade',\n",
       "  'Charlotte (Stutteri Lund)',\n",
       "  'Sif',\n",
       "  'Helle Jesbjerg',\n",
       "  'fireblade',\n",
       "  'Ibh'],\n",
       " ['HelleA', 'Doctor Who', 'Jan Petersen'],\n",
       " ['Jens B', 'Doctor Who', 'Jens B'],\n",
       " ['Asta 2', 'Doctor Who'],\n",
       " ['Shagya', 'Doctor Who', 'Sif'],\n",
       " ['DitteH',\n",
       "  'suldudu ♣annette♣',\n",
       "  'Doctor Who',\n",
       "  'DitteH',\n",
       "  'Charlotte (Stutteri Lund)',\n",
       "  'DitteH',\n",
       "  'Charlotte (Stutteri Lund)',\n",
       "  'DitteH',\n",
       "  'Doctor Who',\n",
       "  'Charlotte (Stutteri Lund)',\n",
       "  'DitteH',\n",
       "  'DitteH',\n",
       "  'Charlotte (Stutteri Lund)'],\n",
       " ['Rie W', 'Sif'],\n",
       " ['DitteH', 'Doctor Who'],\n",
       " ['Asp6700', 'Tine A (3)', 'Doctor Who', 'Christoffer K (2)'],\n",
       " ['DankyWank', 'Casper L', 'gamergirl'],\n",
       " ['Jensteuchler'],\n",
       " ['Doctor Who',\n",
       "  'Sif',\n",
       "  'Tina *Turpin*',\n",
       "  'Charlotte (Stutteri Lund)',\n",
       "  'Doctor Who',\n",
       "  'Doctor Who',\n",
       "  'Stine B (11)',\n",
       "  'Ibh'],\n",
       " ['sprit', 'Charlotte (Stutteri Lund)', 'sprit'],\n",
       " ['Aunsoegaard'],\n",
       " ['Hippocampus',\n",
       "  'Doctor Who',\n",
       "  'Hippocampus',\n",
       "  'Charlotte (Stutteri Lund)',\n",
       "  'Bella Donna',\n",
       "  'Jan Petersen',\n",
       "  'lefab98 (Lene Farving)',\n",
       "  'Charlotte (Stutteri Lund)',\n",
       "  'DitteH'],\n",
       " ['Thomas L (7)', 'Doctor Who', 'Jan Petersen'],\n",
       " ['Undgå skader med allround-fitness', 'Kirstine 1990'],\n",
       " ['Nordvig (Lusitano)',\n",
       "  'hesteprut',\n",
       "  'Nordvig (Lusitano)',\n",
       "  'hesteprut',\n",
       "  'Fængselsbetjent',\n",
       "  'Stengården',\n",
       "  'Lykkefod'],\n",
       " ['Dennis J',\n",
       "  'Doctor Who',\n",
       "  'Sif',\n",
       "  'Jac (2)',\n",
       "  'Bella Donna',\n",
       "  'Nfregerslev',\n",
       "  'Louis S'],\n",
       " ['Camilla S 2'],\n",
       " ['Michelle (pepita)',\n",
       "  'Charlotte (Stutteri Lund)',\n",
       "  'Doctor Who',\n",
       "  'Sif',\n",
       "  'DitteH'],\n",
       " ['Kirstine T', 'Doctor Who'],\n",
       " ['Megan Maria', 'Doctor Who', 'Sif', 'Xandi C', 'Chriller »Muffi«'],\n",
       " ['Mustang (Mustang)'],\n",
       " ['Nicoline O (2)', 'Doctor Who'],\n",
       " ['Doctor Who', 'Doctor Who', 'Ibh', 'Doctor Who', 'Ibh', 'Dorte Hansen'],\n",
       " ['Stig A', 'Doctor Who', 'Sif', 'Trine 9', 'DankyWank', 'Ibh'],\n",
       " ['Billedbog', 'Chriller »Muffi«', 'Johnny D'],\n",
       " ['Kasper L', 'Johnny D'],\n",
       " ['Aglaia'],\n",
       " ['sakra',\n",
       "  'Danmakine »Basse«',\n",
       "  'Mette D ♥Annabel og Gabby♥',\n",
       "  'Mette (Fjolle)',\n",
       "  'Lorina',\n",
       "  'nordbakker',\n",
       "  'nedsættende',\n",
       "  'Charlotte ♣Stutteri Lund♣',\n",
       "  'Mrsheaven',\n",
       "  'Jeanette O',\n",
       "  'Kom til',\n",
       "  'Keppie',\n",
       "  'Sif',\n",
       "  'Vestlands-',\n",
       "  '123456',\n",
       "  'Opprinnelig',\n",
       "  'Charlotte ♣Stutteri Lund♣',\n",
       "  'sakra',\n",
       "  'arose',\n",
       "  'Stephanie-8b',\n",
       "  'StaldES',\n",
       "  'Stephanie-8b',\n",
       "  'StaldES',\n",
       "  'Stephanie-8b',\n",
       "  'Gurli',\n",
       "  'Line Weber',\n",
       "  'Andreas N',\n",
       "  'Sif',\n",
       "  'sprit'],\n",
       " ['Omar R', 'Doctor Who', 'Omar R'],\n",
       " ['DitteH', 'mylady', 'DitteH', 'DitteH', 'Webshop', 'DitteH'],\n",
       " ['Juli222n', 'Ibh'],\n",
       " ['Lilje W', 'Sif', 'Lilje W'],\n",
       " ['RC 1', 'magnus ♥magnus♥', 'Brando'],\n",
       " ['Sådan indretter du et godt hjemmekontor', 'Linnea N'],\n",
       " ['kogde',\n",
       "  'jannej',\n",
       "  'maria3',\n",
       "  'Sylvester ♥Bigumsgårds Dinab',\n",
       "  'Kongehøj',\n",
       "  'Lene *Loppe*',\n",
       "  'freya 1',\n",
       "  'Lenuccia',\n",
       "  'Danmakine »Basse«',\n",
       "  'PrettyFancy',\n",
       "  'HundeGitteMor',\n",
       "  'dusty',\n",
       "  'kogde',\n",
       "  'Trine7 *Trine*',\n",
       "  'Ronni A',\n",
       "  'Ibh',\n",
       "  'Kristian (4)',\n",
       "  'Daisy G',\n",
       "  'Daisy G',\n",
       "  'Chriller »Muffi«',\n",
       "  'magnus ♥magnus♥'],\n",
       " ['Sanne A',\n",
       "  'Doctor Who',\n",
       "  'Dorte Hansen',\n",
       "  'Sanne A',\n",
       "  'SeniorHeavy',\n",
       "  'magnus ♥magnus♥'],\n",
       " ['Doctor Who',\n",
       "  'Sif',\n",
       "  'Doctor Who',\n",
       "  'suldudu ♣annette♣',\n",
       "  'Doctor Who',\n",
       "  'Sif',\n",
       "  'Doctor Who',\n",
       "  'Doctor Who',\n",
       "  'Sif',\n",
       "  'Doctor Who',\n",
       "  'magnus ♥magnus♥',\n",
       "  'Doctor Who',\n",
       "  'magnus ♥magnus♥',\n",
       "  'Doctor Who',\n",
       "  'Doctor Who',\n",
       "  'Ibh',\n",
       "  'Doctor Who',\n",
       "  'Charlotte (Stutteri Lund)',\n",
       "  'suldudu ♣annette♣',\n",
       "  'Doctor Who',\n",
       "  'suldudu ♣annette♣',\n",
       "  'Charlotte (Stutteri Lund)',\n",
       "  'Doctor Who',\n",
       "  'Dorte Hansen'],\n",
       " ['Stine ♥Elena♥', 'Doctor Who', 'HundeGitteMor'],\n",
       " ['Ida J (7)', 'Doctor Who', 'Ida J (7)', 'Dorte Hansen'],\n",
       " ['Photoshop ?',\n",
       "  'Jan Petersen',\n",
       "  'pony-mor',\n",
       "  'Photoshop',\n",
       "  'holder mig også',\n",
       "  'Qian H',\n",
       "  'Ibh',\n",
       "  'Thomas H (2)'],\n",
       " ['Laura B (13)',\n",
       "  'Doctor Who',\n",
       "  'Sif',\n",
       "  'Doctor Who',\n",
       "  'Sif',\n",
       "  'Doctor Who',\n",
       "  'suldudu ♣annette♣',\n",
       "  'DitteH',\n",
       "  'suldudu ♣annette♣',\n",
       "  'DitteH',\n",
       "  'Sif'],\n",
       " ['Michael B 1', 'Doctor Who'],\n",
       " ['Else S', 'Doctor Who'],\n",
       " ['Mette (Fjolle)',\n",
       "  'Doctor Who',\n",
       "  'Tina *Turpin*',\n",
       "  'Sif',\n",
       "  'Charlotte (Stutteri Lund)',\n",
       "  'DitteH',\n",
       "  'Hectoria',\n",
       "  'Doctor Who',\n",
       "  'Annette S',\n",
       "  'Sif',\n",
       "  'Dorte Hansen',\n",
       "  'magnus ♥magnus♥',\n",
       "  'Julie (15)',\n",
       "  'oxalia',\n",
       "  'Lenuccia',\n",
       "  'Chriller »Muffi«',\n",
       "  'Jan Petersen',\n",
       "  'Claus Poulsen',\n",
       "  'Bella Donna'],\n",
       " ['Rie W', 'Doctor Who', 'Sif'],\n",
       " ['Kira Marie G'],\n",
       " ['Iwanna humbalot', 'Doctor Who'],\n",
       " ['Rie W'],\n",
       " ['Aw5',\n",
       "  'Ibh',\n",
       "  'magnus ♥magnus♥',\n",
       "  'Aw5',\n",
       "  'Doctor Who',\n",
       "  'Cupra diamond owner',\n",
       "  'Kristian (4)'],\n",
       " ['Kristian (4)'],\n",
       " ['Kirsten H (5)', 'Ibh', 'Sif', 'magnus ♥magnus♥', 'Sif', 'magnus ♥magnus♥'],\n",
       " ['Alb Pp', 'Sif', 'magnus ♥magnus♥', 'Claus Poulsen'],\n",
       " ['Tine A (3)', 'Doctor Who', 'Tine A (3)', 'Charlotte (Stutteri Lund)'],\n",
       " ['Anette B (3)', 'Sif', 'Dorte Hansen', 'Doctor Who'],\n",
       " ['Rikkekronborg98', 'Sif']]"
      ]
     },
     "execution_count": 15,
     "metadata": {},
     "output_type": "execute_result"
    }
   ],
   "source": [
    "authors_data"
   ]
  },
  {
   "cell_type": "code",
   "execution_count": 16,
   "metadata": {},
   "outputs": [],
   "source": [
    "# edge_weights = {(u, v): G[u][v]['weight'] for u, v in G.edges()}\n",
    "# for (u, v), weight in edge_weights.items():\n",
    "#     print(f\"Weight of edge between node {u} and node {v}: {weight}\")"
   ]
  },
  {
   "cell_type": "code",
   "execution_count": 17,
   "metadata": {},
   "outputs": [
    {
     "data": {
      "image/png": "[encoded data removed]",
      "text/plain": [
       "<Figure size 640x480 with 1 Axes>"
      ]
     },
     "metadata": {},
     "output_type": "display_data"
    }
   ],
   "source": [
    "nx.draw(G,node_size=5)\n"
   ]
  },
  {
   "cell_type": "code",
   "execution_count": 18,
   "metadata": {},
   "outputs": [],
   "source": [
    "# sorted(list(dict(G.in_degree).items()),key=lambda x: x[1],reverse=True)\n",
    "# sorted(list(dict(G.out_degree).items()),key=lambda x: x[1],reverse=True)"
   ]
  },
  {
   "cell_type": "code",
   "execution_count": 19,
   "metadata": {},
   "outputs": [],
   "source": [
    "# from pyvis.network import Network\n",
    "\n",
    "# pyvis_graph = Network(notebook=True,cdn_resources='in_line')\n",
    "# pyvis_graph.from_nx(G)\n",
    "# pyvis_graph.show(\"graph.html\")"
   ]
  },
  {
   "cell_type": "code",
   "execution_count": 20,
   "metadata": {},
   "outputs": [],
   "source": [
    "# Collect edge weights into a list\n",
    "edge_weights = [G.edges[edge]['weight'] for edge in G.edges()]\n",
    "\n",
    "# Normalize edge_weights\n",
    "max_weight = max(edge_weights)\n",
    "min_weight = min(edge_weights)\n",
    "edge_weights_normalized = [(w - min_weight)/(max_weight - min_weight) for w in edge_weights]\n",
    "\n",
    "# Initialize edge colors\n",
    "edge_colors = []\n",
    "\n",
    "for weight in edge_weights_normalized:\n",
    "    edge_colors.extend([f'rgba(0,0,255,{weight})', f'rgba(0,0,255,{weight})', 'rgba(0,0,0,0)'])\n"
   ]
  },
  {
   "cell_type": "code",
   "execution_count": 21,
   "metadata": {},
   "outputs": [
    {
     "data": {
      "application/vnd.plotly.v1+json": {
       "config": {
        "plotlyServerURL": "https://plot.ly"
       },
       "data": [
        {
         "hoverinfo": "none",
         "line": {
          "color": "rgba(0,0,255,0.1)",
          "width": 0.5
         },
         "mode": "lines",
         "type": "scatter",
         "x": [
          0.7034040411441738,
          0.6795480602530308,
          null
         ],
         "y": [
          0.5360151048971561,
          0.5181349530722674,
          null
         ]
        },
        {
         "hoverinfo": "none",
         "line": {
          "color": "rgba(0,0,255,0.17142857142857143)",
          "width": 0.5
         },
         "mode": "lines",
         "type": "scatter",
         "x": [
          0.6127458712130954,
          0.6795480602530308,
          null
         ],
         "y": [
          0.44531183731933016,
          0.5181349530722674,
          null
         ]
        },
        {
         "hoverinfo": "none",
         "line": {
          "color": "rgba(0,0,255,0.24285714285714285)",
          "width": 0.5
         },
         "mode": "lines",
         "type": "scatter",
         "x": [
          -0.3255627486889658,
          -0.3255627486889658,
          null
         ],
         "y": [
          0.5691700953210147,
          0.5691700953210147,
          null
         ]
        },
        {
         "hoverinfo": "none",
         "line": {
          "color": "rgba(0,0,255,0.1)",
          "width": 0.5
         },
         "mode": "lines",
         "type": "scatter",
         "x": [
          -0.4434849993429801,
          -0.3255627486889658,
          null
         ],
         "y": [
          -0.05600785195807808,
          0.5691700953210147,
          null
         ]
        },
        {
         "hoverinfo": "none",
         "line": {
          "color": "rgba(0,0,255,0.1)",
          "width": 0.5
         },
         "mode": "lines",
         "type": "scatter",
         "x": [
          -0.4434849993429801,
          -0.5635107008650819,
          null
         ],
         "y": [
          -0.05600785195807808,
          -0.6805111361245042,
          null
         ]
        },
        {
         "hoverinfo": "none",
         "line": {
          "color": "rgba(0,0,255,0.1)",
          "width": 0.5
         },
         "mode": "lines",
         "type": "scatter",
         "x": [
          -0.2435713467663882,
          -0.3255627486889658,
          null
         ],
         "y": [
          0.5462094650429729,
          0.5691700953210147,
          null
         ]
        },
        {
         "hoverinfo": "none",
         "line": {
          "color": "rgba(0,0,255,0.1)",
          "width": 0.5
         },
         "mode": "lines",
         "type": "scatter",
         "x": [
          -0.3648281478541854,
          -0.3255627486889658,
          null
         ],
         "y": [
          0.5966515391357271,
          0.5691700953210147,
          null
         ]
        },
        {
         "hoverinfo": "none",
         "line": {
          "color": "rgba(0,0,255,0.1)",
          "width": 0.5
         },
         "mode": "lines",
         "type": "scatter",
         "x": [
          -0.26700116166692867,
          -0.3255627486889658,
          null
         ],
         "y": [
          0.6014461623795916,
          0.5691700953210147,
          null
         ]
        },
        {
         "hoverinfo": "none",
         "line": {
          "color": "rgba(0,0,255,0.1)",
          "width": 0.5
         },
         "mode": "lines",
         "type": "scatter",
         "x": [
          -0.3274858280328393,
          -0.3255627486889658,
          null
         ],
         "y": [
          0.4934710097561479,
          0.5691700953210147,
          null
         ]
        },
        {
         "hoverinfo": "none",
         "line": {
          "color": "rgba(0,0,255,0.1)",
          "width": 0.5
         },
         "mode": "lines",
         "type": "scatter",
         "x": [
          -0.37950864595233763,
          -0.3255627486889658,
          null
         ],
         "y": [
          0.6064377659558094,
          0.5691700953210147,
          null
         ]
        },
        {
         "hoverinfo": "none",
         "line": {
          "color": "rgba(0,0,255,0.1)",
          "width": 0.5
         },
         "mode": "lines",
         "type": "scatter",
         "x": [
          -0.29512111999535406,
          -0.3255627486889658,
          null
         ],
         "y": [
          0.47881030798323976,
          0.5691700953210147,
          null
         ]
        },
        {
         "hoverinfo": "none",
         "line": {
          "color": "rgba(0,0,255,0.1)",
          "width": 0.5
         },
         "mode": "lines",
         "type": "scatter",
         "x": [
          -0.22772985941727616,
          -0.3255627486889658,
          null
         ],
         "y": [
          0.5070796686364624,
          0.5691700953210147,
          null
         ]
        },
        {
         "hoverinfo": "none",
         "line": {
          "color": "rgba(0,0,255,0.1)",
          "width": 0.5
         },
         "mode": "lines",
         "type": "scatter",
         "x": [
          -0.2401524817321893,
          -0.3255627486889658,
          null
         ],
         "y": [
          0.4218604196175833,
          0.5691700953210147,
          null
         ]
        },
        {
         "hoverinfo": "none",
         "line": {
          "color": "rgba(0,0,255,0.1)",
          "width": 0.5
         },
         "mode": "lines",
         "type": "scatter",
         "x": [
          -0.23382295195031094,
          -0.3255627486889658,
          null
         ],
         "y": [
          0.4289507040392642,
          0.5691700953210147,
          null
         ]
        },
        {
         "hoverinfo": "none",
         "line": {
          "color": "rgba(0,0,255,0.1)",
          "width": 0.5
         },
         "mode": "lines",
         "type": "scatter",
         "x": [
          -0.35638172703265714,
          -0.3255627486889658,
          null
         ],
         "y": [
          0.5292469087251537,
          0.5691700953210147,
          null
         ]
        },
        {
         "hoverinfo": "none",
         "line": {
          "color": "rgba(0,0,255,0.1)",
          "width": 0.5
         },
         "mode": "lines",
         "type": "scatter",
         "x": [
          -0.28312422116840297,
          -0.3255627486889658,
          null
         ],
         "y": [
          0.4748965601062905,
          0.5691700953210147,
          null
         ]
        },
        {
         "hoverinfo": "none",
         "line": {
          "color": "rgba(0,0,255,0.1)",
          "width": 0.5
         },
         "mode": "lines",
         "type": "scatter",
         "x": [
          -0.3683602227568406,
          -0.3255627486889658,
          null
         ],
         "y": [
          0.5249790930974171,
          0.5691700953210147,
          null
         ]
        },
        {
         "hoverinfo": "none",
         "line": {
          "color": "rgba(0,0,255,0.1)",
          "width": 0.5
         },
         "mode": "lines",
         "type": "scatter",
         "x": [
          -0.26135262140535365,
          -0.3255627486889658,
          null
         ],
         "y": [
          0.5332794070369642,
          0.5691700953210147,
          null
         ]
        },
        {
         "hoverinfo": "none",
         "line": {
          "color": "rgba(0,0,255,0.1)",
          "width": 0.5
         },
         "mode": "lines",
         "type": "scatter",
         "x": [
          -0.3079398747181694,
          -0.3255627486889658,
          null
         ],
         "y": [
          0.4859048470846817,
          0.5691700953210147,
          null
         ]
        },
        {
         "hoverinfo": "none",
         "line": {
          "color": "rgba(0,0,255,0.1)",
          "width": 0.5
         },
         "mode": "lines",
         "type": "scatter",
         "x": [
          -0.23440824765148918,
          -0.3255627486889658,
          null
         ],
         "y": [
          0.4943140532303255,
          0.5691700953210147,
          null
         ]
        },
        {
         "hoverinfo": "none",
         "line": {
          "color": "rgba(0,0,255,0.1)",
          "width": 0.5
         },
         "mode": "lines",
         "type": "scatter",
         "x": [
          -0.26447723790826594,
          -0.3255627486889658,
          null
         ],
         "y": [
          0.5671722469868418,
          0.5691700953210147,
          null
         ]
        },
        {
         "hoverinfo": "none",
         "line": {
          "color": "rgba(0,0,255,0.1)",
          "width": 0.5
         },
         "mode": "lines",
         "type": "scatter",
         "x": [
          -0.2888854178782356,
          -0.3255627486889658,
          null
         ],
         "y": [
          0.5280786628263497,
          0.5691700953210147,
          null
         ]
        },
        {
         "hoverinfo": "none",
         "line": {
          "color": "rgba(0,0,255,0.1)",
          "width": 0.5
         },
         "mode": "lines",
         "type": "scatter",
         "x": [
          -0.2708315965307912,
          -0.3255627486889658,
          null
         ],
         "y": [
          0.5060589922676838,
          0.5691700953210147,
          null
         ]
        },
        {
         "hoverinfo": "none",
         "line": {
          "color": "rgba(0,0,255,0.1)",
          "width": 0.5
         },
         "mode": "lines",
         "type": "scatter",
         "x": [
          -0.270032534066084,
          -0.3255627486889658,
          null
         ],
         "y": [
          0.4712687419172821,
          0.5691700953210147,
          null
         ]
        },
        {
         "hoverinfo": "none",
         "line": {
          "color": "rgba(0,0,255,0.1)",
          "width": 0.5
         },
         "mode": "lines",
         "type": "scatter",
         "x": [
          -0.2913259607568438,
          -0.3255627486889658,
          null
         ],
         "y": [
          0.6168814500936841,
          0.5691700953210147,
          null
         ]
        },
        {
         "hoverinfo": "none",
         "line": {
          "color": "rgba(0,0,255,0.1)",
          "width": 0.5
         },
         "mode": "lines",
         "type": "scatter",
         "x": [
          -0.21130483193519692,
          -0.3255627486889658,
          null
         ],
         "y": [
          0.4125582150846297,
          0.5691700953210147,
          null
         ]
        },
        {
         "hoverinfo": "none",
         "line": {
          "color": "rgba(0,0,255,0.1)",
          "width": 0.5
         },
         "mode": "lines",
         "type": "scatter",
         "x": [
          -0.37802054526944984,
          -0.3255627486889658,
          null
         ],
         "y": [
          0.5474026851925603,
          0.5691700953210147,
          null
         ]
        },
        {
         "hoverinfo": "none",
         "line": {
          "color": "rgba(0,0,255,0.1)",
          "width": 0.5
         },
         "mode": "lines",
         "type": "scatter",
         "x": [
          -0.32081771304530715,
          -0.3255627486889658,
          null
         ],
         "y": [
          0.5116199282146151,
          0.5691700953210147,
          null
         ]
        },
        {
         "hoverinfo": "none",
         "line": {
          "color": "rgba(0,0,255,0.1)",
          "width": 0.5
         },
         "mode": "lines",
         "type": "scatter",
         "x": [
          -0.3281436694466519,
          -0.3255627486889658,
          null
         ],
         "y": [
          0.5296775969943206,
          0.5691700953210147,
          null
         ]
        },
        {
         "hoverinfo": "none",
         "line": {
          "color": "rgba(0,0,255,0.17142857142857143)",
          "width": 0.5
         },
         "mode": "lines",
         "type": "scatter",
         "x": [
          -0.3499160828683401,
          -0.3255627486889658,
          null
         ],
         "y": [
          0.5506731388735794,
          0.5691700953210147,
          null
         ]
        },
        {
         "hoverinfo": "none",
         "line": {
          "color": "rgba(0,0,255,0.1)",
          "width": 0.5
         },
         "mode": "lines",
         "type": "scatter",
         "x": [
          -0.3513540041885871,
          -0.3255627486889658,
          null
         ],
         "y": [
          0.625191630291784,
          0.5691700953210147,
          null
         ]
        },
        {
         "hoverinfo": "none",
         "line": {
          "color": "rgba(0,0,255,0.1)",
          "width": 0.5
         },
         "mode": "lines",
         "type": "scatter",
         "x": [
          -0.28247550055354137,
          -0.3255627486889658,
          null
         ],
         "y": [
          0.6073921182043152,
          0.5691700953210147,
          null
         ]
        },
        {
         "hoverinfo": "none",
         "line": {
          "color": "rgba(0,0,255,0.1)",
          "width": 0.5
         },
         "mode": "lines",
         "type": "scatter",
         "x": [
          -0.23699187276398384,
          -0.3255627486889658,
          null
         ],
         "y": [
          0.5157616834118446,
          0.5691700953210147,
          null
         ]
        },
        {
         "hoverinfo": "none",
         "line": {
          "color": "rgba(0,0,255,0.1)",
          "width": 0.5
         },
         "mode": "lines",
         "type": "scatter",
         "x": [
          -0.20159137064735336,
          -0.3255627486889658,
          null
         ],
         "y": [
          0.4001323181153277,
          0.5691700953210147,
          null
         ]
        },
        {
         "hoverinfo": "none",
         "line": {
          "color": "rgba(0,0,255,0.1)",
          "width": 0.5
         },
         "mode": "lines",
         "type": "scatter",
         "x": [
          -0.3400229674633977,
          -0.3255627486889658,
          null
         ],
         "y": [
          0.614093444038278,
          0.5691700953210147,
          null
         ]
        },
        {
         "hoverinfo": "none",
         "line": {
          "color": "rgba(0,0,255,0.1)",
          "width": 0.5
         },
         "mode": "lines",
         "type": "scatter",
         "x": [
          -0.3751663366725097,
          -0.3255627486889658,
          null
         ],
         "y": [
          0.5619307138961674,
          0.5691700953210147,
          null
         ]
        },
        {
         "hoverinfo": "none",
         "line": {
          "color": "rgba(0,0,255,0.1)",
          "width": 0.5
         },
         "mode": "lines",
         "type": "scatter",
         "x": [
          -0.24954517309617907,
          -0.3255627486889658,
          null
         ],
         "y": [
          0.5789069326785897,
          0.5691700953210147,
          null
         ]
        },
        {
         "hoverinfo": "none",
         "line": {
          "color": "rgba(0,0,255,0.1)",
          "width": 0.5
         },
         "mode": "lines",
         "type": "scatter",
         "x": [
          -0.213948356636603,
          -0.3255627486889658,
          null
         ],
         "y": [
          0.46410291978385687,
          0.5691700953210147,
          null
         ]
        },
        {
         "hoverinfo": "none",
         "line": {
          "color": "rgba(0,0,255,0.1)",
          "width": 0.5
         },
         "mode": "lines",
         "type": "scatter",
         "x": [
          -0.36730088693509017,
          -0.3255627486889658,
          null
         ],
         "y": [
          0.620670606941668,
          0.5691700953210147,
          null
         ]
        },
        {
         "hoverinfo": "none",
         "line": {
          "color": "rgba(0,0,255,0.1)",
          "width": 0.5
         },
         "mode": "lines",
         "type": "scatter",
         "x": [
          -0.24340925445940798,
          -0.3255627486889658,
          null
         ],
         "y": [
          0.5012636405257129,
          0.5691700953210147,
          null
         ]
        },
        {
         "hoverinfo": "none",
         "line": {
          "color": "rgba(0,0,255,0.1)",
          "width": 0.5
         },
         "mode": "lines",
         "type": "scatter",
         "x": [
          -0.20749147521427727,
          -0.3255627486889658,
          null
         ],
         "y": [
          0.4258674980946378,
          0.5691700953210147,
          null
         ]
        },
        {
         "hoverinfo": "none",
         "line": {
          "color": "rgba(0,0,255,0.1)",
          "width": 0.5
         },
         "mode": "lines",
         "type": "scatter",
         "x": [
          -0.25349726684640633,
          -0.3255627486889658,
          null
         ],
         "y": [
          0.49384918679139195,
          0.5691700953210147,
          null
         ]
        },
        {
         "hoverinfo": "none",
         "line": {
          "color": "rgba(0,0,255,0.1)",
          "width": 0.5
         },
         "mode": "lines",
         "type": "scatter",
         "x": [
          -0.24530978842831605,
          -0.3255627486889658,
          null
         ],
         "y": [
          0.5296715043272759,
          0.5691700953210147,
          null
         ]
        },
        {
         "hoverinfo": "none",
         "line": {
          "color": "rgba(0,0,255,0.1)",
          "width": 0.5
         },
         "mode": "lines",
         "type": "scatter",
         "x": [
          -0.2554955451634762,
          -0.3255627486889658,
          null
         ],
         "y": [
          0.46638463220089027,
          0.5691700953210147,
          null
         ]
        },
        {
         "hoverinfo": "none",
         "line": {
          "color": "rgba(0,0,255,0.1)",
          "width": 0.5
         },
         "mode": "lines",
         "type": "scatter",
         "x": [
          -0.23876800667474055,
          -0.3255627486889658,
          null
         ],
         "y": [
          0.47578462735176713,
          0.5691700953210147,
          null
         ]
        },
        {
         "hoverinfo": "none",
         "line": {
          "color": "rgba(0,0,255,0.1)",
          "width": 0.5
         },
         "mode": "lines",
         "type": "scatter",
         "x": [
          -0.33414207657995576,
          -0.3255627486889658,
          null
         ],
         "y": [
          0.5044843974648592,
          0.5691700953210147,
          null
         ]
        },
        {
         "hoverinfo": "none",
         "line": {
          "color": "rgba(0,0,255,0.1)",
          "width": 0.5
         },
         "mode": "lines",
         "type": "scatter",
         "x": [
          -0.2874227567933295,
          -0.3255627486889658,
          null
         ],
         "y": [
          0.5486574517511718,
          0.5691700953210147,
          null
         ]
        },
        {
         "hoverinfo": "none",
         "line": {
          "color": "rgba(0,0,255,0.1)",
          "width": 0.5
         },
         "mode": "lines",
         "type": "scatter",
         "x": [
          -0.21771859849912995,
          -0.3255627486889658,
          null
         ],
         "y": [
          0.41854931724868955,
          0.5691700953210147,
          null
         ]
        },
        {
         "hoverinfo": "none",
         "line": {
          "color": "rgba(0,0,255,0.1)",
          "width": 0.5
         },
         "mode": "lines",
         "type": "scatter",
         "x": [
          -0.18429054761741115,
          -0.3255627486889658,
          null
         ],
         "y": [
          0.39034983349528635,
          0.5691700953210147,
          null
         ]
        },
        {
         "hoverinfo": "none",
         "line": {
          "color": "rgba(0,0,255,0.1)",
          "width": 0.5
         },
         "mode": "lines",
         "type": "scatter",
         "x": [
          -0.2719884772948847,
          -0.3255627486889658,
          null
         ],
         "y": [
          0.5840306847316874,
          0.5691700953210147,
          null
         ]
        },
        {
         "hoverinfo": "none",
         "line": {
          "color": "rgba(0,0,255,0.1)",
          "width": 0.5
         },
         "mode": "lines",
         "type": "scatter",
         "x": [
          -0.25485101670360705,
          -0.3255627486889658,
          null
         ],
         "y": [
          0.44345992009859503,
          0.5691700953210147,
          null
         ]
        },
        {
         "hoverinfo": "none",
         "line": {
          "color": "rgba(0,0,255,0.1)",
          "width": 0.5
         },
         "mode": "lines",
         "type": "scatter",
         "x": [
          -0.2913277497543107,
          -0.3255627486889658,
          null
         ],
         "y": [
          0.5818749365926461,
          0.5691700953210147,
          null
         ]
        },
        {
         "hoverinfo": "none",
         "line": {
          "color": "rgba(0,0,255,0.1)",
          "width": 0.5
         },
         "mode": "lines",
         "type": "scatter",
         "x": [
          -0.24476886942934895,
          -0.3255627486889658,
          null
         ],
         "y": [
          0.4549187663101609,
          0.5691700953210147,
          null
         ]
        },
        {
         "hoverinfo": "none",
         "line": {
          "color": "rgba(0,0,255,0.1)",
          "width": 0.5
         },
         "mode": "lines",
         "type": "scatter",
         "x": [
          -0.20164965075345923,
          -0.3255627486889658,
          null
         ],
         "y": [
          0.4342292501882568,
          0.5691700953210147,
          null
         ]
        },
        {
         "hoverinfo": "none",
         "line": {
          "color": "rgba(0,0,255,0.1)",
          "width": 0.5
         },
         "mode": "lines",
         "type": "scatter",
         "x": [
          -0.25259263800258325,
          -0.3255627486889658,
          null
         ],
         "y": [
          0.48007505816748686,
          0.5691700953210147,
          null
         ]
        },
        {
         "hoverinfo": "none",
         "line": {
          "color": "rgba(0,0,255,0.1)",
          "width": 0.5
         },
         "mode": "lines",
         "type": "scatter",
         "x": [
          -0.19285360776410101,
          -0.3255627486889658,
          null
         ],
         "y": [
          0.39823518466772706,
          0.5691700953210147,
          null
         ]
        },
        {
         "hoverinfo": "none",
         "line": {
          "color": "rgba(0,0,255,0.1)",
          "width": 0.5
         },
         "mode": "lines",
         "type": "scatter",
         "x": [
          -0.3600280780558659,
          -0.3255627486889658,
          null
         ],
         "y": [
          0.5702011914816029,
          0.5691700953210147,
          null
         ]
        },
        {
         "hoverinfo": "none",
         "line": {
          "color": "rgba(0,0,255,0.1)",
          "width": 0.5
         },
         "mode": "lines",
         "type": "scatter",
         "x": [
          -0.34682725593783365,
          -0.3255627486889658,
          null
         ],
         "y": [
          0.502228124340601,
          0.5691700953210147,
          null
         ]
        },
        {
         "hoverinfo": "none",
         "line": {
          "color": "rgba(0,0,255,0.1)",
          "width": 0.5
         },
         "mode": "lines",
         "type": "scatter",
         "x": [
          -0.2676446077823402,
          -0.3255627486889658,
          null
         ],
         "y": [
          0.5559928461612075,
          0.5691700953210147,
          null
         ]
        },
        {
         "hoverinfo": "none",
         "line": {
          "color": "rgba(0,0,255,0.1)",
          "width": 0.5
         },
         "mode": "lines",
         "type": "scatter",
         "x": [
          -0.277269342820492,
          -0.3255627486889658,
          null
         ],
         "y": [
          0.618636495420364,
          0.5691700953210147,
          null
         ]
        },
        {
         "hoverinfo": "none",
         "line": {
          "color": "rgba(0,0,255,0.1)",
          "width": 0.5
         },
         "mode": "lines",
         "type": "scatter",
         "x": [
          -0.25985794467781265,
          -0.3255627486889658,
          null
         ],
         "y": [
          0.5794346568188443,
          0.5691700953210147,
          null
         ]
        },
        {
         "hoverinfo": "none",
         "line": {
          "color": "rgba(0,0,255,0.1)",
          "width": 0.5
         },
         "mode": "lines",
         "type": "scatter",
         "x": [
          -0.34481249201564806,
          -0.3255627486889658,
          null
         ],
         "y": [
          0.5601431977655805,
          0.5691700953210147,
          null
         ]
        },
        {
         "hoverinfo": "none",
         "line": {
          "color": "rgba(0,0,255,0.1)",
          "width": 0.5
         },
         "mode": "lines",
         "type": "scatter",
         "x": [
          -0.30793016312659677,
          -0.3255627486889658,
          null
         ],
         "y": [
          0.5074425242710497,
          0.5691700953210147,
          null
         ]
        },
        {
         "hoverinfo": "none",
         "line": {
          "color": "rgba(0,0,255,0.17142857142857143)",
          "width": 0.5
         },
         "mode": "lines",
         "type": "scatter",
         "x": [
          -0.3083559640545524,
          -0.3255627486889658,
          null
         ],
         "y": [
          0.5692894847955601,
          0.5691700953210147,
          null
         ]
        },
        {
         "hoverinfo": "none",
         "line": {
          "color": "rgba(0,0,255,0.1)",
          "width": 0.5
         },
         "mode": "lines",
         "type": "scatter",
         "x": [
          -0.33201307113335976,
          -0.3255627486889658,
          null
         ],
         "y": [
          0.6304288167969494,
          0.5691700953210147,
          null
         ]
        },
        {
         "hoverinfo": "none",
         "line": {
          "color": "rgba(0,0,255,0.1)",
          "width": 0.5
         },
         "mode": "lines",
         "type": "scatter",
         "x": [
          -0.280102217644692,
          -0.3255627486889658,
          null
         ],
         "y": [
          0.4540373211185876,
          0.5691700953210147,
          null
         ]
        },
        {
         "hoverinfo": "none",
         "line": {
          "color": "rgba(0,0,255,0.1)",
          "width": 0.5
         },
         "mode": "lines",
         "type": "scatter",
         "x": [
          -0.2213605712775522,
          -0.3255627486889658,
          null
         ],
         "y": [
          0.45555549668939216,
          0.5691700953210147,
          null
         ]
        },
        {
         "hoverinfo": "none",
         "line": {
          "color": "rgba(0,0,255,0.1)",
          "width": 0.5
         },
         "mode": "lines",
         "type": "scatter",
         "x": [
          -0.2691176243922654,
          -0.3255627486889658,
          null
         ],
         "y": [
          0.45837981358975194,
          0.5691700953210147,
          null
         ]
        },
        {
         "hoverinfo": "none",
         "line": {
          "color": "rgba(0,0,255,0.1)",
          "width": 0.5
         },
         "mode": "lines",
         "type": "scatter",
         "x": [
          -0.2676387185179441,
          -0.3255627486889658,
          null
         ],
         "y": [
          0.48666439531064426,
          0.5691700953210147,
          null
         ]
        },
        {
         "hoverinfo": "none",
         "line": {
          "color": "rgba(0,0,255,0.1)",
          "width": 0.5
         },
         "mode": "lines",
         "type": "scatter",
         "x": [
          -0.2974637431122788,
          -0.3255627486889658,
          null
         ],
         "y": [
          0.5171827199499276,
          0.5691700953210147,
          null
         ]
        },
        {
         "hoverinfo": "none",
         "line": {
          "color": "rgba(0,0,255,0.1)",
          "width": 0.5
         },
         "mode": "lines",
         "type": "scatter",
         "x": [
          -0.22687729615798216,
          -0.3255627486889658,
          null
         ],
         "y": [
          0.43676973990752876,
          0.5691700953210147,
          null
         ]
        },
        {
         "hoverinfo": "none",
         "line": {
          "color": "rgba(0,0,255,0.1)",
          "width": 0.5
         },
         "mode": "lines",
         "type": "scatter",
         "x": [
          -0.22330699775540735,
          -0.3255627486889658,
          null
         ],
         "y": [
          0.47725473099475574,
          0.5691700953210147,
          null
         ]
        },
        {
         "hoverinfo": "none",
         "line": {
          "color": "rgba(0,0,255,0.1)",
          "width": 0.5
         },
         "mode": "lines",
         "type": "scatter",
         "x": [
          -0.2934029192294529,
          -0.3255627486889658,
          null
         ],
         "y": [
          0.6072065458078002,
          0.5691700953210147,
          null
         ]
        },
        {
         "hoverinfo": "none",
         "line": {
          "color": "rgba(0,0,255,0.1)",
          "width": 0.5
         },
         "mode": "lines",
         "type": "scatter",
         "x": [
          -0.23002399549586455,
          -0.3255627486889658,
          null
         ],
         "y": [
          0.446709882019343,
          0.5691700953210147,
          null
         ]
        },
        {
         "hoverinfo": "none",
         "line": {
          "color": "rgba(0,0,255,0.1)",
          "width": 0.5
         },
         "mode": "lines",
         "type": "scatter",
         "x": [
          -0.27487526413311075,
          -0.3255627486889658,
          null
         ],
         "y": [
          0.5389081687483281,
          0.5691700953210147,
          null
         ]
        },
        {
         "hoverinfo": "none",
         "line": {
          "color": "rgba(0,0,255,0.1)",
          "width": 0.5
         },
         "mode": "lines",
         "type": "scatter",
         "x": [
          -0.21414601736158376,
          -0.3255627486889658,
          null
         ],
         "y": [
          0.40168156003204003,
          0.5691700953210147,
          null
         ]
        },
        {
         "hoverinfo": "none",
         "line": {
          "color": "rgba(0,0,255,0.1)",
          "width": 0.5
         },
         "mode": "lines",
         "type": "scatter",
         "x": [
          -0.21265867316210993,
          -0.3255627486889658,
          null
         ],
         "y": [
          0.4434016011918702,
          0.5691700953210147,
          null
         ]
        },
        {
         "hoverinfo": "none",
         "line": {
          "color": "rgba(0,0,255,0.1)",
          "width": 0.5
         },
         "mode": "lines",
         "type": "scatter",
         "x": [
          0.2298323805166955,
          0.9255394028344679,
          null
         ],
         "y": [
          -0.28184349367967193,
          0.28749916063984005,
          null
         ]
        },
        {
         "hoverinfo": "none",
         "line": {
          "color": "rgba(0,0,255,0.1)",
          "width": 0.5
         },
         "mode": "lines",
         "type": "scatter",
         "x": [
          0.2298323805166955,
          0.6879247755234068,
          null
         ],
         "y": [
          -0.28184349367967193,
          0.5922688577631033,
          null
         ]
        },
        {
         "hoverinfo": "none",
         "line": {
          "color": "rgba(0,0,255,0.1)",
          "width": 0.5
         },
         "mode": "lines",
         "type": "scatter",
         "x": [
          0.2298323805166955,
          -0.7139256408372965,
          null
         ],
         "y": [
          -0.28184349367967193,
          -0.18820777119109697,
          null
         ]
        },
        {
         "hoverinfo": "none",
         "line": {
          "color": "rgba(0,0,255,0.1)",
          "width": 0.5
         },
         "mode": "lines",
         "type": "scatter",
         "x": [
          0.2298323805166955,
          0.7194771116139637,
          null
         ],
         "y": [
          -0.28184349367967193,
          -0.5185173611930844,
          null
         ]
        },
        {
         "hoverinfo": "none",
         "line": {
          "color": "rgba(0,0,255,0.1)",
          "width": 0.5
         },
         "mode": "lines",
         "type": "scatter",
         "x": [
          0.2298323805166955,
          -0.05954295325889192,
          null
         ],
         "y": [
          -0.28184349367967193,
          -0.8778176585588037,
          null
         ]
        },
        {
         "hoverinfo": "none",
         "line": {
          "color": "rgba(0,0,255,0.17142857142857143)",
          "width": 0.5
         },
         "mode": "lines",
         "type": "scatter",
         "x": [
          0.2298323805166955,
          0.9179836820053203,
          null
         ],
         "y": [
          -0.28184349367967193,
          -0.5113452761078161,
          null
         ]
        },
        {
         "hoverinfo": "none",
         "line": {
          "color": "rgba(0,0,255,0.3142857142857143)",
          "width": 0.5
         },
         "mode": "lines",
         "type": "scatter",
         "x": [
          0.2298323805166955,
          0.1646453154966068,
          null
         ],
         "y": [
          -0.28184349367967193,
          -0.32387581066542553,
          null
         ]
        },
        {
         "hoverinfo": "none",
         "line": {
          "color": "rgba(0,0,255,0.1)",
          "width": 0.5
         },
         "mode": "lines",
         "type": "scatter",
         "x": [
          0.2298323805166955,
          0.12102201292419396,
          null
         ],
         "y": [
          -0.28184349367967193,
          -1,
          null
         ]
        },
        {
         "hoverinfo": "none",
         "line": {
          "color": "rgba(0,0,255,0.1)",
          "width": 0.5
         },
         "mode": "lines",
         "type": "scatter",
         "x": [
          0.2298323805166955,
          -0.706433878915072,
          null
         ],
         "y": [
          -0.28184349367967193,
          -0.43883194840246514,
          null
         ]
        },
        {
         "hoverinfo": "none",
         "line": {
          "color": "rgba(0,0,255,0.1)",
          "width": 0.5
         },
         "mode": "lines",
         "type": "scatter",
         "x": [
          0.2298323805166955,
          0.9444920466434416,
          null
         ],
         "y": [
          -0.28184349367967193,
          -0.21798449608508366,
          null
         ]
        },
        {
         "hoverinfo": "none",
         "line": {
          "color": "rgba(0,0,255,0.1)",
          "width": 0.5
         },
         "mode": "lines",
         "type": "scatter",
         "x": [
          0.2298323805166955,
          -0.7183163607107037,
          null
         ],
         "y": [
          -0.28184349367967193,
          0.2663630517552909,
          null
         ]
        },
        {
         "hoverinfo": "none",
         "line": {
          "color": "rgba(0,0,255,0.17142857142857143)",
          "width": 0.5
         },
         "mode": "lines",
         "type": "scatter",
         "x": [
          0.2298323805166955,
          -0.5635107008650819,
          null
         ],
         "y": [
          -0.28184349367967193,
          -0.6805111361245042,
          null
         ]
        },
        {
         "hoverinfo": "none",
         "line": {
          "color": "rgba(0,0,255,0.1)",
          "width": 0.5
         },
         "mode": "lines",
         "type": "scatter",
         "x": [
          0.2298323805166955,
          0.5390093764259318,
          null
         ],
         "y": [
          -0.28184349367967193,
          0.5492462705891169,
          null
         ]
        },
        {
         "hoverinfo": "none",
         "line": {
          "color": "rgba(0,0,255,0.24285714285714285)",
          "width": 0.5
         },
         "mode": "lines",
         "type": "scatter",
         "x": [
          0.2298323805166955,
          0.8766793169329261,
          null
         ],
         "y": [
          -0.28184349367967193,
          -0.5990262283698223,
          null
         ]
        },
        {
         "hoverinfo": "none",
         "line": {
          "color": "rgba(0,0,255,0.17142857142857143)",
          "width": 0.5
         },
         "mode": "lines",
         "type": "scatter",
         "x": [
          0.2298323805166955,
          -0.5087690471246665,
          null
         ],
         "y": [
          -0.28184349367967193,
          -0.6608731791284745,
          null
         ]
        },
        {
         "hoverinfo": "none",
         "line": {
          "color": "rgba(0,0,255,0.17142857142857143)",
          "width": 0.5
         },
         "mode": "lines",
         "type": "scatter",
         "x": [
          0.2298323805166955,
          0.9665595046179497,
          null
         ],
         "y": [
          -0.28184349367967193,
          0.03676258552199078,
          null
         ]
        },
        {
         "hoverinfo": "none",
         "line": {
          "color": "rgba(0,0,255,0.1)",
          "width": 0.5
         },
         "mode": "lines",
         "type": "scatter",
         "x": [
          0.2298323805166955,
          0.9338210296988281,
          null
         ],
         "y": [
          -0.28184349367967193,
          0.10273115465504451,
          null
         ]
        },
        {
         "hoverinfo": "none",
         "line": {
          "color": "rgba(0,0,255,0.1)",
          "width": 0.5
         },
         "mode": "lines",
         "type": "scatter",
         "x": [
          0.2298323805166955,
          0.8449799295579185,
          null
         ],
         "y": [
          -0.28184349367967193,
          -0.3675627306898136,
          null
         ]
        },
        {
         "hoverinfo": "none",
         "line": {
          "color": "rgba(0,0,255,0.1)",
          "width": 0.5
         },
         "mode": "lines",
         "type": "scatter",
         "x": [
          0.2298323805166955,
          -0.7133792616020025,
          null
         ],
         "y": [
          -0.28184349367967193,
          -0.33015514270132024,
          null
         ]
        },
        {
         "hoverinfo": "none",
         "line": {
          "color": "rgba(0,0,255,0.1)",
          "width": 0.5
         },
         "mode": "lines",
         "type": "scatter",
         "x": [
          0.4927897602820021,
          0.474698289970176,
          null
         ],
         "y": [
          -0.7921807193064694,
          -0.7717249811867793,
          null
         ]
        },
        {
         "hoverinfo": "none",
         "line": {
          "color": "rgba(0,0,255,0.1)",
          "width": 0.5
         },
         "mode": "lines",
         "type": "scatter",
         "x": [
          0.1646453154966068,
          0.474698289970176,
          null
         ],
         "y": [
          -0.32387581066542553,
          -0.7717249811867793,
          null
         ]
        },
        {
         "hoverinfo": "none",
         "line": {
          "color": "rgba(0,0,255,0.1)",
          "width": 0.5
         },
         "mode": "lines",
         "type": "scatter",
         "x": [
          0.1646453154966068,
          0.7194771116139637,
          null
         ],
         "y": [
          -0.32387581066542553,
          -0.5185173611930844,
          null
         ]
        },
        {
         "hoverinfo": "none",
         "line": {
          "color": "rgba(0,0,255,0.1)",
          "width": 0.5
         },
         "mode": "lines",
         "type": "scatter",
         "x": [
          0.1646453154966068,
          0.2543877254821752,
          null
         ],
         "y": [
          -0.32387581066542553,
          -0.8669318547665908,
          null
         ]
        },
        {
         "hoverinfo": "none",
         "line": {
          "color": "rgba(0,0,255,0.1)",
          "width": 0.5
         },
         "mode": "lines",
         "type": "scatter",
         "x": [
          0.1646453154966068,
          0.3678021806348907,
          null
         ],
         "y": [
          -0.32387581066542553,
          -0.8670966384302418,
          null
         ]
        },
        {
         "hoverinfo": "none",
         "line": {
          "color": "rgba(0,0,255,0.1)",
          "width": 0.5
         },
         "mode": "lines",
         "type": "scatter",
         "x": [
          0.1646453154966068,
          0.4401029618555081,
          null
         ],
         "y": [
          -0.32387581066542553,
          0.6688286850948347,
          null
         ]
        },
        {
         "hoverinfo": "none",
         "line": {
          "color": "rgba(0,0,255,0.1)",
          "width": 0.5
         },
         "mode": "lines",
         "type": "scatter",
         "x": [
          0.1646453154966068,
          -0.05954295325889192,
          null
         ],
         "y": [
          -0.32387581066542553,
          -0.8778176585588037,
          null
         ]
        },
        {
         "hoverinfo": "none",
         "line": {
          "color": "rgba(0,0,255,0.24285714285714285)",
          "width": 0.5
         },
         "mode": "lines",
         "type": "scatter",
         "x": [
          0.1646453154966068,
          0.15596097700495226,
          null
         ],
         "y": [
          -0.32387581066542553,
          -0.5960452528963717,
          null
         ]
        },
        {
         "hoverinfo": "none",
         "line": {
          "color": "rgba(0,0,255,0.1)",
          "width": 0.5
         },
         "mode": "lines",
         "type": "scatter",
         "x": [
          0.1646453154966068,
          -0.2225166710568047,
          null
         ],
         "y": [
          -0.32387581066542553,
          -0.9275903180540116,
          null
         ]
        },
        {
         "hoverinfo": "none",
         "line": {
          "color": "rgba(0,0,255,1.1)",
          "width": 0.5
         },
         "mode": "lines",
         "type": "scatter",
         "x": [
          0.1646453154966068,
          0.1646453154966068,
          null
         ],
         "y": [
          -0.32387581066542553,
          -0.32387581066542553,
          null
         ]
        },
        {
         "hoverinfo": "none",
         "line": {
          "color": "rgba(0,0,255,0.1)",
          "width": 0.5
         },
         "mode": "lines",
         "type": "scatter",
         "x": [
          0.1646453154966068,
          0.532095836601452,
          null
         ],
         "y": [
          -0.32387581066542553,
          -0.810502724745146,
          null
         ]
        },
        {
         "hoverinfo": "none",
         "line": {
          "color": "rgba(0,0,255,0.1)",
          "width": 0.5
         },
         "mode": "lines",
         "type": "scatter",
         "x": [
          0.1646453154966068,
          0.7651742016983081,
          null
         ],
         "y": [
          -0.32387581066542553,
          -0.7613460075705653,
          null
         ]
        },
        {
         "hoverinfo": "none",
         "line": {
          "color": "rgba(0,0,255,0.1)",
          "width": 0.5
         },
         "mode": "lines",
         "type": "scatter",
         "x": [
          0.1646453154966068,
          0.12102201292419396,
          null
         ],
         "y": [
          -0.32387581066542553,
          -1,
          null
         ]
        },
        {
         "hoverinfo": "none",
         "line": {
          "color": "rgba(0,0,255,0.1)",
          "width": 0.5
         },
         "mode": "lines",
         "type": "scatter",
         "x": [
          0.1646453154966068,
          -0.706433878915072,
          null
         ],
         "y": [
          -0.32387581066542553,
          -0.43883194840246514,
          null
         ]
        },
        {
         "hoverinfo": "none",
         "line": {
          "color": "rgba(0,0,255,0.1)",
          "width": 0.5
         },
         "mode": "lines",
         "type": "scatter",
         "x": [
          0.1646453154966068,
          0.9727202926617136,
          null
         ],
         "y": [
          -0.32387581066542553,
          0.13853601728284012,
          null
         ]
        },
        {
         "hoverinfo": "none",
         "line": {
          "color": "rgba(0,0,255,0.1)",
          "width": 0.5
         },
         "mode": "lines",
         "type": "scatter",
         "x": [
          0.1646453154966068,
          0.9444920466434416,
          null
         ],
         "y": [
          -0.32387581066542553,
          -0.21798449608508366,
          null
         ]
        },
        {
         "hoverinfo": "none",
         "line": {
          "color": "rgba(0,0,255,0.1)",
          "width": 0.5
         },
         "mode": "lines",
         "type": "scatter",
         "x": [
          0.1646453154966068,
          0.4904084396970068,
          null
         ],
         "y": [
          -0.32387581066542553,
          0.6061341509321366,
          null
         ]
        },
        {
         "hoverinfo": "none",
         "line": {
          "color": "rgba(0,0,255,0.1)",
          "width": 0.5
         },
         "mode": "lines",
         "type": "scatter",
         "x": [
          0.1646453154966068,
          -0.7183163607107037,
          null
         ],
         "y": [
          -0.32387581066542553,
          0.2663630517552909,
          null
         ]
        },
        {
         "hoverinfo": "none",
         "line": {
          "color": "rgba(0,0,255,0.1)",
          "width": 0.5
         },
         "mode": "lines",
         "type": "scatter",
         "x": [
          0.1646453154966068,
          -0.7560087601970051,
          null
         ],
         "y": [
          -0.32387581066542553,
          -0.26312500432687197,
          null
         ]
        },
        {
         "hoverinfo": "none",
         "line": {
          "color": "rgba(0,0,255,0.1)",
          "width": 0.5
         },
         "mode": "lines",
         "type": "scatter",
         "x": [
          0.1646453154966068,
          0.8986851340843501,
          null
         ],
         "y": [
          -0.32387581066542553,
          -0.29222155013595164,
          null
         ]
        },
        {
         "hoverinfo": "none",
         "line": {
          "color": "rgba(0,0,255,0.1)",
          "width": 0.5
         },
         "mode": "lines",
         "type": "scatter",
         "x": [
          0.1646453154966068,
          -0.6238088800981461,
          null
         ],
         "y": [
          -0.32387581066542553,
          -0.47041378598148875,
          null
         ]
        },
        {
         "hoverinfo": "none",
         "line": {
          "color": "rgba(0,0,255,0.1)",
          "width": 0.5
         },
         "mode": "lines",
         "type": "scatter",
         "x": [
          0.1646453154966068,
          -0.6708676194055986,
          null
         ],
         "y": [
          -0.32387581066542553,
          0.25938902732556096,
          null
         ]
        },
        {
         "hoverinfo": "none",
         "line": {
          "color": "rgba(0,0,255,0.24285714285714285)",
          "width": 0.5
         },
         "mode": "lines",
         "type": "scatter",
         "x": [
          0.1646453154966068,
          0.8766793169329261,
          null
         ],
         "y": [
          -0.32387581066542553,
          -0.5990262283698223,
          null
         ]
        },
        {
         "hoverinfo": "none",
         "line": {
          "color": "rgba(0,0,255,0.1)",
          "width": 0.5
         },
         "mode": "lines",
         "type": "scatter",
         "x": [
          0.1646453154966068,
          -0.6445561647306692,
          null
         ],
         "y": [
          -0.32387581066542553,
          0.3942285667916583,
          null
         ]
        },
        {
         "hoverinfo": "none",
         "line": {
          "color": "rgba(0,0,255,0.1)",
          "width": 0.5
         },
         "mode": "lines",
         "type": "scatter",
         "x": [
          0.1646453154966068,
          0.8082382293998813,
          null
         ],
         "y": [
          -0.32387581066542553,
          -0.6375012065522917,
          null
         ]
        },
        {
         "hoverinfo": "none",
         "line": {
          "color": "rgba(0,0,255,0.17142857142857143)",
          "width": 0.5
         },
         "mode": "lines",
         "type": "scatter",
         "x": [
          0.1646453154966068,
          -0.5087690471246665,
          null
         ],
         "y": [
          -0.32387581066542553,
          -0.6608731791284745,
          null
         ]
        },
        {
         "hoverinfo": "none",
         "line": {
          "color": "rgba(0,0,255,0.1)",
          "width": 0.5
         },
         "mode": "lines",
         "type": "scatter",
         "x": [
          0.1646453154966068,
          0.9179836820053203,
          null
         ],
         "y": [
          -0.32387581066542553,
          -0.5113452761078161,
          null
         ]
        },
        {
         "hoverinfo": "none",
         "line": {
          "color": "rgba(0,0,255,0.1)",
          "width": 0.5
         },
         "mode": "lines",
         "type": "scatter",
         "x": [
          0.1646453154966068,
          -0.5062110950116462,
          null
         ],
         "y": [
          -0.32387581066542553,
          0.3845517541646798,
          null
         ]
        },
        {
         "hoverinfo": "none",
         "line": {
          "color": "rgba(0,0,255,0.1)",
          "width": 0.5
         },
         "mode": "lines",
         "type": "scatter",
         "x": [
          0.1646453154966068,
          0.2680640236097584,
          null
         ],
         "y": [
          -0.32387581066542553,
          -0.9734852263228161,
          null
         ]
        },
        {
         "hoverinfo": "none",
         "line": {
          "color": "rgba(0,0,255,0.1)",
          "width": 0.5
         },
         "mode": "lines",
         "type": "scatter",
         "x": [
          0.1646453154966068,
          0.0437748939618648,
          null
         ],
         "y": [
          -0.32387581066542553,
          -0.26968530714625477,
          null
         ]
        },
        {
         "hoverinfo": "none",
         "line": {
          "color": "rgba(0,0,255,0.1)",
          "width": 0.5
         },
         "mode": "lines",
         "type": "scatter",
         "x": [
          0.1646453154966068,
          0.8449799295579185,
          null
         ],
         "y": [
          -0.32387581066542553,
          -0.3675627306898136,
          null
         ]
        },
        {
         "hoverinfo": "none",
         "line": {
          "color": "rgba(0,0,255,0.1)",
          "width": 0.5
         },
         "mode": "lines",
         "type": "scatter",
         "x": [
          0.23556112698397533,
          0.474698289970176,
          null
         ],
         "y": [
          -0.368907598041339,
          -0.7717249811867793,
          null
         ]
        },
        {
         "hoverinfo": "none",
         "line": {
          "color": "rgba(0,0,255,0.1)",
          "width": 0.5
         },
         "mode": "lines",
         "type": "scatter",
         "x": [
          0.23556112698397533,
          0.9950937460174407,
          null
         ],
         "y": [
          -0.368907598041339,
          -0.036008251951422106,
          null
         ]
        },
        {
         "hoverinfo": "none",
         "line": {
          "color": "rgba(0,0,255,0.1)",
          "width": 0.5
         },
         "mode": "lines",
         "type": "scatter",
         "x": [
          0.23556112698397533,
          -0.6238088800981461,
          null
         ],
         "y": [
          -0.368907598041339,
          -0.47041378598148875,
          null
         ]
        },
        {
         "hoverinfo": "none",
         "line": {
          "color": "rgba(0,0,255,0.1)",
          "width": 0.5
         },
         "mode": "lines",
         "type": "scatter",
         "x": [
          0.48842158717276657,
          0.474698289970176,
          null
         ],
         "y": [
          -0.7470344318739347,
          -0.7717249811867793,
          null
         ]
        },
        {
         "hoverinfo": "none",
         "line": {
          "color": "rgba(0,0,255,0.1)",
          "width": 0.5
         },
         "mode": "lines",
         "type": "scatter",
         "x": [
          0.0437748939618648,
          0.474698289970176,
          null
         ],
         "y": [
          -0.26968530714625477,
          -0.7717249811867793,
          null
         ]
        },
        {
         "hoverinfo": "none",
         "line": {
          "color": "rgba(0,0,255,0.1)",
          "width": 0.5
         },
         "mode": "lines",
         "type": "scatter",
         "x": [
          0.0437748939618648,
          0.6879247755234068,
          null
         ],
         "y": [
          -0.26968530714625477,
          0.5922688577631033,
          null
         ]
        },
        {
         "hoverinfo": "none",
         "line": {
          "color": "rgba(0,0,255,0.17142857142857143)",
          "width": 0.5
         },
         "mode": "lines",
         "type": "scatter",
         "x": [
          0.0437748939618648,
          -0.5815616002206131,
          null
         ],
         "y": [
          -0.26968530714625477,
          -0.3750237294829291,
          null
         ]
        },
        {
         "hoverinfo": "none",
         "line": {
          "color": "rgba(0,0,255,0.1)",
          "width": 0.5
         },
         "mode": "lines",
         "type": "scatter",
         "x": [
          0.0437748939618648,
          -0.2225166710568047,
          null
         ],
         "y": [
          -0.26968530714625477,
          -0.9275903180540116,
          null
         ]
        },
        {
         "hoverinfo": "none",
         "line": {
          "color": "rgba(0,0,255,0.1)",
          "width": 0.5
         },
         "mode": "lines",
         "type": "scatter",
         "x": [
          0.0437748939618648,
          0.0437748939618648,
          null
         ],
         "y": [
          -0.26968530714625477,
          -0.26968530714625477,
          null
         ]
        },
        {
         "hoverinfo": "none",
         "line": {
          "color": "rgba(0,0,255,0.1)",
          "width": 0.5
         },
         "mode": "lines",
         "type": "scatter",
         "x": [
          0.5445815716970716,
          0.6879247755234068,
          null
         ],
         "y": [
          0.4120217119677417,
          0.5922688577631033,
          null
         ]
        },
        {
         "hoverinfo": "none",
         "line": {
          "color": "rgba(0,0,255,0.1)",
          "width": 0.5
         },
         "mode": "lines",
         "type": "scatter",
         "x": [
          0.19930981387036972,
          0.9369823346185139,
          null
         ],
         "y": [
          -0.26327145837820004,
          -0.4119463654854348,
          null
         ]
        },
        {
         "hoverinfo": "none",
         "line": {
          "color": "rgba(0,0,255,0.17142857142857143)",
          "width": 0.5
         },
         "mode": "lines",
         "type": "scatter",
         "x": [
          0.19930981387036972,
          0.1646453154966068,
          null
         ],
         "y": [
          -0.26327145837820004,
          -0.32387581066542553,
          null
         ]
        },
        {
         "hoverinfo": "none",
         "line": {
          "color": "rgba(0,0,255,0.1)",
          "width": 0.5
         },
         "mode": "lines",
         "type": "scatter",
         "x": [
          0.19930981387036972,
          0.8986851340843501,
          null
         ],
         "y": [
          -0.26327145837820004,
          -0.29222155013595164,
          null
         ]
        },
        {
         "hoverinfo": "none",
         "line": {
          "color": "rgba(0,0,255,0.1)",
          "width": 0.5
         },
         "mode": "lines",
         "type": "scatter",
         "x": [
          0.19930981387036972,
          -0.6708676194055986,
          null
         ],
         "y": [
          -0.26327145837820004,
          0.25938902732556096,
          null
         ]
        },
        {
         "hoverinfo": "none",
         "line": {
          "color": "rgba(0,0,255,0.1)",
          "width": 0.5
         },
         "mode": "lines",
         "type": "scatter",
         "x": [
          0.19930981387036972,
          -0.5087690471246665,
          null
         ],
         "y": [
          -0.26327145837820004,
          -0.6608731791284745,
          null
         ]
        },
        {
         "hoverinfo": "none",
         "line": {
          "color": "rgba(0,0,255,0.1)",
          "width": 0.5
         },
         "mode": "lines",
         "type": "scatter",
         "x": [
          0.19930981387036972,
          0.8449799295579185,
          null
         ],
         "y": [
          -0.26327145837820004,
          -0.3675627306898136,
          null
         ]
        },
        {
         "hoverinfo": "none",
         "line": {
          "color": "rgba(0,0,255,0.1)",
          "width": 0.5
         },
         "mode": "lines",
         "type": "scatter",
         "x": [
          -0.7016380190169816,
          -0.7139256408372965,
          null
         ],
         "y": [
          -0.16128227335668271,
          -0.18820777119109697,
          null
         ]
        },
        {
         "hoverinfo": "none",
         "line": {
          "color": "rgba(0,0,255,0.1)",
          "width": 0.5
         },
         "mode": "lines",
         "type": "scatter",
         "x": [
          -0.6160277001494617,
          -0.7139256408372965,
          null
         ],
         "y": [
          -0.15779194236666555,
          -0.18820777119109697,
          null
         ]
        },
        {
         "hoverinfo": "none",
         "line": {
          "color": "rgba(0,0,255,0.1)",
          "width": 0.5
         },
         "mode": "lines",
         "type": "scatter",
         "x": [
          -0.6262595069108626,
          -0.7139256408372965,
          null
         ],
         "y": [
          -0.16630280218333013,
          -0.18820777119109697,
          null
         ]
        },
        {
         "hoverinfo": "none",
         "line": {
          "color": "rgba(0,0,255,0.17142857142857143)",
          "width": 0.5
         },
         "mode": "lines",
         "type": "scatter",
         "x": [
          -0.48116781586202845,
          -0.7139256408372965,
          null
         ],
         "y": [
          -0.1385305834804736,
          -0.18820777119109697,
          null
         ]
        },
        {
         "hoverinfo": "none",
         "line": {
          "color": "rgba(0,0,255,0.1)",
          "width": 0.5
         },
         "mode": "lines",
         "type": "scatter",
         "x": [
          -0.4986818591429964,
          -0.7139256408372965,
          null
         ],
         "y": [
          -0.137501100685749,
          -0.18820777119109697,
          null
         ]
        },
        {
         "hoverinfo": "none",
         "line": {
          "color": "rgba(0,0,255,0.1)",
          "width": 0.5
         },
         "mode": "lines",
         "type": "scatter",
         "x": [
          -0.48586131584141184,
          -0.7139256408372965,
          null
         ],
         "y": [
          -0.14559054948848946,
          -0.18820777119109697,
          null
         ]
        },
        {
         "hoverinfo": "none",
         "line": {
          "color": "rgba(0,0,255,0.17142857142857143)",
          "width": 0.5
         },
         "mode": "lines",
         "type": "scatter",
         "x": [
          -0.672375055928048,
          -0.7139256408372965,
          null
         ],
         "y": [
          -0.17148854354513887,
          -0.18820777119109697,
          null
         ]
        },
        {
         "hoverinfo": "none",
         "line": {
          "color": "rgba(0,0,255,0.1)",
          "width": 0.5
         },
         "mode": "lines",
         "type": "scatter",
         "x": [
          0.14051026016999357,
          -0.7139256408372965,
          null
         ],
         "y": [
          -0.11238968831834903,
          -0.18820777119109697,
          null
         ]
        },
        {
         "hoverinfo": "none",
         "line": {
          "color": "rgba(0,0,255,0.1)",
          "width": 0.5
         },
         "mode": "lines",
         "type": "scatter",
         "x": [
          0.14051026016999357,
          0.9950937460174407,
          null
         ],
         "y": [
          -0.11238968831834903,
          -0.036008251951422106,
          null
         ]
        },
        {
         "hoverinfo": "none",
         "line": {
          "color": "rgba(0,0,255,0.1)",
          "width": 0.5
         },
         "mode": "lines",
         "type": "scatter",
         "x": [
          -0.672795643153309,
          -0.7139256408372965,
          null
         ],
         "y": [
          -0.18998283869564986,
          -0.18820777119109697,
          null
         ]
        },
        {
         "hoverinfo": "none",
         "line": {
          "color": "rgba(0,0,255,0.17142857142857143)",
          "width": 0.5
         },
         "mode": "lines",
         "type": "scatter",
         "x": [
          -0.059696407640571006,
          -0.7139256408372965,
          null
         ],
         "y": [
          -0.23134186789651795,
          -0.18820777119109697,
          null
         ]
        },
        {
         "hoverinfo": "none",
         "line": {
          "color": "rgba(0,0,255,0.1)",
          "width": 0.5
         },
         "mode": "lines",
         "type": "scatter",
         "x": [
          -0.059696407640571006,
          0.9950937460174407,
          null
         ],
         "y": [
          -0.23134186789651795,
          -0.036008251951422106,
          null
         ]
        },
        {
         "hoverinfo": "none",
         "line": {
          "color": "rgba(0,0,255,0.1)",
          "width": 0.5
         },
         "mode": "lines",
         "type": "scatter",
         "x": [
          -0.059696407640571006,
          -0.5087690471246665,
          null
         ],
         "y": [
          -0.23134186789651795,
          -0.6608731791284745,
          null
         ]
        },
        {
         "hoverinfo": "none",
         "line": {
          "color": "rgba(0,0,255,0.1)",
          "width": 0.5
         },
         "mode": "lines",
         "type": "scatter",
         "x": [
          -0.7554129481291196,
          -0.7139256408372965,
          null
         ],
         "y": [
          -0.1950367381737666,
          -0.18820777119109697,
          null
         ]
        },
        {
         "hoverinfo": "none",
         "line": {
          "color": "rgba(0,0,255,0.1)",
          "width": 0.5
         },
         "mode": "lines",
         "type": "scatter",
         "x": [
          -0.6905086679611567,
          -0.7139256408372965,
          null
         ],
         "y": [
          -0.0499208713629494,
          -0.18820777119109697,
          null
         ]
        },
        {
         "hoverinfo": "none",
         "line": {
          "color": "rgba(0,0,255,0.1)",
          "width": 0.5
         },
         "mode": "lines",
         "type": "scatter",
         "x": [
          -0.6905086679611567,
          -0.6769538775059221,
          null
         ],
         "y": [
          -0.0499208713629494,
          0.0872279665387343,
          null
         ]
        },
        {
         "hoverinfo": "none",
         "line": {
          "color": "rgba(0,0,255,0.1)",
          "width": 0.5
         },
         "mode": "lines",
         "type": "scatter",
         "x": [
          -0.5335342828970374,
          -0.7139256408372965,
          null
         ],
         "y": [
          -0.144910500534153,
          -0.18820777119109697,
          null
         ]
        },
        {
         "hoverinfo": "none",
         "line": {
          "color": "rgba(0,0,255,0.1)",
          "width": 0.5
         },
         "mode": "lines",
         "type": "scatter",
         "x": [
          0.3026749944828187,
          -0.6905086679611567,
          null
         ],
         "y": [
          -0.12405464610726553,
          -0.0499208713629494,
          null
         ]
        },
        {
         "hoverinfo": "none",
         "line": {
          "color": "rgba(0,0,255,0.17142857142857143)",
          "width": 0.5
         },
         "mode": "lines",
         "type": "scatter",
         "x": [
          0.3026749944828187,
          0.7194771116139637,
          null
         ],
         "y": [
          -0.12405464610726553,
          -0.5185173611930844,
          null
         ]
        },
        {
         "hoverinfo": "none",
         "line": {
          "color": "rgba(0,0,255,0.3142857142857143)",
          "width": 0.5
         },
         "mode": "lines",
         "type": "scatter",
         "x": [
          0.3026749944828187,
          0.1646453154966068,
          null
         ],
         "y": [
          -0.12405464610726553,
          -0.32387581066542553,
          null
         ]
        },
        {
         "hoverinfo": "none",
         "line": {
          "color": "rgba(0,0,255,0.1)",
          "width": 0.5
         },
         "mode": "lines",
         "type": "scatter",
         "x": [
          0.3026749944828187,
          -0.7183163607107037,
          null
         ],
         "y": [
          -0.12405464610726553,
          0.2663630517552909,
          null
         ]
        },
        {
         "hoverinfo": "none",
         "line": {
          "color": "rgba(0,0,255,0.1)",
          "width": 0.5
         },
         "mode": "lines",
         "type": "scatter",
         "x": [
          0.3026749944828187,
          0.8584992600909274,
          null
         ],
         "y": [
          -0.12405464610726553,
          0.4294123641477072,
          null
         ]
        },
        {
         "hoverinfo": "none",
         "line": {
          "color": "rgba(0,0,255,0.1)",
          "width": 0.5
         },
         "mode": "lines",
         "type": "scatter",
         "x": [
          0.3026749944828187,
          0.9950937460174407,
          null
         ],
         "y": [
          -0.12405464610726553,
          -0.036008251951422106,
          null
         ]
        },
        {
         "hoverinfo": "none",
         "line": {
          "color": "rgba(0,0,255,0.1)",
          "width": 0.5
         },
         "mode": "lines",
         "type": "scatter",
         "x": [
          0.3026749944828187,
          0.8994566232892681,
          null
         ],
         "y": [
          -0.12405464610726553,
          0.2477634402223054,
          null
         ]
        },
        {
         "hoverinfo": "none",
         "line": {
          "color": "rgba(0,0,255,0.1)",
          "width": 0.5
         },
         "mode": "lines",
         "type": "scatter",
         "x": [
          0.3026749944828187,
          0.2680640236097584,
          null
         ],
         "y": [
          -0.12405464610726553,
          -0.9734852263228161,
          null
         ]
        },
        {
         "hoverinfo": "none",
         "line": {
          "color": "rgba(0,0,255,0.1)",
          "width": 0.5
         },
         "mode": "lines",
         "type": "scatter",
         "x": [
          0.3026749944828187,
          0.9665595046179497,
          null
         ],
         "y": [
          -0.12405464610726553,
          0.03676258552199078,
          null
         ]
        },
        {
         "hoverinfo": "none",
         "line": {
          "color": "rgba(0,0,255,0.1)",
          "width": 0.5
         },
         "mode": "lines",
         "type": "scatter",
         "x": [
          -0.011867773695438854,
          -0.6905086679611567,
          null
         ],
         "y": [
          -0.5011122382226817,
          -0.0499208713629494,
          null
         ]
        },
        {
         "hoverinfo": "none",
         "line": {
          "color": "rgba(0,0,255,0.1)",
          "width": 0.5
         },
         "mode": "lines",
         "type": "scatter",
         "x": [
          -0.011867773695438854,
          0.7194771116139637,
          null
         ],
         "y": [
          -0.5011122382226817,
          -0.5185173611930844,
          null
         ]
        },
        {
         "hoverinfo": "none",
         "line": {
          "color": "rgba(0,0,255,0.3142857142857143)",
          "width": 0.5
         },
         "mode": "lines",
         "type": "scatter",
         "x": [
          -0.011867773695438854,
          0.15596097700495226,
          null
         ],
         "y": [
          -0.5011122382226817,
          -0.5960452528963717,
          null
         ]
        },
        {
         "hoverinfo": "none",
         "line": {
          "color": "rgba(0,0,255,0.24285714285714285)",
          "width": 0.5
         },
         "mode": "lines",
         "type": "scatter",
         "x": [
          -0.011867773695438854,
          0.1646453154966068,
          null
         ],
         "y": [
          -0.5011122382226817,
          -0.32387581066542553,
          null
         ]
        },
        {
         "hoverinfo": "none",
         "line": {
          "color": "rgba(0,0,255,0.1)",
          "width": 0.5
         },
         "mode": "lines",
         "type": "scatter",
         "x": [
          -0.011867773695438854,
          -0.4514664101489748,
          null
         ],
         "y": [
          -0.5011122382226817,
          -0.6077885337922622,
          null
         ]
        },
        {
         "hoverinfo": "none",
         "line": {
          "color": "rgba(0,0,255,0.17142857142857143)",
          "width": 0.5
         },
         "mode": "lines",
         "type": "scatter",
         "x": [
          -0.011867773695438854,
          0.532095836601452,
          null
         ],
         "y": [
          -0.5011122382226817,
          -0.810502724745146,
          null
         ]
        },
        {
         "hoverinfo": "none",
         "line": {
          "color": "rgba(0,0,255,0.1)",
          "width": 0.5
         },
         "mode": "lines",
         "type": "scatter",
         "x": [
          -0.011867773695438854,
          -0.706433878915072,
          null
         ],
         "y": [
          -0.5011122382226817,
          -0.43883194840246514,
          null
         ]
        },
        {
         "hoverinfo": "none",
         "line": {
          "color": "rgba(0,0,255,0.1)",
          "width": 0.5
         },
         "mode": "lines",
         "type": "scatter",
         "x": [
          -0.011867773695438854,
          -0.5087690471246665,
          null
         ],
         "y": [
          -0.5011122382226817,
          -0.6608731791284745,
          null
         ]
        },
        {
         "hoverinfo": "none",
         "line": {
          "color": "rgba(0,0,255,0.1)",
          "width": 0.5
         },
         "mode": "lines",
         "type": "scatter",
         "x": [
          -0.011867773695438854,
          0.0437748939618648,
          null
         ],
         "y": [
          -0.5011122382226817,
          -0.26968530714625477,
          null
         ]
        },
        {
         "hoverinfo": "none",
         "line": {
          "color": "rgba(0,0,255,0.1)",
          "width": 0.5
         },
         "mode": "lines",
         "type": "scatter",
         "x": [
          0.7194771116139637,
          0.7194771116139637,
          null
         ],
         "y": [
          -0.5185173611930844,
          -0.5185173611930844,
          null
         ]
        },
        {
         "hoverinfo": "none",
         "line": {
          "color": "rgba(0,0,255,0.24285714285714285)",
          "width": 0.5
         },
         "mode": "lines",
         "type": "scatter",
         "x": [
          0.7206963450800427,
          0.7194771116139637,
          null
         ],
         "y": [
          -0.5017402025420723,
          -0.5185173611930844,
          null
         ]
        },
        {
         "hoverinfo": "none",
         "line": {
          "color": "rgba(0,0,255,0.1)",
          "width": 0.5
         },
         "mode": "lines",
         "type": "scatter",
         "x": [
          0.34551425248859874,
          0.2543877254821752,
          null
         ],
         "y": [
          -0.46055131176130926,
          -0.8669318547665908,
          null
         ]
        },
        {
         "hoverinfo": "none",
         "line": {
          "color": "rgba(0,0,255,0.1)",
          "width": 0.5
         },
         "mode": "lines",
         "type": "scatter",
         "x": [
          0.34551425248859874,
          0.532095836601452,
          null
         ],
         "y": [
          -0.46055131176130926,
          -0.810502724745146,
          null
         ]
        },
        {
         "hoverinfo": "none",
         "line": {
          "color": "rgba(0,0,255,0.1)",
          "width": 0.5
         },
         "mode": "lines",
         "type": "scatter",
         "x": [
          0.34551425248859874,
          0.7651742016983081,
          null
         ],
         "y": [
          -0.46055131176130926,
          -0.7613460075705653,
          null
         ]
        },
        {
         "hoverinfo": "none",
         "line": {
          "color": "rgba(0,0,255,0.1)",
          "width": 0.5
         },
         "mode": "lines",
         "type": "scatter",
         "x": [
          0.34551425248859874,
          0.8994566232892681,
          null
         ],
         "y": [
          -0.46055131176130926,
          0.2477634402223054,
          null
         ]
        },
        {
         "hoverinfo": "none",
         "line": {
          "color": "rgba(0,0,255,0.1)",
          "width": 0.5
         },
         "mode": "lines",
         "type": "scatter",
         "x": [
          0.34551425248859874,
          -0.5087690471246665,
          null
         ],
         "y": [
          -0.46055131176130926,
          -0.6608731791284745,
          null
         ]
        },
        {
         "hoverinfo": "none",
         "line": {
          "color": "rgba(0,0,255,0.1)",
          "width": 0.5
         },
         "mode": "lines",
         "type": "scatter",
         "x": [
          0.3678021806348907,
          0.3678021806348907,
          null
         ],
         "y": [
          -0.8670966384302418,
          -0.8670966384302418,
          null
         ]
        },
        {
         "hoverinfo": "none",
         "line": {
          "color": "rgba(0,0,255,0.6)",
          "width": 0.5
         },
         "mode": "lines",
         "type": "scatter",
         "x": [
          0.15596097700495226,
          0.15596097700495226,
          null
         ],
         "y": [
          -0.5960452528963717,
          -0.5960452528963717,
          null
         ]
        },
        {
         "hoverinfo": "none",
         "line": {
          "color": "rgba(0,0,255,0.1)",
          "width": 0.5
         },
         "mode": "lines",
         "type": "scatter",
         "x": [
          0.15596097700495226,
          0.532095836601452,
          null
         ],
         "y": [
          -0.5960452528963717,
          -0.810502724745146,
          null
         ]
        },
        {
         "hoverinfo": "none",
         "line": {
          "color": "rgba(0,0,255,0.1)",
          "width": 0.5
         },
         "mode": "lines",
         "type": "scatter",
         "x": [
          0.15596097700495226,
          -0.706433878915072,
          null
         ],
         "y": [
          -0.5960452528963717,
          -0.43883194840246514,
          null
         ]
        },
        {
         "hoverinfo": "none",
         "line": {
          "color": "rgba(0,0,255,0.17142857142857143)",
          "width": 0.5
         },
         "mode": "lines",
         "type": "scatter",
         "x": [
          0.15596097700495226,
          0.8766793169329261,
          null
         ],
         "y": [
          -0.5960452528963717,
          -0.5990262283698223,
          null
         ]
        },
        {
         "hoverinfo": "none",
         "line": {
          "color": "rgba(0,0,255,0.1)",
          "width": 0.5
         },
         "mode": "lines",
         "type": "scatter",
         "x": [
          0.15596097700495226,
          -0.5087690471246665,
          null
         ],
         "y": [
          -0.5960452528963717,
          -0.6608731791284745,
          null
         ]
        },
        {
         "hoverinfo": "none",
         "line": {
          "color": "rgba(0,0,255,0.1)",
          "width": 0.5
         },
         "mode": "lines",
         "type": "scatter",
         "x": [
          0.4518668147902705,
          0.15596097700495226,
          null
         ],
         "y": [
          -0.47476544009310134,
          -0.5960452528963717,
          null
         ]
        },
        {
         "hoverinfo": "none",
         "line": {
          "color": "rgba(0,0,255,0.24285714285714285)",
          "width": 0.5
         },
         "mode": "lines",
         "type": "scatter",
         "x": [
          0.4518668147902705,
          0.1646453154966068,
          null
         ],
         "y": [
          -0.47476544009310134,
          -0.32387581066542553,
          null
         ]
        },
        {
         "hoverinfo": "none",
         "line": {
          "color": "rgba(0,0,255,0.17142857142857143)",
          "width": 0.5
         },
         "mode": "lines",
         "type": "scatter",
         "x": [
          0.4518668147902705,
          0.8766793169329261,
          null
         ],
         "y": [
          -0.47476544009310134,
          -0.5990262283698223,
          null
         ]
        },
        {
         "hoverinfo": "none",
         "line": {
          "color": "rgba(0,0,255,0.1)",
          "width": 0.5
         },
         "mode": "lines",
         "type": "scatter",
         "x": [
          -0.17522375813142013,
          -0.2225166710568047,
          null
         ],
         "y": [
          -0.7578575961622471,
          -0.9275903180540116,
          null
         ]
        },
        {
         "hoverinfo": "none",
         "line": {
          "color": "rgba(0,0,255,0.1)",
          "width": 0.5
         },
         "mode": "lines",
         "type": "scatter",
         "x": [
          -0.45168286666982355,
          -0.7183163607107037,
          null
         ],
         "y": [
          0.18914274781850193,
          0.2663630517552909,
          null
         ]
        },
        {
         "hoverinfo": "none",
         "line": {
          "color": "rgba(0,0,255,0.1)",
          "width": 0.5
         },
         "mode": "lines",
         "type": "scatter",
         "x": [
          -0.34547900431252454,
          -0.45168286666982355,
          null
         ],
         "y": [
          0.14378926927058677,
          0.18914274781850193,
          null
         ]
        },
        {
         "hoverinfo": "none",
         "line": {
          "color": "rgba(0,0,255,0.1)",
          "width": 0.5
         },
         "mode": "lines",
         "type": "scatter",
         "x": [
          -0.4082870565220193,
          -0.45168286666982355,
          null
         ],
         "y": [
          0.1578256243288562,
          0.18914274781850193,
          null
         ]
        },
        {
         "hoverinfo": "none",
         "line": {
          "color": "rgba(0,0,255,0.1)",
          "width": 0.5
         },
         "mode": "lines",
         "type": "scatter",
         "x": [
          -0.1715612917400323,
          0.1646453154966068,
          null
         ],
         "y": [
          -0.4922527466583907,
          -0.32387581066542553,
          null
         ]
        },
        {
         "hoverinfo": "none",
         "line": {
          "color": "rgba(0,0,255,0.1)",
          "width": 0.5
         },
         "mode": "lines",
         "type": "scatter",
         "x": [
          -0.1715612917400323,
          -0.5087690471246665,
          null
         ],
         "y": [
          -0.4922527466583907,
          -0.6608731791284745,
          null
         ]
        },
        {
         "hoverinfo": "none",
         "line": {
          "color": "rgba(0,0,255,0.1)",
          "width": 0.5
         },
         "mode": "lines",
         "type": "scatter",
         "x": [
          0.16175419497563487,
          0.1646453154966068,
          null
         ],
         "y": [
          -0.3510803220751595,
          -0.32387581066542553,
          null
         ]
        },
        {
         "hoverinfo": "none",
         "line": {
          "color": "rgba(0,0,255,0.1)",
          "width": 0.5
         },
         "mode": "lines",
         "type": "scatter",
         "x": [
          -0.4514664101489748,
          -0.4514664101489748,
          null
         ],
         "y": [
          -0.6077885337922622,
          -0.6077885337922622,
          null
         ]
        },
        {
         "hoverinfo": "none",
         "line": {
          "color": "rgba(0,0,255,0.1)",
          "width": 0.5
         },
         "mode": "lines",
         "type": "scatter",
         "x": [
          -0.4514664101489748,
          -0.5635107008650819,
          null
         ],
         "y": [
          -0.6077885337922622,
          -0.6805111361245042,
          null
         ]
        },
        {
         "hoverinfo": "none",
         "line": {
          "color": "rgba(0,0,255,0.1)",
          "width": 0.5
         },
         "mode": "lines",
         "type": "scatter",
         "x": [
          0.532095836601452,
          0.532095836601452,
          null
         ],
         "y": [
          -0.810502724745146,
          -0.810502724745146,
          null
         ]
        },
        {
         "hoverinfo": "none",
         "line": {
          "color": "rgba(0,0,255,0.1)",
          "width": 0.5
         },
         "mode": "lines",
         "type": "scatter",
         "x": [
          0.020135158256415837,
          0.532095836601452,
          null
         ],
         "y": [
          -0.7824595274501946,
          -0.810502724745146,
          null
         ]
        },
        {
         "hoverinfo": "none",
         "line": {
          "color": "rgba(0,0,255,0.1)",
          "width": 0.5
         },
         "mode": "lines",
         "type": "scatter",
         "x": [
          0.020135158256415837,
          0.12102201292419396,
          null
         ],
         "y": [
          -0.7824595274501946,
          -1,
          null
         ]
        },
        {
         "hoverinfo": "none",
         "line": {
          "color": "rgba(0,0,255,0.1)",
          "width": 0.5
         },
         "mode": "lines",
         "type": "scatter",
         "x": [
          0.020135158256415837,
          -0.5087690471246665,
          null
         ],
         "y": [
          -0.7824595274501946,
          -0.6608731791284745,
          null
         ]
        },
        {
         "hoverinfo": "none",
         "line": {
          "color": "rgba(0,0,255,0.1)",
          "width": 0.5
         },
         "mode": "lines",
         "type": "scatter",
         "x": [
          0.5052840644121918,
          0.532095836601452,
          null
         ],
         "y": [
          -0.816316055201549,
          -0.810502724745146,
          null
         ]
        },
        {
         "hoverinfo": "none",
         "line": {
          "color": "rgba(0,0,255,0.1)",
          "width": 0.5
         },
         "mode": "lines",
         "type": "scatter",
         "x": [
          0.26390096876977254,
          0.26390096876977254,
          null
         ],
         "y": [
          0.7073347179011468,
          0.7073347179011468,
          null
         ]
        },
        {
         "hoverinfo": "none",
         "line": {
          "color": "rgba(0,0,255,0.17142857142857143)",
          "width": 0.5
         },
         "mode": "lines",
         "type": "scatter",
         "x": [
          0.2050467900854879,
          0.26390096876977254,
          null
         ],
         "y": [
          0.5394652195692213,
          0.7073347179011468,
          null
         ]
        },
        {
         "hoverinfo": "none",
         "line": {
          "color": "rgba(0,0,255,0.1)",
          "width": 0.5
         },
         "mode": "lines",
         "type": "scatter",
         "x": [
          0.2865260392553608,
          0.26390096876977254,
          null
         ],
         "y": [
          0.6986259039940202,
          0.7073347179011468,
          null
         ]
        },
        {
         "hoverinfo": "none",
         "line": {
          "color": "rgba(0,0,255,0.1)",
          "width": 0.5
         },
         "mode": "lines",
         "type": "scatter",
         "x": [
          0.20869393442410364,
          0.26390096876977254,
          null
         ],
         "y": [
          0.5227333660533436,
          0.7073347179011468,
          null
         ]
        },
        {
         "hoverinfo": "none",
         "line": {
          "color": "rgba(0,0,255,0.1)",
          "width": 0.5
         },
         "mode": "lines",
         "type": "scatter",
         "x": [
          0.21456742821544952,
          0.26390096876977254,
          null
         ],
         "y": [
          0.5660029980539018,
          0.7073347179011468,
          null
         ]
        },
        {
         "hoverinfo": "none",
         "line": {
          "color": "rgba(0,0,255,0.1)",
          "width": 0.5
         },
         "mode": "lines",
         "type": "scatter",
         "x": [
          0.11771130920952563,
          0.12102201292419396,
          null
         ],
         "y": [
          -0.9262112573447282,
          -1,
          null
         ]
        },
        {
         "hoverinfo": "none",
         "line": {
          "color": "rgba(0,0,255,0.1)",
          "width": 0.5
         },
         "mode": "lines",
         "type": "scatter",
         "x": [
          0.11518580991660239,
          0.12102201292419396,
          null
         ],
         "y": [
          -0.7885731298845555,
          -1,
          null
         ]
        },
        {
         "hoverinfo": "none",
         "line": {
          "color": "rgba(0,0,255,0.1)",
          "width": 0.5
         },
         "mode": "lines",
         "type": "scatter",
         "x": [
          0.11976930891048886,
          0.12102201292419396,
          null
         ],
         "y": [
          -0.9512458980392485,
          -1,
          null
         ]
        },
        {
         "hoverinfo": "none",
         "line": {
          "color": "rgba(0,0,255,0.1)",
          "width": 0.5
         },
         "mode": "lines",
         "type": "scatter",
         "x": [
          0.8661464872611282,
          0.9444920466434416,
          null
         ],
         "y": [
          -0.19824297828939685,
          -0.21798449608508366,
          null
         ]
        },
        {
         "hoverinfo": "none",
         "line": {
          "color": "rgba(0,0,255,0.1)",
          "width": 0.5
         },
         "mode": "lines",
         "type": "scatter",
         "x": [
          0.3939797157499085,
          0.9444920466434416,
          null
         ],
         "y": [
          -0.1835202749675608,
          -0.21798449608508366,
          null
         ]
        },
        {
         "hoverinfo": "none",
         "line": {
          "color": "rgba(0,0,255,0.1)",
          "width": 0.5
         },
         "mode": "lines",
         "type": "scatter",
         "x": [
          0.3939797157499085,
          0.7515123052206634,
          null
         ],
         "y": [
          -0.1835202749675608,
          0.4115929608456405,
          null
         ]
        },
        {
         "hoverinfo": "none",
         "line": {
          "color": "rgba(0,0,255,0.1)",
          "width": 0.5
         },
         "mode": "lines",
         "type": "scatter",
         "x": [
          0.3939797157499085,
          0.9950937460174407,
          null
         ],
         "y": [
          -0.1835202749675608,
          -0.036008251951422106,
          null
         ]
        },
        {
         "hoverinfo": "none",
         "line": {
          "color": "rgba(0,0,255,0.1)",
          "width": 0.5
         },
         "mode": "lines",
         "type": "scatter",
         "x": [
          0.3939797157499085,
          -0.5087690471246665,
          null
         ],
         "y": [
          -0.1835202749675608,
          -0.6608731791284745,
          null
         ]
        },
        {
         "hoverinfo": "none",
         "line": {
          "color": "rgba(0,0,255,0.1)",
          "width": 0.5
         },
         "mode": "lines",
         "type": "scatter",
         "x": [
          -0.5904329977003808,
          -0.7183163607107037,
          null
         ],
         "y": [
          0.23673769366078357,
          0.2663630517552909,
          null
         ]
        },
        {
         "hoverinfo": "none",
         "line": {
          "color": "rgba(0,0,255,0.1)",
          "width": 0.5
         },
         "mode": "lines",
         "type": "scatter",
         "x": [
          0.801373077221317,
          0.7515123052206634,
          null
         ],
         "y": [
          0.32776835087679734,
          0.4115929608456405,
          null
         ]
        },
        {
         "hoverinfo": "none",
         "line": {
          "color": "rgba(0,0,255,0.1)",
          "width": 0.5
         },
         "mode": "lines",
         "type": "scatter",
         "x": [
          0.801373077221317,
          0.8655852537829597,
          null
         ],
         "y": [
          0.32776835087679734,
          0.25129110629706686,
          null
         ]
        },
        {
         "hoverinfo": "none",
         "line": {
          "color": "rgba(0,0,255,0.1)",
          "width": 0.5
         },
         "mode": "lines",
         "type": "scatter",
         "x": [
          -0.5635107008650819,
          -0.5635107008650819,
          null
         ],
         "y": [
          -0.6805111361245042,
          -0.6805111361245042,
          null
         ]
        },
        {
         "hoverinfo": "none",
         "line": {
          "color": "rgba(0,0,255,0.1)",
          "width": 0.5
         },
         "mode": "lines",
         "type": "scatter",
         "x": [
          0.21541083017481824,
          -0.5635107008650819,
          null
         ],
         "y": [
          -0.35829129362182,
          -0.6805111361245042,
          null
         ]
        },
        {
         "hoverinfo": "none",
         "line": {
          "color": "rgba(0,0,255,0.1)",
          "width": 0.5
         },
         "mode": "lines",
         "type": "scatter",
         "x": [
          0.21541083017481824,
          0.9950937460174407,
          null
         ],
         "y": [
          -0.35829129362182,
          -0.036008251951422106,
          null
         ]
        },
        {
         "hoverinfo": "none",
         "line": {
          "color": "rgba(0,0,255,0.1)",
          "width": 0.5
         },
         "mode": "lines",
         "type": "scatter",
         "x": [
          -0.37353176064209526,
          -0.5635107008650819,
          null
         ],
         "y": [
          -0.5320913814344731,
          -0.6805111361245042,
          null
         ]
        },
        {
         "hoverinfo": "none",
         "line": {
          "color": "rgba(0,0,255,0.1)",
          "width": 0.5
         },
         "mode": "lines",
         "type": "scatter",
         "x": [
          -0.5087690471246665,
          -0.5635107008650819,
          null
         ],
         "y": [
          -0.6608731791284745,
          -0.6805111361245042,
          null
         ]
        },
        {
         "hoverinfo": "none",
         "line": {
          "color": "rgba(0,0,255,0.1)",
          "width": 0.5
         },
         "mode": "lines",
         "type": "scatter",
         "x": [
          -0.5295248150309482,
          -0.5635107008650819,
          null
         ],
         "y": [
          -0.6995725117066083,
          -0.6805111361245042,
          null
         ]
        },
        {
         "hoverinfo": "none",
         "line": {
          "color": "rgba(0,0,255,0.1)",
          "width": 0.5
         },
         "mode": "lines",
         "type": "scatter",
         "x": [
          -0.3526792808680058,
          -0.5635107008650819,
          null
         ],
         "y": [
          -0.5015279332264841,
          -0.6805111361245042,
          null
         ]
        },
        {
         "hoverinfo": "none",
         "line": {
          "color": "rgba(0,0,255,0.1)",
          "width": 0.5
         },
         "mode": "lines",
         "type": "scatter",
         "x": [
          -0.49135409031257726,
          -0.5635107008650819,
          null
         ],
         "y": [
          -0.6211190556813283,
          -0.6805111361245042,
          null
         ]
        },
        {
         "hoverinfo": "none",
         "line": {
          "color": "rgba(0,0,255,0.17142857142857143)",
          "width": 0.5
         },
         "mode": "lines",
         "type": "scatter",
         "x": [
          -0.3797446047857611,
          -0.5635107008650819,
          null
         ],
         "y": [
          -0.526939782553483,
          -0.6805111361245042,
          null
         ]
        },
        {
         "hoverinfo": "none",
         "line": {
          "color": "rgba(0,0,255,0.1)",
          "width": 0.5
         },
         "mode": "lines",
         "type": "scatter",
         "x": [
          -0.4700197126365591,
          -0.5635107008650819,
          null
         ],
         "y": [
          -0.5980464421191531,
          -0.6805111361245042,
          null
         ]
        },
        {
         "hoverinfo": "none",
         "line": {
          "color": "rgba(0,0,255,0.1)",
          "width": 0.5
         },
         "mode": "lines",
         "type": "scatter",
         "x": [
          -0.4636330447025639,
          -0.5635107008650819,
          null
         ],
         "y": [
          -0.5851773596075062,
          -0.6805111361245042,
          null
         ]
        },
        {
         "hoverinfo": "none",
         "line": {
          "color": "rgba(0,0,255,0.1)",
          "width": 0.5
         },
         "mode": "lines",
         "type": "scatter",
         "x": [
          -0.47270258476747984,
          -0.5635107008650819,
          null
         ],
         "y": [
          -0.581433789946488,
          -0.6805111361245042,
          null
         ]
        },
        {
         "hoverinfo": "none",
         "line": {
          "color": "rgba(0,0,255,0.1)",
          "width": 0.5
         },
         "mode": "lines",
         "type": "scatter",
         "x": [
          -0.4556498694900348,
          -0.5635107008650819,
          null
         ],
         "y": [
          -0.5837372003489667,
          -0.6805111361245042,
          null
         ]
        },
        {
         "hoverinfo": "none",
         "line": {
          "color": "rgba(0,0,255,0.1)",
          "width": 0.5
         },
         "mode": "lines",
         "type": "scatter",
         "x": [
          -0.47808412479517665,
          -0.5635107008650819,
          null
         ],
         "y": [
          -0.6240060722538854,
          -0.6805111361245042,
          null
         ]
        },
        {
         "hoverinfo": "none",
         "line": {
          "color": "rgba(0,0,255,0.1)",
          "width": 0.5
         },
         "mode": "lines",
         "type": "scatter",
         "x": [
          -0.5581245280031916,
          -0.5635107008650819,
          null
         ],
         "y": [
          -0.653619022129618,
          -0.6805111361245042,
          null
         ]
        },
        {
         "hoverinfo": "none",
         "line": {
          "color": "rgba(0,0,255,0.1)",
          "width": 0.5
         },
         "mode": "lines",
         "type": "scatter",
         "x": [
          -0.46192349025789275,
          -0.5635107008650819,
          null
         ],
         "y": [
          -0.6085002201916926,
          -0.6805111361245042,
          null
         ]
        },
        {
         "hoverinfo": "none",
         "line": {
          "color": "rgba(0,0,255,0.24285714285714285)",
          "width": 0.5
         },
         "mode": "lines",
         "type": "scatter",
         "x": [
          -0.45082975180400575,
          -0.5635107008650819,
          null
         ],
         "y": [
          -0.5899411562618608,
          -0.6805111361245042,
          null
         ]
        },
        {
         "hoverinfo": "none",
         "line": {
          "color": "rgba(0,0,255,0.17142857142857143)",
          "width": 0.5
         },
         "mode": "lines",
         "type": "scatter",
         "x": [
          -0.5251907839501939,
          -0.5635107008650819,
          null
         ],
         "y": [
          -0.6483253843220746,
          -0.6805111361245042,
          null
         ]
        },
        {
         "hoverinfo": "none",
         "line": {
          "color": "rgba(0,0,255,0.1)",
          "width": 0.5
         },
         "mode": "lines",
         "type": "scatter",
         "x": [
          -0.42395524296003856,
          -0.5635107008650819,
          null
         ],
         "y": [
          -0.5611934236644699,
          -0.6805111361245042,
          null
         ]
        },
        {
         "hoverinfo": "none",
         "line": {
          "color": "rgba(0,0,255,0.1)",
          "width": 0.5
         },
         "mode": "lines",
         "type": "scatter",
         "x": [
          -0.5047396895482043,
          -0.5635107008650819,
          null
         ],
         "y": [
          -0.6187005448426964,
          -0.6805111361245042,
          null
         ]
        },
        {
         "hoverinfo": "none",
         "line": {
          "color": "rgba(0,0,255,0.1)",
          "width": 0.5
         },
         "mode": "lines",
         "type": "scatter",
         "x": [
          -0.5443149031102871,
          -0.5635107008650819,
          null
         ],
         "y": [
          -0.6970467674942835,
          -0.6805111361245042,
          null
         ]
        },
        {
         "hoverinfo": "none",
         "line": {
          "color": "rgba(0,0,255,0.1)",
          "width": 0.5
         },
         "mode": "lines",
         "type": "scatter",
         "x": [
          -0.7560087601970051,
          -0.7560087601970051,
          null
         ],
         "y": [
          -0.26312500432687197,
          -0.26312500432687197,
          null
         ]
        },
        {
         "hoverinfo": "none",
         "line": {
          "color": "rgba(0,0,255,0.1)",
          "width": 0.5
         },
         "mode": "lines",
         "type": "scatter",
         "x": [
          0.1604052917068496,
          0.15596097700495226,
          null
         ],
         "y": [
          -0.6278374283380588,
          -0.5960452528963717,
          null
         ]
        },
        {
         "hoverinfo": "none",
         "line": {
          "color": "rgba(0,0,255,0.1)",
          "width": 0.5
         },
         "mode": "lines",
         "type": "scatter",
         "x": [
          0.18071745988548885,
          0.15596097700495226,
          null
         ],
         "y": [
          -0.601424145404505,
          -0.5960452528963717,
          null
         ]
        },
        {
         "hoverinfo": "none",
         "line": {
          "color": "rgba(0,0,255,0.1)",
          "width": 0.5
         },
         "mode": "lines",
         "type": "scatter",
         "x": [
          0.5390093764259318,
          0.5390093764259318,
          null
         ],
         "y": [
          0.5492462705891169,
          0.5492462705891169,
          null
         ]
        },
        {
         "hoverinfo": "none",
         "line": {
          "color": "rgba(0,0,255,0.1)",
          "width": 0.5
         },
         "mode": "lines",
         "type": "scatter",
         "x": [
          0.4748600384360227,
          0.664217449336334,
          null
         ],
         "y": [
          -0.23333099684341982,
          0.4652754048709136,
          null
         ]
        },
        {
         "hoverinfo": "none",
         "line": {
          "color": "rgba(0,0,255,0.1)",
          "width": 0.5
         },
         "mode": "lines",
         "type": "scatter",
         "x": [
          0.4748600384360227,
          0.9950937460174407,
          null
         ],
         "y": [
          -0.23333099684341982,
          -0.036008251951422106,
          null
         ]
        },
        {
         "hoverinfo": "none",
         "line": {
          "color": "rgba(0,0,255,0.1)",
          "width": 0.5
         },
         "mode": "lines",
         "type": "scatter",
         "x": [
          0.4748600384360227,
          0.8986851340843501,
          null
         ],
         "y": [
          -0.23333099684341982,
          -0.29222155013595164,
          null
         ]
        },
        {
         "hoverinfo": "none",
         "line": {
          "color": "rgba(0,0,255,0.17142857142857143)",
          "width": 0.5
         },
         "mode": "lines",
         "type": "scatter",
         "x": [
          0.4748600384360227,
          0.1646453154966068,
          null
         ],
         "y": [
          -0.23333099684341982,
          -0.32387581066542553,
          null
         ]
        },
        {
         "hoverinfo": "none",
         "line": {
          "color": "rgba(0,0,255,0.1)",
          "width": 0.5
         },
         "mode": "lines",
         "type": "scatter",
         "x": [
          0.4748600384360227,
          -0.5087690471246665,
          null
         ],
         "y": [
          -0.23333099684341982,
          -0.6608731791284745,
          null
         ]
        },
        {
         "hoverinfo": "none",
         "line": {
          "color": "rgba(0,0,255,0.1)",
          "width": 0.5
         },
         "mode": "lines",
         "type": "scatter",
         "x": [
          0.4748600384360227,
          0.2680640236097584,
          null
         ],
         "y": [
          -0.23333099684341982,
          -0.9734852263228161,
          null
         ]
        },
        {
         "hoverinfo": "none",
         "line": {
          "color": "rgba(0,0,255,0.17142857142857143)",
          "width": 0.5
         },
         "mode": "lines",
         "type": "scatter",
         "x": [
          0.4748600384360227,
          0.9665595046179497,
          null
         ],
         "y": [
          -0.23333099684341982,
          0.03676258552199078,
          null
         ]
        },
        {
         "hoverinfo": "none",
         "line": {
          "color": "rgba(0,0,255,0.1)",
          "width": 0.5
         },
         "mode": "lines",
         "type": "scatter",
         "x": [
          0.4748600384360227,
          0.9338210296988281,
          null
         ],
         "y": [
          -0.23333099684341982,
          0.10273115465504451,
          null
         ]
        },
        {
         "hoverinfo": "none",
         "line": {
          "color": "rgba(0,0,255,0.1)",
          "width": 0.5
         },
         "mode": "lines",
         "type": "scatter",
         "x": [
          0.4934918324078826,
          0.664217449336334,
          null
         ],
         "y": [
          0.3056980111207956,
          0.4652754048709136,
          null
         ]
        },
        {
         "hoverinfo": "none",
         "line": {
          "color": "rgba(0,0,255,0.1)",
          "width": 0.5
         },
         "mode": "lines",
         "type": "scatter",
         "x": [
          -0.011084723997327222,
          -0.02115361906336079,
          null
         ],
         "y": [
          -0.8628864603274397,
          -0.9420042633431721,
          null
         ]
        },
        {
         "hoverinfo": "none",
         "line": {
          "color": "rgba(0,0,255,0.1)",
          "width": 0.5
         },
         "mode": "lines",
         "type": "scatter",
         "x": [
          0.9950937460174407,
          0.9950937460174407,
          null
         ],
         "y": [
          -0.036008251951422106,
          -0.036008251951422106,
          null
         ]
        },
        {
         "hoverinfo": "none",
         "line": {
          "color": "rgba(0,0,255,0.1)",
          "width": 0.5
         },
         "mode": "lines",
         "type": "scatter",
         "x": [
          0.8612559479605705,
          0.9950937460174407,
          null
         ],
         "y": [
          -0.03870031666581418,
          -0.036008251951422106,
          null
         ]
        },
        {
         "hoverinfo": "none",
         "line": {
          "color": "rgba(0,0,255,0.1)",
          "width": 0.5
         },
         "mode": "lines",
         "type": "scatter",
         "x": [
          0.9831956529818883,
          0.9950937460174407,
          null
         ],
         "y": [
          -0.05879886201550032,
          -0.036008251951422106,
          null
         ]
        },
        {
         "hoverinfo": "none",
         "line": {
          "color": "rgba(0,0,255,0.1)",
          "width": 0.5
         },
         "mode": "lines",
         "type": "scatter",
         "x": [
          0.8217815862159147,
          0.9950937460174407,
          null
         ],
         "y": [
          -0.04222068973001877,
          -0.036008251951422106,
          null
         ]
        },
        {
         "hoverinfo": "none",
         "line": {
          "color": "rgba(0,0,255,0.1)",
          "width": 0.5
         },
         "mode": "lines",
         "type": "scatter",
         "x": [
          0.8720110213329421,
          0.9950937460174407,
          null
         ],
         "y": [
          -0.03860675992088768,
          -0.036008251951422106,
          null
         ]
        },
        {
         "hoverinfo": "none",
         "line": {
          "color": "rgba(0,0,255,0.1)",
          "width": 0.5
         },
         "mode": "lines",
         "type": "scatter",
         "x": [
          0.9225725877890698,
          0.9950937460174407,
          null
         ],
         "y": [
          -0.04995403731766088,
          -0.036008251951422106,
          null
         ]
        },
        {
         "hoverinfo": "none",
         "line": {
          "color": "rgba(0,0,255,0.1)",
          "width": 0.5
         },
         "mode": "lines",
         "type": "scatter",
         "x": [
          0.9232046780458525,
          0.9950937460174407,
          null
         ],
         "y": [
          -0.03505343087123557,
          -0.036008251951422106,
          null
         ]
        },
        {
         "hoverinfo": "none",
         "line": {
          "color": "rgba(0,0,255,0.1)",
          "width": 0.5
         },
         "mode": "lines",
         "type": "scatter",
         "x": [
          0.8328293331769736,
          0.9950937460174407,
          null
         ],
         "y": [
          -0.04802642923113523,
          -0.036008251951422106,
          null
         ]
        },
        {
         "hoverinfo": "none",
         "line": {
          "color": "rgba(0,0,255,0.1)",
          "width": 0.5
         },
         "mode": "lines",
         "type": "scatter",
         "x": [
          0.8601408899809686,
          0.9950937460174407,
          null
         ],
         "y": [
          -0.05067244090655062,
          -0.036008251951422106,
          null
         ]
        },
        {
         "hoverinfo": "none",
         "line": {
          "color": "rgba(0,0,255,0.1)",
          "width": 0.5
         },
         "mode": "lines",
         "type": "scatter",
         "x": [
          0.7329535197399708,
          0.9950937460174407,
          null
         ],
         "y": [
          -0.05351243379357998,
          -0.036008251951422106,
          null
         ]
        },
        {
         "hoverinfo": "none",
         "line": {
          "color": "rgba(0,0,255,0.1)",
          "width": 0.5
         },
         "mode": "lines",
         "type": "scatter",
         "x": [
          0.6307299802119399,
          0.9950937460174407,
          null
         ],
         "y": [
          -0.5041844925615908,
          -0.036008251951422106,
          null
         ]
        },
        {
         "hoverinfo": "none",
         "line": {
          "color": "rgba(0,0,255,0.1)",
          "width": 0.5
         },
         "mode": "lines",
         "type": "scatter",
         "x": [
          0.6307299802119399,
          0.2680640236097584,
          null
         ],
         "y": [
          -0.5041844925615908,
          -0.9734852263228161,
          null
         ]
        },
        {
         "hoverinfo": "none",
         "line": {
          "color": "rgba(0,0,255,0.17142857142857143)",
          "width": 0.5
         },
         "mode": "lines",
         "type": "scatter",
         "x": [
          0.7329963499824741,
          0.9950937460174407,
          null
         ],
         "y": [
          -0.04609595757167147,
          -0.036008251951422106,
          null
         ]
        },
        {
         "hoverinfo": "none",
         "line": {
          "color": "rgba(0,0,255,0.1)",
          "width": 0.5
         },
         "mode": "lines",
         "type": "scatter",
         "x": [
          0.8986851340843501,
          0.8986851340843501,
          null
         ],
         "y": [
          -0.29222155013595164,
          -0.29222155013595164,
          null
         ]
        },
        {
         "hoverinfo": "none",
         "line": {
          "color": "rgba(0,0,255,0.1)",
          "width": 0.5
         },
         "mode": "lines",
         "type": "scatter",
         "x": [
          0.707210674431891,
          0.8986851340843501,
          null
         ],
         "y": [
          -0.21812687095658934,
          -0.29222155013595164,
          null
         ]
        },
        {
         "hoverinfo": "none",
         "line": {
          "color": "rgba(0,0,255,0.1)",
          "width": 0.5
         },
         "mode": "lines",
         "type": "scatter",
         "x": [
          -0.6708676194055986,
          -0.6708676194055986,
          null
         ],
         "y": [
          0.25938902732556096,
          0.25938902732556096,
          null
         ]
        },
        {
         "hoverinfo": "none",
         "line": {
          "color": "rgba(0,0,255,0.1)",
          "width": 0.5
         },
         "mode": "lines",
         "type": "scatter",
         "x": [
          0.8675228506918646,
          0.8994566232892681,
          null
         ],
         "y": [
          0.26516205397994236,
          0.2477634402223054,
          null
         ]
        },
        {
         "hoverinfo": "none",
         "line": {
          "color": "rgba(0,0,255,0.1)",
          "width": 0.5
         },
         "mode": "lines",
         "type": "scatter",
         "x": [
          0.8121241483258763,
          0.8994566232892681,
          null
         ],
         "y": [
          0.21956061640946947,
          0.2477634402223054,
          null
         ]
        },
        {
         "hoverinfo": "none",
         "line": {
          "color": "rgba(0,0,255,0.1)",
          "width": 0.5
         },
         "mode": "lines",
         "type": "scatter",
         "x": [
          0.8739959571665671,
          0.8994566232892681,
          null
         ],
         "y": [
          0.22588083776826734,
          0.2477634402223054,
          null
         ]
        },
        {
         "hoverinfo": "none",
         "line": {
          "color": "rgba(0,0,255,0.1)",
          "width": 0.5
         },
         "mode": "lines",
         "type": "scatter",
         "x": [
          0.790282650628817,
          0.8994566232892681,
          null
         ],
         "y": [
          0.2124773681037354,
          0.2477634402223054,
          null
         ]
        },
        {
         "hoverinfo": "none",
         "line": {
          "color": "rgba(0,0,255,0.1)",
          "width": 0.5
         },
         "mode": "lines",
         "type": "scatter",
         "x": [
          0.7293737229904338,
          0.8994566232892681,
          null
         ],
         "y": [
          0.1887027560444133,
          0.2477634402223054,
          null
         ]
        },
        {
         "hoverinfo": "none",
         "line": {
          "color": "rgba(0,0,255,0.1)",
          "width": 0.5
         },
         "mode": "lines",
         "type": "scatter",
         "x": [
          -0.39303823000745886,
          -0.5087690471246665,
          null
         ],
         "y": [
          -0.5671812674338748,
          -0.6608731791284745,
          null
         ]
        },
        {
         "hoverinfo": "none",
         "line": {
          "color": "rgba(0,0,255,0.1)",
          "width": 0.5
         },
         "mode": "lines",
         "type": "scatter",
         "x": [
          -0.4096664586693488,
          -0.5087690471246665,
          null
         ],
         "y": [
          -0.58741616846362,
          -0.6608731791284745,
          null
         ]
        },
        {
         "hoverinfo": "none",
         "line": {
          "color": "rgba(0,0,255,0.1)",
          "width": 0.5
         },
         "mode": "lines",
         "type": "scatter",
         "x": [
          -0.41339093854533476,
          -0.5087690471246665,
          null
         ],
         "y": [
          -0.6038911028963592,
          -0.6608731791284745,
          null
         ]
        },
        {
         "hoverinfo": "none",
         "line": {
          "color": "rgba(0,0,255,0.1)",
          "width": 0.5
         },
         "mode": "lines",
         "type": "scatter",
         "x": [
          -0.3822349487707261,
          -0.5087690471246665,
          null
         ],
         "y": [
          -0.5676469189223375,
          -0.6608731791284745,
          null
         ]
        },
        {
         "hoverinfo": "none",
         "line": {
          "color": "rgba(0,0,255,0.1)",
          "width": 0.5
         },
         "mode": "lines",
         "type": "scatter",
         "x": [
          0.21220162827471178,
          -0.5087690471246665,
          null
         ],
         "y": [
          -0.27906481169628045,
          -0.6608731791284745,
          null
         ]
        },
        {
         "hoverinfo": "none",
         "line": {
          "color": "rgba(0,0,255,0.1)",
          "width": 0.5
         },
         "mode": "lines",
         "type": "scatter",
         "x": [
          0.21220162827471178,
          0.9338210296988281,
          null
         ],
         "y": [
          -0.27906481169628045,
          0.10273115465504451,
          null
         ]
        },
        {
         "hoverinfo": "none",
         "line": {
          "color": "rgba(0,0,255,0.1)",
          "width": 0.5
         },
         "mode": "lines",
         "type": "scatter",
         "x": [
          0.2680640236097584,
          0.2680640236097584,
          null
         ],
         "y": [
          -0.9734852263228161,
          -0.9734852263228161,
          null
         ]
        },
        {
         "hoverinfo": "none",
         "line": {
          "color": "rgba(0,0,255,0.1)",
          "width": 0.5
         },
         "mode": "lines",
         "type": "scatter",
         "x": [
          0.2553741924645238,
          0.2680640236097584,
          null
         ],
         "y": [
          -0.923214897000036,
          -0.9734852263228161,
          null
         ]
        },
        {
         "hoverinfo": "text",
         "marker": {
          "colorbar": {
           "thickness": 15,
           "title": {
            "side": "right",
            "text": "Node Color Scale"
           },
           "xanchor": "left"
          },
          "colorscale": [
           [
            0,
            "rgb(255,255,217)"
           ],
           [
            0.125,
            "rgb(237,248,177)"
           ],
           [
            0.25,
            "rgb(199,233,180)"
           ],
           [
            0.375,
            "rgb(127,205,187)"
           ],
           [
            0.5,
            "rgb(65,182,196)"
           ],
           [
            0.625,
            "rgb(29,145,192)"
           ],
           [
            0.75,
            "rgb(34,94,168)"
           ],
           [
            0.875,
            "rgb(37,52,148)"
           ],
           [
            1,
            "rgb(8,29,88)"
           ]
          ],
          "showscale": true,
          "size": [
           10,
           10,
           10.76923076923077,
           10,
           10,
           30,
           10,
           10,
           10,
           10,
           10,
           10,
           10,
           10,
           10,
           10,
           10,
           10,
           10,
           10,
           10,
           10,
           10,
           10,
           10,
           10,
           10,
           10,
           10,
           10,
           10,
           10,
           10,
           10,
           10,
           10,
           10,
           10,
           10,
           10,
           10,
           10,
           10,
           10,
           10,
           10,
           10,
           10,
           10,
           10,
           10,
           10,
           10,
           10,
           10,
           10,
           10,
           10,
           10,
           10,
           10,
           10,
           10,
           10,
           10,
           10,
           10,
           10,
           10,
           10,
           10,
           10,
           10,
           10,
           10,
           10,
           10,
           10,
           10,
           10.256410256410255,
           10,
           11.282051282051281,
           10,
           18.974358974358974,
           10,
           10,
           10.76923076923077,
           10.76923076923077,
           10,
           10.512820512820513,
           10.256410256410255,
           10,
           14.35897435897436,
           10,
           10,
           10,
           10,
           10,
           10,
           10,
           10,
           10,
           10,
           10,
           10.512820512820513,
           10,
           10,
           10,
           10,
           12.307692307692308,
           10,
           10.512820512820513,
           10,
           10.512820512820513,
           10.256410256410255,
           10.512820512820513,
           14.615384615384617,
           10,
           10.76923076923077,
           10.76923076923077,
           10,
           10.512820512820513,
           10,
           10,
           10,
           10,
           10,
           10.512820512820513,
           10,
           12.051282051282051,
           10,
           10,
           10.512820512820513,
           10.256410256410255,
           11.538461538461538,
           10,
           10,
           10,
           10,
           11.538461538461538,
           10,
           10,
           10,
           10,
           11.025641025641026,
           10.256410256410255,
           11.025641025641026,
           10,
           10,
           10,
           10.256410256410255,
           11.282051282051281,
           10,
           10.512820512820513,
           10,
           10.256410256410255,
           10,
           17.17948717948718,
           10,
           10,
           14.615384615384617,
           10,
           10,
           10,
           10,
           10,
           10,
           10,
           10,
           10,
           10,
           10,
           10,
           10,
           10,
           10,
           10,
           10.512820512820513,
           10,
           10,
           10.256410256410255,
           10.512820512820513,
           10.512820512820513,
           10,
           10,
           10.256410256410255,
           10,
           15.128205128205128,
           10,
           10,
           10,
           10,
           10,
           10,
           10,
           10,
           10,
           10,
           10,
           11.282051282051281,
           10,
           10.512820512820513,
           10.76923076923077,
           11.794871794871796,
           10,
           10,
           10,
           10,
           10,
           12.564102564102564,
           10.256410256410255,
           10.256410256410255,
           10,
           10,
           10,
           10,
           10,
           10,
           10.256410256410255,
           11.538461538461538,
           10,
           11.282051282051281,
           10.76923076923077,
           10.76923076923077,
           10.256410256410255
          ]
         },
         "mode": "markers",
         "text": [
          "Node Nathalie O<br>OP:1<br>Reads:0<br>Comments:0",
          "Node Kia B<br>OP:1<br>Reads:0<br>Comments:0",
          "Node Isa V<br>OP:1<br>Reads:3<br>Comments:0",
          "Node Michael H (6)<br>OP:0<br>Reads:0<br>Comments:1",
          "Node Webarmen1<br>OP:0<br>Reads:0<br>Comments:2",
          "Node Camilla80<br>OP:1<br>Reads:78<br>Comments:3",
          "Node Jeanette O<br>OP:0<br>Reads:0<br>Comments:2",
          "Node Maja J<br>OP:0<br>Reads:0<br>Comments:1",
          "Node Kariiinaen<br>OP:0<br>Reads:0<br>Comments:1",
          "Node Metteweirsoe<br>OP:0<br>Reads:0<br>Comments:1",
          "Node anima<br>OP:0<br>Reads:0<br>Comments:1",
          "Node Team Pip (Helena)<br>OP:0<br>Reads:0<br>Comments:1",
          "Node ridesteder<br>OP:0<br>Reads:0<br>Comments:1",
          "Node Her...<br>OP:0<br>Reads:0<br>Comments:1",
          "Node vibha<br>OP:0<br>Reads:0<br>Comments:1",
          "Node £isbeth (Baloo)<br>OP:0<br>Reads:0<br>Comments:1",
          "Node Ride steder<br>OP:0<br>Reads:0<br>Comments:1",
          "Node Berit & Lukas<br>OP:0<br>Reads:0<br>Comments:1",
          "Node Annecathrine<br>OP:0<br>Reads:0<br>Comments:1",
          "Node Jeg har redet<br>OP:0<br>Reads:0<br>Comments:1",
          "Node TheaDV<br>OP:0<br>Reads:0<br>Comments:1",
          "Node MetteLodberg<br>OP:0<br>Reads:0<br>Comments:1",
          "Node kopsa<br>OP:0<br>Reads:0<br>Comments:1",
          "Node De fleste...<br>OP:0<br>Reads:0<br>Comments:1",
          "Node Sasser<br>OP:0<br>Reads:0<br>Comments:1",
          "Node Vejle..<br>OP:0<br>Reads:0<br>Comments:1",
          "Node Marianne Beck<br>OP:0<br>Reads:0<br>Comments:1",
          "Node Jeg ved da<br>OP:0<br>Reads:0<br>Comments:1",
          "Node mmmhhh<br>OP:0<br>Reads:0<br>Comments:1",
          "Node Gitte Olsen<br>OP:0<br>Reads:0<br>Comments:1",
          "Node KitSchouby<br>OP:0<br>Reads:0<br>Comments:1",
          "Node Skingur<br>OP:0<br>Reads:0<br>Comments:2",
          "Node westlife<br>OP:0<br>Reads:0<br>Comments:1",
          "Node Hvor har jeg redet?<br>OP:0<br>Reads:0<br>Comments:1",
          "Node Blomst og trolle<3<br>OP:0<br>Reads:0<br>Comments:1",
          "Node Robsen<br>OP:0<br>Reads:0<br>Comments:1",
          "Node Pia H.<br>OP:0<br>Reads:0<br>Comments:1",
          "Node Alice Nielsen<br>OP:0<br>Reads:0<br>Comments:1",
          "Node Line & Tatoo<br>OP:0<br>Reads:0<br>Comments:1",
          "Node Pernilleblom<br>OP:0<br>Reads:0<br>Comments:1",
          "Node Krohne<br>OP:0<br>Reads:0<br>Comments:1",
          "Node Rideskoler<br>OP:0<br>Reads:0<br>Comments:1",
          "Node LineG<br>OP:0<br>Reads:0<br>Comments:1",
          "Node Winnie J<br>OP:0<br>Reads:0<br>Comments:1",
          "Node Patricia<br>OP:0<br>Reads:0<br>Comments:1",
          "Node Linnea (Jay-Jay og Figo)<br>OP:0<br>Reads:0<br>Comments:1",
          "Node Linse *Dejó*<br>OP:0<br>Reads:0<br>Comments:1",
          "Node Rideklubber<br>OP:0<br>Reads:0<br>Comments:1",
          "Node Årstal??<br>OP:0<br>Reads:0<br>Comments:1",
          "Node jepsem (marianne)<br>OP:0<br>Reads:0<br>Comments:1",
          "Node Spirrevippen ♥Bianca♥<br>OP:0<br>Reads:0<br>Comments:1",
          "Node hmm...<br>OP:0<br>Reads:0<br>Comments:1",
          "Node boombastic ♥helena♥<br>OP:0<br>Reads:0<br>Comments:1",
          "Node DortheL<br>OP:0<br>Reads:0<br>Comments:1",
          "Node istebjerg<br>OP:0<br>Reads:0<br>Comments:1",
          "Node lisbethdue<br>OP:0<br>Reads:0<br>Comments:1",
          "Node silas<br>OP:0<br>Reads:0<br>Comments:1",
          "Node Håhåhåh<br>OP:0<br>Reads:0<br>Comments:1",
          "Node ddd<br>OP:0<br>Reads:0<br>Comments:1",
          "Node dressurtante<br>OP:0<br>Reads:0<br>Comments:1",
          "Node sarah-ann<br>OP:0<br>Reads:0<br>Comments:1",
          "Node Pauline ♥Cæsar♥<br>OP:0<br>Reads:0<br>Comments:1",
          "Node MiniBaah<br>OP:0<br>Reads:0<br>Comments:1",
          "Node suprise (Karina Serup Jensen)<br>OP:0<br>Reads:0<br>Comments:1",
          "Node Michelle Molin<br>OP:0<br>Reads:0<br>Comments:1",
          "Node juva ♥juva♥<br>OP:0<br>Reads:0<br>Comments:2",
          "Node Katrine elsker ♥Nicklas-Walle&#<br>OP:0<br>Reads:0<br>Comments:1",
          "Node Columbus<br>OP:0<br>Reads:0<br>Comments:1",
          "Node jeg har<br>OP:0<br>Reads:0<br>Comments:1",
          "Node Beagle<br>OP:0<br>Reads:0<br>Comments:1",
          "Node Søger!<br>OP:0<br>Reads:0<br>Comments:1",
          "Node stella 2<br>OP:0<br>Reads:0<br>Comments:1",
          "Node 2 steder<br>OP:0<br>Reads:0<br>Comments:1",
          "Node Lizza<br>OP:0<br>Reads:0<br>Comments:1",
          "Node Lennert<br>OP:0<br>Reads:0<br>Comments:1",
          "Node Lamos ♥lobri♥<br>OP:0<br>Reads:0<br>Comments:1",
          "Node www kaabers dk<br>OP:0<br>Reads:0<br>Comments:1",
          "Node Skovbakkens ♥Avalon♥<br>OP:0<br>Reads:0<br>Comments:1",
          "Node Smukkemigigen<br>OP:0<br>Reads:0<br>Comments:1",
          "Node Guest<br>OP:1<br>Reads:1<br>Comments:0",
          "Node Sif<br>OP:0<br>Reads:0<br>Comments:28",
          "Node ChatGPT blev trænet af danske hestetøser<br>OP:1<br>Reads:5<br>Comments:0",
          "Node Leon Derczynski<br>OP:0<br>Reads:0<br>Comments:1",
          "Node Doctor Who<br>OP:3<br>Reads:35<br>Comments:49",
          "Node HundeGitteMor<br>OP:0<br>Reads:0<br>Comments:3",
          "Node Henrik (HN)<br>OP:0<br>Reads:0<br>Comments:1",
          "Node Tine A (3)<br>OP:1<br>Reads:3<br>Comments:6",
          "Node Kristensen<br>OP:1<br>Reads:3<br>Comments:0",
          "Node sundancer<br>OP:0<br>Reads:0<br>Comments:1",
          "Node Caro (Connery)<br>OP:1<br>Reads:2<br>Comments:0",
          "Node Lars S (5)<br>OP:1<br>Reads:1<br>Comments:0",
          "Node Dorte Hansen<br>OP:0<br>Reads:0<br>Comments:7",
          "Node Winnie *Bøge*<br>OP:1<br>Reads:17<br>Comments:0",
          "Node tije *Fylkir*<br>OP:0<br>Reads:0<br>Comments:1",
          "Node Bissen (tidl Duke)<br>OP:0<br>Reads:0<br>Comments:1",
          "Node GoldFish<br>OP:0<br>Reads:0<br>Comments:1",
          "Node LP-mor (Sanne)<br>OP:0<br>Reads:0<br>Comments:2",
          "Node SigneKryger<br>OP:0<br>Reads:0<br>Comments:1",
          "Node CecilieP<br>OP:0<br>Reads:0<br>Comments:1",
          "Node Sine (Aslan)<br>OP:0<br>Reads:0<br>Comments:2",
          "Node Lene *Loppe*<br>OP:0<br>Reads:0<br>Comments:2",
          "Node Canis Lupus ♥No Joke♥<br>OP:0<br>Reads:0<br>Comments:1",
          "Node Lenuccia<br>OP:0<br>Reads:0<br>Comments:4",
          "Node Margueritten<br>OP:0<br>Reads:0<br>Comments:1",
          "Node Kirstine 1990<br>OP:1<br>Reads:2<br>Comments:2",
          "Node JP The Farrier<br>OP:0<br>Reads:0<br>Comments:1",
          "Node Ibh<br>OP:0<br>Reads:0<br>Comments:13",
          "Node Charlotte (Stutteri Lund)<br>OP:0<br>Reads:0<br>Comments:15",
          "Node Katrine N (6)<br>OP:1<br>Reads:0<br>Comments:0",
          "Node Helle Jesbjerg<br>OP:1<br>Reads:9<br>Comments:1",
          "Node fireblade<br>OP:0<br>Reads:0<br>Comments:3",
          "Node HelleA<br>OP:1<br>Reads:2<br>Comments:0",
          "Node Jan Petersen<br>OP:0<br>Reads:0<br>Comments:5",
          "Node Jens B<br>OP:1<br>Reads:2<br>Comments:1",
          "Node Asta 2<br>OP:1<br>Reads:1<br>Comments:0",
          "Node Shagya<br>OP:1<br>Reads:2<br>Comments:0",
          "Node DitteH<br>OP:3<br>Reads:18<br>Comments:13",
          "Node suldudu ♣annette♣<br>OP:0<br>Reads:0<br>Comments:6",
          "Node Rie W<br>OP:3<br>Reads:3<br>Comments:0",
          "Node Asp6700<br>OP:1<br>Reads:3<br>Comments:0",
          "Node Christoffer K (2)<br>OP:0<br>Reads:0<br>Comments:1",
          "Node DankyWank<br>OP:1<br>Reads:2<br>Comments:1",
          "Node Casper L<br>OP:0<br>Reads:0<br>Comments:1",
          "Node gamergirl<br>OP:0<br>Reads:0<br>Comments:1",
          "Node Jensteuchler<br>OP:1<br>Reads:0<br>Comments:0",
          "Node Tina *Turpin*<br>OP:0<br>Reads:0<br>Comments:2",
          "Node Stine B (11)<br>OP:0<br>Reads:0<br>Comments:1",
          "Node sprit<br>OP:1<br>Reads:2<br>Comments:2",
          "Node Aunsoegaard<br>OP:1<br>Reads:0<br>Comments:0",
          "Node Hippocampus<br>OP:1<br>Reads:8<br>Comments:1",
          "Node Bella Donna<br>OP:0<br>Reads:0<br>Comments:3",
          "Node lefab98 (Lene Farving)<br>OP:0<br>Reads:0<br>Comments:1",
          "Node Thomas L (7)<br>OP:1<br>Reads:2<br>Comments:0",
          "Node Undgå skader med allround-fitness<br>OP:1<br>Reads:1<br>Comments:0",
          "Node Nordvig (Lusitano)<br>OP:1<br>Reads:6<br>Comments:1",
          "Node hesteprut<br>OP:0<br>Reads:0<br>Comments:2",
          "Node Fængselsbetjent<br>OP:0<br>Reads:0<br>Comments:1",
          "Node Stengården<br>OP:0<br>Reads:0<br>Comments:1",
          "Node Lykkefod<br>OP:0<br>Reads:0<br>Comments:1",
          "Node Dennis J<br>OP:1<br>Reads:6<br>Comments:0",
          "Node Jac (2)<br>OP:0<br>Reads:0<br>Comments:1",
          "Node Nfregerslev<br>OP:0<br>Reads:0<br>Comments:1",
          "Node Louis S<br>OP:0<br>Reads:0<br>Comments:1",
          "Node Camilla S 2<br>OP:1<br>Reads:0<br>Comments:0",
          "Node Michelle (pepita)<br>OP:1<br>Reads:4<br>Comments:0",
          "Node Kirstine T<br>OP:1<br>Reads:1<br>Comments:0",
          "Node Megan Maria<br>OP:1<br>Reads:4<br>Comments:0",
          "Node Xandi C<br>OP:0<br>Reads:0<br>Comments:1",
          "Node Chriller »Muffi«<br>OP:0<br>Reads:0<br>Comments:4",
          "Node Mustang (Mustang)<br>OP:1<br>Reads:0<br>Comments:0",
          "Node Nicoline O (2)<br>OP:1<br>Reads:1<br>Comments:0",
          "Node Stig A<br>OP:1<br>Reads:5<br>Comments:0",
          "Node Trine 9<br>OP:0<br>Reads:0<br>Comments:1",
          "Node Billedbog<br>OP:1<br>Reads:2<br>Comments:0",
          "Node Johnny D<br>OP:0<br>Reads:0<br>Comments:2",
          "Node Kasper L<br>OP:1<br>Reads:1<br>Comments:0",
          "Node Aglaia<br>OP:1<br>Reads:0<br>Comments:0",
          "Node sakra<br>OP:1<br>Reads:28<br>Comments:1",
          "Node Danmakine »Basse«<br>OP:0<br>Reads:0<br>Comments:2",
          "Node Mette D ♥Annabel og Gabby♥<br>OP:0<br>Reads:0<br>Comments:1",
          "Node Mette (Fjolle)<br>OP:1<br>Reads:18<br>Comments:1",
          "Node Lorina<br>OP:0<br>Reads:0<br>Comments:1",
          "Node nordbakker<br>OP:0<br>Reads:0<br>Comments:1",
          "Node nedsættende<br>OP:0<br>Reads:0<br>Comments:1",
          "Node Charlotte ♣Stutteri Lund♣<br>OP:0<br>Reads:0<br>Comments:2",
          "Node Mrsheaven<br>OP:0<br>Reads:0<br>Comments:1",
          "Node Kom til<br>OP:0<br>Reads:0<br>Comments:1",
          "Node Keppie<br>OP:0<br>Reads:0<br>Comments:1",
          "Node Vestlands-<br>OP:0<br>Reads:0<br>Comments:1",
          "Node 123456<br>OP:0<br>Reads:0<br>Comments:1",
          "Node Opprinnelig<br>OP:0<br>Reads:0<br>Comments:1",
          "Node arose<br>OP:0<br>Reads:0<br>Comments:1",
          "Node Stephanie-8b<br>OP:0<br>Reads:0<br>Comments:3",
          "Node StaldES<br>OP:0<br>Reads:0<br>Comments:2",
          "Node Gurli<br>OP:0<br>Reads:0<br>Comments:1",
          "Node Line Weber<br>OP:0<br>Reads:0<br>Comments:1",
          "Node Andreas N<br>OP:0<br>Reads:0<br>Comments:1",
          "Node Omar R<br>OP:1<br>Reads:2<br>Comments:1",
          "Node mylady<br>OP:0<br>Reads:0<br>Comments:1",
          "Node Webshop<br>OP:0<br>Reads:0<br>Comments:1",
          "Node Juli222n<br>OP:1<br>Reads:1<br>Comments:0",
          "Node Lilje W<br>OP:1<br>Reads:2<br>Comments:1",
          "Node RC 1<br>OP:1<br>Reads:2<br>Comments:0",
          "Node magnus ♥magnus♥<br>OP:0<br>Reads:0<br>Comments:10",
          "Node Brando<br>OP:0<br>Reads:0<br>Comments:1",
          "Node Sådan indretter du et godt hjemmekontor<br>OP:1<br>Reads:1<br>Comments:0",
          "Node Linnea N<br>OP:0<br>Reads:0<br>Comments:1",
          "Node kogde<br>OP:1<br>Reads:20<br>Comments:1",
          "Node jannej<br>OP:0<br>Reads:0<br>Comments:1",
          "Node maria3<br>OP:0<br>Reads:0<br>Comments:1",
          "Node Sylvester ♥Bigumsgårds Dinab<br>OP:0<br>Reads:0<br>Comments:1",
          "Node Kongehøj<br>OP:0<br>Reads:0<br>Comments:1",
          "Node freya 1<br>OP:0<br>Reads:0<br>Comments:1",
          "Node PrettyFancy<br>OP:0<br>Reads:0<br>Comments:1",
          "Node dusty<br>OP:0<br>Reads:0<br>Comments:1",
          "Node Trine7 *Trine*<br>OP:0<br>Reads:0<br>Comments:1",
          "Node Ronni A<br>OP:0<br>Reads:0<br>Comments:1",
          "Node Kristian (4)<br>OP:1<br>Reads:0<br>Comments:2",
          "Node Daisy G<br>OP:0<br>Reads:0<br>Comments:2",
          "Node Sanne A<br>OP:1<br>Reads:5<br>Comments:1",
          "Node SeniorHeavy<br>OP:0<br>Reads:0<br>Comments:1",
          "Node Stine ♥Elena♥<br>OP:1<br>Reads:2<br>Comments:0",
          "Node Ida J (7)<br>OP:1<br>Reads:3<br>Comments:1",
          "Node Photoshop ?<br>OP:1<br>Reads:7<br>Comments:0",
          "Node pony-mor<br>OP:0<br>Reads:0<br>Comments:1",
          "Node Photoshop<br>OP:0<br>Reads:0<br>Comments:1",
          "Node holder mig også<br>OP:0<br>Reads:0<br>Comments:1",
          "Node Qian H<br>OP:0<br>Reads:0<br>Comments:1",
          "Node Thomas H (2)<br>OP:0<br>Reads:0<br>Comments:1",
          "Node Laura B (13)<br>OP:1<br>Reads:10<br>Comments:0",
          "Node Michael B 1<br>OP:1<br>Reads:1<br>Comments:0",
          "Node Else S<br>OP:1<br>Reads:1<br>Comments:0",
          "Node Hectoria<br>OP:0<br>Reads:0<br>Comments:1",
          "Node Annette S<br>OP:0<br>Reads:0<br>Comments:1",
          "Node Julie (15)<br>OP:0<br>Reads:0<br>Comments:1",
          "Node oxalia<br>OP:0<br>Reads:0<br>Comments:1",
          "Node Claus Poulsen<br>OP:0<br>Reads:0<br>Comments:2",
          "Node Kira Marie G<br>OP:1<br>Reads:0<br>Comments:0",
          "Node Iwanna humbalot<br>OP:1<br>Reads:1<br>Comments:0",
          "Node Aw5<br>OP:1<br>Reads:6<br>Comments:1",
          "Node Cupra diamond owner<br>OP:0<br>Reads:0<br>Comments:1",
          "Node Kirsten H (5)<br>OP:1<br>Reads:5<br>Comments:0",
          "Node Alb Pp<br>OP:1<br>Reads:3<br>Comments:0",
          "Node Anette B (3)<br>OP:1<br>Reads:3<br>Comments:0",
          "Node Rikkekronborg98<br>OP:1<br>Reads:1<br>Comments:0"
         ],
         "textposition": "bottom center",
         "type": "scatter",
         "x": [
          0.6122709083415355,
          -0.7170650310644464,
          0.6795480602530308,
          0.7034040411441738,
          0.6127458712130954,
          -0.3255627486889658,
          -0.4434849993429801,
          -0.2435713467663882,
          -0.3648281478541854,
          -0.26700116166692867,
          -0.3274858280328393,
          -0.37950864595233763,
          -0.29512111999535406,
          -0.22772985941727616,
          -0.2401524817321893,
          -0.23382295195031094,
          -0.35638172703265714,
          -0.28312422116840297,
          -0.3683602227568406,
          -0.26135262140535365,
          -0.3079398747181694,
          -0.23440824765148918,
          -0.26447723790826594,
          -0.2888854178782356,
          -0.2708315965307912,
          -0.270032534066084,
          -0.2913259607568438,
          -0.21130483193519692,
          -0.37802054526944984,
          -0.32081771304530715,
          -0.3281436694466519,
          -0.3499160828683401,
          -0.3513540041885871,
          -0.28247550055354137,
          -0.23699187276398384,
          -0.20159137064735336,
          -0.3400229674633977,
          -0.3751663366725097,
          -0.24954517309617907,
          -0.213948356636603,
          -0.36730088693509017,
          -0.24340925445940798,
          -0.20749147521427727,
          -0.25349726684640633,
          -0.24530978842831605,
          -0.2554955451634762,
          -0.23876800667474055,
          -0.33414207657995576,
          -0.2874227567933295,
          -0.21771859849912995,
          -0.18429054761741115,
          -0.2719884772948847,
          -0.25485101670360705,
          -0.2913277497543107,
          -0.24476886942934895,
          -0.20164965075345923,
          -0.25259263800258325,
          -0.19285360776410101,
          -0.3600280780558659,
          -0.34682725593783365,
          -0.2676446077823402,
          -0.277269342820492,
          -0.25985794467781265,
          -0.34481249201564806,
          -0.30793016312659677,
          -0.3083559640545524,
          -0.33201307113335976,
          -0.280102217644692,
          -0.2213605712775522,
          -0.2691176243922654,
          -0.2676387185179441,
          -0.2974637431122788,
          -0.22687729615798216,
          -0.22330699775540735,
          -0.2934029192294529,
          -0.23002399549586455,
          -0.27487526413311075,
          -0.21414601736158376,
          -0.21265867316210993,
          0.9255394028344679,
          0.2298323805166955,
          0.474698289970176,
          0.4927897602820021,
          0.1646453154966068,
          0.23556112698397533,
          0.48842158717276657,
          0.0437748939618648,
          0.6879247755234068,
          0.5445815716970716,
          -0.5815616002206131,
          0.9369823346185139,
          0.19930981387036972,
          -0.7139256408372965,
          -0.7016380190169816,
          -0.6160277001494617,
          -0.6262595069108626,
          -0.48116781586202845,
          -0.4986818591429964,
          -0.48586131584141184,
          -0.672375055928048,
          0.14051026016999357,
          -0.672795643153309,
          -0.059696407640571006,
          -0.7554129481291196,
          -0.6905086679611567,
          -0.5335342828970374,
          0.3026749944828187,
          -0.011867773695438854,
          -0.6761707610645019,
          0.7194771116139637,
          0.7206963450800427,
          0.2543877254821752,
          0.34551425248859874,
          0.3678021806348907,
          0.4401029618555081,
          -0.05954295325889192,
          0.15596097700495226,
          0.4518668147902705,
          0.9179836820053203,
          -0.2225166710568047,
          -0.17522375813142013,
          -0.45168286666982355,
          -0.34547900431252454,
          -0.4082870565220193,
          0.9637725040144979,
          -0.1715612917400323,
          0.16175419497563487,
          -0.4514664101489748,
          -0.29840000666830463,
          0.532095836601452,
          0.020135158256415837,
          0.5052840644121918,
          0.7651742016983081,
          -0.6769538775059221,
          0.26390096876977254,
          0.2050467900854879,
          0.2865260392553608,
          0.20869393442410364,
          0.21456742821544952,
          0.12102201292419396,
          0.11771130920952563,
          0.11518580991660239,
          0.11976930891048886,
          0.601636194158051,
          -0.706433878915072,
          0.9727202926617136,
          0.9444920466434416,
          0.8661464872611282,
          0.3939797157499085,
          0.7159347419999766,
          0.4904084396970068,
          -0.7183163607107037,
          -0.5904329977003808,
          0.7515123052206634,
          0.801373077221317,
          0.8655852537829597,
          0.44552560651020234,
          -0.5635107008650819,
          0.21541083017481824,
          -0.37353176064209526,
          -0.5087690471246665,
          -0.5295248150309482,
          -0.3526792808680058,
          -0.49135409031257726,
          -0.3797446047857611,
          -0.4700197126365591,
          -0.4636330447025639,
          -0.47270258476747984,
          -0.4556498694900348,
          -0.47808412479517665,
          -0.5581245280031916,
          -0.46192349025789275,
          -0.45082975180400575,
          -0.5251907839501939,
          -0.42395524296003856,
          -0.5047396895482043,
          -0.5443149031102871,
          -0.7560087601970051,
          0.1604052917068496,
          0.18071745988548885,
          0.8584992600909274,
          0.5390093764259318,
          0.664217449336334,
          0.4748600384360227,
          0.4934918324078826,
          -0.02115361906336079,
          -0.011084723997327222,
          0.9950937460174407,
          0.8612559479605705,
          0.9831956529818883,
          0.8217815862159147,
          0.8720110213329421,
          0.9225725877890698,
          0.9232046780458525,
          0.8328293331769736,
          0.8601408899809686,
          0.7329535197399708,
          0.6307299802119399,
          0.7329963499824741,
          0.8986851340843501,
          0.707210674431891,
          -0.6238088800981461,
          -0.6708676194055986,
          0.8994566232892681,
          0.8675228506918646,
          0.8121241483258763,
          0.8739959571665671,
          0.790282650628817,
          0.7293737229904338,
          0.8766793169329261,
          -0.6445561647306692,
          0.8082382293998813,
          -0.39303823000745886,
          -0.4096664586693488,
          -0.41339093854533476,
          -0.3822349487707261,
          0.21220162827471178,
          -0.7290991729018543,
          -0.5062110950116462,
          0.2680640236097584,
          0.2553741924645238,
          0.9665595046179497,
          0.9338210296988281,
          0.8449799295579185,
          -0.7133792616020025
         ],
         "y": [
          -0.685741677509196,
          0.15149814385031096,
          0.5181349530722674,
          0.5360151048971561,
          0.44531183731933016,
          0.5691700953210147,
          -0.05600785195807808,
          0.5462094650429729,
          0.5966515391357271,
          0.6014461623795916,
          0.4934710097561479,
          0.6064377659558094,
          0.47881030798323976,
          0.5070796686364624,
          0.4218604196175833,
          0.4289507040392642,
          0.5292469087251537,
          0.4748965601062905,
          0.5249790930974171,
          0.5332794070369642,
          0.4859048470846817,
          0.4943140532303255,
          0.5671722469868418,
          0.5280786628263497,
          0.5060589922676838,
          0.4712687419172821,
          0.6168814500936841,
          0.4125582150846297,
          0.5474026851925603,
          0.5116199282146151,
          0.5296775969943206,
          0.5506731388735794,
          0.625191630291784,
          0.6073921182043152,
          0.5157616834118446,
          0.4001323181153277,
          0.614093444038278,
          0.5619307138961674,
          0.5789069326785897,
          0.46410291978385687,
          0.620670606941668,
          0.5012636405257129,
          0.4258674980946378,
          0.49384918679139195,
          0.5296715043272759,
          0.46638463220089027,
          0.47578462735176713,
          0.5044843974648592,
          0.5486574517511718,
          0.41854931724868955,
          0.39034983349528635,
          0.5840306847316874,
          0.44345992009859503,
          0.5818749365926461,
          0.4549187663101609,
          0.4342292501882568,
          0.48007505816748686,
          0.39823518466772706,
          0.5702011914816029,
          0.502228124340601,
          0.5559928461612075,
          0.618636495420364,
          0.5794346568188443,
          0.5601431977655805,
          0.5074425242710497,
          0.5692894847955601,
          0.6304288167969494,
          0.4540373211185876,
          0.45555549668939216,
          0.45837981358975194,
          0.48666439531064426,
          0.5171827199499276,
          0.43676973990752876,
          0.47725473099475574,
          0.6072065458078002,
          0.446709882019343,
          0.5389081687483281,
          0.40168156003204003,
          0.4434016011918702,
          0.28749916063984005,
          -0.28184349367967193,
          -0.7717249811867793,
          -0.7921807193064694,
          -0.32387581066542553,
          -0.368907598041339,
          -0.7470344318739347,
          -0.26968530714625477,
          0.5922688577631033,
          0.4120217119677417,
          -0.3750237294829291,
          -0.4119463654854348,
          -0.26327145837820004,
          -0.18820777119109697,
          -0.16128227335668271,
          -0.15779194236666555,
          -0.16630280218333013,
          -0.1385305834804736,
          -0.137501100685749,
          -0.14559054948848946,
          -0.17148854354513887,
          -0.11238968831834903,
          -0.18998283869564986,
          -0.23134186789651795,
          -0.1950367381737666,
          -0.0499208713629494,
          -0.144910500534153,
          -0.12405464610726553,
          -0.5011122382226817,
          -0.39834741967241394,
          -0.5185173611930844,
          -0.5017402025420723,
          -0.8669318547665908,
          -0.46055131176130926,
          -0.8670966384302418,
          0.6688286850948347,
          -0.8778176585588037,
          -0.5960452528963717,
          -0.47476544009310134,
          -0.5113452761078161,
          -0.9275903180540116,
          -0.7578575961622471,
          0.18914274781850193,
          0.14378926927058677,
          0.1578256243288562,
          -0.3182385553504564,
          -0.4922527466583907,
          -0.3510803220751595,
          -0.6077885337922622,
          0.6055057925405595,
          -0.810502724745146,
          -0.7824595274501946,
          -0.816316055201549,
          -0.7613460075705653,
          0.0872279665387343,
          0.7073347179011468,
          0.5394652195692213,
          0.6986259039940202,
          0.5227333660533436,
          0.5660029980539018,
          -1,
          -0.9262112573447282,
          -0.7885731298845555,
          -0.9512458980392485,
          -0.8394649965679611,
          -0.43883194840246514,
          0.13853601728284012,
          -0.21798449608508366,
          -0.19824297828939685,
          -0.1835202749675608,
          -0.6364006571062928,
          0.6061341509321366,
          0.2663630517552909,
          0.23673769366078357,
          0.4115929608456405,
          0.32776835087679734,
          0.25129110629706686,
          -0.9493971503306131,
          -0.6805111361245042,
          -0.35829129362182,
          -0.5320913814344731,
          -0.6608731791284745,
          -0.6995725117066083,
          -0.5015279332264841,
          -0.6211190556813283,
          -0.526939782553483,
          -0.5980464421191531,
          -0.5851773596075062,
          -0.581433789946488,
          -0.5837372003489667,
          -0.6240060722538854,
          -0.653619022129618,
          -0.6085002201916926,
          -0.5899411562618608,
          -0.6483253843220746,
          -0.5611934236644699,
          -0.6187005448426964,
          -0.6970467674942835,
          -0.26312500432687197,
          -0.6278374283380588,
          -0.601424145404505,
          0.4294123641477072,
          0.5492462705891169,
          0.4652754048709136,
          -0.23333099684341982,
          0.3056980111207956,
          -0.9420042633431721,
          -0.8628864603274397,
          -0.036008251951422106,
          -0.03870031666581418,
          -0.05879886201550032,
          -0.04222068973001877,
          -0.03860675992088768,
          -0.04995403731766088,
          -0.03505343087123557,
          -0.04802642923113523,
          -0.05067244090655062,
          -0.05351243379357998,
          -0.5041844925615908,
          -0.04609595757167147,
          -0.29222155013595164,
          -0.21812687095658934,
          -0.47041378598148875,
          0.25938902732556096,
          0.2477634402223054,
          0.26516205397994236,
          0.21956061640946947,
          0.22588083776826734,
          0.2124773681037354,
          0.1887027560444133,
          -0.5990262283698223,
          0.3942285667916583,
          -0.6375012065522917,
          -0.5671812674338748,
          -0.58741616846362,
          -0.6038911028963592,
          -0.5676469189223375,
          -0.27906481169628045,
          0.04514109610376274,
          0.3845517541646798,
          -0.9734852263228161,
          -0.923214897000036,
          0.03676258552199078,
          0.10273115465504451,
          -0.3675627306898136,
          -0.33015514270132024
         ]
        }
       ],
       "layout": {
        "height": 800,
        "hovermode": "closest",
        "margin": {
         "b": 0,
         "l": 0,
         "r": 0,
         "t": 0
        },
        "showlegend": false,
        "template": {
         "data": {
          "bar": [
           {
            "error_x": {
             "color": "#2a3f5f"
            },
            "error_y": {
             "color": "#2a3f5f"
            },
            "marker": {
             "line": {
              "color": "#E5ECF6",
              "width": 0.5
             },
             "pattern": {
              "fillmode": "overlay",
              "size": 10,
              "solidity": 0.2
             }
            },
            "type": "bar"
           }
          ],
          "barpolar": [
           {
            "marker": {
             "line": {
              "color": "#E5ECF6",
              "width": 0.5
             },
             "pattern": {
              "fillmode": "overlay",
              "size": 10,
              "solidity": 0.2
             }
            },
            "type": "barpolar"
           }
          ],
          "carpet": [
           {
            "aaxis": {
             "endlinecolor": "#2a3f5f",
             "gridcolor": "white",
             "linecolor": "white",
             "minorgridcolor": "white",
             "startlinecolor": "#2a3f5f"
            },
            "baxis": {
             "endlinecolor": "#2a3f5f",
             "gridcolor": "white",
             "linecolor": "white",
             "minorgridcolor": "white",
             "startlinecolor": "#2a3f5f"
            },
            "type": "carpet"
           }
          ],
          "choropleth": [
           {
            "colorbar": {
             "outlinewidth": 0,
             "ticks": ""
            },
            "type": "choropleth"
           }
          ],
          "contour": [
           {
            "colorbar": {
             "outlinewidth": 0,
             "ticks": ""
            },
            "colorscale": [
             [
              0,
              "#0d0887"
             ],
             [
              0.1111111111111111,
              "#46039f"
             ],
             [
              0.2222222222222222,
              "#7201a8"
             ],
             [
              0.3333333333333333,
              "#9c179e"
             ],
             [
              0.4444444444444444,
              "#bd3786"
             ],
             [
              0.5555555555555556,
              "#d8576b"
             ],
             [
              0.6666666666666666,
              "#ed7953"
             ],
             [
              0.7777777777777778,
              "#fb9f3a"
             ],
             [
              0.8888888888888888,
              "#fdca26"
             ],
             [
              1,
              "#f0f921"
             ]
            ],
            "type": "contour"
           }
          ],
          "contourcarpet": [
           {
            "colorbar": {
             "outlinewidth": 0,
             "ticks": ""
            },
            "type": "contourcarpet"
           }
          ],
          "heatmap": [
           {
            "colorbar": {
             "outlinewidth": 0,
             "ticks": ""
            },
            "colorscale": [
             [
              0,
              "#0d0887"
             ],
             [
              0.1111111111111111,
              "#46039f"
             ],
             [
              0.2222222222222222,
              "#7201a8"
             ],
             [
              0.3333333333333333,
              "#9c179e"
             ],
             [
              0.4444444444444444,
              "#bd3786"
             ],
             [
              0.5555555555555556,
              "#d8576b"
             ],
             [
              0.6666666666666666,
              "#ed7953"
             ],
             [
              0.7777777777777778,
              "#fb9f3a"
             ],
             [
              0.8888888888888888,
              "#fdca26"
             ],
             [
              1,
              "#f0f921"
             ]
            ],
            "type": "heatmap"
           }
          ],
          "heatmapgl": [
           {
            "colorbar": {
             "outlinewidth": 0,
             "ticks": ""
            },
            "colorscale": [
             [
              0,
              "#0d0887"
             ],
             [
              0.1111111111111111,
              "#46039f"
             ],
             [
              0.2222222222222222,
              "#7201a8"
             ],
             [
              0.3333333333333333,
              "#9c179e"
             ],
             [
              0.4444444444444444,
              "#bd3786"
             ],
             [
              0.5555555555555556,
              "#d8576b"
             ],
             [
              0.6666666666666666,
              "#ed7953"
             ],
             [
              0.7777777777777778,
              "#fb9f3a"
             ],
             [
              0.8888888888888888,
              "#fdca26"
             ],
             [
              1,
              "#f0f921"
             ]
            ],
            "type": "heatmapgl"
           }
          ],
          "histogram": [
           {
            "marker": {
             "pattern": {
              "fillmode": "overlay",
              "size": 10,
              "solidity": 0.2
             }
            },
            "type": "histogram"
           }
          ],
          "histogram2d": [
           {
            "colorbar": {
             "outlinewidth": 0,
             "ticks": ""
            },
            "colorscale": [
             [
              0,
              "#0d0887"
             ],
             [
              0.1111111111111111,
              "#46039f"
             ],
             [
              0.2222222222222222,
              "#7201a8"
             ],
             [
              0.3333333333333333,
              "#9c179e"
             ],
             [
              0.4444444444444444,
              "#bd3786"
             ],
             [
              0.5555555555555556,
              "#d8576b"
             ],
             [
              0.6666666666666666,
              "#ed7953"
             ],
             [
              0.7777777777777778,
              "#fb9f3a"
             ],
             [
              0.8888888888888888,
              "#fdca26"
             ],
             [
              1,
              "#f0f921"
             ]
            ],
            "type": "histogram2d"
           }
          ],
          "histogram2dcontour": [
           {
            "colorbar": {
             "outlinewidth": 0,
             "ticks": ""
            },
            "colorscale": [
             [
              0,
              "#0d0887"
             ],
             [
              0.1111111111111111,
              "#46039f"
             ],
             [
              0.2222222222222222,
              "#7201a8"
             ],
             [
              0.3333333333333333,
              "#9c179e"
             ],
             [
              0.4444444444444444,
              "#bd3786"
             ],
             [
              0.5555555555555556,
              "#d8576b"
             ],
             [
              0.6666666666666666,
              "#ed7953"
             ],
             [
              0.7777777777777778,
              "#fb9f3a"
             ],
             [
              0.8888888888888888,
              "#fdca26"
             ],
             [
              1,
              "#f0f921"
             ]
            ],
            "type": "histogram2dcontour"
           }
          ],
          "mesh3d": [
           {
            "colorbar": {
             "outlinewidth": 0,
             "ticks": ""
            },
            "type": "mesh3d"
           }
          ],
          "parcoords": [
           {
            "line": {
             "colorbar": {
              "outlinewidth": 0,
              "ticks": ""
             }
            },
            "type": "parcoords"
           }
          ],
          "pie": [
           {
            "automargin": true,
            "type": "pie"
           }
          ],
          "scatter": [
           {
            "fillpattern": {
             "fillmode": "overlay",
             "size": 10,
             "solidity": 0.2
            },
            "type": "scatter"
           }
          ],
          "scatter3d": [
           {
            "line": {
             "colorbar": {
              "outlinewidth": 0,
              "ticks": ""
             }
            },
            "marker": {
             "colorbar": {
              "outlinewidth": 0,
              "ticks": ""
             }
            },
            "type": "scatter3d"
           }
          ],
          "scattercarpet": [
           {
            "marker": {
             "colorbar": {
              "outlinewidth": 0,
              "ticks": ""
             }
            },
            "type": "scattercarpet"
           }
          ],
          "scattergeo": [
           {
            "marker": {
             "colorbar": {
              "outlinewidth": 0,
              "ticks": ""
             }
            },
            "type": "scattergeo"
           }
          ],
          "scattergl": [
           {
            "marker": {
             "colorbar": {
              "outlinewidth": 0,
              "ticks": ""
             }
            },
            "type": "scattergl"
           }
          ],
          "scattermapbox": [
           {
            "marker": {
             "colorbar": {
              "outlinewidth": 0,
              "ticks": ""
             }
            },
            "type": "scattermapbox"
           }
          ],
          "scatterpolar": [
           {
            "marker": {
             "colorbar": {
              "outlinewidth": 0,
              "ticks": ""
             }
            },
            "type": "scatterpolar"
           }
          ],
          "scatterpolargl": [
           {
            "marker": {
             "colorbar": {
              "outlinewidth": 0,
              "ticks": ""
             }
            },
            "type": "scatterpolargl"
           }
          ],
          "scatterternary": [
           {
            "marker": {
             "colorbar": {
              "outlinewidth": 0,
              "ticks": ""
             }
            },
            "type": "scatterternary"
           }
          ],
          "surface": [
           {
            "colorbar": {
             "outlinewidth": 0,
             "ticks": ""
            },
            "colorscale": [
             [
              0,
              "#0d0887"
             ],
             [
              0.1111111111111111,
              "#46039f"
             ],
             [
              0.2222222222222222,
              "#7201a8"
             ],
             [
              0.3333333333333333,
              "#9c179e"
             ],
             [
              0.4444444444444444,
              "#bd3786"
             ],
             [
              0.5555555555555556,
              "#d8576b"
             ],
             [
              0.6666666666666666,
              "#ed7953"
             ],
             [
              0.7777777777777778,
              "#fb9f3a"
             ],
             [
              0.8888888888888888,
              "#fdca26"
             ],
             [
              1,
              "#f0f921"
             ]
            ],
            "type": "surface"
           }
          ],
          "table": [
           {
            "cells": {
             "fill": {
              "color": "#EBF0F8"
             },
             "line": {
              "color": "white"
             }
            },
            "header": {
             "fill": {
              "color": "#C8D4E3"
             },
             "line": {
              "color": "white"
             }
            },
            "type": "table"
           }
          ]
         },
         "layout": {
          "annotationdefaults": {
           "arrowcolor": "#2a3f5f",
           "arrowhead": 0,
           "arrowwidth": 1
          },
          "autotypenumbers": "strict",
          "coloraxis": {
           "colorbar": {
            "outlinewidth": 0,
            "ticks": ""
           }
          },
          "colorscale": {
           "diverging": [
            [
             0,
             "#8e0152"
            ],
            [
             0.1,
             "#c51b7d"
            ],
            [
             0.2,
             "#de77ae"
            ],
            [
             0.3,
             "#f1b6da"
            ],
            [
             0.4,
             "#fde0ef"
            ],
            [
             0.5,
             "#f7f7f7"
            ],
            [
             0.6,
             "#e6f5d0"
            ],
            [
             0.7,
             "#b8e186"
            ],
            [
             0.8,
             "#7fbc41"
            ],
            [
             0.9,
             "#4d9221"
            ],
            [
             1,
             "#276419"
            ]
           ],
           "sequential": [
            [
             0,
             "#0d0887"
            ],
            [
             0.1111111111111111,
             "#46039f"
            ],
            [
             0.2222222222222222,
             "#7201a8"
            ],
            [
             0.3333333333333333,
             "#9c179e"
            ],
            [
             0.4444444444444444,
             "#bd3786"
            ],
            [
             0.5555555555555556,
             "#d8576b"
            ],
            [
             0.6666666666666666,
             "#ed7953"
            ],
            [
             0.7777777777777778,
             "#fb9f3a"
            ],
            [
             0.8888888888888888,
             "#fdca26"
            ],
            [
             1,
             "#f0f921"
            ]
           ],
           "sequentialminus": [
            [
             0,
             "#0d0887"
            ],
            [
             0.1111111111111111,
             "#46039f"
            ],
            [
             0.2222222222222222,
             "#7201a8"
            ],
            [
             0.3333333333333333,
             "#9c179e"
            ],
            [
             0.4444444444444444,
             "#bd3786"
            ],
            [
             0.5555555555555556,
             "#d8576b"
            ],
            [
             0.6666666666666666,
             "#ed7953"
            ],
            [
             0.7777777777777778,
             "#fb9f3a"
            ],
            [
             0.8888888888888888,
             "#fdca26"
            ],
            [
             1,
             "#f0f921"
            ]
           ]
          },
          "colorway": [
           "#636efa",
           "#EF553B",
           "#00cc96",
           "#ab63fa",
           "#FFA15A",
           "#19d3f3",
           "#FF6692",
           "#B6E880",
           "#FF97FF",
           "#FECB52"
          ],
          "font": {
           "color": "#2a3f5f"
          },
          "geo": {
           "bgcolor": "white",
           "lakecolor": "white",
           "landcolor": "#E5ECF6",
           "showlakes": true,
           "showland": true,
           "subunitcolor": "white"
          },
          "hoverlabel": {
           "align": "left"
          },
          "hovermode": "closest",
          "mapbox": {
           "style": "light"
          },
          "paper_bgcolor": "white",
          "plot_bgcolor": "#E5ECF6",
          "polar": {
           "angularaxis": {
            "gridcolor": "white",
            "linecolor": "white",
            "ticks": ""
           },
           "bgcolor": "#E5ECF6",
           "radialaxis": {
            "gridcolor": "white",
            "linecolor": "white",
            "ticks": ""
           }
          },
          "scene": {
           "xaxis": {
            "backgroundcolor": "#E5ECF6",
            "gridcolor": "white",
            "gridwidth": 2,
            "linecolor": "white",
            "showbackground": true,
            "ticks": "",
            "zerolinecolor": "white"
           },
           "yaxis": {
            "backgroundcolor": "#E5ECF6",
            "gridcolor": "white",
            "gridwidth": 2,
            "linecolor": "white",
            "showbackground": true,
            "ticks": "",
            "zerolinecolor": "white"
           },
           "zaxis": {
            "backgroundcolor": "#E5ECF6",
            "gridcolor": "white",
            "gridwidth": 2,
            "linecolor": "white",
            "showbackground": true,
            "ticks": "",
            "zerolinecolor": "white"
           }
          },
          "shapedefaults": {
           "line": {
            "color": "#2a3f5f"
           }
          },
          "ternary": {
           "aaxis": {
            "gridcolor": "white",
            "linecolor": "white",
            "ticks": ""
           },
           "baxis": {
            "gridcolor": "white",
            "linecolor": "white",
            "ticks": ""
           },
           "bgcolor": "#E5ECF6",
           "caxis": {
            "gridcolor": "white",
            "linecolor": "white",
            "ticks": ""
           }
          },
          "title": {
           "x": 0.05
          },
          "xaxis": {
           "automargin": true,
           "gridcolor": "white",
           "linecolor": "white",
           "ticks": "",
           "title": {
            "standoff": 15
           },
           "zerolinecolor": "white",
           "zerolinewidth": 2
          },
          "yaxis": {
           "automargin": true,
           "gridcolor": "white",
           "linecolor": "white",
           "ticks": "",
           "title": {
            "standoff": 15
           },
           "zerolinecolor": "white",
           "zerolinewidth": 2
          }
         }
        },
        "width": 1200,
        "xaxis": {
         "showgrid": false,
         "showticklabels": false,
         "zeroline": false
        },
        "yaxis": {
         "showgrid": false,
         "showticklabels": false,
         "zeroline": false
        }
       }
      }
     },
     "metadata": {},
     "output_type": "display_data"
    }
   ],
   "source": [
    "# Layout\n",
    "pos = nx.spring_layout(G)\n",
    "\n",
    "# Collect edge weights into a list and normalize them\n",
    "edge_weights = [G.edges[edge]['weight'] for edge in G.edges()]\n",
    "max_weight = max(edge_weights)\n",
    "min_weight = min(edge_weights)\n",
    "\n",
    "# Initialize list to store edge traces\n",
    "edge_traces = []\n",
    "\n",
    "# Loop through each edge to create an edge trace\n",
    "for edge in G.edges():\n",
    "    x0, y0 = pos[edge[0]]\n",
    "    x1, y1 = pos[edge[1]]\n",
    "    \n",
    "    # Get edge weight and normalize it\n",
    "    weight = G.edges[edge]['weight']\n",
    "    normalized_weight = (weight - min_weight) / (max_weight - min_weight)\n",
    "    \n",
    "    edge_color = f'rgba(0,0,255,{normalized_weight+0.1})'\n",
    "    \n",
    "    edge_trace = go.Scatter(\n",
    "        x=[x0, x1, None],\n",
    "        y=[y0, y1, None],\n",
    "        line=dict(width=0.5, color=edge_color),\n",
    "        hoverinfo='none',\n",
    "        mode='lines'\n",
    "    )\n",
    "    \n",
    "    edge_traces.append(edge_trace)\n",
    "\n",
    "# Nodes\n",
    "node_x = []\n",
    "node_y = []\n",
    "node_text = []\n",
    "\n",
    "node_reads = [G.nodes[node].get('reads', 0) for node in G.nodes()]\n",
    "max_reads = max(node_reads)\n",
    "min_reads = min(node_reads)\n",
    "node_sizes = [(reads - min_reads)/(max_reads - min_reads) * 20 + 10 for reads in node_reads]\n",
    "\n",
    "\n",
    "for node in G.nodes():\n",
    "    x, y = pos[node]\n",
    "    node_x.append(x)\n",
    "    node_y.append(y)\n",
    "    # Sample node attributes (Replace this line with your actual node attributes)\n",
    "    node_text.append(f'Node {node}<br>OP:{G.nodes[node][\"OP_author\"]}<br>Reads:{G.nodes[node][\"reads\"]}<br>Comments:{G.nodes[node][\"comments\"]}')\n",
    "\n",
    "node_trace = go.Scatter(\n",
    "    x=node_x,\n",
    "    y=node_y,\n",
    "    mode='markers',\n",
    "    text=node_text,\n",
    "    textposition=\"bottom center\",\n",
    "    hoverinfo='text',\n",
    "    marker=dict(\n",
    "        showscale=True,\n",
    "        colorscale='YlGnBu',\n",
    "        size=node_sizes,  # Node sizes based on 'reads'\n",
    "        colorbar=dict(\n",
    "            thickness=15,\n",
    "            title='Node Color Scale',\n",
    "            xanchor='left',\n",
    "            titleside='right'\n",
    "        )\n",
    "    )\n",
    ")\n",
    "\n",
    "# Create the final figure\n",
    "fig = go.Figure(data=edge_traces + [node_trace],\n",
    "                layout=go.Layout(\n",
    "                    showlegend=False,\n",
    "                    hovermode='closest',\n",
    "                    margin=dict(b=0, l=0, r=0, t=0),\n",
    "                    xaxis=dict(showgrid=False, zeroline=False, showticklabels=False),\n",
    "                    yaxis=dict(showgrid=False, zeroline=False, showticklabels=False))\n",
    "                )\n",
    "\n",
    "fig.update_layout(\n",
    "    height=800,\n",
    "    width=1200\n",
    ")\n",
    "\n",
    "fig.show()"
   ]
  },
  {
   "cell_type": "code",
   "execution_count": 22,
   "metadata": {},
   "outputs": [],
   "source": [
    "# fig.write_html(\"graph_export.html\")"
   ]
  },
  {
   "cell_type": "code",
   "execution_count": 23,
   "metadata": {},
   "outputs": [
    {
     "data": {
      "text/plain": [
       "NodeView(('Nathalie O', 'Kia B', 'Isa V', 'Michael H (6)', 'Webarmen1', 'Camilla80', 'Jeanette O', 'Maja J', 'Kariiinaen', 'Metteweirsoe', 'anima', 'Team Pip (Helena)', 'ridesteder', 'Her...', 'vibha', '£isbeth (Baloo)', 'Ride steder', 'Berit & Lukas', 'Annecathrine', 'Jeg har redet', 'TheaDV', 'MetteLodberg', 'kopsa', 'De fleste...', 'Sasser', 'Vejle..', 'Marianne Beck', 'Jeg ved da', 'mmmhhh', 'Gitte Olsen', 'KitSchouby', 'Skingur', 'westlife', 'Hvor har jeg redet?', 'Blomst og trolle<3', 'Robsen', 'Pia H.', 'Alice Nielsen', 'Line & Tatoo', 'Pernilleblom', 'Krohne', 'Rideskoler', 'LineG', 'Winnie J', 'Patricia', 'Linnea (Jay-Jay og Figo)', 'Linse *Dejó*', 'Rideklubber', 'Årstal??', 'jepsem (marianne)', 'Spirrevippen ♥Bianca♥', 'hmm...', 'boombastic ♥helena♥', 'DortheL', 'istebjerg', 'lisbethdue', 'silas', 'Håhåhåh', 'ddd', 'dressurtante', 'sarah-ann', 'Pauline ♥Cæsar♥', 'MiniBaah', 'suprise (Karina Serup Jensen)', 'Michelle Molin', 'juva ♥juva♥', 'Katrine elsker ♥Nicklas-Walle&#', 'Columbus', 'jeg har', 'Beagle', 'Søger!', 'stella 2', '2 steder', 'Lizza', 'Lennert', 'Lamos ♥lobri♥', 'www kaabers dk', 'Skovbakkens ♥Avalon♥', 'Smukkemigigen', 'Guest', 'Sif', 'ChatGPT blev trænet af danske hestetøser', 'Leon Derczynski', 'Doctor Who', 'HundeGitteMor', 'Henrik (HN)', 'Tine A (3)', 'Kristensen', 'sundancer', 'Caro (Connery)', 'Lars S (5)', 'Dorte Hansen', 'Winnie *Bøge*', 'tije *Fylkir*', 'Bissen (tidl Duke)', 'GoldFish', 'LP-mor (Sanne)', 'SigneKryger', 'CecilieP', 'Sine (Aslan)', 'Lene *Loppe*', 'Canis Lupus ♥No Joke♥', 'Lenuccia', 'Margueritten', 'Kirstine 1990', 'JP The Farrier', 'Ibh', 'Charlotte (Stutteri Lund)', 'Katrine N (6)', 'Helle Jesbjerg', 'fireblade', 'HelleA', 'Jan Petersen', 'Jens B', 'Asta 2', 'Shagya', 'DitteH', 'suldudu ♣annette♣', 'Rie W', 'Asp6700', 'Christoffer K (2)', 'DankyWank', 'Casper L', 'gamergirl', 'Jensteuchler', 'Tina *Turpin*', 'Stine B (11)', 'sprit', 'Aunsoegaard', 'Hippocampus', 'Bella Donna', 'lefab98 (Lene Farving)', 'Thomas L (7)', 'Undgå skader med allround-fitness', 'Nordvig (Lusitano)', 'hesteprut', 'Fængselsbetjent', 'Stengården', 'Lykkefod', 'Dennis J', 'Jac (2)', 'Nfregerslev', 'Louis S', 'Camilla S 2', 'Michelle (pepita)', 'Kirstine T', 'Megan Maria', 'Xandi C', 'Chriller »Muffi«', 'Mustang (Mustang)', 'Nicoline O (2)', 'Stig A', 'Trine 9', 'Billedbog', 'Johnny D', 'Kasper L', 'Aglaia', 'sakra', 'Danmakine »Basse«', 'Mette D ♥Annabel og Gabby♥', 'Mette (Fjolle)', 'Lorina', 'nordbakker', 'nedsættende', 'Charlotte ♣Stutteri Lund♣', 'Mrsheaven', 'Kom til', 'Keppie', 'Vestlands-', '123456', 'Opprinnelig', 'arose', 'Stephanie-8b', 'StaldES', 'Gurli', 'Line Weber', 'Andreas N', 'Omar R', 'mylady', 'Webshop', 'Juli222n', 'Lilje W', 'RC 1', 'magnus ♥magnus♥', 'Brando', 'Sådan indretter du et godt hjemmekontor', 'Linnea N', 'kogde', 'jannej', 'maria3', 'Sylvester ♥Bigumsgårds Dinab', 'Kongehøj', 'freya 1', 'PrettyFancy', 'dusty', 'Trine7 *Trine*', 'Ronni A', 'Kristian (4)', 'Daisy G', 'Sanne A', 'SeniorHeavy', 'Stine ♥Elena♥', 'Ida J (7)', 'Photoshop ?', 'pony-mor', 'Photoshop', 'holder mig også', 'Qian H', 'Thomas H (2)', 'Laura B (13)', 'Michael B 1', 'Else S', 'Hectoria', 'Annette S', 'Julie (15)', 'oxalia', 'Claus Poulsen', 'Kira Marie G', 'Iwanna humbalot', 'Aw5', 'Cupra diamond owner', 'Kirsten H (5)', 'Alb Pp', 'Anette B (3)', 'Rikkekronborg98'))"
      ]
     },
     "execution_count": 23,
     "metadata": {},
     "output_type": "execute_result"
    }
   ],
   "source": [
    "G.nodes()"
   ]
  }
 ],
 "metadata": {
  "kernelspec": {
   "display_name": "py3.10_Venv",
   "language": "python",
   "name": "python3"
  },
  "language_info": {
   "codemirror_mode": {
    "name": "ipython",
    "version": 3
   },
   "file_extension": ".py",
   "mimetype": "text/x-python",
   "name": "python",
   "nbconvert_exporter": "python",
   "pygments_lexer": "ipython3",
   "version": "3.11.5"
  }
 },
 "nbformat": 4,
 "nbformat_minor": 2
}
