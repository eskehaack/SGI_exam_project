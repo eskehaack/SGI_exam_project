{
 "cells": [
  {
   "cell_type": "code",
   "execution_count": 1,
   "metadata": {},
   "outputs": [],
   "source": [
    "from tqdm import tqdm\n",
    "import requests\n",
    "from bs4 import BeautifulSoup\n",
    "import matplotlib.pyplot as plt\n",
    "# import networkx as nx\n",
    "import plotly.graph_objs as go\n",
    "from plotly.subplots import make_subplots\n",
    "import numpy as np\n",
    "import plotly.express as px\n",
    "from textwrap import wrap\n",
    "import networkx as nx\n"
   ]
  },
  {
   "cell_type": "code",
   "execution_count": 2,
   "metadata": {},
   "outputs": [],
   "source": [
    "# url = \"https://www.heste-nettet.dk/forum/1/1316128/1316128/\"\n",
    "headers = {\"User-Agent\": \"Mozilla/5.0 (X11; Linux x86_64) AppleWebKit/537.36 (KHTML, like Gecko) Chrome/88.0.4324.96 Safari/537.36\"} \n",
    "\n",
    "def get_html_content(url):\n",
    "    # Check if the request was successful\n",
    "    response = requests.get(url,headers=headers)\n",
    "    if response.status_code == 200:\n",
    "        # Parse the HTML content of the page with BeautifulSoup\n",
    "        soup = BeautifulSoup(response.text, 'html.parser')\n",
    "        return soup\n",
    "    elif response.status_code == 404 or response.status_code == 403:\n",
    "        print(f\"Response code: {response.status_code} for {url}\")\n",
    "    else:\n",
    "        return None\n"
   ]
  },
  {
   "cell_type": "code",
   "execution_count": 3,
   "metadata": {},
   "outputs": [],
   "source": [
    "\n",
    "def author_text_scrape(soup):\n",
    "    author_list = []\n",
    "    text_list = []\n",
    "    # Find all the <td> elements with class \"light\" and itemprop=\"text\"\n",
    "    td_elements = soup.find_all('td', bgcolor='#787878', valign='top')\n",
    "\n",
    "    # Iterate through the <td> elements\n",
    "    for td in td_elements:\n",
    "        # Extract the author's href number\n",
    "        author_a = td.find('a', itemprop='url')\n",
    "        if author_a:\n",
    "            author_href = author_a['href']\n",
    "            author_text = author_a.text\n",
    "        else:\n",
    "            author_href = None\n",
    "            author_text = td.find('span', itemprop='name').text\n",
    "        \n",
    "        # Find the first <div> with class \"rsPost\" within the current <td>\n",
    "        rs_post = td.find('div', class_='rsPost')\n",
    "        \n",
    "        if rs_post:\n",
    "            # Extract Danish text within <span> tags\n",
    "            danish_text = [span.text for span in rs_post.find_all('p')]\n",
    "            \n",
    "            # Combine the text into a single string\n",
    "            danish_text = \"\\n\".join(danish_text)\n",
    "                \n",
    "            if len(danish_text)>1 and author_href:\n",
    "                author_list.append(author_href.split('/')[-2])\n",
    "                text_list.append(danish_text)\n",
    "    return author_list, text_list\n"
   ]
  },
  {
   "cell_type": "code",
   "execution_count": 4,
   "metadata": {},
   "outputs": [],
   "source": [
    "soup = get_html_content(\"https://www.heste-nettet.dk/forum/1/\")\n",
    "links = soup.find_all(\"a\",href=True)\n",
    "href_list = []\n",
    "# Filter and print the links\n",
    "for link in links:\n",
    "    href = link['href']\n",
    "    if \"/forum/1/\" in href and len(href.split(\"/\"))==6:\n",
    "        # print(f\"{href}\")\n",
    "        href_list.append(href)"
   ]
  },
  {
   "cell_type": "code",
   "execution_count": 5,
   "metadata": {},
   "outputs": [
    {
     "name": "stderr",
     "output_type": "stream",
     "text": [
      "100%|██████████| 70/70 [00:20<00:00,  3.46it/s]\n"
     ]
    }
   ],
   "source": [
    "authors_data = []\n",
    "texts_data = []\n",
    "used_href_list = []\n",
    "for href in tqdm(href_list):\n",
    "    url = f\"https://www.heste-nettet.dk{href}\"\n",
    "    if (soup:=get_html_content(url)):\n",
    "        author_list, text_list = author_text_scrape(soup)\n",
    "        if len(author_list)>0 and len(text_list)>0:\n",
    "            authors_data.append(author_list)\n",
    "            texts_data.append(text_list)\n",
    "            used_href_list.append(href)"
   ]
  },
  {
   "cell_type": "code",
   "execution_count": 6,
   "metadata": {},
   "outputs": [],
   "source": [
    "# Initialize a directed graph (DiGraph)\n",
    "G = nx.DiGraph()\n",
    "\n",
    "# Initialize a dictionary to store text lengths for each author\n",
    "author_text_lengths = {}\n",
    "\n",
    "# Keep track of added nodes\n",
    "added_nodes = set()\n",
    "\n",
    "# Process each webpage\n",
    "for idx, (authors, text_sections) in enumerate(zip(authors_data, texts_data)):\n",
    "    # The first author in the inner list is the OP author\n",
    "    try:\n",
    "        op_author = authors[0]\n",
    "    except:\n",
    "        print(idx, authors, text_sections)\n",
    "        break\n",
    "    \n",
    "    # Add nodes for all authors, including the OP, and initialize the \"OP_author\" attribute to 0\n",
    "    for author in authors:\n",
    "        if author not in added_nodes:\n",
    "            G.add_node(author, OP_author=0, reads=0)\n",
    "            added_nodes.add(author)\n",
    "\n",
    "    # Update the \"OP_author\" attribute for the OP author\n",
    "    G.nodes[op_author][\"OP_author\"] += 1\n",
    "    G.nodes[op_author][\"reads\"] += len(authors)-1\n",
    "\n",
    "    # Connect the OP author to all other authors with weighted edges\n",
    "    for author in authors[1:]:\n",
    "        if G.has_edge(author, op_author):\n",
    "            G[author][op_author][\"weight\"] += 1  # Increment the edge weight\n",
    "        else:\n",
    "            G.add_edge(author, op_author, weight=1)  # Initialize edge weight to 1\n",
    "\n",
    "    # Calculate text lengths and store in the author_text_lengths dictionary\n",
    "    for author, text_section in zip(authors, text_sections):\n",
    "        text_length = len(text_section)\n",
    "        author_text_lengths[author] = text_length\n"
   ]
  },
  {
   "cell_type": "code",
   "execution_count": 7,
   "metadata": {},
   "outputs": [],
   "source": [
    "# edge_weights = {(u, v): G[u][v]['weight'] for u, v in G.edges()}\n",
    "# for (u, v), weight in edge_weights.items():\n",
    "#     print(f\"Weight of edge between node {u} and node {v}: {weight}\")"
   ]
  },
  {
   "cell_type": "code",
   "execution_count": 8,
   "metadata": {},
   "outputs": [
    {
     "data": {
      "image/png": "[encoded data removed]",
      "text/plain": [
       "<Figure size 640x480 with 1 Axes>"
      ]
     },
     "metadata": {},
     "output_type": "display_data"
    }
   ],
   "source": [
    "nx.draw(G,node_size=5)\n"
   ]
  },
  {
   "cell_type": "code",
   "execution_count": 9,
   "metadata": {},
   "outputs": [],
   "source": [
    "# sorted(list(dict(G.in_degree).items()),key=lambda x: x[1],reverse=True)\n",
    "# sorted(list(dict(G.out_degree).items()),key=lambda x: x[1],reverse=True)"
   ]
  },
  {
   "cell_type": "code",
   "execution_count": 10,
   "metadata": {},
   "outputs": [],
   "source": [
    "# from pyvis.network import Network\n",
    "\n",
    "# pyvis_graph = Network(notebook=True,cdn_resources='in_line')\n",
    "# pyvis_graph.from_nx(G)\n",
    "# pyvis_graph.show(\"graph.html\")"
   ]
  },
  {
   "cell_type": "code",
   "execution_count": 11,
   "metadata": {},
   "outputs": [],
   "source": [
    "# Collect edge weights into a list\n",
    "edge_weights = [G.edges[edge]['weight'] for edge in G.edges()]\n",
    "\n",
    "# Normalize edge_weights\n",
    "max_weight = max(edge_weights)\n",
    "min_weight = min(edge_weights)\n",
    "edge_weights_normalized = [(w - min_weight)/(max_weight - min_weight) for w in edge_weights]\n",
    "\n",
    "# Initialize edge colors\n",
    "edge_colors = []\n",
    "\n",
    "for weight in edge_weights_normalized:\n",
    "    edge_colors.extend([f'rgba(0,0,255,{weight})', f'rgba(0,0,255,{weight})', 'rgba(0,0,0,0)'])\n"
   ]
  },
  {
   "cell_type": "code",
   "execution_count": 12,
   "metadata": {},
   "outputs": [
    {
     "data": {
      "application/vnd.plotly.v1+json": {
       "config": {
        "plotlyServerURL": "https://plot.ly"
       },
       "data": [
        {
         "hoverinfo": "none",
         "line": {
          "color": "rgba(0,0,255,0.1)",
          "width": 0.5
         },
         "mode": "lines",
         "type": "scatter",
         "x": [
          0.20459393193231304,
          0.2325260767129735,
          null
         ],
         "y": [
          0.40460210764965465,
          0.4706853960066024,
          null
         ]
        },
        {
         "hoverinfo": "none",
         "line": {
          "color": "rgba(0,0,255,0.24285714285714285)",
          "width": 0.5
         },
         "mode": "lines",
         "type": "scatter",
         "x": [
          0.21745071702717597,
          0.2325260767129735,
          null
         ],
         "y": [
          0.4574532436203654,
          0.4706853960066024,
          null
         ]
        },
        {
         "hoverinfo": "none",
         "line": {
          "color": "rgba(0,0,255,0.24285714285714285)",
          "width": 0.5
         },
         "mode": "lines",
         "type": "scatter",
         "x": [
          -0.6874745801448164,
          -0.6874745801448164,
          null
         ],
         "y": [
          0.3262309429963489,
          0.3262309429963489,
          null
         ]
        },
        {
         "hoverinfo": "none",
         "line": {
          "color": "rgba(0,0,255,0.1)",
          "width": 0.5
         },
         "mode": "lines",
         "type": "scatter",
         "x": [
          -0.3303270337056,
          -0.6874745801448164,
          null
         ],
         "y": [
          0.30988251753190926,
          0.3262309429963489,
          null
         ]
        },
        {
         "hoverinfo": "none",
         "line": {
          "color": "rgba(0,0,255,0.1)",
          "width": 0.5
         },
         "mode": "lines",
         "type": "scatter",
         "x": [
          -0.3303270337056,
          -0.14057108411770813,
          null
         ],
         "y": [
          0.30988251753190926,
          0.5565376244171315,
          null
         ]
        },
        {
         "hoverinfo": "none",
         "line": {
          "color": "rgba(0,0,255,0.1)",
          "width": 0.5
         },
         "mode": "lines",
         "type": "scatter",
         "x": [
          -0.5221548275873426,
          -0.6874745801448164,
          null
         ],
         "y": [
          0.22414992410202147,
          0.3262309429963489,
          null
         ]
        },
        {
         "hoverinfo": "none",
         "line": {
          "color": "rgba(0,0,255,0.1)",
          "width": 0.5
         },
         "mode": "lines",
         "type": "scatter",
         "x": [
          -0.6459767412310878,
          -0.6874745801448164,
          null
         ],
         "y": [
          0.26993544073599696,
          0.3262309429963489,
          null
         ]
        },
        {
         "hoverinfo": "none",
         "line": {
          "color": "rgba(0,0,255,0.1)",
          "width": 0.5
         },
         "mode": "lines",
         "type": "scatter",
         "x": [
          -0.517218385728354,
          -0.6874745801448164,
          null
         ],
         "y": [
          0.18630585492256632,
          0.3262309429963489,
          null
         ]
        },
        {
         "hoverinfo": "none",
         "line": {
          "color": "rgba(0,0,255,0.1)",
          "width": 0.5
         },
         "mode": "lines",
         "type": "scatter",
         "x": [
          -0.6291922419986314,
          -0.6874745801448164,
          null
         ],
         "y": [
          0.32141586793987614,
          0.3262309429963489,
          null
         ]
        },
        {
         "hoverinfo": "none",
         "line": {
          "color": "rgba(0,0,255,0.1)",
          "width": 0.5
         },
         "mode": "lines",
         "type": "scatter",
         "x": [
          -0.5135030095617733,
          -0.6874745801448164,
          null
         ],
         "y": [
          0.20135683836542367,
          0.3262309429963489,
          null
         ]
        },
        {
         "hoverinfo": "none",
         "line": {
          "color": "rgba(0,0,255,0.1)",
          "width": 0.5
         },
         "mode": "lines",
         "type": "scatter",
         "x": [
          -0.5058014624226082,
          -0.6874745801448164,
          null
         ],
         "y": [
          0.2161714946452516,
          0.3262309429963489,
          null
         ]
        },
        {
         "hoverinfo": "none",
         "line": {
          "color": "rgba(0,0,255,0.1)",
          "width": 0.5
         },
         "mode": "lines",
         "type": "scatter",
         "x": [
          -0.5992969961529517,
          -0.6874745801448164,
          null
         ],
         "y": [
          0.2655778540222185,
          0.3262309429963489,
          null
         ]
        },
        {
         "hoverinfo": "none",
         "line": {
          "color": "rgba(0,0,255,0.1)",
          "width": 0.5
         },
         "mode": "lines",
         "type": "scatter",
         "x": [
          -0.5611113799444383,
          -0.6874745801448164,
          null
         ],
         "y": [
          0.210331958448662,
          0.3262309429963489,
          null
         ]
        },
        {
         "hoverinfo": "none",
         "line": {
          "color": "rgba(0,0,255,0.1)",
          "width": 0.5
         },
         "mode": "lines",
         "type": "scatter",
         "x": [
          -0.5283891071783672,
          -0.6874745801448164,
          null
         ],
         "y": [
          0.20444257546672154,
          0.3262309429963489,
          null
         ]
        },
        {
         "hoverinfo": "none",
         "line": {
          "color": "rgba(0,0,255,0.1)",
          "width": 0.5
         },
         "mode": "lines",
         "type": "scatter",
         "x": [
          -0.6517136521192064,
          -0.6874745801448164,
          null
         ],
         "y": [
          0.3094761592911523,
          0.3262309429963489,
          null
         ]
        },
        {
         "hoverinfo": "none",
         "line": {
          "color": "rgba(0,0,255,0.1)",
          "width": 0.5
         },
         "mode": "lines",
         "type": "scatter",
         "x": [
          -0.5356967423144097,
          -0.6874745801448164,
          null
         ],
         "y": [
          0.24491942157125535,
          0.3262309429963489,
          null
         ]
        },
        {
         "hoverinfo": "none",
         "line": {
          "color": "rgba(0,0,255,0.1)",
          "width": 0.5
         },
         "mode": "lines",
         "type": "scatter",
         "x": [
          -0.693390663499368,
          -0.6874745801448164,
          null
         ],
         "y": [
          0.2862788034218912,
          0.3262309429963489,
          null
         ]
        },
        {
         "hoverinfo": "none",
         "line": {
          "color": "rgba(0,0,255,0.1)",
          "width": 0.5
         },
         "mode": "lines",
         "type": "scatter",
         "x": [
          -0.608374243205036,
          -0.6874745801448164,
          null
         ],
         "y": [
          0.2487685767864182,
          0.3262309429963489,
          null
         ]
        },
        {
         "hoverinfo": "none",
         "line": {
          "color": "rgba(0,0,255,0.1)",
          "width": 0.5
         },
         "mode": "lines",
         "type": "scatter",
         "x": [
          -0.600931717337205,
          -0.6874745801448164,
          null
         ],
         "y": [
          0.28064501244766965,
          0.3262309429963489,
          null
         ]
        },
        {
         "hoverinfo": "none",
         "line": {
          "color": "rgba(0,0,255,0.1)",
          "width": 0.5
         },
         "mode": "lines",
         "type": "scatter",
         "x": [
          -0.42842763814375023,
          -0.6874745801448164,
          null
         ],
         "y": [
          0.15022940807541657,
          0.3262309429963489,
          null
         ]
        },
        {
         "hoverinfo": "none",
         "line": {
          "color": "rgba(0,0,255,0.1)",
          "width": 0.5
         },
         "mode": "lines",
         "type": "scatter",
         "x": [
          -0.5096026901598504,
          -0.6874745801448164,
          null
         ],
         "y": [
          0.20869429517034177,
          0.3262309429963489,
          null
         ]
        },
        {
         "hoverinfo": "none",
         "line": {
          "color": "rgba(0,0,255,0.1)",
          "width": 0.5
         },
         "mode": "lines",
         "type": "scatter",
         "x": [
          -0.4813048808416663,
          -0.6874745801448164,
          null
         ],
         "y": [
          0.19469421385245037,
          0.3262309429963489,
          null
         ]
        },
        {
         "hoverinfo": "none",
         "line": {
          "color": "rgba(0,0,255,0.1)",
          "width": 0.5
         },
         "mode": "lines",
         "type": "scatter",
         "x": [
          -0.54250070150812,
          -0.6874745801448164,
          null
         ],
         "y": [
          0.20354523295642507,
          0.3262309429963489,
          null
         ]
        },
        {
         "hoverinfo": "none",
         "line": {
          "color": "rgba(0,0,255,0.1)",
          "width": 0.5
         },
         "mode": "lines",
         "type": "scatter",
         "x": [
          -0.44947271412097844,
          -0.6874745801448164,
          null
         ],
         "y": [
          0.15465947749410425,
          0.3262309429963489,
          null
         ]
        },
        {
         "hoverinfo": "none",
         "line": {
          "color": "rgba(0,0,255,0.1)",
          "width": 0.5
         },
         "mode": "lines",
         "type": "scatter",
         "x": [
          -0.49500924325114315,
          -0.6874745801448164,
          null
         ],
         "y": [
          0.1818195858612332,
          0.3262309429963489,
          null
         ]
        },
        {
         "hoverinfo": "none",
         "line": {
          "color": "rgba(0,0,255,0.1)",
          "width": 0.5
         },
         "mode": "lines",
         "type": "scatter",
         "x": [
          -0.450760316499314,
          -0.6874745801448164,
          null
         ],
         "y": [
          0.14706363412604226,
          0.3262309429963489,
          null
         ]
        },
        {
         "hoverinfo": "none",
         "line": {
          "color": "rgba(0,0,255,0.1)",
          "width": 0.5
         },
         "mode": "lines",
         "type": "scatter",
         "x": [
          -0.593862595910012,
          -0.6874745801448164,
          null
         ],
         "y": [
          0.29643986129248606,
          0.3262309429963489,
          null
         ]
        },
        {
         "hoverinfo": "none",
         "line": {
          "color": "rgba(0,0,255,0.1)",
          "width": 0.5
         },
         "mode": "lines",
         "type": "scatter",
         "x": [
          -0.5097819871504194,
          -0.6874745801448164,
          null
         ],
         "y": [
          0.22676305763671417,
          0.3262309429963489,
          null
         ]
        },
        {
         "hoverinfo": "none",
         "line": {
          "color": "rgba(0,0,255,0.1)",
          "width": 0.5
         },
         "mode": "lines",
         "type": "scatter",
         "x": [
          -0.4426186281930413,
          -0.6874745801448164,
          null
         ],
         "y": [
          0.16077300437763314,
          0.3262309429963489,
          null
         ]
        },
        {
         "hoverinfo": "none",
         "line": {
          "color": "rgba(0,0,255,0.1)",
          "width": 0.5
         },
         "mode": "lines",
         "type": "scatter",
         "x": [
          -0.6656696546471954,
          -0.6874745801448164,
          null
         ],
         "y": [
          0.277690109601504,
          0.3262309429963489,
          null
         ]
        },
        {
         "hoverinfo": "none",
         "line": {
          "color": "rgba(0,0,255,0.1)",
          "width": 0.5
         },
         "mode": "lines",
         "type": "scatter",
         "x": [
          -0.5591640104003479,
          -0.6874745801448164,
          null
         ],
         "y": [
          0.22479575889932457,
          0.3262309429963489,
          null
         ]
        },
        {
         "hoverinfo": "none",
         "line": {
          "color": "rgba(0,0,255,0.1)",
          "width": 0.5
         },
         "mode": "lines",
         "type": "scatter",
         "x": [
          -0.5493209280719502,
          -0.6874745801448164,
          null
         ],
         "y": [
          0.25732454126885673,
          0.3262309429963489,
          null
         ]
        },
        {
         "hoverinfo": "none",
         "line": {
          "color": "rgba(0,0,255,0.1)",
          "width": 0.5
         },
         "mode": "lines",
         "type": "scatter",
         "x": [
          -0.5606851823160256,
          -0.6874745801448164,
          null
         ],
         "y": [
          0.25040082947182135,
          0.3262309429963489,
          null
         ]
        },
        {
         "hoverinfo": "none",
         "line": {
          "color": "rgba(0,0,255,0.1)",
          "width": 0.5
         },
         "mode": "lines",
         "type": "scatter",
         "x": [
          -0.5116048313754332,
          -0.6874745801448164,
          null
         ],
         "y": [
          0.19411677788477125,
          0.3262309429963489,
          null
         ]
        },
        {
         "hoverinfo": "none",
         "line": {
          "color": "rgba(0,0,255,0.1)",
          "width": 0.5
         },
         "mode": "lines",
         "type": "scatter",
         "x": [
          -0.6143499302815422,
          -0.6874745801448164,
          null
         ],
         "y": [
          0.26010774431652156,
          0.3262309429963489,
          null
         ]
        },
        {
         "hoverinfo": "none",
         "line": {
          "color": "rgba(0,0,255,0.1)",
          "width": 0.5
         },
         "mode": "lines",
         "type": "scatter",
         "x": [
          -0.549515509272856,
          -0.6874745801448164,
          null
         ],
         "y": [
          0.26872109729080884,
          0.3262309429963489,
          null
         ]
        },
        {
         "hoverinfo": "none",
         "line": {
          "color": "rgba(0,0,255,0.1)",
          "width": 0.5
         },
         "mode": "lines",
         "type": "scatter",
         "x": [
          -0.5700737472558051,
          -0.6874745801448164,
          null
         ],
         "y": [
          0.2794226000465792,
          0.3262309429963489,
          null
         ]
        },
        {
         "hoverinfo": "none",
         "line": {
          "color": "rgba(0,0,255,0.1)",
          "width": 0.5
         },
         "mode": "lines",
         "type": "scatter",
         "x": [
          -0.4699548734541205,
          -0.6874745801448164,
          null
         ],
         "y": [
          0.17521039774919442,
          0.3262309429963489,
          null
         ]
        },
        {
         "hoverinfo": "none",
         "line": {
          "color": "rgba(0,0,255,0.1)",
          "width": 0.5
         },
         "mode": "lines",
         "type": "scatter",
         "x": [
          -0.5888342695361356,
          -0.6874745801448164,
          null
         ],
         "y": [
          0.2338559558724779,
          0.3262309429963489,
          null
         ]
        },
        {
         "hoverinfo": "none",
         "line": {
          "color": "rgba(0,0,255,0.1)",
          "width": 0.5
         },
         "mode": "lines",
         "type": "scatter",
         "x": [
          -0.6182643809693068,
          -0.6874745801448164,
          null
         ],
         "y": [
          0.29622726736477006,
          0.3262309429963489,
          null
         ]
        },
        {
         "hoverinfo": "none",
         "line": {
          "color": "rgba(0,0,255,0.1)",
          "width": 0.5
         },
         "mode": "lines",
         "type": "scatter",
         "x": [
          -0.4794779718629226,
          -0.6874745801448164,
          null
         ],
         "y": [
          0.17329479323746164,
          0.3262309429963489,
          null
         ]
        },
        {
         "hoverinfo": "none",
         "line": {
          "color": "rgba(0,0,255,0.1)",
          "width": 0.5
         },
         "mode": "lines",
         "type": "scatter",
         "x": [
          -0.5172835823192135,
          -0.6874745801448164,
          null
         ],
         "y": [
          0.24021162204704335,
          0.3262309429963489,
          null
         ]
        },
        {
         "hoverinfo": "none",
         "line": {
          "color": "rgba(0,0,255,0.1)",
          "width": 0.5
         },
         "mode": "lines",
         "type": "scatter",
         "x": [
          -0.5445956676126268,
          -0.6874745801448164,
          null
         ],
         "y": [
          0.23707457089478493,
          0.3262309429963489,
          null
         ]
        },
        {
         "hoverinfo": "none",
         "line": {
          "color": "rgba(0,0,255,0.1)",
          "width": 0.5
         },
         "mode": "lines",
         "type": "scatter",
         "x": [
          -0.5470272669956321,
          -0.6874745801448164,
          null
         ],
         "y": [
          0.22552046133062853,
          0.3262309429963489,
          null
         ]
        },
        {
         "hoverinfo": "none",
         "line": {
          "color": "rgba(0,0,255,0.1)",
          "width": 0.5
         },
         "mode": "lines",
         "type": "scatter",
         "x": [
          -0.5039560093056666,
          -0.6874745801448164,
          null
         ],
         "y": [
          0.2348006298007992,
          0.3262309429963489,
          null
         ]
        },
        {
         "hoverinfo": "none",
         "line": {
          "color": "rgba(0,0,255,0.1)",
          "width": 0.5
         },
         "mode": "lines",
         "type": "scatter",
         "x": [
          -0.5802333966913505,
          -0.6874745801448164,
          null
         ],
         "y": [
          0.2676008178445823,
          0.3262309429963489,
          null
         ]
        },
        {
         "hoverinfo": "none",
         "line": {
          "color": "rgba(0,0,255,0.1)",
          "width": 0.5
         },
         "mode": "lines",
         "type": "scatter",
         "x": [
          -0.5701777076115796,
          -0.6874745801448164,
          null
         ],
         "y": [
          0.21720612593916275,
          0.3262309429963489,
          null
         ]
        },
        {
         "hoverinfo": "none",
         "line": {
          "color": "rgba(0,0,255,0.1)",
          "width": 0.5
         },
         "mode": "lines",
         "type": "scatter",
         "x": [
          -0.5647850877519626,
          -0.6874745801448164,
          null
         ],
         "y": [
          0.23512274116392318,
          0.3262309429963489,
          null
         ]
        },
        {
         "hoverinfo": "none",
         "line": {
          "color": "rgba(0,0,255,0.1)",
          "width": 0.5
         },
         "mode": "lines",
         "type": "scatter",
         "x": [
          -0.6179362645582802,
          -0.6874745801448164,
          null
         ],
         "y": [
          0.23923757955140912,
          0.3262309429963489,
          null
         ]
        },
        {
         "hoverinfo": "none",
         "line": {
          "color": "rgba(0,0,255,0.1)",
          "width": 0.5
         },
         "mode": "lines",
         "type": "scatter",
         "x": [
          -0.578633400461901,
          -0.6874745801448164,
          null
         ],
         "y": [
          0.24848967954567563,
          0.3262309429963489,
          null
         ]
        },
        {
         "hoverinfo": "none",
         "line": {
          "color": "rgba(0,0,255,0.1)",
          "width": 0.5
         },
         "mode": "lines",
         "type": "scatter",
         "x": [
          0.17742278984166207,
          0.6022322642376933,
          null
         ],
         "y": [
          -0.09489127648055887,
          -0.7116628020038607,
          null
         ]
        },
        {
         "hoverinfo": "none",
         "line": {
          "color": "rgba(0,0,255,0.1)",
          "width": 0.5
         },
         "mode": "lines",
         "type": "scatter",
         "x": [
          0.17742278984166207,
          0.38750333731060155,
          null
         ],
         "y": [
          -0.09489127648055887,
          -0.8910583910067377,
          null
         ]
        },
        {
         "hoverinfo": "none",
         "line": {
          "color": "rgba(0,0,255,0.1)",
          "width": 0.5
         },
         "mode": "lines",
         "type": "scatter",
         "x": [
          0.17742278984166207,
          0.734065182650046,
          null
         ],
         "y": [
          -0.09489127648055887,
          -0.23213201537595285,
          null
         ]
        },
        {
         "hoverinfo": "none",
         "line": {
          "color": "rgba(0,0,255,0.1)",
          "width": 0.5
         },
         "mode": "lines",
         "type": "scatter",
         "x": [
          0.17742278984166207,
          0.6604553555290344,
          null
         ],
         "y": [
          -0.09489127648055887,
          -0.4790092731380768,
          null
         ]
        },
        {
         "hoverinfo": "none",
         "line": {
          "color": "rgba(0,0,255,0.1)",
          "width": 0.5
         },
         "mode": "lines",
         "type": "scatter",
         "x": [
          0.17742278984166207,
          0.2443420997976208,
          null
         ],
         "y": [
          -0.09489127648055887,
          0.5729544236950795,
          null
         ]
        },
        {
         "hoverinfo": "none",
         "line": {
          "color": "rgba(0,0,255,0.24285714285714285)",
          "width": 0.5
         },
         "mode": "lines",
         "type": "scatter",
         "x": [
          0.17742278984166207,
          -0.4888437237619464,
          null
         ],
         "y": [
          -0.09489127648055887,
          -0.8938607260135835,
          null
         ]
        },
        {
         "hoverinfo": "none",
         "line": {
          "color": "rgba(0,0,255,0.1)",
          "width": 0.5
         },
         "mode": "lines",
         "type": "scatter",
         "x": [
          0.17742278984166207,
          -0.25827259327573965,
          null
         ],
         "y": [
          -0.09489127648055887,
          -0.8895599854466026,
          null
         ]
        },
        {
         "hoverinfo": "none",
         "line": {
          "color": "rgba(0,0,255,0.1)",
          "width": 0.5
         },
         "mode": "lines",
         "type": "scatter",
         "x": [
          0.17742278984166207,
          -0.2488643342215718,
          null
         ],
         "y": [
          -0.09489127648055887,
          0.5136616858639517,
          null
         ]
        },
        {
         "hoverinfo": "none",
         "line": {
          "color": "rgba(0,0,255,0.1)",
          "width": 0.5
         },
         "mode": "lines",
         "type": "scatter",
         "x": [
          0.17742278984166207,
          0.5129092494905705,
          null
         ],
         "y": [
          -0.09489127648055887,
          -0.9071914358405894,
          null
         ]
        },
        {
         "hoverinfo": "none",
         "line": {
          "color": "rgba(0,0,255,0.1)",
          "width": 0.5
         },
         "mode": "lines",
         "type": "scatter",
         "x": [
          0.17742278984166207,
          0.4751541301961733,
          null
         ],
         "y": [
          -0.09489127648055887,
          0.5220644423998116,
          null
         ]
        },
        {
         "hoverinfo": "none",
         "line": {
          "color": "rgba(0,0,255,0.24285714285714285)",
          "width": 0.5
         },
         "mode": "lines",
         "type": "scatter",
         "x": [
          0.17742278984166207,
          -0.14057108411770813,
          null
         ],
         "y": [
          -0.09489127648055887,
          0.5565376244171315,
          null
         ]
        },
        {
         "hoverinfo": "none",
         "line": {
          "color": "rgba(0,0,255,0.1)",
          "width": 0.5
         },
         "mode": "lines",
         "type": "scatter",
         "x": [
          0.17742278984166207,
          0.6830726624631918,
          null
         ],
         "y": [
          -0.09489127648055887,
          -0.6501241133309256,
          null
         ]
        },
        {
         "hoverinfo": "none",
         "line": {
          "color": "rgba(0,0,255,0.24285714285714285)",
          "width": 0.5
         },
         "mode": "lines",
         "type": "scatter",
         "x": [
          0.17742278984166207,
          0.17742278984166207,
          null
         ],
         "y": [
          -0.09489127648055887,
          -0.09489127648055887,
          null
         ]
        },
        {
         "hoverinfo": "none",
         "line": {
          "color": "rgba(0,0,255,0.3857142857142857)",
          "width": 0.5
         },
         "mode": "lines",
         "type": "scatter",
         "x": [
          0.17742278984166207,
          0.644425148188764,
          null
         ],
         "y": [
          -0.09489127648055887,
          0.2868122057566365,
          null
         ]
        },
        {
         "hoverinfo": "none",
         "line": {
          "color": "rgba(0,0,255,0.24285714285714285)",
          "width": 0.5
         },
         "mode": "lines",
         "type": "scatter",
         "x": [
          0.17742278984166207,
          -0.08290691312924268,
          null
         ],
         "y": [
          -0.09489127648055887,
          0.40643651506447864,
          null
         ]
        },
        {
         "hoverinfo": "none",
         "line": {
          "color": "rgba(0,0,255,0.24285714285714285)",
          "width": 0.5
         },
         "mode": "lines",
         "type": "scatter",
         "x": [
          0.17742278984166207,
          -0.08096500162291116,
          null
         ],
         "y": [
          -0.09489127648055887,
          0.6027197694872798,
          null
         ]
        },
        {
         "hoverinfo": "none",
         "line": {
          "color": "rgba(0,0,255,0.1)",
          "width": 0.5
         },
         "mode": "lines",
         "type": "scatter",
         "x": [
          0.17742278984166207,
          0.3036042731042109,
          null
         ],
         "y": [
          -0.09489127648055887,
          0.4638970813678535,
          null
         ]
        },
        {
         "hoverinfo": "none",
         "line": {
          "color": "rgba(0,0,255,0.1)",
          "width": 0.5
         },
         "mode": "lines",
         "type": "scatter",
         "x": [
          0.17742278984166207,
          0.6980001559052708,
          null
         ],
         "y": [
          -0.09489127648055887,
          0.05135852883471467,
          null
         ]
        },
        {
         "hoverinfo": "none",
         "line": {
          "color": "rgba(0,0,255,0.1)",
          "width": 0.5
         },
         "mode": "lines",
         "type": "scatter",
         "x": [
          0.17742278984166207,
          0.1698271445596573,
          null
         ],
         "y": [
          -0.09489127648055887,
          -0.11751076216068608,
          null
         ]
        },
        {
         "hoverinfo": "none",
         "line": {
          "color": "rgba(0,0,255,0.1)",
          "width": 0.5
         },
         "mode": "lines",
         "type": "scatter",
         "x": [
          0.6813747790173628,
          0.6890523450124553,
          null
         ],
         "y": [
          -0.05990804590872076,
          0.29445615505565187,
          null
         ]
        },
        {
         "hoverinfo": "none",
         "line": {
          "color": "rgba(0,0,255,0.1)",
          "width": 0.5
         },
         "mode": "lines",
         "type": "scatter",
         "x": [
          0.6813747790173628,
          0.7823664684885357,
          null
         ],
         "y": [
          -0.05990804590872076,
          -0.40321980084945946,
          null
         ]
        },
        {
         "hoverinfo": "none",
         "line": {
          "color": "rgba(0,0,255,0.1)",
          "width": 0.5
         },
         "mode": "lines",
         "type": "scatter",
         "x": [
          0.5726280777511367,
          0.6813747790173628,
          null
         ],
         "y": [
          -0.07713152447338291,
          -0.05990804590872076,
          null
         ]
        },
        {
         "hoverinfo": "none",
         "line": {
          "color": "rgba(0,0,255,0.1)",
          "width": 0.5
         },
         "mode": "lines",
         "type": "scatter",
         "x": [
          -0.06241763842579637,
          0.6813747790173628,
          null
         ],
         "y": [
          -0.26418596983535375,
          -0.05990804590872076,
          null
         ]
        },
        {
         "hoverinfo": "none",
         "line": {
          "color": "rgba(0,0,255,0.1)",
          "width": 0.5
         },
         "mode": "lines",
         "type": "scatter",
         "x": [
          -0.06241763842579637,
          0.38750333731060155,
          null
         ],
         "y": [
          -0.26418596983535375,
          -0.8910583910067377,
          null
         ]
        },
        {
         "hoverinfo": "none",
         "line": {
          "color": "rgba(0,0,255,0.24285714285714285)",
          "width": 0.5
         },
         "mode": "lines",
         "type": "scatter",
         "x": [
          -0.06241763842579637,
          -0.6040373252824095,
          null
         ],
         "y": [
          -0.26418596983535375,
          -0.5837502734625686,
          null
         ]
        },
        {
         "hoverinfo": "none",
         "line": {
          "color": "rgba(0,0,255,0.1)",
          "width": 0.5
         },
         "mode": "lines",
         "type": "scatter",
         "x": [
          -0.06241763842579637,
          -0.3396156188006689,
          null
         ],
         "y": [
          -0.26418596983535375,
          0.5671869487537227,
          null
         ]
        },
        {
         "hoverinfo": "none",
         "line": {
          "color": "rgba(0,0,255,0.1)",
          "width": 0.5
         },
         "mode": "lines",
         "type": "scatter",
         "x": [
          -0.06241763842579637,
          -0.06241763842579637,
          null
         ],
         "y": [
          -0.26418596983535375,
          -0.26418596983535375,
          null
         ]
        },
        {
         "hoverinfo": "none",
         "line": {
          "color": "rgba(0,0,255,0.1)",
          "width": 0.5
         },
         "mode": "lines",
         "type": "scatter",
         "x": [
          0.34744984010549423,
          0.38750333731060155,
          null
         ],
         "y": [
          -0.7758284085205988,
          -0.8910583910067377,
          null
         ]
        },
        {
         "hoverinfo": "none",
         "line": {
          "color": "rgba(0,0,255,0.1)",
          "width": 0.5
         },
         "mode": "lines",
         "type": "scatter",
         "x": [
          -0.08755755640428124,
          -0.5672534180018856,
          null
         ],
         "y": [
          -0.3813095817520746,
          -0.7379634750470715,
          null
         ]
        },
        {
         "hoverinfo": "none",
         "line": {
          "color": "rgba(0,0,255,0.1)",
          "width": 0.5
         },
         "mode": "lines",
         "type": "scatter",
         "x": [
          -0.08755755640428124,
          0.1698271445596573,
          null
         ],
         "y": [
          -0.3813095817520746,
          -0.11751076216068608,
          null
         ]
        },
        {
         "hoverinfo": "none",
         "line": {
          "color": "rgba(0,0,255,0.1)",
          "width": 0.5
         },
         "mode": "lines",
         "type": "scatter",
         "x": [
          -0.08755755640428124,
          -0.18734185272947515,
          null
         ],
         "y": [
          -0.3813095817520746,
          -0.9784065776861866,
          null
         ]
        },
        {
         "hoverinfo": "none",
         "line": {
          "color": "rgba(0,0,255,0.24285714285714285)",
          "width": 0.5
         },
         "mode": "lines",
         "type": "scatter",
         "x": [
          -0.08755755640428124,
          0.17742278984166207,
          null
         ],
         "y": [
          -0.3813095817520746,
          -0.09489127648055887,
          null
         ]
        },
        {
         "hoverinfo": "none",
         "line": {
          "color": "rgba(0,0,255,0.1)",
          "width": 0.5
         },
         "mode": "lines",
         "type": "scatter",
         "x": [
          -0.08755755640428124,
          -0.015418820318532648,
          null
         ],
         "y": [
          -0.3813095817520746,
          -0.9826708911925615,
          null
         ]
        },
        {
         "hoverinfo": "none",
         "line": {
          "color": "rgba(0,0,255,0.1)",
          "width": 0.5
         },
         "mode": "lines",
         "type": "scatter",
         "x": [
          -0.08755755640428124,
          -0.08290691312924268,
          null
         ],
         "y": [
          -0.3813095817520746,
          0.40643651506447864,
          null
         ]
        },
        {
         "hoverinfo": "none",
         "line": {
          "color": "rgba(0,0,255,0.1)",
          "width": 0.5
         },
         "mode": "lines",
         "type": "scatter",
         "x": [
          0.7758229571333342,
          0.734065182650046,
          null
         ],
         "y": [
          -0.23946524198980984,
          -0.23213201537595285,
          null
         ]
        },
        {
         "hoverinfo": "none",
         "line": {
          "color": "rgba(0,0,255,0.1)",
          "width": 0.5
         },
         "mode": "lines",
         "type": "scatter",
         "x": [
          0.6949660860366642,
          0.734065182650046,
          null
         ],
         "y": [
          -0.23767530933423445,
          -0.23213201537595285,
          null
         ]
        },
        {
         "hoverinfo": "none",
         "line": {
          "color": "rgba(0,0,255,0.1)",
          "width": 0.5
         },
         "mode": "lines",
         "type": "scatter",
         "x": [
          0.5964450603666662,
          0.734065182650046,
          null
         ],
         "y": [
          -0.19273807466524165,
          -0.23213201537595285,
          null
         ]
        },
        {
         "hoverinfo": "none",
         "line": {
          "color": "rgba(0,0,255,0.1)",
          "width": 0.5
         },
         "mode": "lines",
         "type": "scatter",
         "x": [
          0.7237544414755138,
          0.734065182650046,
          null
         ],
         "y": [
          -0.19403316344281646,
          -0.23213201537595285,
          null
         ]
        },
        {
         "hoverinfo": "none",
         "line": {
          "color": "rgba(0,0,255,0.1)",
          "width": 0.5
         },
         "mode": "lines",
         "type": "scatter",
         "x": [
          0.669310966942766,
          0.734065182650046,
          null
         ],
         "y": [
          -0.19953212740647167,
          -0.23213201537595285,
          null
         ]
        },
        {
         "hoverinfo": "none",
         "line": {
          "color": "rgba(0,0,255,0.1)",
          "width": 0.5
         },
         "mode": "lines",
         "type": "scatter",
         "x": [
          0.6649431155740889,
          0.734065182650046,
          null
         ],
         "y": [
          -0.22925358806417914,
          -0.23213201537595285,
          null
         ]
        },
        {
         "hoverinfo": "none",
         "line": {
          "color": "rgba(0,0,255,0.24285714285714285)",
          "width": 0.5
         },
         "mode": "lines",
         "type": "scatter",
         "x": [
          0.6007609316260283,
          0.734065182650046,
          null
         ],
         "y": [
          -0.2000795135649535,
          -0.23213201537595285,
          null
         ]
        },
        {
         "hoverinfo": "none",
         "line": {
          "color": "rgba(0,0,255,0.24285714285714285)",
          "width": 0.5
         },
         "mode": "lines",
         "type": "scatter",
         "x": [
          0.4433457133951722,
          0.734065182650046,
          null
         ],
         "y": [
          0.08143163424912407,
          -0.23213201537595285,
          null
         ]
        },
        {
         "hoverinfo": "none",
         "line": {
          "color": "rgba(0,0,255,0.1)",
          "width": 0.5
         },
         "mode": "lines",
         "type": "scatter",
         "x": [
          0.4433457133951722,
          0.6890523450124553,
          null
         ],
         "y": [
          0.08143163424912407,
          0.29445615505565187,
          null
         ]
        },
        {
         "hoverinfo": "none",
         "line": {
          "color": "rgba(0,0,255,0.1)",
          "width": 0.5
         },
         "mode": "lines",
         "type": "scatter",
         "x": [
          0.4433457133951722,
          -0.08290691312924268,
          null
         ],
         "y": [
          0.08143163424912407,
          0.40643651506447864,
          null
         ]
        },
        {
         "hoverinfo": "none",
         "line": {
          "color": "rgba(0,0,255,0.1)",
          "width": 0.5
         },
         "mode": "lines",
         "type": "scatter",
         "x": [
          0.7262024865839222,
          0.734065182650046,
          null
         ],
         "y": [
          -0.21054223394009636,
          -0.23213201537595285,
          null
         ]
        },
        {
         "hoverinfo": "none",
         "line": {
          "color": "rgba(0,0,255,0.1)",
          "width": 0.5
         },
         "mode": "lines",
         "type": "scatter",
         "x": [
          0.6710591581797088,
          0.734065182650046,
          null
         ],
         "y": [
          -0.21439877263052246,
          -0.23213201537595285,
          null
         ]
        },
        {
         "hoverinfo": "none",
         "line": {
          "color": "rgba(0,0,255,0.1)",
          "width": 0.5
         },
         "mode": "lines",
         "type": "scatter",
         "x": [
          0.7289673436762082,
          0.734065182650046,
          null
         ],
         "y": [
          -0.25949260073830527,
          -0.23213201537595285,
          null
         ]
        },
        {
         "hoverinfo": "none",
         "line": {
          "color": "rgba(0,0,255,0.1)",
          "width": 0.5
         },
         "mode": "lines",
         "type": "scatter",
         "x": [
          0.32762402257059664,
          0.6710591581797088,
          null
         ],
         "y": [
          -0.08667577674551738,
          -0.21439877263052246,
          null
         ]
        },
        {
         "hoverinfo": "none",
         "line": {
          "color": "rgba(0,0,255,0.24285714285714285)",
          "width": 0.5
         },
         "mode": "lines",
         "type": "scatter",
         "x": [
          0.32762402257059664,
          0.6604553555290344,
          null
         ],
         "y": [
          -0.08667577674551738,
          -0.4790092731380768,
          null
         ]
        },
        {
         "hoverinfo": "none",
         "line": {
          "color": "rgba(0,0,255,0.24285714285714285)",
          "width": 0.5
         },
         "mode": "lines",
         "type": "scatter",
         "x": [
          0.32762402257059664,
          0.17742278984166207,
          null
         ],
         "y": [
          -0.08667577674551738,
          -0.09489127648055887,
          null
         ]
        },
        {
         "hoverinfo": "none",
         "line": {
          "color": "rgba(0,0,255,0.3857142857142857)",
          "width": 0.5
         },
         "mode": "lines",
         "type": "scatter",
         "x": [
          0.32762402257059664,
          0.1698271445596573,
          null
         ],
         "y": [
          -0.08667577674551738,
          -0.11751076216068608,
          null
         ]
        },
        {
         "hoverinfo": "none",
         "line": {
          "color": "rgba(0,0,255,0.1)",
          "width": 0.5
         },
         "mode": "lines",
         "type": "scatter",
         "x": [
          0.32762402257059664,
          0.4751541301961733,
          null
         ],
         "y": [
          -0.08667577674551738,
          0.5220644423998116,
          null
         ]
        },
        {
         "hoverinfo": "none",
         "line": {
          "color": "rgba(0,0,255,0.1)",
          "width": 0.5
         },
         "mode": "lines",
         "type": "scatter",
         "x": [
          0.32762402257059664,
          -0.5222974971174134,
          null
         ],
         "y": [
          -0.08667577674551738,
          -0.46208713427101156,
          null
         ]
        },
        {
         "hoverinfo": "none",
         "line": {
          "color": "rgba(0,0,255,0.1)",
          "width": 0.5
         },
         "mode": "lines",
         "type": "scatter",
         "x": [
          0.32762402257059664,
          0.6890523450124553,
          null
         ],
         "y": [
          -0.08667577674551738,
          0.29445615505565187,
          null
         ]
        },
        {
         "hoverinfo": "none",
         "line": {
          "color": "rgba(0,0,255,0.1)",
          "width": 0.5
         },
         "mode": "lines",
         "type": "scatter",
         "x": [
          0.32762402257059664,
          0.8073666866180907,
          null
         ],
         "y": [
          -0.08667577674551738,
          -0.40765886211076857,
          null
         ]
        },
        {
         "hoverinfo": "none",
         "line": {
          "color": "rgba(0,0,255,0.1)",
          "width": 0.5
         },
         "mode": "lines",
         "type": "scatter",
         "x": [
          0.32762402257059664,
          0.7572486116355815,
          null
         ],
         "y": [
          -0.08667577674551738,
          -0.34887315825771864,
          null
         ]
        },
        {
         "hoverinfo": "none",
         "line": {
          "color": "rgba(0,0,255,0.1)",
          "width": 0.5
         },
         "mode": "lines",
         "type": "scatter",
         "x": [
          0.32762402257059664,
          -0.08096500162291116,
          null
         ],
         "y": [
          -0.08667577674551738,
          0.6027197694872798,
          null
         ]
        },
        {
         "hoverinfo": "none",
         "line": {
          "color": "rgba(0,0,255,0.1)",
          "width": 0.5
         },
         "mode": "lines",
         "type": "scatter",
         "x": [
          0.10785255383210653,
          0.6710591581797088,
          null
         ],
         "y": [
          -0.12838685013011933,
          -0.21439877263052246,
          null
         ]
        },
        {
         "hoverinfo": "none",
         "line": {
          "color": "rgba(0,0,255,0.1)",
          "width": 0.5
         },
         "mode": "lines",
         "type": "scatter",
         "x": [
          0.10785255383210653,
          0.6604553555290344,
          null
         ],
         "y": [
          -0.12838685013011933,
          -0.4790092731380768,
          null
         ]
        },
        {
         "hoverinfo": "none",
         "line": {
          "color": "rgba(0,0,255,0.5285714285714286)",
          "width": 0.5
         },
         "mode": "lines",
         "type": "scatter",
         "x": [
          0.10785255383210653,
          0.18826781901596445,
          null
         ],
         "y": [
          -0.12838685013011933,
          -0.02791712635804819,
          null
         ]
        },
        {
         "hoverinfo": "none",
         "line": {
          "color": "rgba(0,0,255,0.3857142857142857)",
          "width": 0.5
         },
         "mode": "lines",
         "type": "scatter",
         "x": [
          0.10785255383210653,
          0.17742278984166207,
          null
         ],
         "y": [
          -0.12838685013011933,
          -0.09489127648055887,
          null
         ]
        },
        {
         "hoverinfo": "none",
         "line": {
          "color": "rgba(0,0,255,0.24285714285714285)",
          "width": 0.5
         },
         "mode": "lines",
         "type": "scatter",
         "x": [
          0.10785255383210653,
          0.1250292094402567,
          null
         ],
         "y": [
          -0.12838685013011933,
          -1,
          null
         ]
        },
        {
         "hoverinfo": "none",
         "line": {
          "color": "rgba(0,0,255,0.1)",
          "width": 0.5
         },
         "mode": "lines",
         "type": "scatter",
         "x": [
          0.10785255383210653,
          -0.2488643342215718,
          null
         ],
         "y": [
          -0.12838685013011933,
          0.5136616858639517,
          null
         ]
        },
        {
         "hoverinfo": "none",
         "line": {
          "color": "rgba(0,0,255,0.24285714285714285)",
          "width": 0.5
         },
         "mode": "lines",
         "type": "scatter",
         "x": [
          0.10785255383210653,
          -0.14057108411770813,
          null
         ],
         "y": [
          -0.12838685013011933,
          0.5565376244171315,
          null
         ]
        },
        {
         "hoverinfo": "none",
         "line": {
          "color": "rgba(0,0,255,0.1)",
          "width": 0.5
         },
         "mode": "lines",
         "type": "scatter",
         "x": [
          0.10785255383210653,
          -0.08290691312924268,
          null
         ],
         "y": [
          -0.12838685013011933,
          0.40643651506447864,
          null
         ]
        },
        {
         "hoverinfo": "none",
         "line": {
          "color": "rgba(0,0,255,0.1)",
          "width": 0.5
         },
         "mode": "lines",
         "type": "scatter",
         "x": [
          0.10785255383210653,
          -0.06241763842579637,
          null
         ],
         "y": [
          -0.12838685013011933,
          -0.26418596983535375,
          null
         ]
        },
        {
         "hoverinfo": "none",
         "line": {
          "color": "rgba(0,0,255,0.1)",
          "width": 0.5
         },
         "mode": "lines",
         "type": "scatter",
         "x": [
          0.6604553555290344,
          0.6604553555290344,
          null
         ],
         "y": [
          -0.4790092731380768,
          -0.4790092731380768,
          null
         ]
        },
        {
         "hoverinfo": "none",
         "line": {
          "color": "rgba(0,0,255,0.1)",
          "width": 0.5
         },
         "mode": "lines",
         "type": "scatter",
         "x": [
          0.6379137187551597,
          0.6604553555290344,
          null
         ],
         "y": [
          -0.4915815858147448,
          -0.4790092731380768,
          null
         ]
        },
        {
         "hoverinfo": "none",
         "line": {
          "color": "rgba(0,0,255,0.1)",
          "width": 0.5
         },
         "mode": "lines",
         "type": "scatter",
         "x": [
          0.08521970665610815,
          0.1250292094402567,
          null
         ],
         "y": [
          -0.3806187298293187,
          -1,
          null
         ]
        },
        {
         "hoverinfo": "none",
         "line": {
          "color": "rgba(0,0,255,0.1)",
          "width": 0.5
         },
         "mode": "lines",
         "type": "scatter",
         "x": [
          0.08521970665610815,
          0.2967513161521245,
          null
         ],
         "y": [
          -0.3806187298293187,
          -0.8559041057971967,
          null
         ]
        },
        {
         "hoverinfo": "none",
         "line": {
          "color": "rgba(0,0,255,0.1)",
          "width": 0.5
         },
         "mode": "lines",
         "type": "scatter",
         "x": [
          0.08521970665610815,
          -0.08290691312924268,
          null
         ],
         "y": [
          -0.3806187298293187,
          0.40643651506447864,
          null
         ]
        },
        {
         "hoverinfo": "none",
         "line": {
          "color": "rgba(0,0,255,0.1)",
          "width": 0.5
         },
         "mode": "lines",
         "type": "scatter",
         "x": [
          -0.736710435001449,
          -0.736710435001449,
          null
         ],
         "y": [
          -0.24538744442066218,
          -0.24538744442066218,
          null
         ]
        },
        {
         "hoverinfo": "none",
         "line": {
          "color": "rgba(0,0,255,1.1)",
          "width": 0.5
         },
         "mode": "lines",
         "type": "scatter",
         "x": [
          0.18826781901596445,
          0.18826781901596445,
          null
         ],
         "y": [
          -0.02791712635804819,
          -0.02791712635804819,
          null
         ]
        },
        {
         "hoverinfo": "none",
         "line": {
          "color": "rgba(0,0,255,0.1)",
          "width": 0.5
         },
         "mode": "lines",
         "type": "scatter",
         "x": [
          0.18826781901596445,
          0.1250292094402567,
          null
         ],
         "y": [
          -0.02791712635804819,
          -1,
          null
         ]
        },
        {
         "hoverinfo": "none",
         "line": {
          "color": "rgba(0,0,255,0.1)",
          "width": 0.5
         },
         "mode": "lines",
         "type": "scatter",
         "x": [
          0.18826781901596445,
          -0.2488643342215718,
          null
         ],
         "y": [
          -0.02791712635804819,
          0.5136616858639517,
          null
         ]
        },
        {
         "hoverinfo": "none",
         "line": {
          "color": "rgba(0,0,255,0.24285714285714285)",
          "width": 0.5
         },
         "mode": "lines",
         "type": "scatter",
         "x": [
          0.18826781901596445,
          0.644425148188764,
          null
         ],
         "y": [
          -0.02791712635804819,
          0.2868122057566365,
          null
         ]
        },
        {
         "hoverinfo": "none",
         "line": {
          "color": "rgba(0,0,255,0.1)",
          "width": 0.5
         },
         "mode": "lines",
         "type": "scatter",
         "x": [
          0.18826781901596445,
          -0.08290691312924268,
          null
         ],
         "y": [
          -0.02791712635804819,
          0.40643651506447864,
          null
         ]
        },
        {
         "hoverinfo": "none",
         "line": {
          "color": "rgba(0,0,255,0.1)",
          "width": 0.5
         },
         "mode": "lines",
         "type": "scatter",
         "x": [
          0.3718964167271575,
          0.18826781901596445,
          null
         ],
         "y": [
          0.07161384021182533,
          -0.02791712635804819,
          null
         ]
        },
        {
         "hoverinfo": "none",
         "line": {
          "color": "rgba(0,0,255,0.3857142857142857)",
          "width": 0.5
         },
         "mode": "lines",
         "type": "scatter",
         "x": [
          0.3718964167271575,
          0.17742278984166207,
          null
         ],
         "y": [
          0.07161384021182533,
          -0.09489127648055887,
          null
         ]
        },
        {
         "hoverinfo": "none",
         "line": {
          "color": "rgba(0,0,255,0.24285714285714285)",
          "width": 0.5
         },
         "mode": "lines",
         "type": "scatter",
         "x": [
          0.3718964167271575,
          0.644425148188764,
          null
         ],
         "y": [
          0.07161384021182533,
          0.2868122057566365,
          null
         ]
        },
        {
         "hoverinfo": "none",
         "line": {
          "color": "rgba(0,0,255,0.1)",
          "width": 0.5
         },
         "mode": "lines",
         "type": "scatter",
         "x": [
          -0.299275678898459,
          -0.3396156188006689,
          null
         ],
         "y": [
          0.46436828196364077,
          0.5671869487537227,
          null
         ]
        },
        {
         "hoverinfo": "none",
         "line": {
          "color": "rgba(0,0,255,0.1)",
          "width": 0.5
         },
         "mode": "lines",
         "type": "scatter",
         "x": [
          0.3456683590328033,
          0.4751541301961733,
          null
         ],
         "y": [
          0.308648026872787,
          0.5220644423998116,
          null
         ]
        },
        {
         "hoverinfo": "none",
         "line": {
          "color": "rgba(0,0,255,0.1)",
          "width": 0.5
         },
         "mode": "lines",
         "type": "scatter",
         "x": [
          0.2894360926347489,
          0.3456683590328033,
          null
         ],
         "y": [
          0.2079516029413867,
          0.308648026872787,
          null
         ]
        },
        {
         "hoverinfo": "none",
         "line": {
          "color": "rgba(0,0,255,0.1)",
          "width": 0.5
         },
         "mode": "lines",
         "type": "scatter",
         "x": [
          0.3051118489694405,
          0.3456683590328033,
          null
         ],
         "y": [
          0.237443739793436,
          0.308648026872787,
          null
         ]
        },
        {
         "hoverinfo": "none",
         "line": {
          "color": "rgba(0,0,255,0.1)",
          "width": 0.5
         },
         "mode": "lines",
         "type": "scatter",
         "x": [
          0.0468395356934116,
          0.17742278984166207,
          null
         ],
         "y": [
          0.15581853471516227,
          -0.09489127648055887,
          null
         ]
        },
        {
         "hoverinfo": "none",
         "line": {
          "color": "rgba(0,0,255,0.1)",
          "width": 0.5
         },
         "mode": "lines",
         "type": "scatter",
         "x": [
          0.0468395356934116,
          -0.08290691312924268,
          null
         ],
         "y": [
          0.15581853471516227,
          0.40643651506447864,
          null
         ]
        },
        {
         "hoverinfo": "none",
         "line": {
          "color": "rgba(0,0,255,0.24285714285714285)",
          "width": 0.5
         },
         "mode": "lines",
         "type": "scatter",
         "x": [
          0.1698271445596573,
          0.17742278984166207,
          null
         ],
         "y": [
          -0.11751076216068608,
          -0.09489127648055887,
          null
         ]
        },
        {
         "hoverinfo": "none",
         "line": {
          "color": "rgba(0,0,255,0.1)",
          "width": 0.5
         },
         "mode": "lines",
         "type": "scatter",
         "x": [
          0.19010976142762726,
          0.17742278984166207,
          null
         ],
         "y": [
          -0.12978856975738493,
          -0.09489127648055887,
          null
         ]
        },
        {
         "hoverinfo": "none",
         "line": {
          "color": "rgba(0,0,255,0.1)",
          "width": 0.5
         },
         "mode": "lines",
         "type": "scatter",
         "x": [
          0.1250292094402567,
          0.1250292094402567,
          null
         ],
         "y": [
          -1,
          -1,
          null
         ]
        },
        {
         "hoverinfo": "none",
         "line": {
          "color": "rgba(0,0,255,0.1)",
          "width": 0.5
         },
         "mode": "lines",
         "type": "scatter",
         "x": [
          -0.06307940319216011,
          0.1250292094402567,
          null
         ],
         "y": [
          -0.395873629010173,
          -1,
          null
         ]
        },
        {
         "hoverinfo": "none",
         "line": {
          "color": "rgba(0,0,255,0.1)",
          "width": 0.5
         },
         "mode": "lines",
         "type": "scatter",
         "x": [
          -0.06307940319216011,
          -0.25827259327573965,
          null
         ],
         "y": [
          -0.395873629010173,
          -0.8895599854466026,
          null
         ]
        },
        {
         "hoverinfo": "none",
         "line": {
          "color": "rgba(0,0,255,0.1)",
          "width": 0.5
         },
         "mode": "lines",
         "type": "scatter",
         "x": [
          -0.06307940319216011,
          -0.08290691312924268,
          null
         ],
         "y": [
          -0.395873629010173,
          0.40643651506447864,
          null
         ]
        },
        {
         "hoverinfo": "none",
         "line": {
          "color": "rgba(0,0,255,0.1)",
          "width": 0.5
         },
         "mode": "lines",
         "type": "scatter",
         "x": [
          0.11438535178333875,
          0.1250292094402567,
          null
         ],
         "y": [
          -0.884848786329343,
          -1,
          null
         ]
        },
        {
         "hoverinfo": "none",
         "line": {
          "color": "rgba(0,0,255,0.1)",
          "width": 0.5
         },
         "mode": "lines",
         "type": "scatter",
         "x": [
          -0.654769874683733,
          -0.654769874683733,
          null
         ],
         "y": [
          -0.4629975704024657,
          -0.4629975704024657,
          null
         ]
        },
        {
         "hoverinfo": "none",
         "line": {
          "color": "rgba(0,0,255,0.3857142857142857)",
          "width": 0.5
         },
         "mode": "lines",
         "type": "scatter",
         "x": [
          -0.6727368880003083,
          -0.654769874683733,
          null
         ],
         "y": [
          -0.4697594838340624,
          -0.4629975704024657,
          null
         ]
        },
        {
         "hoverinfo": "none",
         "line": {
          "color": "rgba(0,0,255,0.1)",
          "width": 0.5
         },
         "mode": "lines",
         "type": "scatter",
         "x": [
          -0.6304697457675619,
          -0.654769874683733,
          null
         ],
         "y": [
          -0.4337960421522575,
          -0.4629975704024657,
          null
         ]
        },
        {
         "hoverinfo": "none",
         "line": {
          "color": "rgba(0,0,255,0.1)",
          "width": 0.5
         },
         "mode": "lines",
         "type": "scatter",
         "x": [
          -0.24089487258102277,
          -0.25827259327573965,
          null
         ],
         "y": [
          -0.8441371403973167,
          -0.8895599854466026,
          null
         ]
        },
        {
         "hoverinfo": "none",
         "line": {
          "color": "rgba(0,0,255,0.1)",
          "width": 0.5
         },
         "mode": "lines",
         "type": "scatter",
         "x": [
          -0.2625088536957328,
          -0.25827259327573965,
          null
         ],
         "y": [
          -0.8490431415218942,
          -0.8895599854466026,
          null
         ]
        },
        {
         "hoverinfo": "none",
         "line": {
          "color": "rgba(0,0,255,0.1)",
          "width": 0.5
         },
         "mode": "lines",
         "type": "scatter",
         "x": [
          -0.23695682963956186,
          -0.25827259327573965,
          null
         ],
         "y": [
          -0.795868864860843,
          -0.8895599854466026,
          null
         ]
        },
        {
         "hoverinfo": "none",
         "line": {
          "color": "rgba(0,0,255,0.1)",
          "width": 0.5
         },
         "mode": "lines",
         "type": "scatter",
         "x": [
          0.4472015803135426,
          0.5129092494905705,
          null
         ],
         "y": [
          -0.7782051324408057,
          -0.9071914358405894,
          null
         ]
        },
        {
         "hoverinfo": "none",
         "line": {
          "color": "rgba(0,0,255,0.1)",
          "width": 0.5
         },
         "mode": "lines",
         "type": "scatter",
         "x": [
          0.35538013730574214,
          0.5129092494905705,
          null
         ],
         "y": [
          -0.13444632142180768,
          -0.9071914358405894,
          null
         ]
        },
        {
         "hoverinfo": "none",
         "line": {
          "color": "rgba(0,0,255,0.1)",
          "width": 0.5
         },
         "mode": "lines",
         "type": "scatter",
         "x": [
          0.35538013730574214,
          0.6890523450124553,
          null
         ],
         "y": [
          -0.13444632142180768,
          0.29445615505565187,
          null
         ]
        },
        {
         "hoverinfo": "none",
         "line": {
          "color": "rgba(0,0,255,0.1)",
          "width": 0.5
         },
         "mode": "lines",
         "type": "scatter",
         "x": [
          0.35538013730574214,
          -0.08290691312924268,
          null
         ],
         "y": [
          -0.13444632142180768,
          0.40643651506447864,
          null
         ]
        },
        {
         "hoverinfo": "none",
         "line": {
          "color": "rgba(0,0,255,0.1)",
          "width": 0.5
         },
         "mode": "lines",
         "type": "scatter",
         "x": [
          0.39668277740219876,
          0.4751541301961733,
          null
         ],
         "y": [
          0.39472684044249456,
          0.5220644423998116,
          null
         ]
        },
        {
         "hoverinfo": "none",
         "line": {
          "color": "rgba(0,0,255,0.1)",
          "width": 0.5
         },
         "mode": "lines",
         "type": "scatter",
         "x": [
          -0.07066490283718903,
          0.35538013730574214,
          null
         ],
         "y": [
          -0.46918355356571867,
          -0.13444632142180768,
          null
         ]
        },
        {
         "hoverinfo": "none",
         "line": {
          "color": "rgba(0,0,255,0.1)",
          "width": 0.5
         },
         "mode": "lines",
         "type": "scatter",
         "x": [
          -0.07066490283718903,
          -0.4975862705893923,
          null
         ],
         "y": [
          -0.46918355356571867,
          -0.8018790360256256,
          null
         ]
        },
        {
         "hoverinfo": "none",
         "line": {
          "color": "rgba(0,0,255,0.1)",
          "width": 0.5
         },
         "mode": "lines",
         "type": "scatter",
         "x": [
          -0.14057108411770813,
          -0.14057108411770813,
          null
         ],
         "y": [
          0.5565376244171315,
          0.5565376244171315,
          null
         ]
        },
        {
         "hoverinfo": "none",
         "line": {
          "color": "rgba(0,0,255,0.1)",
          "width": 0.5
         },
         "mode": "lines",
         "type": "scatter",
         "x": [
          0.2742727962383254,
          -0.14057108411770813,
          null
         ],
         "y": [
          0.42468754258693725,
          0.5565376244171315,
          null
         ]
        },
        {
         "hoverinfo": "none",
         "line": {
          "color": "rgba(0,0,255,0.1)",
          "width": 0.5
         },
         "mode": "lines",
         "type": "scatter",
         "x": [
          0.2742727962383254,
          0.6890523450124553,
          null
         ],
         "y": [
          0.42468754258693725,
          0.29445615505565187,
          null
         ]
        },
        {
         "hoverinfo": "none",
         "line": {
          "color": "rgba(0,0,255,0.1)",
          "width": 0.5
         },
         "mode": "lines",
         "type": "scatter",
         "x": [
          -0.09876151941612203,
          -0.14057108411770813,
          null
         ],
         "y": [
          0.5429884940174089,
          0.5565376244171315,
          null
         ]
        },
        {
         "hoverinfo": "none",
         "line": {
          "color": "rgba(0,0,255,0.1)",
          "width": 0.5
         },
         "mode": "lines",
         "type": "scatter",
         "x": [
          -0.08290691312924268,
          -0.14057108411770813,
          null
         ],
         "y": [
          0.40643651506447864,
          0.5565376244171315,
          null
         ]
        },
        {
         "hoverinfo": "none",
         "line": {
          "color": "rgba(0,0,255,0.1)",
          "width": 0.5
         },
         "mode": "lines",
         "type": "scatter",
         "x": [
          -0.10419784858820598,
          -0.14057108411770813,
          null
         ],
         "y": [
          0.5740182001874347,
          0.5565376244171315,
          null
         ]
        },
        {
         "hoverinfo": "none",
         "line": {
          "color": "rgba(0,0,255,0.1)",
          "width": 0.5
         },
         "mode": "lines",
         "type": "scatter",
         "x": [
          -0.0934736313694822,
          -0.14057108411770813,
          null
         ],
         "y": [
          0.41319946439838,
          0.5565376244171315,
          null
         ]
        },
        {
         "hoverinfo": "none",
         "line": {
          "color": "rgba(0,0,255,0.1)",
          "width": 0.5
         },
         "mode": "lines",
         "type": "scatter",
         "x": [
          -0.1073105667396886,
          -0.14057108411770813,
          null
         ],
         "y": [
          0.5167639309090771,
          0.5565376244171315,
          null
         ]
        },
        {
         "hoverinfo": "none",
         "line": {
          "color": "rgba(0,0,255,0.1)",
          "width": 0.5
         },
         "mode": "lines",
         "type": "scatter",
         "x": [
          -0.10574178317167798,
          -0.14057108411770813,
          null
         ],
         "y": [
          0.49334461095773835,
          0.5565376244171315,
          null
         ]
        },
        {
         "hoverinfo": "none",
         "line": {
          "color": "rgba(0,0,255,0.3857142857142857)",
          "width": 0.5
         },
         "mode": "lines",
         "type": "scatter",
         "x": [
          -0.09798710208600038,
          -0.14057108411770813,
          null
         ],
         "y": [
          0.45589754718694836,
          0.5565376244171315,
          null
         ]
        },
        {
         "hoverinfo": "none",
         "line": {
          "color": "rgba(0,0,255,0.24285714285714285)",
          "width": 0.5
         },
         "mode": "lines",
         "type": "scatter",
         "x": [
          -0.12879395224000822,
          -0.14057108411770813,
          null
         ],
         "y": [
          0.5759518532814167,
          0.5565376244171315,
          null
         ]
        },
        {
         "hoverinfo": "none",
         "line": {
          "color": "rgba(0,0,255,0.1)",
          "width": 0.5
         },
         "mode": "lines",
         "type": "scatter",
         "x": [
          -0.08728169308701052,
          -0.14057108411770813,
          null
         ],
         "y": [
          0.37215932843389843,
          0.5565376244171315,
          null
         ]
        },
        {
         "hoverinfo": "none",
         "line": {
          "color": "rgba(0,0,255,0.1)",
          "width": 0.5
         },
         "mode": "lines",
         "type": "scatter",
         "x": [
          -0.14577972446074386,
          -0.14057108411770813,
          null
         ],
         "y": [
          0.5942369404998296,
          0.5565376244171315,
          null
         ]
        },
        {
         "hoverinfo": "none",
         "line": {
          "color": "rgba(0,0,255,0.1)",
          "width": 0.5
         },
         "mode": "lines",
         "type": "scatter",
         "x": [
          -0.07359179647712871,
          -0.14057108411770813,
          null
         ],
         "y": [
          0.3482882614554877,
          0.5565376244171315,
          null
         ]
        },
        {
         "hoverinfo": "none",
         "line": {
          "color": "rgba(0,0,255,0.1)",
          "width": 0.5
         },
         "mode": "lines",
         "type": "scatter",
         "x": [
          0.542674803856282,
          0.542674803856282,
          null
         ],
         "y": [
          0.451801808431703,
          0.451801808431703,
          null
         ]
        },
        {
         "hoverinfo": "none",
         "line": {
          "color": "rgba(0,0,255,0.1)",
          "width": 0.5
         },
         "mode": "lines",
         "type": "scatter",
         "x": [
          0.17201942647717114,
          0.18826781901596445,
          null
         ],
         "y": [
          -0.04620107063521361,
          -0.02791712635804819,
          null
         ]
        },
        {
         "hoverinfo": "none",
         "line": {
          "color": "rgba(0,0,255,0.1)",
          "width": 0.5
         },
         "mode": "lines",
         "type": "scatter",
         "x": [
          0.21401977809779596,
          0.18826781901596445,
          null
         ],
         "y": [
          -0.03883082012099631,
          -0.02791712635804819,
          null
         ]
        },
        {
         "hoverinfo": "none",
         "line": {
          "color": "rgba(0,0,255,0.1)",
          "width": 0.5
         },
         "mode": "lines",
         "type": "scatter",
         "x": [
          0.6830726624631918,
          0.6830726624631918,
          null
         ],
         "y": [
          -0.6501241133309256,
          -0.6501241133309256,
          null
         ]
        },
        {
         "hoverinfo": "none",
         "line": {
          "color": "rgba(0,0,255,0.1)",
          "width": 0.5
         },
         "mode": "lines",
         "type": "scatter",
         "x": [
          0.10000082556131996,
          -0.4553698085419351,
          null
         ],
         "y": [
          0.05422834137900787,
          0.5362583151971237,
          null
         ]
        },
        {
         "hoverinfo": "none",
         "line": {
          "color": "rgba(0,0,255,0.1)",
          "width": 0.5
         },
         "mode": "lines",
         "type": "scatter",
         "x": [
          0.10000082556131996,
          0.6890523450124553,
          null
         ],
         "y": [
          0.05422834137900787,
          0.29445615505565187,
          null
         ]
        },
        {
         "hoverinfo": "none",
         "line": {
          "color": "rgba(0,0,255,0.1)",
          "width": 0.5
         },
         "mode": "lines",
         "type": "scatter",
         "x": [
          0.10000082556131996,
          -0.18734185272947515,
          null
         ],
         "y": [
          0.05422834137900787,
          -0.9784065776861866,
          null
         ]
        },
        {
         "hoverinfo": "none",
         "line": {
          "color": "rgba(0,0,255,0.24285714285714285)",
          "width": 0.5
         },
         "mode": "lines",
         "type": "scatter",
         "x": [
          0.10000082556131996,
          0.17742278984166207,
          null
         ],
         "y": [
          0.05422834137900787,
          -0.09489127648055887,
          null
         ]
        },
        {
         "hoverinfo": "none",
         "line": {
          "color": "rgba(0,0,255,0.1)",
          "width": 0.5
         },
         "mode": "lines",
         "type": "scatter",
         "x": [
          0.10000082556131996,
          -0.08290691312924268,
          null
         ],
         "y": [
          0.05422834137900787,
          0.40643651506447864,
          null
         ]
        },
        {
         "hoverinfo": "none",
         "line": {
          "color": "rgba(0,0,255,0.1)",
          "width": 0.5
         },
         "mode": "lines",
         "type": "scatter",
         "x": [
          0.10000082556131996,
          0.7572486116355815,
          null
         ],
         "y": [
          0.05422834137900787,
          -0.34887315825771864,
          null
         ]
        },
        {
         "hoverinfo": "none",
         "line": {
          "color": "rgba(0,0,255,0.24285714285714285)",
          "width": 0.5
         },
         "mode": "lines",
         "type": "scatter",
         "x": [
          0.10000082556131996,
          -0.08096500162291116,
          null
         ],
         "y": [
          0.05422834137900787,
          0.6027197694872798,
          null
         ]
        },
        {
         "hoverinfo": "none",
         "line": {
          "color": "rgba(0,0,255,0.1)",
          "width": 0.5
         },
         "mode": "lines",
         "type": "scatter",
         "x": [
          0.10000082556131996,
          0.3036042731042109,
          null
         ],
         "y": [
          0.05422834137900787,
          0.4638970813678535,
          null
         ]
        },
        {
         "hoverinfo": "none",
         "line": {
          "color": "rgba(0,0,255,0.1)",
          "width": 0.5
         },
         "mode": "lines",
         "type": "scatter",
         "x": [
          0.6890523450124553,
          0.6890523450124553,
          null
         ],
         "y": [
          0.29445615505565187,
          0.29445615505565187,
          null
         ]
        },
        {
         "hoverinfo": "none",
         "line": {
          "color": "rgba(0,0,255,0.1)",
          "width": 0.5
         },
         "mode": "lines",
         "type": "scatter",
         "x": [
          0.520951503674457,
          0.6890523450124553,
          null
         ],
         "y": [
          0.20458405436821958,
          0.29445615505565187,
          null
         ]
        },
        {
         "hoverinfo": "none",
         "line": {
          "color": "rgba(0,0,255,0.1)",
          "width": 0.5
         },
         "mode": "lines",
         "type": "scatter",
         "x": [
          0.6131218111300322,
          0.6890523450124553,
          null
         ],
         "y": [
          0.25309279743250995,
          0.29445615505565187,
          null
         ]
        },
        {
         "hoverinfo": "none",
         "line": {
          "color": "rgba(0,0,255,0.1)",
          "width": 0.5
         },
         "mode": "lines",
         "type": "scatter",
         "x": [
          0.592084902710359,
          0.6890523450124553,
          null
         ],
         "y": [
          0.24591598641944323,
          0.29445615505565187,
          null
         ]
        },
        {
         "hoverinfo": "none",
         "line": {
          "color": "rgba(0,0,255,0.1)",
          "width": 0.5
         },
         "mode": "lines",
         "type": "scatter",
         "x": [
          0.6596594610631799,
          0.6890523450124553,
          null
         ],
         "y": [
          0.30731442431942635,
          0.29445615505565187,
          null
         ]
        },
        {
         "hoverinfo": "none",
         "line": {
          "color": "rgba(0,0,255,0.1)",
          "width": 0.5
         },
         "mode": "lines",
         "type": "scatter",
         "x": [
          0.5411421842240105,
          0.6890523450124553,
          null
         ],
         "y": [
          0.21622555953715014,
          0.29445615505565187,
          null
         ]
        },
        {
         "hoverinfo": "none",
         "line": {
          "color": "rgba(0,0,255,0.1)",
          "width": 0.5
         },
         "mode": "lines",
         "type": "scatter",
         "x": [
          0.5609538421043024,
          0.6890523450124553,
          null
         ],
         "y": [
          0.22293044591328523,
          0.29445615505565187,
          null
         ]
        },
        {
         "hoverinfo": "none",
         "line": {
          "color": "rgba(0,0,255,0.1)",
          "width": 0.5
         },
         "mode": "lines",
         "type": "scatter",
         "x": [
          0.4446268054938982,
          0.6890523450124553,
          null
         ],
         "y": [
          0.14265873427752587,
          0.29445615505565187,
          null
         ]
        },
        {
         "hoverinfo": "none",
         "line": {
          "color": "rgba(0,0,255,0.1)",
          "width": 0.5
         },
         "mode": "lines",
         "type": "scatter",
         "x": [
          0.6610771967761978,
          0.6890523450124553,
          null
         ],
         "y": [
          0.26127607845119727,
          0.29445615505565187,
          null
         ]
        },
        {
         "hoverinfo": "none",
         "line": {
          "color": "rgba(0,0,255,0.1)",
          "width": 0.5
         },
         "mode": "lines",
         "type": "scatter",
         "x": [
          0.48903059582038766,
          0.6890523450124553,
          null
         ],
         "y": [
          0.18138760625221595,
          0.29445615505565187,
          null
         ]
        },
        {
         "hoverinfo": "none",
         "line": {
          "color": "rgba(0,0,255,0.1)",
          "width": 0.5
         },
         "mode": "lines",
         "type": "scatter",
         "x": [
          0.5315240586310978,
          0.6890523450124553,
          null
         ],
         "y": [
          0.1997095731169373,
          0.29445615505565187,
          null
         ]
        },
        {
         "hoverinfo": "none",
         "line": {
          "color": "rgba(0,0,255,0.1)",
          "width": 0.5
         },
         "mode": "lines",
         "type": "scatter",
         "x": [
          0.6041868193247698,
          0.6890523450124553,
          null
         ],
         "y": [
          -0.032848751679843635,
          0.29445615505565187,
          null
         ]
        },
        {
         "hoverinfo": "none",
         "line": {
          "color": "rgba(0,0,255,0.1)",
          "width": 0.5
         },
         "mode": "lines",
         "type": "scatter",
         "x": [
          0.6041868193247698,
          0.7572486116355815,
          null
         ],
         "y": [
          -0.032848751679843635,
          -0.34887315825771864,
          null
         ]
        },
        {
         "hoverinfo": "none",
         "line": {
          "color": "rgba(0,0,255,0.1)",
          "width": 0.5
         },
         "mode": "lines",
         "type": "scatter",
         "x": [
          0.5260723927568904,
          0.6890523450124553,
          null
         ],
         "y": [
          0.18920081319622462,
          0.29445615505565187,
          null
         ]
        },
        {
         "hoverinfo": "none",
         "line": {
          "color": "rgba(0,0,255,0.1)",
          "width": 0.5
         },
         "mode": "lines",
         "type": "scatter",
         "x": [
          -0.18734185272947515,
          -0.18734185272947515,
          null
         ],
         "y": [
          -0.9784065776861866,
          -0.9784065776861866,
          null
         ]
        },
        {
         "hoverinfo": "none",
         "line": {
          "color": "rgba(0,0,255,0.1)",
          "width": 0.5
         },
         "mode": "lines",
         "type": "scatter",
         "x": [
          -0.15335067377916653,
          -0.18734185272947515,
          null
         ],
         "y": [
          -0.7907618373217012,
          -0.9784065776861866,
          null
         ]
        },
        {
         "hoverinfo": "none",
         "line": {
          "color": "rgba(0,0,255,0.1)",
          "width": 0.5
         },
         "mode": "lines",
         "type": "scatter",
         "x": [
          -0.015418820318532648,
          -0.015418820318532648,
          null
         ],
         "y": [
          -0.9826708911925615,
          -0.9826708911925615,
          null
         ]
        },
        {
         "hoverinfo": "none",
         "line": {
          "color": "rgba(0,0,255,0.1)",
          "width": 0.5
         },
         "mode": "lines",
         "type": "scatter",
         "x": [
          0.7788946079824266,
          0.8073666866180907,
          null
         ],
         "y": [
          -0.43781276238973055,
          -0.40765886211076857,
          null
         ]
        },
        {
         "hoverinfo": "none",
         "line": {
          "color": "rgba(0,0,255,0.1)",
          "width": 0.5
         },
         "mode": "lines",
         "type": "scatter",
         "x": [
          0.780577680812284,
          0.8073666866180907,
          null
         ],
         "y": [
          -0.42240395431125816,
          -0.40765886211076857,
          null
         ]
        },
        {
         "hoverinfo": "none",
         "line": {
          "color": "rgba(0,0,255,0.1)",
          "width": 0.5
         },
         "mode": "lines",
         "type": "scatter",
         "x": [
          -0.0472025140051973,
          -0.08290691312924268,
          null
         ],
         "y": [
          0.38983428055534286,
          0.40643651506447864,
          null
         ]
        },
        {
         "hoverinfo": "none",
         "line": {
          "color": "rgba(0,0,255,0.1)",
          "width": 0.5
         },
         "mode": "lines",
         "type": "scatter",
         "x": [
          -0.051245595721274746,
          -0.08290691312924268,
          null
         ],
         "y": [
          0.3531538086293283,
          0.40643651506447864,
          null
         ]
        },
        {
         "hoverinfo": "none",
         "line": {
          "color": "rgba(0,0,255,0.1)",
          "width": 0.5
         },
         "mode": "lines",
         "type": "scatter",
         "x": [
          -0.06274300171217942,
          -0.08290691312924268,
          null
         ],
         "y": [
          0.3280858782058786,
          0.40643651506447864,
          null
         ]
        },
        {
         "hoverinfo": "none",
         "line": {
          "color": "rgba(0,0,255,0.1)",
          "width": 0.5
         },
         "mode": "lines",
         "type": "scatter",
         "x": [
          0.1106427972495643,
          -0.08290691312924268,
          null
         ],
         "y": [
          0.365478964253377,
          0.40643651506447864,
          null
         ]
        },
        {
         "hoverinfo": "none",
         "line": {
          "color": "rgba(0,0,255,0.1)",
          "width": 0.5
         },
         "mode": "lines",
         "type": "scatter",
         "x": [
          0.1106427972495643,
          0.3036042731042109,
          null
         ],
         "y": [
          0.365478964253377,
          0.4638970813678535,
          null
         ]
        },
        {
         "hoverinfo": "none",
         "line": {
          "color": "rgba(0,0,255,0.1)",
          "width": 0.5
         },
         "mode": "lines",
         "type": "scatter",
         "x": [
          0.7572486116355815,
          0.7572486116355815,
          null
         ],
         "y": [
          -0.34887315825771864,
          -0.34887315825771864,
          null
         ]
        },
        {
         "hoverinfo": "none",
         "line": {
          "color": "rgba(0,0,255,0.1)",
          "width": 0.5
         },
         "mode": "lines",
         "type": "scatter",
         "x": [
          0.6925883238441277,
          0.7572486116355815,
          null
         ],
         "y": [
          -0.32510963807580434,
          -0.34887315825771864,
          null
         ]
        },
        {
         "hoverinfo": "none",
         "line": {
          "color": "rgba(0,0,255,0.24285714285714285)",
          "width": 0.5
         },
         "mode": "lines",
         "type": "scatter",
         "x": [
          0.7695656885347901,
          0.7695656885347901,
          null
         ],
         "y": [
          0.20621310503093906,
          0.20621310503093906,
          null
         ]
        },
        {
         "hoverinfo": "text",
         "marker": {
          "colorbar": {
           "thickness": 15,
           "title": {
            "side": "right",
            "text": "Node Color Scale"
           },
           "xanchor": "left"
          },
          "colorscale": [
           [
            0,
            "rgb(255,255,217)"
           ],
           [
            0.125,
            "rgb(237,248,177)"
           ],
           [
            0.25,
            "rgb(199,233,180)"
           ],
           [
            0.375,
            "rgb(127,205,187)"
           ],
           [
            0.5,
            "rgb(65,182,196)"
           ],
           [
            0.625,
            "rgb(29,145,192)"
           ],
           [
            0.75,
            "rgb(34,94,168)"
           ],
           [
            0.875,
            "rgb(37,52,148)"
           ],
           [
            1,
            "rgb(8,29,88)"
           ]
          ],
          "showscale": true,
          "size": [
           11.25,
           10,
           10,
           30,
           10,
           10,
           10,
           10,
           10,
           10,
           10,
           10,
           10,
           10,
           10,
           10,
           10,
           10,
           10,
           10,
           10,
           10,
           10,
           10,
           10,
           10,
           10,
           10,
           10,
           10,
           10,
           10,
           10,
           10,
           10,
           10,
           10,
           10,
           10,
           10,
           10,
           10,
           10,
           10,
           10,
           10,
           10,
           10,
           10,
           10,
           10.416666666666666,
           17.5,
           10.833333333333334,
           10,
           10.833333333333334,
           11.25,
           10,
           10.833333333333334,
           10.416666666666666,
           10,
           15.833333333333334,
           10,
           10,
           10,
           10,
           10,
           10,
           10,
           10,
           10,
           10.833333333333334,
           10,
           10,
           10,
           10,
           12.5,
           10,
           10,
           10.416666666666666,
           10,
           10.416666666666666,
           16.25,
           10,
           10.833333333333334,
           10.833333333333334,
           10,
           10.833333333333334,
           10,
           10,
           10,
           10,
           12.083333333333334,
           10,
           10,
           12.916666666666668,
           10,
           10,
           10.416666666666666,
           12.083333333333334,
           10,
           10,
           12.083333333333334,
           10,
           10,
           10,
           10,
           11.25,
           11.25,
           10,
           10.416666666666666,
           10,
           11.666666666666666,
           10,
           10,
           10.416666666666666,
           10,
           18.75,
           10,
           10,
           16.25,
           10,
           10,
           10,
           10,
           10,
           10,
           10,
           10,
           10,
           10.416666666666666,
           10,
           10,
           10.416666666666666,
           10.833333333333334,
           10.416666666666666,
           10,
           10,
           17.916666666666664,
           10,
           10,
           10,
           10,
           10,
           10,
           10,
           10,
           10,
           10,
           10,
           10,
           11.666666666666666,
           10,
           10.416666666666666,
           10.833333333333334,
           11.25,
           10,
           10,
           12.916666666666668,
           10,
           10,
           10,
           10,
           10,
           10,
           10,
           10,
           12.083333333333334,
           10,
           12.083333333333334,
           11.25,
           10.416666666666666,
           10.833333333333334
          ]
         },
         "mode": "markers",
         "text": [
          "Node 242482<br>OP:1<br>Reads:3",
          "Node 242635<br>OP:0<br>Reads:0",
          "Node 241471<br>OP:0<br>Reads:0",
          "Node 20437<br>OP:1<br>Reads:48",
          "Node 6483<br>OP:0<br>Reads:0",
          "Node 12666<br>OP:0<br>Reads:0",
          "Node 47877<br>OP:0<br>Reads:0",
          "Node 27771<br>OP:0<br>Reads:0",
          "Node 30212<br>OP:0<br>Reads:0",
          "Node 89788<br>OP:0<br>Reads:0",
          "Node 1516<br>OP:0<br>Reads:0",
          "Node 20561<br>OP:0<br>Reads:0",
          "Node 3346<br>OP:0<br>Reads:0",
          "Node 23406<br>OP:0<br>Reads:0",
          "Node 45945<br>OP:0<br>Reads:0",
          "Node 42921<br>OP:0<br>Reads:0",
          "Node 55576<br>OP:0<br>Reads:0",
          "Node 37146<br>OP:0<br>Reads:0",
          "Node 20964<br>OP:0<br>Reads:0",
          "Node 86862<br>OP:0<br>Reads:0",
          "Node 46390<br>OP:0<br>Reads:0",
          "Node 45094<br>OP:0<br>Reads:0",
          "Node 126071<br>OP:0<br>Reads:0",
          "Node 2142<br>OP:0<br>Reads:0",
          "Node 101439<br>OP:0<br>Reads:0",
          "Node 54563<br>OP:0<br>Reads:0",
          "Node 9475<br>OP:0<br>Reads:0",
          "Node 93080<br>OP:0<br>Reads:0",
          "Node 46433<br>OP:0<br>Reads:0",
          "Node 7125<br>OP:0<br>Reads:0",
          "Node 46599<br>OP:0<br>Reads:0",
          "Node 54562<br>OP:0<br>Reads:0",
          "Node 12186<br>OP:0<br>Reads:0",
          "Node 47940<br>OP:0<br>Reads:0",
          "Node 68803<br>OP:0<br>Reads:0",
          "Node 42179<br>OP:0<br>Reads:0",
          "Node 95009<br>OP:0<br>Reads:0",
          "Node 115336<br>OP:0<br>Reads:0",
          "Node 21647<br>OP:0<br>Reads:0",
          "Node 9959<br>OP:0<br>Reads:0",
          "Node 131221<br>OP:0<br>Reads:0",
          "Node 33250<br>OP:0<br>Reads:0",
          "Node 17758<br>OP:0<br>Reads:0",
          "Node 5117<br>OP:0<br>Reads:0",
          "Node 67102<br>OP:0<br>Reads:0",
          "Node 44402<br>OP:0<br>Reads:0",
          "Node 29050<br>OP:0<br>Reads:0",
          "Node 156486<br>OP:0<br>Reads:0",
          "Node 138490<br>OP:0<br>Reads:0",
          "Node 243275<br>OP:0<br>Reads:0",
          "Node 106433<br>OP:1<br>Reads:1",
          "Node 2182<br>OP:3<br>Reads:18",
          "Node 7709<br>OP:1<br>Reads:2",
          "Node 2<br>OP:0<br>Reads:0",
          "Node 228459<br>OP:1<br>Reads:2",
          "Node 90302<br>OP:1<br>Reads:3",
          "Node 2144<br>OP:0<br>Reads:0",
          "Node 3708<br>OP:1<br>Reads:2",
          "Node 243262<br>OP:1<br>Reads:1",
          "Node 16580<br>OP:0<br>Reads:0",
          "Node 2938<br>OP:1<br>Reads:14",
          "Node 90728<br>OP:0<br>Reads:0",
          "Node 40964<br>OP:0<br>Reads:0",
          "Node 21448<br>OP:0<br>Reads:0",
          "Node 187988<br>OP:0<br>Reads:0",
          "Node 64587<br>OP:0<br>Reads:0",
          "Node 175950<br>OP:0<br>Reads:0",
          "Node 8971<br>OP:0<br>Reads:0",
          "Node 131812<br>OP:0<br>Reads:0",
          "Node 55320<br>OP:0<br>Reads:0",
          "Node 243037<br>OP:3<br>Reads:2",
          "Node 63103<br>OP:0<br>Reads:0",
          "Node 35203<br>OP:0<br>Reads:0",
          "Node 31891<br>OP:1<br>Reads:0",
          "Node 243231<br>OP:1<br>Reads:0",
          "Node 243221<br>OP:1<br>Reads:6",
          "Node 173945<br>OP:0<br>Reads:0",
          "Node 22826<br>OP:1<br>Reads:0",
          "Node 242814<br>OP:1<br>Reads:1",
          "Node 243209<br>OP:1<br>Reads:0",
          "Node 12943<br>OP:1<br>Reads:1",
          "Node 6254<br>OP:3<br>Reads:15",
          "Node 22496<br>OP:0<br>Reads:0",
          "Node 153014<br>OP:3<br>Reads:2",
          "Node 243151<br>OP:1<br>Reads:2",
          "Node 243183<br>OP:0<br>Reads:0",
          "Node 242969<br>OP:1<br>Reads:2",
          "Node 241366<br>OP:0<br>Reads:0",
          "Node 243165<br>OP:0<br>Reads:0",
          "Node 240950<br>OP:1<br>Reads:0",
          "Node 638<br>OP:0<br>Reads:0",
          "Node 218720<br>OP:2<br>Reads:5",
          "Node 242936<br>OP:0<br>Reads:0",
          "Node 42504<br>OP:1<br>Reads:0",
          "Node 51460<br>OP:1<br>Reads:7",
          "Node 37650<br>OP:0<br>Reads:0",
          "Node 4781<br>OP:0<br>Reads:0",
          "Node 243055<br>OP:1<br>Reads:1",
          "Node 20497<br>OP:1<br>Reads:5",
          "Node 97533<br>OP:0<br>Reads:0",
          "Node 60882<br>OP:0<br>Reads:0",
          "Node 241809<br>OP:1<br>Reads:5",
          "Node 242115<br>OP:0<br>Reads:0",
          "Node 242421<br>OP:0<br>Reads:0",
          "Node 243088<br>OP:0<br>Reads:0",
          "Node 243075<br>OP:1<br>Reads:0",
          "Node 17886<br>OP:1<br>Reads:3",
          "Node 240741<br>OP:1<br>Reads:3",
          "Node 242698<br>OP:0<br>Reads:0",
          "Node 235806<br>OP:1<br>Reads:1",
          "Node 242998<br>OP:1<br>Reads:0",
          "Node 242659<br>OP:1<br>Reads:4",
          "Node 134779<br>OP:0<br>Reads:0",
          "Node 215253<br>OP:0<br>Reads:0",
          "Node 238097<br>OP:1<br>Reads:1",
          "Node 5646<br>OP:1<br>Reads:0",
          "Node 149071<br>OP:1<br>Reads:21",
          "Node 45935<br>OP:0<br>Reads:0",
          "Node 6920<br>OP:0<br>Reads:0",
          "Node 2845<br>OP:1<br>Reads:15",
          "Node 5914<br>OP:0<br>Reads:0",
          "Node 83192<br>OP:0<br>Reads:0",
          "Node 21948<br>OP:0<br>Reads:0",
          "Node 28519<br>OP:0<br>Reads:0",
          "Node 144563<br>OP:0<br>Reads:0",
          "Node 36598<br>OP:0<br>Reads:0",
          "Node 11949<br>OP:0<br>Reads:0",
          "Node 103375<br>OP:0<br>Reads:0",
          "Node 242648<br>OP:0<br>Reads:0",
          "Node 242867<br>OP:1<br>Reads:1",
          "Node 13412<br>OP:0<br>Reads:0",
          "Node 237078<br>OP:0<br>Reads:0",
          "Node 232892<br>OP:1<br>Reads:1",
          "Node 242493<br>OP:1<br>Reads:2",
          "Node 23345<br>OP:1<br>Reads:1",
          "Node 436<br>OP:0<br>Reads:0",
          "Node 242787<br>OP:1<br>Reads:0",
          "Node 16033<br>OP:1<br>Reads:19",
          "Node 3340<br>OP:0<br>Reads:0",
          "Node 90198<br>OP:0<br>Reads:0",
          "Node 28159<br>OP:0<br>Reads:0",
          "Node 88872<br>OP:0<br>Reads:0",
          "Node 174<br>OP:0<br>Reads:0",
          "Node 5441<br>OP:0<br>Reads:0",
          "Node 9111<br>OP:0<br>Reads:0",
          "Node 3587<br>OP:0<br>Reads:0",
          "Node 39091<br>OP:0<br>Reads:0",
          "Node 242073<br>OP:0<br>Reads:0",
          "Node 242024<br>OP:1<br>Reads:0",
          "Node 242156<br>OP:0<br>Reads:0",
          "Node 45617<br>OP:1<br>Reads:4",
          "Node 125121<br>OP:0<br>Reads:0",
          "Node 239050<br>OP:1<br>Reads:1",
          "Node 226819<br>OP:1<br>Reads:2",
          "Node 15223<br>OP:1<br>Reads:3",
          "Node 242590<br>OP:0<br>Reads:0",
          "Node 242691<br>OP:0<br>Reads:0",
          "Node 242643<br>OP:1<br>Reads:7",
          "Node 229275<br>OP:1<br>Reads:0",
          "Node 242664<br>OP:1<br>Reads:0",
          "Node 3180<br>OP:0<br>Reads:0",
          "Node 242567<br>OP:0<br>Reads:0",
          "Node 20170<br>OP:0<br>Reads:0",
          "Node 227360<br>OP:0<br>Reads:0",
          "Node 242598<br>OP:1<br>Reads:0",
          "Node 472<br>OP:1<br>Reads:0",
          "Node 242416<br>OP:1<br>Reads:5",
          "Node 14562<br>OP:0<br>Reads:0",
          "Node 241709<br>OP:1<br>Reads:5",
          "Node 233419<br>OP:1<br>Reads:3",
          "Node 242528<br>OP:1<br>Reads:1",
          "Node 157905<br>OP:1<br>Reads:2"
         ],
         "textposition": "bottom center",
         "type": "scatter",
         "x": [
          0.2325260767129735,
          0.20459393193231304,
          0.21745071702717597,
          -0.6874745801448164,
          -0.3303270337056,
          -0.5221548275873426,
          -0.6459767412310878,
          -0.517218385728354,
          -0.6291922419986314,
          -0.5135030095617733,
          -0.5058014624226082,
          -0.5992969961529517,
          -0.5611113799444383,
          -0.5283891071783672,
          -0.6517136521192064,
          -0.5356967423144097,
          -0.693390663499368,
          -0.608374243205036,
          -0.600931717337205,
          -0.42842763814375023,
          -0.5096026901598504,
          -0.4813048808416663,
          -0.54250070150812,
          -0.44947271412097844,
          -0.49500924325114315,
          -0.450760316499314,
          -0.593862595910012,
          -0.5097819871504194,
          -0.4426186281930413,
          -0.6656696546471954,
          -0.5591640104003479,
          -0.5493209280719502,
          -0.5606851823160256,
          -0.5116048313754332,
          -0.6143499302815422,
          -0.549515509272856,
          -0.5700737472558051,
          -0.4699548734541205,
          -0.5888342695361356,
          -0.6182643809693068,
          -0.4794779718629226,
          -0.5172835823192135,
          -0.5445956676126268,
          -0.5470272669956321,
          -0.5039560093056666,
          -0.5802333966913505,
          -0.5701777076115796,
          -0.5647850877519626,
          -0.6179362645582802,
          -0.578633400461901,
          0.6022322642376933,
          0.17742278984166207,
          0.6813747790173628,
          0.5726280777511367,
          -0.06241763842579637,
          0.38750333731060155,
          0.34744984010549423,
          -0.6040373252824095,
          -0.5672534180018856,
          -0.08755755640428124,
          0.734065182650046,
          0.7758229571333342,
          0.6949660860366642,
          0.5964450603666662,
          0.7237544414755138,
          0.669310966942766,
          0.6649431155740889,
          0.6007609316260283,
          0.4433457133951722,
          0.7262024865839222,
          0.6710591581797088,
          0.7289673436762082,
          0.32762402257059664,
          0.10785255383210653,
          0.5690617881388921,
          0.6604553555290344,
          0.6379137187551597,
          0.08521970665610815,
          -0.736710435001449,
          0.5785240376108477,
          0.2443420997976208,
          0.18826781901596445,
          0.3718964167271575,
          -0.4888437237619464,
          -0.3396156188006689,
          -0.299275678898459,
          0.3456683590328033,
          0.2894360926347489,
          0.3051118489694405,
          -0.37054024188340745,
          0.0468395356934116,
          0.1698271445596573,
          0.19010976142762726,
          -0.650874168892784,
          0.1250292094402567,
          -0.06307940319216011,
          0.11438535178333875,
          0.2967513161521245,
          -0.654769874683733,
          -0.6727368880003083,
          -0.6304697457675619,
          -0.25827259327573965,
          -0.24089487258102277,
          -0.2625088536957328,
          -0.23695682963956186,
          0.33467646193580125,
          -0.2488643342215718,
          0.5129092494905705,
          0.4472015803135426,
          0.35538013730574214,
          0.1576604682400878,
          0.4751541301961733,
          0.39668277740219876,
          -0.07066490283718903,
          -0.4975862705893923,
          -0.5737486952591767,
          -0.14057108411770813,
          0.2742727962383254,
          -0.09876151941612203,
          -0.08290691312924268,
          -0.10419784858820598,
          -0.0934736313694822,
          -0.1073105667396886,
          -0.10574178317167798,
          -0.09798710208600038,
          -0.12879395224000822,
          -0.08728169308701052,
          -0.14577972446074386,
          -0.07359179647712871,
          0.542674803856282,
          0.17201942647717114,
          0.21401977809779596,
          -0.5222974971174134,
          0.6830726624631918,
          -0.4553698085419351,
          0.10000082556131996,
          0.21764745518610437,
          0.6890523450124553,
          0.520951503674457,
          0.6131218111300322,
          0.592084902710359,
          0.6596594610631799,
          0.5411421842240105,
          0.5609538421043024,
          0.4446268054938982,
          0.6610771967761978,
          0.48903059582038766,
          0.5315240586310978,
          0.6041868193247698,
          0.5260723927568904,
          -0.18734185272947515,
          -0.15335067377916653,
          0.7823664684885357,
          -0.015418820318532648,
          0.8073666866180907,
          0.7788946079824266,
          0.780577680812284,
          0.644425148188764,
          -0.716248517833692,
          0.8168263375284801,
          -0.0472025140051973,
          -0.051245595721274746,
          -0.06274300171217942,
          0.1106427972495643,
          0.844650952800718,
          -0.23905778006023862,
          0.7572486116355815,
          0.6925883238441277,
          -0.08096500162291116,
          0.3036042731042109,
          0.6980001559052708,
          0.7695656885347901
         ],
         "y": [
          0.4706853960066024,
          0.40460210764965465,
          0.4574532436203654,
          0.3262309429963489,
          0.30988251753190926,
          0.22414992410202147,
          0.26993544073599696,
          0.18630585492256632,
          0.32141586793987614,
          0.20135683836542367,
          0.2161714946452516,
          0.2655778540222185,
          0.210331958448662,
          0.20444257546672154,
          0.3094761592911523,
          0.24491942157125535,
          0.2862788034218912,
          0.2487685767864182,
          0.28064501244766965,
          0.15022940807541657,
          0.20869429517034177,
          0.19469421385245037,
          0.20354523295642507,
          0.15465947749410425,
          0.1818195858612332,
          0.14706363412604226,
          0.29643986129248606,
          0.22676305763671417,
          0.16077300437763314,
          0.277690109601504,
          0.22479575889932457,
          0.25732454126885673,
          0.25040082947182135,
          0.19411677788477125,
          0.26010774431652156,
          0.26872109729080884,
          0.2794226000465792,
          0.17521039774919442,
          0.2338559558724779,
          0.29622726736477006,
          0.17329479323746164,
          0.24021162204704335,
          0.23707457089478493,
          0.22552046133062853,
          0.2348006298007992,
          0.2676008178445823,
          0.21720612593916275,
          0.23512274116392318,
          0.23923757955140912,
          0.24848967954567563,
          -0.7116628020038607,
          -0.09489127648055887,
          -0.05990804590872076,
          -0.07713152447338291,
          -0.26418596983535375,
          -0.8910583910067377,
          -0.7758284085205988,
          -0.5837502734625686,
          -0.7379634750470715,
          -0.3813095817520746,
          -0.23213201537595285,
          -0.23946524198980984,
          -0.23767530933423445,
          -0.19273807466524165,
          -0.19403316344281646,
          -0.19953212740647167,
          -0.22925358806417914,
          -0.2000795135649535,
          0.08143163424912407,
          -0.21054223394009636,
          -0.21439877263052246,
          -0.25949260073830527,
          -0.08667577674551738,
          -0.12838685013011933,
          0.36866828140109525,
          -0.4790092731380768,
          -0.4915815858147448,
          -0.3806187298293187,
          -0.24538744442066218,
          -0.778703385342008,
          0.5729544236950795,
          -0.02791712635804819,
          0.07161384021182533,
          -0.8938607260135835,
          0.5671869487537227,
          0.46436828196364077,
          0.308648026872787,
          0.2079516029413867,
          0.237443739793436,
          -0.8958566100583472,
          0.15581853471516227,
          -0.11751076216068608,
          -0.12978856975738493,
          -0.6281404954508476,
          -1,
          -0.395873629010173,
          -0.884848786329343,
          -0.8559041057971967,
          -0.4629975704024657,
          -0.4697594838340624,
          -0.4337960421522575,
          -0.8895599854466026,
          -0.8441371403973167,
          -0.8490431415218942,
          -0.795868864860843,
          0.5614444598660254,
          0.5136616858639517,
          -0.9071914358405894,
          -0.7782051324408057,
          -0.13444632142180768,
          0.6081121988930793,
          0.5220644423998116,
          0.39472684044249456,
          -0.46918355356571867,
          -0.8018790360256256,
          -0.6884415806424502,
          0.5565376244171315,
          0.42468754258693725,
          0.5429884940174089,
          0.40643651506447864,
          0.5740182001874347,
          0.41319946439838,
          0.5167639309090771,
          0.49334461095773835,
          0.45589754718694836,
          0.5759518532814167,
          0.37215932843389843,
          0.5942369404998296,
          0.3482882614554877,
          0.451801808431703,
          -0.04620107063521361,
          -0.03883082012099631,
          -0.46208713427101156,
          -0.6501241133309256,
          0.5362583151971237,
          0.05422834137900787,
          -0.9229819538969467,
          0.29445615505565187,
          0.20458405436821958,
          0.25309279743250995,
          0.24591598641944323,
          0.30731442431942635,
          0.21622555953715014,
          0.22293044591328523,
          0.14265873427752587,
          0.26127607845119727,
          0.18138760625221595,
          0.1997095731169373,
          -0.032848751679843635,
          0.18920081319622462,
          -0.9784065776861866,
          -0.7907618373217012,
          -0.40321980084945946,
          -0.9826708911925615,
          -0.40765886211076857,
          -0.43781276238973055,
          -0.42240395431125816,
          0.2868122057566365,
          -0.5227918894238888,
          0.048908441649255834,
          0.38983428055534286,
          0.3531538086293283,
          0.3280858782058786,
          0.365478964253377,
          -0.07841058790635753,
          0.6149474634984262,
          -0.34887315825771864,
          -0.32510963807580434,
          0.6027197694872798,
          0.4638970813678535,
          0.05135852883471467,
          0.20621310503093906
         ]
        }
       ],
       "layout": {
        "height": 800,
        "hovermode": "closest",
        "margin": {
         "b": 0,
         "l": 0,
         "r": 0,
         "t": 0
        },
        "showlegend": false,
        "template": {
         "data": {
          "bar": [
           {
            "error_x": {
             "color": "#2a3f5f"
            },
            "error_y": {
             "color": "#2a3f5f"
            },
            "marker": {
             "line": {
              "color": "#E5ECF6",
              "width": 0.5
             },
             "pattern": {
              "fillmode": "overlay",
              "size": 10,
              "solidity": 0.2
             }
            },
            "type": "bar"
           }
          ],
          "barpolar": [
           {
            "marker": {
             "line": {
              "color": "#E5ECF6",
              "width": 0.5
             },
             "pattern": {
              "fillmode": "overlay",
              "size": 10,
              "solidity": 0.2
             }
            },
            "type": "barpolar"
           }
          ],
          "carpet": [
           {
            "aaxis": {
             "endlinecolor": "#2a3f5f",
             "gridcolor": "white",
             "linecolor": "white",
             "minorgridcolor": "white",
             "startlinecolor": "#2a3f5f"
            },
            "baxis": {
             "endlinecolor": "#2a3f5f",
             "gridcolor": "white",
             "linecolor": "white",
             "minorgridcolor": "white",
             "startlinecolor": "#2a3f5f"
            },
            "type": "carpet"
           }
          ],
          "choropleth": [
           {
            "colorbar": {
             "outlinewidth": 0,
             "ticks": ""
            },
            "type": "choropleth"
           }
          ],
          "contour": [
           {
            "colorbar": {
             "outlinewidth": 0,
             "ticks": ""
            },
            "colorscale": [
             [
              0,
              "#0d0887"
             ],
             [
              0.1111111111111111,
              "#46039f"
             ],
             [
              0.2222222222222222,
              "#7201a8"
             ],
             [
              0.3333333333333333,
              "#9c179e"
             ],
             [
              0.4444444444444444,
              "#bd3786"
             ],
             [
              0.5555555555555556,
              "#d8576b"
             ],
             [
              0.6666666666666666,
              "#ed7953"
             ],
             [
              0.7777777777777778,
              "#fb9f3a"
             ],
             [
              0.8888888888888888,
              "#fdca26"
             ],
             [
              1,
              "#f0f921"
             ]
            ],
            "type": "contour"
           }
          ],
          "contourcarpet": [
           {
            "colorbar": {
             "outlinewidth": 0,
             "ticks": ""
            },
            "type": "contourcarpet"
           }
          ],
          "heatmap": [
           {
            "colorbar": {
             "outlinewidth": 0,
             "ticks": ""
            },
            "colorscale": [
             [
              0,
              "#0d0887"
             ],
             [
              0.1111111111111111,
              "#46039f"
             ],
             [
              0.2222222222222222,
              "#7201a8"
             ],
             [
              0.3333333333333333,
              "#9c179e"
             ],
             [
              0.4444444444444444,
              "#bd3786"
             ],
             [
              0.5555555555555556,
              "#d8576b"
             ],
             [
              0.6666666666666666,
              "#ed7953"
             ],
             [
              0.7777777777777778,
              "#fb9f3a"
             ],
             [
              0.8888888888888888,
              "#fdca26"
             ],
             [
              1,
              "#f0f921"
             ]
            ],
            "type": "heatmap"
           }
          ],
          "heatmapgl": [
           {
            "colorbar": {
             "outlinewidth": 0,
             "ticks": ""
            },
            "colorscale": [
             [
              0,
              "#0d0887"
             ],
             [
              0.1111111111111111,
              "#46039f"
             ],
             [
              0.2222222222222222,
              "#7201a8"
             ],
             [
              0.3333333333333333,
              "#9c179e"
             ],
             [
              0.4444444444444444,
              "#bd3786"
             ],
             [
              0.5555555555555556,
              "#d8576b"
             ],
             [
              0.6666666666666666,
              "#ed7953"
             ],
             [
              0.7777777777777778,
              "#fb9f3a"
             ],
             [
              0.8888888888888888,
              "#fdca26"
             ],
             [
              1,
              "#f0f921"
             ]
            ],
            "type": "heatmapgl"
           }
          ],
          "histogram": [
           {
            "marker": {
             "pattern": {
              "fillmode": "overlay",
              "size": 10,
              "solidity": 0.2
             }
            },
            "type": "histogram"
           }
          ],
          "histogram2d": [
           {
            "colorbar": {
             "outlinewidth": 0,
             "ticks": ""
            },
            "colorscale": [
             [
              0,
              "#0d0887"
             ],
             [
              0.1111111111111111,
              "#46039f"
             ],
             [
              0.2222222222222222,
              "#7201a8"
             ],
             [
              0.3333333333333333,
              "#9c179e"
             ],
             [
              0.4444444444444444,
              "#bd3786"
             ],
             [
              0.5555555555555556,
              "#d8576b"
             ],
             [
              0.6666666666666666,
              "#ed7953"
             ],
             [
              0.7777777777777778,
              "#fb9f3a"
             ],
             [
              0.8888888888888888,
              "#fdca26"
             ],
             [
              1,
              "#f0f921"
             ]
            ],
            "type": "histogram2d"
           }
          ],
          "histogram2dcontour": [
           {
            "colorbar": {
             "outlinewidth": 0,
             "ticks": ""
            },
            "colorscale": [
             [
              0,
              "#0d0887"
             ],
             [
              0.1111111111111111,
              "#46039f"
             ],
             [
              0.2222222222222222,
              "#7201a8"
             ],
             [
              0.3333333333333333,
              "#9c179e"
             ],
             [
              0.4444444444444444,
              "#bd3786"
             ],
             [
              0.5555555555555556,
              "#d8576b"
             ],
             [
              0.6666666666666666,
              "#ed7953"
             ],
             [
              0.7777777777777778,
              "#fb9f3a"
             ],
             [
              0.8888888888888888,
              "#fdca26"
             ],
             [
              1,
              "#f0f921"
             ]
            ],
            "type": "histogram2dcontour"
           }
          ],
          "mesh3d": [
           {
            "colorbar": {
             "outlinewidth": 0,
             "ticks": ""
            },
            "type": "mesh3d"
           }
          ],
          "parcoords": [
           {
            "line": {
             "colorbar": {
              "outlinewidth": 0,
              "ticks": ""
             }
            },
            "type": "parcoords"
           }
          ],
          "pie": [
           {
            "automargin": true,
            "type": "pie"
           }
          ],
          "scatter": [
           {
            "fillpattern": {
             "fillmode": "overlay",
             "size": 10,
             "solidity": 0.2
            },
            "type": "scatter"
           }
          ],
          "scatter3d": [
           {
            "line": {
             "colorbar": {
              "outlinewidth": 0,
              "ticks": ""
             }
            },
            "marker": {
             "colorbar": {
              "outlinewidth": 0,
              "ticks": ""
             }
            },
            "type": "scatter3d"
           }
          ],
          "scattercarpet": [
           {
            "marker": {
             "colorbar": {
              "outlinewidth": 0,
              "ticks": ""
             }
            },
            "type": "scattercarpet"
           }
          ],
          "scattergeo": [
           {
            "marker": {
             "colorbar": {
              "outlinewidth": 0,
              "ticks": ""
             }
            },
            "type": "scattergeo"
           }
          ],
          "scattergl": [
           {
            "marker": {
             "colorbar": {
              "outlinewidth": 0,
              "ticks": ""
             }
            },
            "type": "scattergl"
           }
          ],
          "scattermapbox": [
           {
            "marker": {
             "colorbar": {
              "outlinewidth": 0,
              "ticks": ""
             }
            },
            "type": "scattermapbox"
           }
          ],
          "scatterpolar": [
           {
            "marker": {
             "colorbar": {
              "outlinewidth": 0,
              "ticks": ""
             }
            },
            "type": "scatterpolar"
           }
          ],
          "scatterpolargl": [
           {
            "marker": {
             "colorbar": {
              "outlinewidth": 0,
              "ticks": ""
             }
            },
            "type": "scatterpolargl"
           }
          ],
          "scatterternary": [
           {
            "marker": {
             "colorbar": {
              "outlinewidth": 0,
              "ticks": ""
             }
            },
            "type": "scatterternary"
           }
          ],
          "surface": [
           {
            "colorbar": {
             "outlinewidth": 0,
             "ticks": ""
            },
            "colorscale": [
             [
              0,
              "#0d0887"
             ],
             [
              0.1111111111111111,
              "#46039f"
             ],
             [
              0.2222222222222222,
              "#7201a8"
             ],
             [
              0.3333333333333333,
              "#9c179e"
             ],
             [
              0.4444444444444444,
              "#bd3786"
             ],
             [
              0.5555555555555556,
              "#d8576b"
             ],
             [
              0.6666666666666666,
              "#ed7953"
             ],
             [
              0.7777777777777778,
              "#fb9f3a"
             ],
             [
              0.8888888888888888,
              "#fdca26"
             ],
             [
              1,
              "#f0f921"
             ]
            ],
            "type": "surface"
           }
          ],
          "table": [
           {
            "cells": {
             "fill": {
              "color": "#EBF0F8"
             },
             "line": {
              "color": "white"
             }
            },
            "header": {
             "fill": {
              "color": "#C8D4E3"
             },
             "line": {
              "color": "white"
             }
            },
            "type": "table"
           }
          ]
         },
         "layout": {
          "annotationdefaults": {
           "arrowcolor": "#2a3f5f",
           "arrowhead": 0,
           "arrowwidth": 1
          },
          "autotypenumbers": "strict",
          "coloraxis": {
           "colorbar": {
            "outlinewidth": 0,
            "ticks": ""
           }
          },
          "colorscale": {
           "diverging": [
            [
             0,
             "#8e0152"
            ],
            [
             0.1,
             "#c51b7d"
            ],
            [
             0.2,
             "#de77ae"
            ],
            [
             0.3,
             "#f1b6da"
            ],
            [
             0.4,
             "#fde0ef"
            ],
            [
             0.5,
             "#f7f7f7"
            ],
            [
             0.6,
             "#e6f5d0"
            ],
            [
             0.7,
             "#b8e186"
            ],
            [
             0.8,
             "#7fbc41"
            ],
            [
             0.9,
             "#4d9221"
            ],
            [
             1,
             "#276419"
            ]
           ],
           "sequential": [
            [
             0,
             "#0d0887"
            ],
            [
             0.1111111111111111,
             "#46039f"
            ],
            [
             0.2222222222222222,
             "#7201a8"
            ],
            [
             0.3333333333333333,
             "#9c179e"
            ],
            [
             0.4444444444444444,
             "#bd3786"
            ],
            [
             0.5555555555555556,
             "#d8576b"
            ],
            [
             0.6666666666666666,
             "#ed7953"
            ],
            [
             0.7777777777777778,
             "#fb9f3a"
            ],
            [
             0.8888888888888888,
             "#fdca26"
            ],
            [
             1,
             "#f0f921"
            ]
           ],
           "sequentialminus": [
            [
             0,
             "#0d0887"
            ],
            [
             0.1111111111111111,
             "#46039f"
            ],
            [
             0.2222222222222222,
             "#7201a8"
            ],
            [
             0.3333333333333333,
             "#9c179e"
            ],
            [
             0.4444444444444444,
             "#bd3786"
            ],
            [
             0.5555555555555556,
             "#d8576b"
            ],
            [
             0.6666666666666666,
             "#ed7953"
            ],
            [
             0.7777777777777778,
             "#fb9f3a"
            ],
            [
             0.8888888888888888,
             "#fdca26"
            ],
            [
             1,
             "#f0f921"
            ]
           ]
          },
          "colorway": [
           "#636efa",
           "#EF553B",
           "#00cc96",
           "#ab63fa",
           "#FFA15A",
           "#19d3f3",
           "#FF6692",
           "#B6E880",
           "#FF97FF",
           "#FECB52"
          ],
          "font": {
           "color": "#2a3f5f"
          },
          "geo": {
           "bgcolor": "white",
           "lakecolor": "white",
           "landcolor": "#E5ECF6",
           "showlakes": true,
           "showland": true,
           "subunitcolor": "white"
          },
          "hoverlabel": {
           "align": "left"
          },
          "hovermode": "closest",
          "mapbox": {
           "style": "light"
          },
          "paper_bgcolor": "white",
          "plot_bgcolor": "#E5ECF6",
          "polar": {
           "angularaxis": {
            "gridcolor": "white",
            "linecolor": "white",
            "ticks": ""
           },
           "bgcolor": "#E5ECF6",
           "radialaxis": {
            "gridcolor": "white",
            "linecolor": "white",
            "ticks": ""
           }
          },
          "scene": {
           "xaxis": {
            "backgroundcolor": "#E5ECF6",
            "gridcolor": "white",
            "gridwidth": 2,
            "linecolor": "white",
            "showbackground": true,
            "ticks": "",
            "zerolinecolor": "white"
           },
           "yaxis": {
            "backgroundcolor": "#E5ECF6",
            "gridcolor": "white",
            "gridwidth": 2,
            "linecolor": "white",
            "showbackground": true,
            "ticks": "",
            "zerolinecolor": "white"
           },
           "zaxis": {
            "backgroundcolor": "#E5ECF6",
            "gridcolor": "white",
            "gridwidth": 2,
            "linecolor": "white",
            "showbackground": true,
            "ticks": "",
            "zerolinecolor": "white"
           }
          },
          "shapedefaults": {
           "line": {
            "color": "#2a3f5f"
           }
          },
          "ternary": {
           "aaxis": {
            "gridcolor": "white",
            "linecolor": "white",
            "ticks": ""
           },
           "baxis": {
            "gridcolor": "white",
            "linecolor": "white",
            "ticks": ""
           },
           "bgcolor": "#E5ECF6",
           "caxis": {
            "gridcolor": "white",
            "linecolor": "white",
            "ticks": ""
           }
          },
          "title": {
           "x": 0.05
          },
          "xaxis": {
           "automargin": true,
           "gridcolor": "white",
           "linecolor": "white",
           "ticks": "",
           "title": {
            "standoff": 15
           },
           "zerolinecolor": "white",
           "zerolinewidth": 2
          },
          "yaxis": {
           "automargin": true,
           "gridcolor": "white",
           "linecolor": "white",
           "ticks": "",
           "title": {
            "standoff": 15
           },
           "zerolinecolor": "white",
           "zerolinewidth": 2
          }
         }
        },
        "width": 1200,
        "xaxis": {
         "showgrid": false,
         "showticklabels": false,
         "zeroline": false
        },
        "yaxis": {
         "showgrid": false,
         "showticklabels": false,
         "zeroline": false
        }
       }
      }
     },
     "metadata": {},
     "output_type": "display_data"
    }
   ],
   "source": [
    "# Layout\n",
    "pos = nx.spring_layout(G)\n",
    "\n",
    "# Collect edge weights into a list and normalize them\n",
    "edge_weights = [G.edges[edge]['weight'] for edge in G.edges()]\n",
    "max_weight = max(edge_weights)\n",
    "min_weight = min(edge_weights)\n",
    "\n",
    "# Initialize list to store edge traces\n",
    "edge_traces = []\n",
    "\n",
    "# Loop through each edge to create an edge trace\n",
    "for edge in G.edges():\n",
    "    x0, y0 = pos[edge[0]]\n",
    "    x1, y1 = pos[edge[1]]\n",
    "    \n",
    "    # Get edge weight and normalize it\n",
    "    weight = G.edges[edge]['weight']\n",
    "    normalized_weight = (weight - min_weight) / (max_weight - min_weight)\n",
    "    \n",
    "    edge_color = f'rgba(0,0,255,{normalized_weight+0.1})'\n",
    "    \n",
    "    edge_trace = go.Scatter(\n",
    "        x=[x0, x1, None],\n",
    "        y=[y0, y1, None],\n",
    "        line=dict(width=0.5, color=edge_color),\n",
    "        hoverinfo='none',\n",
    "        mode='lines'\n",
    "    )\n",
    "    \n",
    "    edge_traces.append(edge_trace)\n",
    "\n",
    "# Nodes\n",
    "node_x = []\n",
    "node_y = []\n",
    "node_text = []\n",
    "\n",
    "node_reads = [G.nodes[node].get('reads', 0) for node in G.nodes()]\n",
    "max_reads = max(node_reads)\n",
    "min_reads = min(node_reads)\n",
    "node_sizes = [(reads - min_reads)/(max_reads - min_reads) * 20 + 10 for reads in node_reads]\n",
    "\n",
    "\n",
    "for node in G.nodes():\n",
    "    x, y = pos[node]\n",
    "    node_x.append(x)\n",
    "    node_y.append(y)\n",
    "    # Sample node attributes (Replace this line with your actual node attributes)\n",
    "    node_text.append(f'Node {node}<br>OP:{G.nodes[node][\"OP_author\"]}<br>Reads:{G.nodes[node][\"reads\"]}')\n",
    "\n",
    "node_trace = go.Scatter(\n",
    "    x=node_x,\n",
    "    y=node_y,\n",
    "    mode='markers',\n",
    "    text=node_text,\n",
    "    textposition=\"bottom center\",\n",
    "    hoverinfo='text',\n",
    "    marker=dict(\n",
    "        showscale=True,\n",
    "        colorscale='YlGnBu',\n",
    "        size=node_sizes,  # Node sizes based on 'reads'\n",
    "        colorbar=dict(\n",
    "            thickness=15,\n",
    "            title='Node Color Scale',\n",
    "            xanchor='left',\n",
    "            titleside='right'\n",
    "        )\n",
    "    )\n",
    ")\n",
    "\n",
    "# Create the final figure\n",
    "fig = go.Figure(data=edge_traces + [node_trace],\n",
    "                layout=go.Layout(\n",
    "                    showlegend=False,\n",
    "                    hovermode='closest',\n",
    "                    margin=dict(b=0, l=0, r=0, t=0),\n",
    "                    xaxis=dict(showgrid=False, zeroline=False, showticklabels=False),\n",
    "                    yaxis=dict(showgrid=False, zeroline=False, showticklabels=False))\n",
    "                )\n",
    "\n",
    "fig.update_layout(\n",
    "    height=800,\n",
    "    width=1200\n",
    ")\n",
    "\n",
    "fig.show()"
   ]
  },
  {
   "cell_type": "code",
   "execution_count": 13,
   "metadata": {},
   "outputs": [],
   "source": [
    "# fig.write_html(\"graph_export.html\")"
   ]
  }
 ],
 "metadata": {
  "kernelspec": {
   "display_name": "py3.10_Venv",
   "language": "python",
   "name": "python3"
  },
  "language_info": {
   "codemirror_mode": {
    "name": "ipython",
    "version": 3
   },
   "file_extension": ".py",
   "mimetype": "text/x-python",
   "name": "python",
   "nbconvert_exporter": "python",
   "pygments_lexer": "ipython3",
   "version": "3.11.5"
  }
 },
 "nbformat": 4,
 "nbformat_minor": 2
}
