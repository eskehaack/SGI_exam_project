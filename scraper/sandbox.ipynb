{
 "cells": [
  {
   "cell_type": "code",
   "execution_count": 1,
   "metadata": {},
   "outputs": [],
   "source": [
    "from tqdm import tqdm\n",
    "import requests\n",
    "from bs4 import BeautifulSoup\n",
    "import matplotlib.pyplot as plt\n",
    "# import networkx as nx\n",
    "import plotly.graph_objs as go\n",
    "from plotly.subplots import make_subplots\n",
    "import numpy as np\n",
    "import plotly.express as px\n",
    "from textwrap import wrap\n",
    "import networkx as nx\n",
    "from tqdm import tqdm\n",
    "import os\n",
    "from urllib.parse import urlparse, unquote\n"
   ]
  },
  {
   "cell_type": "code",
   "execution_count": 2,
   "metadata": {},
   "outputs": [],
   "source": [
    "# url = \"https://www.heste-nettet.dk/forum/1/1316128/1316128/\"\n",
    "headers = {\"User-Agent\": \"Mozilla/5.0 (X11; Linux x86_64) AppleWebKit/537.36 (KHTML, like Gecko) Chrome/88.0.4324.96 Safari/537.36\"} \n",
    "\n",
    "\n",
    "\n",
    "def get_html_content(url, save_dir):\n",
    "    # Parse the URL to get the path\n",
    "    parsed_url = urlparse(url)\n",
    "    # Decode any percent-encoded characters in the path\n",
    "    path = unquote(parsed_url.path)\n",
    "    \n",
    "    # Remove the leading and trailing slashes and replace remaining slashes with underscores\n",
    "    filename = path.strip('/').replace('/', '_') + '.html'\n",
    "    \n",
    "    # Check if the directory exists, if not, create it\n",
    "    if not os.path.exists(save_dir):\n",
    "        os.makedirs(save_dir)\n",
    "\n",
    "    # Define the path for the file\n",
    "    file_path = os.path.join(save_dir, filename)\n",
    "\n",
    "    # Check if the file already exists\n",
    "    if not os.path.isfile(file_path):\n",
    "        # If not, make a request and save the file\n",
    "        response = requests.get(url, headers=headers)\n",
    "        if response.status_code == 200:\n",
    "            with open(file_path, 'w', encoding='utf-8') as file:\n",
    "                file.write(response.text)\n",
    "            soup = BeautifulSoup(response.text, \"html.parser\")\n",
    "            return soup\n",
    "        elif response.status_code in [404, 403]:\n",
    "            print(f\"Response code: {response.status_code} for {url}\")\n",
    "        else:\n",
    "            return None\n",
    "    else:\n",
    "        # If the file exists, read it from the disk\n",
    "        with open(file_path, 'r', encoding='utf-8') as file:\n",
    "            content = file.read()\n",
    "        soup = BeautifulSoup(content, \"html.parser\")\n",
    "        return soup\n",
    "\n"
   ]
  },
  {
   "cell_type": "code",
   "execution_count": 3,
   "metadata": {},
   "outputs": [],
   "source": [
    "# def rename_files(directory):\n",
    "#     for filename in os.listdir(directory):\n",
    "#         if filename.endswith('.html'):  # Ensure we're only renaming HTML files\n",
    "#             new_name = f\"forum_1_{filename}\"\n",
    "#             old_path = os.path.join(directory, filename)\n",
    "#             new_path = os.path.join(directory, new_name)\n",
    "#             os.rename(old_path, new_path)\n",
    "#             print(f\"Renamed '{filename}' to '{new_name}'\")\n",
    "\n",
    "# # Replace 'path/to/your/directory' with the actual path to your directory\n",
    "# directory_path = './html_scrape - Copy/'\n",
    "# rename_files(directory_path)"
   ]
  },
  {
   "cell_type": "code",
   "execution_count": 3,
   "metadata": {},
   "outputs": [],
   "source": [
    "\n",
    "def author_text_scrape(soup):\n",
    "    author_list = []\n",
    "    text_list = []\n",
    "    # Find all the <td> elements with class \"light\" and itemprop=\"text\"\n",
    "    td_elements = soup.find_all('td', bgcolor='#787878', valign='top')\n",
    "\n",
    "    # Iterate through the <td> elements\n",
    "    for td in td_elements:\n",
    "        # Extract the author's href number\n",
    "        author_a = td.find('a', itemprop='url')\n",
    "        if author_a:\n",
    "            author_href = author_a['href']\n",
    "            author_text = author_a.text\n",
    "            \n",
    "        else:\n",
    "            author_href = None\n",
    "            author_text = td.find('span', itemprop='name').text\n",
    "        # print(author_text)\n",
    "        # Find the first <div> with class \"rsPost\" within the current <td>\n",
    "        rs_post = td.find('div', class_='rsPost')\n",
    "        \n",
    "        if rs_post:\n",
    "            # Extract Danish text within <span> tags\n",
    "            danish_text = [span.text for span in rs_post.find_all('p')]\n",
    "            \n",
    "            # Combine the text into a single string\n",
    "            danish_text = \"\\n\".join(danish_text)\n",
    "                \n",
    "            # if len(danish_text)>1 and author_text:\n",
    "                # author_list.append(author_href.split('/')[-2])\n",
    "            author_list.append(author_text)\n",
    "            text_list.append(danish_text)\n",
    "        # if author_text == \"Doctor Who\" and len(author_list)<2:\n",
    "        #     print(rs_post)\n",
    "\n",
    "    return author_list, text_list\n"
   ]
  },
  {
   "cell_type": "code",
   "execution_count": 5,
   "metadata": {},
   "outputs": [],
   "source": [
    "# page_links = []\n",
    "# def get_new_page_link(result):\n",
    "#     page_links.append(result)\n",
    "#     soup = get_html_content(f\"https://www.heste-nettet.dk{result}\")\n",
    "#     result = soup.find('a', string = 'Ældre indlæg')['href']\n",
    "#     if result:\n",
    "#         print(result)\n",
    "#         get_new_page_link(result)\n",
    "#     else:\n",
    "#         return False\n",
    "# get_new_page_link('/forum/1/')"
   ]
  },
  {
   "cell_type": "code",
   "execution_count": 4,
   "metadata": {},
   "outputs": [
    {
     "name": "stderr",
     "output_type": "stream",
     "text": [
      "  0%|          | 0/530 [00:00<?, ?it/s]"
     ]
    },
    {
     "name": "stderr",
     "output_type": "stream",
     "text": [
      "100%|██████████| 530/530 [00:13<00:00, 39.65it/s]\n"
     ]
    }
   ],
   "source": [
    "html_dir = './html_scrape'\n",
    "href_list = []\n",
    "for page_index in tqdm(range(70,37100+1,70)): # 185780\n",
    "    soup = get_html_content(f\"https://www.heste-nettet.dk/forum/1/{page_index}/\",html_dir)\n",
    "    post_links = soup.find_all(\"a\",href=True)\n",
    "    \n",
    "    # Filter and print the links\n",
    "    for link in post_links:\n",
    "        href = link['href']\n",
    "        if \"/forum/1/\" in href and len(href.split(\"/\"))==6:\n",
    "            href_list.append(href)"
   ]
  },
  {
   "cell_type": "code",
   "execution_count": 5,
   "metadata": {},
   "outputs": [
    {
     "data": {
      "text/plain": [
       "36723"
      ]
     },
     "execution_count": 5,
     "metadata": {},
     "output_type": "execute_result"
    }
   ],
   "source": [
    "len(href_list)"
   ]
  },
  {
   "cell_type": "code",
   "execution_count": 6,
   "metadata": {},
   "outputs": [
    {
     "data": {
      "text/plain": [
       "'/forum/1/2431701/2431701/'"
      ]
     },
     "execution_count": 6,
     "metadata": {},
     "output_type": "execute_result"
    }
   ],
   "source": [
    "href_list[0]"
   ]
  },
  {
   "cell_type": "code",
   "execution_count": 7,
   "metadata": {},
   "outputs": [
    {
     "name": "stderr",
     "output_type": "stream",
     "text": [
      "100%|██████████| 36723/36723 [18:18<00:00, 33.44it/s]\n"
     ]
    }
   ],
   "source": [
    "authors_data = []\n",
    "texts_data = []\n",
    "used_href_list = []\n",
    "for href in tqdm(href_list):\n",
    "    url = f\"https://www.heste-nettet.dk{href}\"\n",
    "    if (soup:=get_html_content(url,html_dir)):\n",
    "        author_list, text_list = author_text_scrape(soup)\n",
    "        if len(author_list)>0 and len(text_list)>0:\n",
    "            authors_data.append(author_list)\n",
    "            texts_data.append(text_list)\n",
    "            used_href_list.append(href)"
   ]
  },
  {
   "cell_type": "code",
   "execution_count": 8,
   "metadata": {},
   "outputs": [],
   "source": [
    "# Initialize a directed graph (DiGraph)\n",
    "G = nx.DiGraph()\n",
    "\n",
    "# Initialize a dictionary to store text lengths for each author\n",
    "author_text_lengths = {}\n",
    "\n",
    "# Keep track of added nodes\n",
    "added_nodes = set()\n",
    "\n",
    "# Process each webpage\n",
    "for idx, (authors, text_sections) in enumerate(zip(authors_data, texts_data)):\n",
    "    # The first author in the inner list is the OP author\n",
    "    try:\n",
    "        op_author = authors[0]\n",
    "    except:\n",
    "        print(idx, authors, text_sections)\n",
    "        break\n",
    "    \n",
    "    # Add nodes for all authors, including the OP, and initialize the \"OP_author\" attribute to 0\n",
    "    for author in authors:\n",
    "        if author not in added_nodes:\n",
    "            G.add_node(author, OP_author=0, reads=0,comments = 0)\n",
    "            added_nodes.add(author)\n",
    "\n",
    "    # Update the \"OP_author\" attribute for the OP author\n",
    "    G.nodes[op_author][\"OP_author\"] += 1\n",
    "    G.nodes[op_author][\"reads\"] += len(authors)-1\n",
    "\n",
    "    # Connect the OP author to all other authors with weighted edges\n",
    "    for author in authors[1:]:\n",
    "        if G.has_edge(author, op_author):\n",
    "            G[author][op_author][\"weight\"] += 1  # Increment the edge weight\n",
    "        else:\n",
    "            G.add_edge(author, op_author, weight=1)  # Initialize edge weight to 1\n",
    "        \n",
    "        G.nodes[author][\"comments\"] += 1\n",
    "\n",
    "    # Calculate text lengths and store in the author_text_lengths dictionary\n",
    "    for author, text_section in zip(authors, text_sections):\n",
    "        text_length = len(text_section)\n",
    "        author_text_lengths[author] = text_length\n"
   ]
  },
  {
   "cell_type": "code",
   "execution_count": 13,
   "metadata": {},
   "outputs": [
    {
     "ename": "ValueError",
     "evalue": "All strings must be XML compatible: Unicode or ASCII, no NULL bytes or control characters",
     "output_type": "error",
     "traceback": [
      "\u001b[1;31m---------------------------------------------------------------------------\u001b[0m",
      "\u001b[1;31mValueError\u001b[0m                                Traceback (most recent call last)",
      "\u001b[1;32mg:\\My Drive\\UniTvaerDrive\\5.Semester\\Social Graphs\\SGI_exam_project\\scraper\\sandbox.ipynb Cell 11\u001b[0m line \u001b[0;36m1\n\u001b[1;32m----> <a href='vscode-notebook-cell:/g%3A/My%20Drive/UniTvaerDrive/5.Semester/Social%20Graphs/SGI_exam_project/scraper/sandbox.ipynb#X46sZmlsZQ%3D%3D?line=0'>1</a>\u001b[0m nx\u001b[39m.\u001b[39mwrite_graphml(G,\u001b[39m'\u001b[39m\u001b[39mmedium_graph.graphml\u001b[39m\u001b[39m'\u001b[39m)\n",
      "File \u001b[1;32mc:\\Users\\Magnus\\miniconda3\\envs\\py3.10_Venv\\Lib\\site-packages\\networkx\\utils\\decorators.py:766\u001b[0m, in \u001b[0;36margmap.__call__.<locals>.func\u001b[1;34m(_argmap__wrapper, *args, **kwargs)\u001b[0m\n\u001b[0;32m    765\u001b[0m \u001b[39mdef\u001b[39;00m \u001b[39mfunc\u001b[39m(\u001b[39m*\u001b[39margs, __wrapper\u001b[39m=\u001b[39m\u001b[39mNone\u001b[39;00m, \u001b[39m*\u001b[39m\u001b[39m*\u001b[39mkwargs):\n\u001b[1;32m--> 766\u001b[0m     \u001b[39mreturn\u001b[39;00m argmap\u001b[39m.\u001b[39m_lazy_compile(__wrapper)(\u001b[39m*\u001b[39margs, \u001b[39m*\u001b[39m\u001b[39m*\u001b[39mkwargs)\n",
      "File \u001b[1;32m<class 'networkx.utils.decorators.argmap'> compilation 13:5\u001b[0m, in \u001b[0;36margmap_write_graphml_lxml_9\u001b[1;34m(G, path, encoding, prettyprint, infer_numeric_types, named_key_ids, edge_id_from_attribute)\u001b[0m\n\u001b[0;32m      3\u001b[0m \u001b[39mimport\u001b[39;00m \u001b[39mgzip\u001b[39;00m\n\u001b[0;32m      4\u001b[0m \u001b[39mimport\u001b[39;00m \u001b[39minspect\u001b[39;00m\n\u001b[1;32m----> 5\u001b[0m \u001b[39mimport\u001b[39;00m \u001b[39mitertools\u001b[39;00m\n\u001b[0;32m      6\u001b[0m \u001b[39mimport\u001b[39;00m \u001b[39mre\u001b[39;00m\n\u001b[0;32m      7\u001b[0m \u001b[39mfrom\u001b[39;00m \u001b[39mcollections\u001b[39;00m \u001b[39mimport\u001b[39;00m defaultdict\n",
      "File \u001b[1;32mc:\\Users\\Magnus\\miniconda3\\envs\\py3.10_Venv\\Lib\\site-packages\\networkx\\readwrite\\graphml.py:176\u001b[0m, in \u001b[0;36mwrite_graphml_lxml\u001b[1;34m(G, path, encoding, prettyprint, infer_numeric_types, named_key_ids, edge_id_from_attribute)\u001b[0m\n\u001b[0;32m    165\u001b[0m \u001b[39mexcept\u001b[39;00m \u001b[39mImportError\u001b[39;00m:\n\u001b[0;32m    166\u001b[0m     \u001b[39mreturn\u001b[39;00m write_graphml_xml(\n\u001b[0;32m    167\u001b[0m         G,\n\u001b[0;32m    168\u001b[0m         path,\n\u001b[1;32m   (...)\u001b[0m\n\u001b[0;32m    173\u001b[0m         edge_id_from_attribute,\n\u001b[0;32m    174\u001b[0m     )\n\u001b[1;32m--> 176\u001b[0m writer \u001b[39m=\u001b[39m GraphMLWriterLxml(\n\u001b[0;32m    177\u001b[0m     path,\n\u001b[0;32m    178\u001b[0m     graph\u001b[39m=\u001b[39mG,\n\u001b[0;32m    179\u001b[0m     encoding\u001b[39m=\u001b[39mencoding,\n\u001b[0;32m    180\u001b[0m     prettyprint\u001b[39m=\u001b[39mprettyprint,\n\u001b[0;32m    181\u001b[0m     infer_numeric_types\u001b[39m=\u001b[39minfer_numeric_types,\n\u001b[0;32m    182\u001b[0m     named_key_ids\u001b[39m=\u001b[39mnamed_key_ids,\n\u001b[0;32m    183\u001b[0m     edge_id_from_attribute\u001b[39m=\u001b[39medge_id_from_attribute,\n\u001b[0;32m    184\u001b[0m )\n\u001b[0;32m    185\u001b[0m writer\u001b[39m.\u001b[39mdump()\n",
      "File \u001b[1;32mc:\\Users\\Magnus\\miniconda3\\envs\\py3.10_Venv\\Lib\\site-packages\\networkx\\readwrite\\graphml.py:745\u001b[0m, in \u001b[0;36mGraphMLWriterLxml.__init__\u001b[1;34m(self, path, graph, encoding, prettyprint, infer_numeric_types, named_key_ids, edge_id_from_attribute)\u001b[0m\n\u001b[0;32m    742\u001b[0m \u001b[39mself\u001b[39m\u001b[39m.\u001b[39mattribute_types \u001b[39m=\u001b[39m defaultdict(\u001b[39mset\u001b[39m)\n\u001b[0;32m    744\u001b[0m \u001b[39mif\u001b[39;00m graph \u001b[39mis\u001b[39;00m \u001b[39mnot\u001b[39;00m \u001b[39mNone\u001b[39;00m:\n\u001b[1;32m--> 745\u001b[0m     \u001b[39mself\u001b[39m\u001b[39m.\u001b[39madd_graph_element(graph)\n",
      "File \u001b[1;32mc:\\Users\\Magnus\\miniconda3\\envs\\py3.10_Venv\\Lib\\site-packages\\networkx\\readwrite\\graphml.py:814\u001b[0m, in \u001b[0;36mGraphMLWriterLxml.add_graph_element\u001b[1;34m(self, G)\u001b[0m\n\u001b[0;32m    812\u001b[0m \u001b[39mwith\u001b[39;00m graph_element:\n\u001b[0;32m    813\u001b[0m     \u001b[39mself\u001b[39m\u001b[39m.\u001b[39madd_attributes(\u001b[39m\"\u001b[39m\u001b[39mgraph\u001b[39m\u001b[39m\"\u001b[39m, incremental_writer, graphdata, {})\n\u001b[1;32m--> 814\u001b[0m     \u001b[39mself\u001b[39m\u001b[39m.\u001b[39madd_nodes(G, incremental_writer)  \u001b[39m# adds attributes too\u001b[39;00m\n\u001b[0;32m    815\u001b[0m     \u001b[39mself\u001b[39m\u001b[39m.\u001b[39madd_edges(G, incremental_writer)\n",
      "File \u001b[1;32mc:\\Users\\Magnus\\miniconda3\\envs\\py3.10_Venv\\Lib\\site-packages\\networkx\\readwrite\\graphml.py:580\u001b[0m, in \u001b[0;36mGraphMLWriter.add_nodes\u001b[1;34m(self, G, graph_element)\u001b[0m\n\u001b[0;32m    578\u001b[0m default \u001b[39m=\u001b[39m G\u001b[39m.\u001b[39mgraph\u001b[39m.\u001b[39mget(\u001b[39m\"\u001b[39m\u001b[39mnode_default\u001b[39m\u001b[39m\"\u001b[39m, {})\n\u001b[0;32m    579\u001b[0m \u001b[39mfor\u001b[39;00m node, data \u001b[39min\u001b[39;00m G\u001b[39m.\u001b[39mnodes(data\u001b[39m=\u001b[39m\u001b[39mTrue\u001b[39;00m):\n\u001b[1;32m--> 580\u001b[0m     node_element \u001b[39m=\u001b[39m \u001b[39mself\u001b[39m\u001b[39m.\u001b[39mmyElement(\u001b[39m\"\u001b[39m\u001b[39mnode\u001b[39m\u001b[39m\"\u001b[39m, \u001b[39mid\u001b[39m\u001b[39m=\u001b[39m\u001b[39mstr\u001b[39m(node))\n\u001b[0;32m    581\u001b[0m     \u001b[39mself\u001b[39m\u001b[39m.\u001b[39madd_attributes(\u001b[39m\"\u001b[39m\u001b[39mnode\u001b[39m\u001b[39m\"\u001b[39m, node_element, data, default)\n\u001b[0;32m    582\u001b[0m     graph_element\u001b[39m.\u001b[39mappend(node_element)\n",
      "File \u001b[1;32msrc/lxml/etree.pyx:3042\u001b[0m, in \u001b[0;36mlxml.etree.Element\u001b[1;34m()\u001b[0m\n",
      "File \u001b[1;32msrc/lxml/apihelpers.pxi:131\u001b[0m, in \u001b[0;36mlxml.etree._makeElement\u001b[1;34m()\u001b[0m\n",
      "File \u001b[1;32msrc/lxml/apihelpers.pxi:119\u001b[0m, in \u001b[0;36mlxml.etree._makeElement\u001b[1;34m()\u001b[0m\n",
      "File \u001b[1;32msrc/lxml/apihelpers.pxi:318\u001b[0m, in \u001b[0;36mlxml.etree._initNodeAttributes\u001b[1;34m()\u001b[0m\n",
      "File \u001b[1;32msrc/lxml/apihelpers.pxi:335\u001b[0m, in \u001b[0;36mlxml.etree._addAttributeToNode\u001b[1;34m()\u001b[0m\n",
      "File \u001b[1;32msrc/lxml/apihelpers.pxi:1541\u001b[0m, in \u001b[0;36mlxml.etree._utf8\u001b[1;34m()\u001b[0m\n",
      "\u001b[1;31mValueError\u001b[0m: All strings must be XML compatible: Unicode or ASCII, no NULL bytes or control characters"
     ]
    }
   ],
   "source": [
    "nx.write_graphml(G,'medium_graph.graphml')"
   ]
  },
  {
   "cell_type": "code",
   "execution_count": null,
   "metadata": {},
   "outputs": [],
   "source": [
    "# edge_weights = {(u, v): G[u][v]['weight'] for u, v in G.edges()}\n",
    "# for (u, v), weight in edge_weights.items():\n",
    "#     print(f\"Weight of edge between node {u} and node {v}: {weight}\")"
   ]
  },
  {
   "cell_type": "code",
   "execution_count": 9,
   "metadata": {},
   "outputs": [
    {
     "ename": "KeyboardInterrupt",
     "evalue": "",
     "output_type": "error",
     "traceback": [
      "\u001b[1;31m---------------------------------------------------------------------------\u001b[0m",
      "\u001b[1;31mKeyboardInterrupt\u001b[0m                         Traceback (most recent call last)",
      "\u001b[1;32mg:\\My Drive\\UniTvaerDrive\\5.Semester\\Social Graphs\\SGI_exam_project\\scraper\\sandbox.ipynb Cell 13\u001b[0m line \u001b[0;36m1\n\u001b[1;32m----> <a href='vscode-notebook-cell:/g%3A/My%20Drive/UniTvaerDrive/5.Semester/Social%20Graphs/SGI_exam_project/scraper/sandbox.ipynb#X15sZmlsZQ%3D%3D?line=0'>1</a>\u001b[0m nx\u001b[39m.\u001b[39mdraw(G,node_size\u001b[39m=\u001b[39m\u001b[39m5\u001b[39m)\n",
      "File \u001b[1;32mc:\\Users\\Magnus\\miniconda3\\envs\\py3.10_Venv\\Lib\\site-packages\\networkx\\drawing\\nx_pylab.py:121\u001b[0m, in \u001b[0;36mdraw\u001b[1;34m(G, pos, ax, **kwds)\u001b[0m\n\u001b[0;32m    118\u001b[0m \u001b[39mif\u001b[39;00m \u001b[39m\"\u001b[39m\u001b[39mwith_labels\u001b[39m\u001b[39m\"\u001b[39m \u001b[39mnot\u001b[39;00m \u001b[39min\u001b[39;00m kwds:\n\u001b[0;32m    119\u001b[0m     kwds[\u001b[39m\"\u001b[39m\u001b[39mwith_labels\u001b[39m\u001b[39m\"\u001b[39m] \u001b[39m=\u001b[39m \u001b[39m\"\u001b[39m\u001b[39mlabels\u001b[39m\u001b[39m\"\u001b[39m \u001b[39min\u001b[39;00m kwds\n\u001b[1;32m--> 121\u001b[0m draw_networkx(G, pos\u001b[39m=\u001b[39mpos, ax\u001b[39m=\u001b[39max, \u001b[39m*\u001b[39m\u001b[39m*\u001b[39mkwds)\n\u001b[0;32m    122\u001b[0m ax\u001b[39m.\u001b[39mset_axis_off()\n\u001b[0;32m    123\u001b[0m plt\u001b[39m.\u001b[39mdraw_if_interactive()\n",
      "File \u001b[1;32mc:\\Users\\Magnus\\miniconda3\\envs\\py3.10_Venv\\Lib\\site-packages\\networkx\\drawing\\nx_pylab.py:301\u001b[0m, in \u001b[0;36mdraw_networkx\u001b[1;34m(G, pos, arrows, with_labels, **kwds)\u001b[0m\n\u001b[0;32m    298\u001b[0m label_kwds \u001b[39m=\u001b[39m {k: v \u001b[39mfor\u001b[39;00m k, v \u001b[39min\u001b[39;00m kwds\u001b[39m.\u001b[39mitems() \u001b[39mif\u001b[39;00m k \u001b[39min\u001b[39;00m valid_label_kwds}\n\u001b[0;32m    300\u001b[0m \u001b[39mif\u001b[39;00m pos \u001b[39mis\u001b[39;00m \u001b[39mNone\u001b[39;00m:\n\u001b[1;32m--> 301\u001b[0m     pos \u001b[39m=\u001b[39m nx\u001b[39m.\u001b[39mdrawing\u001b[39m.\u001b[39mspring_layout(G)  \u001b[39m# default to spring layout\u001b[39;00m\n\u001b[0;32m    303\u001b[0m draw_networkx_nodes(G, pos, \u001b[39m*\u001b[39m\u001b[39m*\u001b[39mnode_kwds)\n\u001b[0;32m    304\u001b[0m draw_networkx_edges(G, pos, arrows\u001b[39m=\u001b[39marrows, \u001b[39m*\u001b[39m\u001b[39m*\u001b[39medge_kwds)\n",
      "File \u001b[1;32mc:\\Users\\Magnus\\miniconda3\\envs\\py3.10_Venv\\Lib\\site-packages\\networkx\\utils\\decorators.py:766\u001b[0m, in \u001b[0;36margmap.__call__.<locals>.func\u001b[1;34m(_argmap__wrapper, *args, **kwargs)\u001b[0m\n\u001b[0;32m    765\u001b[0m \u001b[39mdef\u001b[39;00m \u001b[39mfunc\u001b[39m(\u001b[39m*\u001b[39margs, __wrapper\u001b[39m=\u001b[39m\u001b[39mNone\u001b[39;00m, \u001b[39m*\u001b[39m\u001b[39m*\u001b[39mkwargs):\n\u001b[1;32m--> 766\u001b[0m     \u001b[39mreturn\u001b[39;00m argmap\u001b[39m.\u001b[39m_lazy_compile(__wrapper)(\u001b[39m*\u001b[39margs, \u001b[39m*\u001b[39m\u001b[39m*\u001b[39mkwargs)\n",
      "File \u001b[1;32m<class 'networkx.utils.decorators.argmap'> compilation 4:4\u001b[0m, in \u001b[0;36margmap_spring_layout_1\u001b[1;34m(G, k, pos, fixed, iterations, threshold, weight, scale, center, dim, seed)\u001b[0m\n\u001b[0;32m      2\u001b[0m \u001b[39mimport\u001b[39;00m \u001b[39mcollections\u001b[39;00m\n\u001b[0;32m      3\u001b[0m \u001b[39mimport\u001b[39;00m \u001b[39mgzip\u001b[39;00m\n\u001b[1;32m----> 4\u001b[0m \u001b[39mimport\u001b[39;00m \u001b[39minspect\u001b[39;00m\n\u001b[0;32m      5\u001b[0m \u001b[39mimport\u001b[39;00m \u001b[39mitertools\u001b[39;00m\n\u001b[0;32m      6\u001b[0m \u001b[39mimport\u001b[39;00m \u001b[39mre\u001b[39;00m\n",
      "File \u001b[1;32mc:\\Users\\Magnus\\miniconda3\\envs\\py3.10_Venv\\Lib\\site-packages\\networkx\\drawing\\layout.py:482\u001b[0m, in \u001b[0;36mspring_layout\u001b[1;34m(G, k, pos, fixed, iterations, threshold, weight, scale, center, dim, seed)\u001b[0m\n\u001b[0;32m    480\u001b[0m         nnodes, _ \u001b[39m=\u001b[39m A\u001b[39m.\u001b[39mshape\n\u001b[0;32m    481\u001b[0m         k \u001b[39m=\u001b[39m dom_size \u001b[39m/\u001b[39m np\u001b[39m.\u001b[39msqrt(nnodes)\n\u001b[1;32m--> 482\u001b[0m     pos \u001b[39m=\u001b[39m _sparse_fruchterman_reingold(\n\u001b[0;32m    483\u001b[0m         A, k, pos_arr, fixed, iterations, threshold, dim, seed\n\u001b[0;32m    484\u001b[0m     )\n\u001b[0;32m    485\u001b[0m \u001b[39mexcept\u001b[39;00m \u001b[39mValueError\u001b[39;00m:\n\u001b[0;32m    486\u001b[0m     A \u001b[39m=\u001b[39m nx\u001b[39m.\u001b[39mto_numpy_array(G, weight\u001b[39m=\u001b[39mweight)\n",
      "File \u001b[1;32mc:\\Users\\Magnus\\miniconda3\\envs\\py3.10_Venv\\Lib\\site-packages\\networkx\\utils\\decorators.py:766\u001b[0m, in \u001b[0;36margmap.__call__.<locals>.func\u001b[1;34m(_argmap__wrapper, *args, **kwargs)\u001b[0m\n\u001b[0;32m    765\u001b[0m \u001b[39mdef\u001b[39;00m \u001b[39mfunc\u001b[39m(\u001b[39m*\u001b[39margs, __wrapper\u001b[39m=\u001b[39m\u001b[39mNone\u001b[39;00m, \u001b[39m*\u001b[39m\u001b[39m*\u001b[39mkwargs):\n\u001b[1;32m--> 766\u001b[0m     \u001b[39mreturn\u001b[39;00m argmap\u001b[39m.\u001b[39m_lazy_compile(__wrapper)(\u001b[39m*\u001b[39margs, \u001b[39m*\u001b[39m\u001b[39m*\u001b[39mkwargs)\n",
      "File \u001b[1;32m<class 'networkx.utils.decorators.argmap'> compilation 8:4\u001b[0m, in \u001b[0;36margmap__sparse_fruchterman_reingold_5\u001b[1;34m(A, k, pos, fixed, iterations, threshold, dim, seed)\u001b[0m\n\u001b[0;32m      2\u001b[0m \u001b[39mimport\u001b[39;00m \u001b[39mcollections\u001b[39;00m\n\u001b[0;32m      3\u001b[0m \u001b[39mimport\u001b[39;00m \u001b[39mgzip\u001b[39;00m\n\u001b[1;32m----> 4\u001b[0m \u001b[39mimport\u001b[39;00m \u001b[39minspect\u001b[39;00m\n\u001b[0;32m      5\u001b[0m \u001b[39mimport\u001b[39;00m \u001b[39mitertools\u001b[39;00m\n\u001b[0;32m      6\u001b[0m \u001b[39mimport\u001b[39;00m \u001b[39mre\u001b[39;00m\n",
      "File \u001b[1;32mc:\\Users\\Magnus\\miniconda3\\envs\\py3.10_Venv\\Lib\\site-packages\\networkx\\drawing\\layout.py:626\u001b[0m, in \u001b[0;36m_sparse_fruchterman_reingold\u001b[1;34m(A, k, pos, fixed, iterations, threshold, dim, seed)\u001b[0m\n\u001b[0;32m    622\u001b[0m     Ai \u001b[39m=\u001b[39m A\u001b[39m.\u001b[39mgetrowview(i)\u001b[39m.\u001b[39mtoarray()  \u001b[39m# TODO: revisit w/ sparse 1D container\u001b[39;00m\n\u001b[0;32m    623\u001b[0m     \u001b[39m# displacement \"force\"\u001b[39;00m\n\u001b[0;32m    624\u001b[0m     displacement[:, i] \u001b[39m+\u001b[39m\u001b[39m=\u001b[39m (\n\u001b[0;32m    625\u001b[0m         delta \u001b[39m*\u001b[39m (k \u001b[39m*\u001b[39m k \u001b[39m/\u001b[39m distance\u001b[39m*\u001b[39m\u001b[39m*\u001b[39m\u001b[39m2\u001b[39m \u001b[39m-\u001b[39m Ai \u001b[39m*\u001b[39m distance \u001b[39m/\u001b[39m k)\n\u001b[1;32m--> 626\u001b[0m     )\u001b[39m.\u001b[39msum(axis\u001b[39m=\u001b[39m\u001b[39m1\u001b[39m)\n\u001b[0;32m    627\u001b[0m \u001b[39m# update positions\u001b[39;00m\n\u001b[0;32m    628\u001b[0m length \u001b[39m=\u001b[39m np\u001b[39m.\u001b[39msqrt((displacement\u001b[39m*\u001b[39m\u001b[39m*\u001b[39m\u001b[39m2\u001b[39m)\u001b[39m.\u001b[39msum(axis\u001b[39m=\u001b[39m\u001b[39m0\u001b[39m))\n",
      "File \u001b[1;32mc:\\Users\\Magnus\\miniconda3\\envs\\py3.10_Venv\\Lib\\site-packages\\numpy\\core\\_methods.py:49\u001b[0m, in \u001b[0;36m_sum\u001b[1;34m(a, axis, dtype, out, keepdims, initial, where)\u001b[0m\n\u001b[0;32m     47\u001b[0m \u001b[39mdef\u001b[39;00m \u001b[39m_sum\u001b[39m(a, axis\u001b[39m=\u001b[39m\u001b[39mNone\u001b[39;00m, dtype\u001b[39m=\u001b[39m\u001b[39mNone\u001b[39;00m, out\u001b[39m=\u001b[39m\u001b[39mNone\u001b[39;00m, keepdims\u001b[39m=\u001b[39m\u001b[39mFalse\u001b[39;00m,\n\u001b[0;32m     48\u001b[0m          initial\u001b[39m=\u001b[39m_NoValue, where\u001b[39m=\u001b[39m\u001b[39mTrue\u001b[39;00m):\n\u001b[1;32m---> 49\u001b[0m     \u001b[39mreturn\u001b[39;00m umr_sum(a, axis, dtype, out, keepdims, initial, where)\n",
      "\u001b[1;31mKeyboardInterrupt\u001b[0m: "
     ]
    },
    {
     "data": {
      "image/png": "[encoded data removed]",
      "text/plain": [
       "<Figure size 640x480 with 1 Axes>"
      ]
     },
     "metadata": {},
     "output_type": "display_data"
    }
   ],
   "source": [
    "nx.draw(G,node_size=5)\n"
   ]
  },
  {
   "cell_type": "code",
   "execution_count": null,
   "metadata": {},
   "outputs": [],
   "source": [
    "# sorted(list(dict(G.in_degree).items()),key=lambda x: x[1],reverse=True)\n",
    "# sorted(list(dict(G.out_degree).items()),key=lambda x: x[1],reverse=True)"
   ]
  },
  {
   "cell_type": "code",
   "execution_count": null,
   "metadata": {},
   "outputs": [],
   "source": [
    "# from pyvis.network import Network\n",
    "\n",
    "# pyvis_graph = Network(notebook=True,cdn_resources='in_line')\n",
    "# pyvis_graph.from_nx(G)\n",
    "# pyvis_graph.show(\"graph.html\")"
   ]
  },
  {
   "cell_type": "code",
   "execution_count": 24,
   "metadata": {},
   "outputs": [],
   "source": [
    "# Collect edge weights into a list\n",
    "edge_weights = [G.edges[edge]['weight'] for edge in G.edges()]\n",
    "\n",
    "# Normalize edge_weights\n",
    "max_weight = max(edge_weights)\n",
    "min_weight = min(edge_weights)\n",
    "edge_weights_normalized = [(w - min_weight)/(max_weight - min_weight) for w in edge_weights]\n",
    "\n",
    "# Initialize edge colors\n",
    "edge_colors = []\n",
    "\n",
    "for weight in edge_weights_normalized:\n",
    "    edge_colors.extend([f'rgba(0,0,255,{weight})', f'rgba(0,0,255,{weight})', 'rgba(0,0,0,0)'])\n"
   ]
  },
  {
   "cell_type": "code",
   "execution_count": 25,
   "metadata": {},
   "outputs": [
    {
     "ename": "KeyboardInterrupt",
     "evalue": "",
     "output_type": "error",
     "traceback": [
      "\u001b[1;31m---------------------------------------------------------------------------\u001b[0m",
      "\u001b[1;31mKeyboardInterrupt\u001b[0m                         Traceback (most recent call last)",
      "\u001b[1;32mg:\\My Drive\\UniTvaerDrive\\5.Semester\\Social Graphs\\SGI_exam_project\\scraper\\sandbox.ipynb Cell 17\u001b[0m line \u001b[0;36m8\n\u001b[0;32m     <a href='vscode-notebook-cell:/g%3A/My%20Drive/UniTvaerDrive/5.Semester/Social%20Graphs/SGI_exam_project/scraper/sandbox.ipynb#X22sZmlsZQ%3D%3D?line=71'>72</a>\u001b[0m fig \u001b[39m=\u001b[39m go\u001b[39m.\u001b[39mFigure(data\u001b[39m=\u001b[39medge_traces \u001b[39m+\u001b[39m [node_trace],\n\u001b[0;32m     <a href='vscode-notebook-cell:/g%3A/My%20Drive/UniTvaerDrive/5.Semester/Social%20Graphs/SGI_exam_project/scraper/sandbox.ipynb#X22sZmlsZQ%3D%3D?line=72'>73</a>\u001b[0m                 layout\u001b[39m=\u001b[39mgo\u001b[39m.\u001b[39mLayout(\n\u001b[0;32m     <a href='vscode-notebook-cell:/g%3A/My%20Drive/UniTvaerDrive/5.Semester/Social%20Graphs/SGI_exam_project/scraper/sandbox.ipynb#X22sZmlsZQ%3D%3D?line=73'>74</a>\u001b[0m                     showlegend\u001b[39m=\u001b[39m\u001b[39mFalse\u001b[39;00m,\n\u001b[1;32m   (...)\u001b[0m\n\u001b[0;32m     <a href='vscode-notebook-cell:/g%3A/My%20Drive/UniTvaerDrive/5.Semester/Social%20Graphs/SGI_exam_project/scraper/sandbox.ipynb#X22sZmlsZQ%3D%3D?line=77'>78</a>\u001b[0m                     yaxis\u001b[39m=\u001b[39m\u001b[39mdict\u001b[39m(showgrid\u001b[39m=\u001b[39m\u001b[39mFalse\u001b[39;00m, zeroline\u001b[39m=\u001b[39m\u001b[39mFalse\u001b[39;00m, showticklabels\u001b[39m=\u001b[39m\u001b[39mFalse\u001b[39;00m))\n\u001b[0;32m     <a href='vscode-notebook-cell:/g%3A/My%20Drive/UniTvaerDrive/5.Semester/Social%20Graphs/SGI_exam_project/scraper/sandbox.ipynb#X22sZmlsZQ%3D%3D?line=78'>79</a>\u001b[0m                 )\n\u001b[0;32m     <a href='vscode-notebook-cell:/g%3A/My%20Drive/UniTvaerDrive/5.Semester/Social%20Graphs/SGI_exam_project/scraper/sandbox.ipynb#X22sZmlsZQ%3D%3D?line=80'>81</a>\u001b[0m fig\u001b[39m.\u001b[39mupdate_layout(\n\u001b[0;32m     <a href='vscode-notebook-cell:/g%3A/My%20Drive/UniTvaerDrive/5.Semester/Social%20Graphs/SGI_exam_project/scraper/sandbox.ipynb#X22sZmlsZQ%3D%3D?line=81'>82</a>\u001b[0m     height\u001b[39m=\u001b[39m\u001b[39m800\u001b[39m,\n\u001b[0;32m     <a href='vscode-notebook-cell:/g%3A/My%20Drive/UniTvaerDrive/5.Semester/Social%20Graphs/SGI_exam_project/scraper/sandbox.ipynb#X22sZmlsZQ%3D%3D?line=82'>83</a>\u001b[0m     width\u001b[39m=\u001b[39m\u001b[39m1200\u001b[39m\n\u001b[0;32m     <a href='vscode-notebook-cell:/g%3A/My%20Drive/UniTvaerDrive/5.Semester/Social%20Graphs/SGI_exam_project/scraper/sandbox.ipynb#X22sZmlsZQ%3D%3D?line=83'>84</a>\u001b[0m )\n\u001b[1;32m---> <a href='vscode-notebook-cell:/g%3A/My%20Drive/UniTvaerDrive/5.Semester/Social%20Graphs/SGI_exam_project/scraper/sandbox.ipynb#X22sZmlsZQ%3D%3D?line=85'>86</a>\u001b[0m fig\u001b[39m.\u001b[39mshow()\n",
      "File \u001b[1;32mc:\\Users\\Magnus\\miniconda3\\envs\\py3.10_Venv\\Lib\\site-packages\\plotly\\basedatatypes.py:3410\u001b[0m, in \u001b[0;36mBaseFigure.show\u001b[1;34m(self, *args, **kwargs)\u001b[0m\n\u001b[0;32m   3377\u001b[0m \u001b[39m\u001b[39m\u001b[39m\"\"\"\u001b[39;00m\n\u001b[0;32m   3378\u001b[0m \u001b[39mShow a figure using either the default renderer(s) or the renderer(s)\u001b[39;00m\n\u001b[0;32m   3379\u001b[0m \u001b[39mspecified by the renderer argument\u001b[39;00m\n\u001b[1;32m   (...)\u001b[0m\n\u001b[0;32m   3406\u001b[0m \u001b[39mNone\u001b[39;00m\n\u001b[0;32m   3407\u001b[0m \u001b[39m\"\"\"\u001b[39;00m\n\u001b[0;32m   3408\u001b[0m \u001b[39mimport\u001b[39;00m \u001b[39mplotly\u001b[39;00m\u001b[39m.\u001b[39;00m\u001b[39mio\u001b[39;00m \u001b[39mas\u001b[39;00m \u001b[39mpio\u001b[39;00m\n\u001b[1;32m-> 3410\u001b[0m \u001b[39mreturn\u001b[39;00m pio\u001b[39m.\u001b[39mshow(\u001b[39mself\u001b[39m, \u001b[39m*\u001b[39margs, \u001b[39m*\u001b[39m\u001b[39m*\u001b[39mkwargs)\n",
      "File \u001b[1;32mc:\\Users\\Magnus\\miniconda3\\envs\\py3.10_Venv\\Lib\\site-packages\\plotly\\io\\_renderers.py:398\u001b[0m, in \u001b[0;36mshow\u001b[1;34m(fig, renderer, validate, **kwargs)\u001b[0m\n\u001b[0;32m    393\u001b[0m     \u001b[39mif\u001b[39;00m \u001b[39mnot\u001b[39;00m nbformat \u001b[39mor\u001b[39;00m Version(nbformat\u001b[39m.\u001b[39m__version__) \u001b[39m<\u001b[39m Version(\u001b[39m\"\u001b[39m\u001b[39m4.2.0\u001b[39m\u001b[39m\"\u001b[39m):\n\u001b[0;32m    394\u001b[0m         \u001b[39mraise\u001b[39;00m \u001b[39mValueError\u001b[39;00m(\n\u001b[0;32m    395\u001b[0m             \u001b[39m\"\u001b[39m\u001b[39mMime type rendering requires nbformat>=4.2.0 but it is not installed\u001b[39m\u001b[39m\"\u001b[39m\n\u001b[0;32m    396\u001b[0m         )\n\u001b[1;32m--> 398\u001b[0m     ipython_display\u001b[39m.\u001b[39mdisplay(bundle, raw\u001b[39m=\u001b[39m\u001b[39mTrue\u001b[39;00m)\n\u001b[0;32m    400\u001b[0m \u001b[39m# external renderers\u001b[39;00m\n\u001b[0;32m    401\u001b[0m renderers\u001b[39m.\u001b[39m_perform_external_rendering(fig_dict, renderers_string\u001b[39m=\u001b[39mrenderer, \u001b[39m*\u001b[39m\u001b[39m*\u001b[39mkwargs)\n",
      "File \u001b[1;32mc:\\Users\\Magnus\\miniconda3\\envs\\py3.10_Venv\\Lib\\site-packages\\IPython\\core\\display_functions.py:296\u001b[0m, in \u001b[0;36mdisplay\u001b[1;34m(include, exclude, metadata, transient, display_id, raw, clear, *objs, **kwargs)\u001b[0m\n\u001b[0;32m    294\u001b[0m \u001b[39mfor\u001b[39;00m obj \u001b[39min\u001b[39;00m objs:\n\u001b[0;32m    295\u001b[0m     \u001b[39mif\u001b[39;00m raw:\n\u001b[1;32m--> 296\u001b[0m         publish_display_data(data\u001b[39m=\u001b[39mobj, metadata\u001b[39m=\u001b[39mmetadata, \u001b[39m*\u001b[39m\u001b[39m*\u001b[39mkwargs)\n\u001b[0;32m    297\u001b[0m     \u001b[39melse\u001b[39;00m:\n\u001b[0;32m    298\u001b[0m         format_dict, md_dict \u001b[39m=\u001b[39m \u001b[39mformat\u001b[39m(obj, include\u001b[39m=\u001b[39minclude, exclude\u001b[39m=\u001b[39mexclude)\n",
      "File \u001b[1;32mc:\\Users\\Magnus\\miniconda3\\envs\\py3.10_Venv\\Lib\\site-packages\\IPython\\core\\display_functions.py:93\u001b[0m, in \u001b[0;36mpublish_display_data\u001b[1;34m(data, metadata, source, transient, **kwargs)\u001b[0m\n\u001b[0;32m     90\u001b[0m \u001b[39mif\u001b[39;00m transient:\n\u001b[0;32m     91\u001b[0m     kwargs[\u001b[39m'\u001b[39m\u001b[39mtransient\u001b[39m\u001b[39m'\u001b[39m] \u001b[39m=\u001b[39m transient\n\u001b[1;32m---> 93\u001b[0m display_pub\u001b[39m.\u001b[39mpublish(\n\u001b[0;32m     94\u001b[0m     data\u001b[39m=\u001b[39mdata,\n\u001b[0;32m     95\u001b[0m     metadata\u001b[39m=\u001b[39mmetadata,\n\u001b[0;32m     96\u001b[0m     \u001b[39m*\u001b[39m\u001b[39m*\u001b[39mkwargs\n\u001b[0;32m     97\u001b[0m )\n",
      "File \u001b[1;32mc:\\Users\\Magnus\\miniconda3\\envs\\py3.10_Venv\\Lib\\site-packages\\ipykernel\\zmqshell.py:128\u001b[0m, in \u001b[0;36mZMQDisplayPublisher.publish\u001b[1;34m(self, data, metadata, transient, update)\u001b[0m\n\u001b[0;32m    125\u001b[0m     \u001b[39mif\u001b[39;00m msg \u001b[39mis\u001b[39;00m \u001b[39mNone\u001b[39;00m:\n\u001b[0;32m    126\u001b[0m         \u001b[39mreturn\u001b[39;00m\n\u001b[1;32m--> 128\u001b[0m \u001b[39mself\u001b[39m\u001b[39m.\u001b[39msession\u001b[39m.\u001b[39msend(\n\u001b[0;32m    129\u001b[0m     \u001b[39mself\u001b[39m\u001b[39m.\u001b[39mpub_socket,\n\u001b[0;32m    130\u001b[0m     msg,\n\u001b[0;32m    131\u001b[0m     ident\u001b[39m=\u001b[39m\u001b[39mself\u001b[39m\u001b[39m.\u001b[39mtopic,\n\u001b[0;32m    132\u001b[0m )\n",
      "File \u001b[1;32mc:\\Users\\Magnus\\miniconda3\\envs\\py3.10_Venv\\Lib\\site-packages\\jupyter_client\\session.py:850\u001b[0m, in \u001b[0;36mSession.send\u001b[1;34m(self, stream, msg_or_type, content, parent, ident, buffers, track, header, metadata)\u001b[0m\n\u001b[0;32m    848\u001b[0m \u001b[39mif\u001b[39;00m \u001b[39mself\u001b[39m\u001b[39m.\u001b[39madapt_version:\n\u001b[0;32m    849\u001b[0m     msg \u001b[39m=\u001b[39m adapt(msg, \u001b[39mself\u001b[39m\u001b[39m.\u001b[39madapt_version)\n\u001b[1;32m--> 850\u001b[0m to_send \u001b[39m=\u001b[39m \u001b[39mself\u001b[39m\u001b[39m.\u001b[39mserialize(msg, ident)\n\u001b[0;32m    851\u001b[0m to_send\u001b[39m.\u001b[39mextend(buffers)\n\u001b[0;32m    852\u001b[0m longest \u001b[39m=\u001b[39m \u001b[39mmax\u001b[39m([\u001b[39mlen\u001b[39m(s) \u001b[39mfor\u001b[39;00m s \u001b[39min\u001b[39;00m to_send])\n",
      "File \u001b[1;32mc:\\Users\\Magnus\\miniconda3\\envs\\py3.10_Venv\\Lib\\site-packages\\jupyter_client\\session.py:730\u001b[0m, in \u001b[0;36mSession.serialize\u001b[1;34m(self, msg, ident)\u001b[0m\n\u001b[0;32m    726\u001b[0m \u001b[39melse\u001b[39;00m:\n\u001b[0;32m    727\u001b[0m     \u001b[39mraise\u001b[39;00m \u001b[39mTypeError\u001b[39;00m(\u001b[39m\"\u001b[39m\u001b[39mContent incorrect type: \u001b[39m\u001b[39m%s\u001b[39;00m\u001b[39m\"\u001b[39m \u001b[39m%\u001b[39m \u001b[39mtype\u001b[39m(content))\n\u001b[0;32m    729\u001b[0m real_message \u001b[39m=\u001b[39m [\n\u001b[1;32m--> 730\u001b[0m     \u001b[39mself\u001b[39m\u001b[39m.\u001b[39mpack(msg[\u001b[39m\"\u001b[39m\u001b[39mheader\u001b[39m\u001b[39m\"\u001b[39m]),\n\u001b[0;32m    731\u001b[0m     \u001b[39mself\u001b[39m\u001b[39m.\u001b[39mpack(msg[\u001b[39m\"\u001b[39m\u001b[39mparent_header\u001b[39m\u001b[39m\"\u001b[39m]),\n\u001b[0;32m    732\u001b[0m     \u001b[39mself\u001b[39m\u001b[39m.\u001b[39mpack(msg[\u001b[39m\"\u001b[39m\u001b[39mmetadata\u001b[39m\u001b[39m\"\u001b[39m]),\n\u001b[0;32m    733\u001b[0m     content,\n\u001b[0;32m    734\u001b[0m ]\n\u001b[0;32m    736\u001b[0m to_send \u001b[39m=\u001b[39m []\n\u001b[0;32m    738\u001b[0m \u001b[39mif\u001b[39;00m \u001b[39misinstance\u001b[39m(ident, \u001b[39mlist\u001b[39m):\n\u001b[0;32m    739\u001b[0m     \u001b[39m# accept list of idents\u001b[39;00m\n",
      "File \u001b[1;32mc:\\Users\\Magnus\\miniconda3\\envs\\py3.10_Venv\\Lib\\site-packages\\traitlets\\traitlets.py:689\u001b[0m, in \u001b[0;36mTraitType.__get__\u001b[1;34m(self, obj, cls)\u001b[0m\n\u001b[0;32m    686\u001b[0m     \u001b[39melse\u001b[39;00m:\n\u001b[0;32m    687\u001b[0m         \u001b[39mreturn\u001b[39;00m value\n\u001b[1;32m--> 689\u001b[0m \u001b[39mdef\u001b[39;00m \u001b[39m__get__\u001b[39m(\u001b[39mself\u001b[39m, obj, \u001b[39mcls\u001b[39m\u001b[39m=\u001b[39m\u001b[39mNone\u001b[39;00m):\n\u001b[0;32m    690\u001b[0m \u001b[39m    \u001b[39m\u001b[39m\"\"\"Get the value of the trait by self.name for the instance.\u001b[39;00m\n\u001b[0;32m    691\u001b[0m \n\u001b[0;32m    692\u001b[0m \u001b[39m    Default values are instantiated when :meth:`HasTraits.__new__`\u001b[39;00m\n\u001b[1;32m   (...)\u001b[0m\n\u001b[0;32m    695\u001b[0m \u001b[39m    is in the :class:`HasTraits` instance.\u001b[39;00m\n\u001b[0;32m    696\u001b[0m \u001b[39m    \"\"\"\u001b[39;00m\n\u001b[0;32m    697\u001b[0m     \u001b[39mif\u001b[39;00m obj \u001b[39mis\u001b[39;00m \u001b[39mNone\u001b[39;00m:\n",
      "\u001b[1;31mKeyboardInterrupt\u001b[0m: "
     ]
    }
   ],
   "source": [
    "# Layout\n",
    "pos = nx.spring_layout(G)\n",
    "\n",
    "# Collect edge weights into a list and normalize them\n",
    "edge_weights = [G.edges[edge]['weight'] for edge in G.edges()]\n",
    "max_weight = max(edge_weights)\n",
    "min_weight = min(edge_weights)\n",
    "\n",
    "# Initialize list to store edge traces\n",
    "edge_traces = []\n",
    "\n",
    "# Loop through each edge to create an edge trace\n",
    "for edge in G.edges():\n",
    "    x0, y0 = pos[edge[0]]\n",
    "    x1, y1 = pos[edge[1]]\n",
    "    \n",
    "    # Get edge weight and normalize it\n",
    "    weight = G.edges[edge]['weight']\n",
    "    normalized_weight = (weight - min_weight) / (max_weight - min_weight)\n",
    "    \n",
    "    edge_color = f'rgba(0,0,255,{normalized_weight+0.1})'\n",
    "    \n",
    "    edge_trace = go.Scatter(\n",
    "        x=[x0, x1, None],\n",
    "        y=[y0, y1, None],\n",
    "        line=dict(width=0.5, color=edge_color),\n",
    "        hoverinfo='none',\n",
    "        mode='lines'\n",
    "    )\n",
    "    \n",
    "    edge_traces.append(edge_trace)\n",
    "\n",
    "# Nodes\n",
    "node_x = []\n",
    "node_y = []\n",
    "node_text = []\n",
    "\n",
    "node_reads = [G.nodes[node].get('reads', 0) for node in G.nodes()]\n",
    "max_reads = max(node_reads)\n",
    "min_reads = min(node_reads)\n",
    "node_sizes = [(reads - min_reads)/(max_reads - min_reads) * 20 + 10 for reads in node_reads]\n",
    "\n",
    "\n",
    "for node in G.nodes():\n",
    "    x, y = pos[node]\n",
    "    node_x.append(x)\n",
    "    node_y.append(y)\n",
    "    # Sample node attributes (Replace this line with your actual node attributes)\n",
    "    node_text.append(f'Node {node}<br>OP:{G.nodes[node][\"OP_author\"]}<br>Reads:{G.nodes[node][\"reads\"]}<br>Comments:{G.nodes[node][\"comments\"]}')\n",
    "\n",
    "node_trace = go.Scatter(\n",
    "    x=node_x,\n",
    "    y=node_y,\n",
    "    mode='markers',\n",
    "    text=node_text,\n",
    "    textposition=\"bottom center\",\n",
    "    hoverinfo='text',\n",
    "    marker=dict(\n",
    "        showscale=True,\n",
    "        colorscale='YlGnBu',\n",
    "        size=node_sizes,  # Node sizes based on 'reads'\n",
    "        colorbar=dict(\n",
    "            thickness=15,\n",
    "            title='Node Color Scale',\n",
    "            xanchor='left',\n",
    "            titleside='right'\n",
    "        )\n",
    "    )\n",
    ")\n",
    "\n",
    "# Create the final figure\n",
    "fig = go.Figure(data=edge_traces + [node_trace],\n",
    "                layout=go.Layout(\n",
    "                    showlegend=False,\n",
    "                    hovermode='closest',\n",
    "                    margin=dict(b=0, l=0, r=0, t=0),\n",
    "                    xaxis=dict(showgrid=False, zeroline=False, showticklabels=False),\n",
    "                    yaxis=dict(showgrid=False, zeroline=False, showticklabels=False))\n",
    "                )\n",
    "\n",
    "fig.update_layout(\n",
    "    height=800,\n",
    "    width=1200\n",
    ")\n",
    "\n",
    "fig.show()"
   ]
  },
  {
   "cell_type": "code",
   "execution_count": 12,
   "metadata": {},
   "outputs": [
    {
     "ename": "NameError",
     "evalue": "name 'fig' is not defined",
     "output_type": "error",
     "traceback": [
      "\u001b[1;31m---------------------------------------------------------------------------\u001b[0m",
      "\u001b[1;31mNameError\u001b[0m                                 Traceback (most recent call last)",
      "\u001b[1;32mg:\\My Drive\\UniTvaerDrive\\5.Semester\\Social Graphs\\SGI_exam_project\\scraper\\sandbox.ipynb Cell 18\u001b[0m line \u001b[0;36m1\n\u001b[1;32m----> <a href='vscode-notebook-cell:/g%3A/My%20Drive/UniTvaerDrive/5.Semester/Social%20Graphs/SGI_exam_project/scraper/sandbox.ipynb#X23sZmlsZQ%3D%3D?line=0'>1</a>\u001b[0m fig\u001b[39m.\u001b[39mwrite_html(\u001b[39m\"\u001b[39m\u001b[39mgraph_export_medium.html\u001b[39m\u001b[39m\"\u001b[39m)\n",
      "\u001b[1;31mNameError\u001b[0m: name 'fig' is not defined"
     ]
    }
   ],
   "source": [
    "fig.write_html(\"graph_export_medium.html\")"
   ]
  },
  {
   "cell_type": "code",
   "execution_count": 14,
   "metadata": {},
   "outputs": [
    {
     "data": {
      "text/html": [
       "<div>\n",
       "<style scoped>\n",
       "    .dataframe tbody tr th:only-of-type {\n",
       "        vertical-align: middle;\n",
       "    }\n",
       "\n",
       "    .dataframe tbody tr th {\n",
       "        vertical-align: top;\n",
       "    }\n",
       "\n",
       "    .dataframe thead th {\n",
       "        text-align: right;\n",
       "    }\n",
       "</style>\n",
       "<table border=\"1\" class=\"dataframe\">\n",
       "  <thead>\n",
       "    <tr style=\"text-align: right;\">\n",
       "      <th></th>\n",
       "      <th>Node_ID</th>\n",
       "      <th>Comment_Count</th>\n",
       "    </tr>\n",
       "  </thead>\n",
       "  <tbody>\n",
       "    <tr>\n",
       "      <th>0</th>\n",
       "      <td>£isbeth (Baloo)</td>\n",
       "      <td>5200</td>\n",
       "    </tr>\n",
       "    <tr>\n",
       "      <th>1</th>\n",
       "      <td>Sandra ♥Cashew♥</td>\n",
       "      <td>2683</td>\n",
       "    </tr>\n",
       "    <tr>\n",
       "      <th>2</th>\n",
       "      <td>Stute</td>\n",
       "      <td>2446</td>\n",
       "    </tr>\n",
       "    <tr>\n",
       "      <th>3</th>\n",
       "      <td>123456</td>\n",
       "      <td>2430</td>\n",
       "    </tr>\n",
       "    <tr>\n",
       "      <th>4</th>\n",
       "      <td>Paradise »Lost«</td>\n",
       "      <td>2405</td>\n",
       "    </tr>\n",
       "    <tr>\n",
       "      <th>5</th>\n",
       "      <td>overskrift</td>\n",
       "      <td>2295</td>\n",
       "    </tr>\n",
       "    <tr>\n",
       "      <th>6</th>\n",
       "      <td>Shagya</td>\n",
       "      <td>2244</td>\n",
       "    </tr>\n",
       "    <tr>\n",
       "      <th>7</th>\n",
       "      <td>Golda Showers</td>\n",
       "      <td>1957</td>\n",
       "    </tr>\n",
       "    <tr>\n",
       "      <th>8</th>\n",
       "      <td>Sif</td>\n",
       "      <td>1917</td>\n",
       "    </tr>\n",
       "    <tr>\n",
       "      <th>9</th>\n",
       "      <td>Sophie »Whisper«</td>\n",
       "      <td>1895</td>\n",
       "    </tr>\n",
       "  </tbody>\n",
       "</table>\n",
       "</div>"
      ],
      "text/plain": [
       "            Node_ID  Comment_Count\n",
       "0   £isbeth (Baloo)           5200\n",
       "1   Sandra ♥Cashew♥           2683\n",
       "2             Stute           2446\n",
       "3            123456           2430\n",
       "4   Paradise »Lost«           2405\n",
       "5        overskrift           2295\n",
       "6            Shagya           2244\n",
       "7     Golda Showers           1957\n",
       "8               Sif           1917\n",
       "9  Sophie »Whisper«           1895"
      ]
     },
     "execution_count": 14,
     "metadata": {},
     "output_type": "execute_result"
    }
   ],
   "source": [
    "import pandas as pd\n",
    "# Step 1: Extract node attributes\n",
    "node_list_with_comments = [(node, data['comments']) for node, data in G.nodes(data=True) if 'comments' in data]\n",
    "\n",
    "# Step 2: Sort the list by 'comment' attribute\n",
    "sorted_node_list = sorted(node_list_with_comments, key=lambda x: x[1], reverse=True)\n",
    "\n",
    "# Step 3: Get the top 10 nodes\n",
    "top_10_nodes = sorted_node_list[:10]\n",
    "\n",
    "# Step 4: Create a Pandas DataFrame\n",
    "df = pd.DataFrame(top_10_nodes, columns=['Node_ID', 'Comment_Count'])\n",
    "\n",
    "df"
   ]
  },
  {
   "cell_type": "code",
   "execution_count": 68,
   "metadata": {},
   "outputs": [
    {
     "data": {
      "text/html": [
       "<div>\n",
       "<style scoped>\n",
       "    .dataframe tbody tr th:only-of-type {\n",
       "        vertical-align: middle;\n",
       "    }\n",
       "\n",
       "    .dataframe tbody tr th {\n",
       "        vertical-align: top;\n",
       "    }\n",
       "\n",
       "    .dataframe thead th {\n",
       "        text-align: right;\n",
       "    }\n",
       "</style>\n",
       "<table border=\"1\" class=\"dataframe\">\n",
       "  <thead>\n",
       "    <tr style=\"text-align: right;\">\n",
       "      <th></th>\n",
       "      <th>Node_ID</th>\n",
       "      <th>Comment_Count</th>\n",
       "    </tr>\n",
       "  </thead>\n",
       "  <tbody>\n",
       "    <tr>\n",
       "      <th>0</th>\n",
       "      <td>inger christensen</td>\n",
       "      <td>1287</td>\n",
       "    </tr>\n",
       "    <tr>\n",
       "      <th>1</th>\n",
       "      <td>Vicky02</td>\n",
       "      <td>911</td>\n",
       "    </tr>\n",
       "    <tr>\n",
       "      <th>2</th>\n",
       "      <td>Sandra ♥Cashew♥</td>\n",
       "      <td>544</td>\n",
       "    </tr>\n",
       "    <tr>\n",
       "      <th>3</th>\n",
       "      <td>Shagya</td>\n",
       "      <td>436</td>\n",
       "    </tr>\n",
       "    <tr>\n",
       "      <th>4</th>\n",
       "      <td>Rollo</td>\n",
       "      <td>421</td>\n",
       "    </tr>\n",
       "    <tr>\n",
       "      <th>5</th>\n",
       "      <td>Adian</td>\n",
       "      <td>390</td>\n",
       "    </tr>\n",
       "    <tr>\n",
       "      <th>6</th>\n",
       "      <td>camilse</td>\n",
       "      <td>373</td>\n",
       "    </tr>\n",
       "    <tr>\n",
       "      <th>7</th>\n",
       "      <td>Christina S</td>\n",
       "      <td>348</td>\n",
       "    </tr>\n",
       "    <tr>\n",
       "      <th>8</th>\n",
       "      <td>camilse og Looksen</td>\n",
       "      <td>342</td>\n",
       "    </tr>\n",
       "    <tr>\n",
       "      <th>9</th>\n",
       "      <td>Iben ♣Sille-Musen♣</td>\n",
       "      <td>338</td>\n",
       "    </tr>\n",
       "  </tbody>\n",
       "</table>\n",
       "</div>"
      ],
      "text/plain": [
       "              Node_ID  Comment_Count\n",
       "0   inger christensen           1287\n",
       "1             Vicky02            911\n",
       "2     Sandra ♥Cashew♥            544\n",
       "3              Shagya            436\n",
       "4               Rollo            421\n",
       "5               Adian            390\n",
       "6             camilse            373\n",
       "7         Christina S            348\n",
       "8  camilse og Looksen            342\n",
       "9  Iben ♣Sille-Musen♣            338"
      ]
     },
     "execution_count": 68,
     "metadata": {},
     "output_type": "execute_result"
    }
   ],
   "source": [
    "import pandas as pd\n",
    "# Step 1: Extract node attributes\n",
    "node_list_with_comments = [(node, data['OP_author']) for node, data in G.nodes(data=True) if 'OP_author' in data]\n",
    "\n",
    "# Step 2: Sort the list by 'comment' attribute\n",
    "sorted_node_list = sorted(node_list_with_comments, key=lambda x: x[1], reverse=True)\n",
    "\n",
    "# Step 3: Get the top 10 nodes\n",
    "top_10_nodes = sorted_node_list[:10]\n",
    "\n",
    "# Step 4: Create a Pandas DataFrame\n",
    "df = pd.DataFrame(top_10_nodes, columns=['Node_ID', 'Comment_Count'])\n",
    "\n",
    "df"
   ]
  },
  {
   "cell_type": "code",
   "execution_count": 15,
   "metadata": {},
   "outputs": [
    {
     "data": {
      "text/plain": [
       "[('Sandra ♥Cashew♥', 1257),\n",
       " ('Shagya', 1252),\n",
       " ('Adian', 1199),\n",
       " ('Janni (Fleur)', 951),\n",
       " ('mik27 ☻Mieke☻', 839),\n",
       " ('Mor til ♥Emma♥', 805),\n",
       " ('klokkeblomst8 ♥Rose♥', 799),\n",
       " ('Tina-Tossen', 717),\n",
       " ('Iben ♣Sille-Musen♣', 696),\n",
       " ('Gold and Dangerous *Dixie*', 691)]"
      ]
     },
     "execution_count": 15,
     "metadata": {},
     "output_type": "execute_result"
    }
   ],
   "source": [
    "sorted(list(dict(G.in_degree).items()),key=lambda x:x[1],reverse=True)[:10]"
   ]
  },
  {
   "cell_type": "code",
   "execution_count": 16,
   "metadata": {},
   "outputs": [
    {
     "data": {
      "text/plain": [
       "[('£isbeth (Baloo)', 1847),\n",
       " ('123456', 1214),\n",
       " ('overskrift', 1067),\n",
       " ('Sif', 1035),\n",
       " ('Sandra ♥Cashew♥', 944),\n",
       " ('Adian', 922),\n",
       " ('Lenuccia', 836),\n",
       " ('Shagya', 808),\n",
       " ('Stute', 789),\n",
       " ('Sophie »Whisper«', 783)]"
      ]
     },
     "execution_count": 16,
     "metadata": {},
     "output_type": "execute_result"
    }
   ],
   "source": [
    "sorted(list(dict(G.out_degree).items()),key=lambda x:x[1],reverse=True)[:10]"
   ]
  },
  {
   "cell_type": "code",
   "execution_count": 17,
   "metadata": {},
   "outputs": [],
   "source": [
    "G_unD = G.to_undirected()"
   ]
  },
  {
   "cell_type": "code",
   "execution_count": 18,
   "metadata": {},
   "outputs": [],
   "source": [
    "top_ten = sorted(list(dict(G_unD.degree).items()),key=lambda x:x[1],reverse=True)[:10]\n",
    "\n"
   ]
  },
  {
   "cell_type": "code",
   "execution_count": 34,
   "metadata": {},
   "outputs": [],
   "source": []
  },
  {
   "cell_type": "code",
   "execution_count": 19,
   "metadata": {},
   "outputs": [
    {
     "data": {
      "text/html": [
       "<div>\n",
       "<style scoped>\n",
       "    .dataframe tbody tr th:only-of-type {\n",
       "        vertical-align: middle;\n",
       "    }\n",
       "\n",
       "    .dataframe tbody tr th {\n",
       "        vertical-align: top;\n",
       "    }\n",
       "\n",
       "    .dataframe thead th {\n",
       "        text-align: right;\n",
       "    }\n",
       "</style>\n",
       "<table border=\"1\" class=\"dataframe\">\n",
       "  <thead>\n",
       "    <tr style=\"text-align: right;\">\n",
       "      <th></th>\n",
       "      <th>user</th>\n",
       "      <th>degree</th>\n",
       "    </tr>\n",
       "  </thead>\n",
       "  <tbody>\n",
       "    <tr>\n",
       "      <th>0</th>\n",
       "      <td>£isbeth (Baloo)</td>\n",
       "      <td>1923</td>\n",
       "    </tr>\n",
       "    <tr>\n",
       "      <th>1</th>\n",
       "      <td>Sandra ♥Cashew♥</td>\n",
       "      <td>1865</td>\n",
       "    </tr>\n",
       "    <tr>\n",
       "      <th>2</th>\n",
       "      <td>Adian</td>\n",
       "      <td>1827</td>\n",
       "    </tr>\n",
       "    <tr>\n",
       "      <th>3</th>\n",
       "      <td>Shagya</td>\n",
       "      <td>1775</td>\n",
       "    </tr>\n",
       "    <tr>\n",
       "      <th>4</th>\n",
       "      <td>tije *Fylkir*</td>\n",
       "      <td>1251</td>\n",
       "    </tr>\n",
       "    <tr>\n",
       "      <th>5</th>\n",
       "      <td>123456</td>\n",
       "      <td>1214</td>\n",
       "    </tr>\n",
       "    <tr>\n",
       "      <th>6</th>\n",
       "      <td>Sif</td>\n",
       "      <td>1182</td>\n",
       "    </tr>\n",
       "    <tr>\n",
       "      <th>7</th>\n",
       "      <td>klokkeblomst8 ♥Rose♥</td>\n",
       "      <td>1166</td>\n",
       "    </tr>\n",
       "    <tr>\n",
       "      <th>8</th>\n",
       "      <td>Praxis</td>\n",
       "      <td>1150</td>\n",
       "    </tr>\n",
       "    <tr>\n",
       "      <th>9</th>\n",
       "      <td>Janni (Fleur)</td>\n",
       "      <td>1129</td>\n",
       "    </tr>\n",
       "  </tbody>\n",
       "</table>\n",
       "</div>"
      ],
      "text/plain": [
       "                   user  degree\n",
       "0       £isbeth (Baloo)    1923\n",
       "1       Sandra ♥Cashew♥    1865\n",
       "2                 Adian    1827\n",
       "3                Shagya    1775\n",
       "4         tije *Fylkir*    1251\n",
       "5                123456    1214\n",
       "6                   Sif    1182\n",
       "7  klokkeblomst8 ♥Rose♥    1166\n",
       "8                Praxis    1150\n",
       "9         Janni (Fleur)    1129"
      ]
     },
     "execution_count": 19,
     "metadata": {},
     "output_type": "execute_result"
    }
   ],
   "source": [
    "df = pd.DataFrame(top_ten,columns=['user','degree'])\n",
    "df "
   ]
  },
  {
   "cell_type": "code",
   "execution_count": 20,
   "metadata": {},
   "outputs": [],
   "source": [
    "df['comments'] = df['user'].map(lambda x: G.nodes[x]['comments'])\n"
   ]
  },
  {
   "cell_type": "code",
   "execution_count": 21,
   "metadata": {},
   "outputs": [
    {
     "data": {
      "text/html": [
       "<div>\n",
       "<style scoped>\n",
       "    .dataframe tbody tr th:only-of-type {\n",
       "        vertical-align: middle;\n",
       "    }\n",
       "\n",
       "    .dataframe tbody tr th {\n",
       "        vertical-align: top;\n",
       "    }\n",
       "\n",
       "    .dataframe thead th {\n",
       "        text-align: right;\n",
       "    }\n",
       "</style>\n",
       "<table border=\"1\" class=\"dataframe\">\n",
       "  <thead>\n",
       "    <tr style=\"text-align: right;\">\n",
       "      <th></th>\n",
       "      <th>user</th>\n",
       "      <th>degree</th>\n",
       "      <th>comments</th>\n",
       "    </tr>\n",
       "  </thead>\n",
       "  <tbody>\n",
       "    <tr>\n",
       "      <th>0</th>\n",
       "      <td>£isbeth (Baloo)</td>\n",
       "      <td>1923</td>\n",
       "      <td>5200</td>\n",
       "    </tr>\n",
       "    <tr>\n",
       "      <th>1</th>\n",
       "      <td>Sandra ♥Cashew♥</td>\n",
       "      <td>1865</td>\n",
       "      <td>2683</td>\n",
       "    </tr>\n",
       "    <tr>\n",
       "      <th>2</th>\n",
       "      <td>Adian</td>\n",
       "      <td>1827</td>\n",
       "      <td>1818</td>\n",
       "    </tr>\n",
       "    <tr>\n",
       "      <th>3</th>\n",
       "      <td>Shagya</td>\n",
       "      <td>1775</td>\n",
       "      <td>2244</td>\n",
       "    </tr>\n",
       "    <tr>\n",
       "      <th>4</th>\n",
       "      <td>tije *Fylkir*</td>\n",
       "      <td>1251</td>\n",
       "      <td>1571</td>\n",
       "    </tr>\n",
       "    <tr>\n",
       "      <th>5</th>\n",
       "      <td>123456</td>\n",
       "      <td>1214</td>\n",
       "      <td>2430</td>\n",
       "    </tr>\n",
       "    <tr>\n",
       "      <th>6</th>\n",
       "      <td>Sif</td>\n",
       "      <td>1182</td>\n",
       "      <td>1917</td>\n",
       "    </tr>\n",
       "    <tr>\n",
       "      <th>7</th>\n",
       "      <td>klokkeblomst8 ♥Rose♥</td>\n",
       "      <td>1166</td>\n",
       "      <td>1597</td>\n",
       "    </tr>\n",
       "    <tr>\n",
       "      <th>8</th>\n",
       "      <td>Praxis</td>\n",
       "      <td>1150</td>\n",
       "      <td>1356</td>\n",
       "    </tr>\n",
       "    <tr>\n",
       "      <th>9</th>\n",
       "      <td>Janni (Fleur)</td>\n",
       "      <td>1129</td>\n",
       "      <td>1048</td>\n",
       "    </tr>\n",
       "  </tbody>\n",
       "</table>\n",
       "</div>"
      ],
      "text/plain": [
       "                   user  degree  comments\n",
       "0       £isbeth (Baloo)    1923      5200\n",
       "1       Sandra ♥Cashew♥    1865      2683\n",
       "2                 Adian    1827      1818\n",
       "3                Shagya    1775      2244\n",
       "4         tije *Fylkir*    1251      1571\n",
       "5                123456    1214      2430\n",
       "6                   Sif    1182      1917\n",
       "7  klokkeblomst8 ♥Rose♥    1166      1597\n",
       "8                Praxis    1150      1356\n",
       "9         Janni (Fleur)    1129      1048"
      ]
     },
     "execution_count": 21,
     "metadata": {},
     "output_type": "execute_result"
    }
   ],
   "source": [
    "df"
   ]
  },
  {
   "cell_type": "code",
   "execution_count": 22,
   "metadata": {},
   "outputs": [
    {
     "data": {
      "text/plain": [
       "41368"
      ]
     },
     "execution_count": 22,
     "metadata": {},
     "output_type": "execute_result"
    }
   ],
   "source": [
    "len(G.nodes())"
   ]
  },
  {
   "cell_type": "code",
   "execution_count": 23,
   "metadata": {},
   "outputs": [
    {
     "data": {
      "text/plain": [
       "223601"
      ]
     },
     "execution_count": 23,
     "metadata": {},
     "output_type": "execute_result"
    }
   ],
   "source": [
    "len(G_unD.edges)"
   ]
  },
  {
   "cell_type": "code",
   "execution_count": null,
   "metadata": {},
   "outputs": [],
   "source": [
    "\n",
    "Time:\n",
    "08/11/23 kl 13.00\n"
   ]
  }
 ],
 "metadata": {
  "kernelspec": {
   "display_name": "py3.10_Venv",
   "language": "python",
   "name": "python3"
  },
  "language_info": {
   "codemirror_mode": {
    "name": "ipython",
    "version": 3
   },
   "file_extension": ".py",
   "mimetype": "text/x-python",
   "name": "python",
   "nbconvert_exporter": "python",
   "pygments_lexer": "ipython3",
   "version": "3.11.5"
  }
 },
 "nbformat": 4,
 "nbformat_minor": 2
}
